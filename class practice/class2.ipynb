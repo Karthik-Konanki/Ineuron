{
 "cells": [
  {
   "cell_type": "markdown",
   "id": "0ede723b-290f-41af-9771-84ad5295e150",
   "metadata": {},
   "source": [
    "# String variable"
   ]
  },
  {
   "cell_type": "code",
   "execution_count": 1,
   "id": "5331ca89-7208-40d0-be02-31861658745f",
   "metadata": {},
   "outputs": [],
   "source": [
    "var = 'Karthik'"
   ]
  },
  {
   "cell_type": "code",
   "execution_count": 2,
   "id": "873d7f6e-9483-4642-b2a6-85b05328cee6",
   "metadata": {},
   "outputs": [
    {
     "data": {
      "text/plain": [
       "str"
      ]
     },
     "execution_count": 2,
     "metadata": {},
     "output_type": "execute_result"
    }
   ],
   "source": [
    "type(var)"
   ]
  },
  {
   "cell_type": "code",
   "execution_count": 4,
   "id": "78dd0bbc-689b-468c-9949-74811f47af00",
   "metadata": {},
   "outputs": [
    {
     "data": {
      "text/plain": [
       "'Karthik'"
      ]
     },
     "execution_count": 4,
     "metadata": {},
     "output_type": "execute_result"
    }
   ],
   "source": [
    "var.capitalize()"
   ]
  },
  {
   "cell_type": "code",
   "execution_count": 5,
   "id": "928f6ce1-3d8c-4618-87e6-6319b8ac2d6b",
   "metadata": {},
   "outputs": [
    {
     "data": {
      "text/plain": [
       "'KARTHIK'"
      ]
     },
     "execution_count": 5,
     "metadata": {},
     "output_type": "execute_result"
    }
   ],
   "source": [
    "var.upper()"
   ]
  },
  {
   "cell_type": "code",
   "execution_count": 6,
   "id": "87eeaf5f-cba0-460e-943b-c9aca3b37d79",
   "metadata": {},
   "outputs": [
    {
     "data": {
      "text/plain": [
       "'Karthik'"
      ]
     },
     "execution_count": 6,
     "metadata": {},
     "output_type": "execute_result"
    }
   ],
   "source": [
    "var"
   ]
  },
  {
   "cell_type": "code",
   "execution_count": 7,
   "id": "77ba95c4-260d-476a-b4bd-e941c4a690cf",
   "metadata": {},
   "outputs": [
    {
     "ename": "NameError",
     "evalue": "name 'index' is not defined",
     "output_type": "error",
     "traceback": [
      "\u001b[1;31m---------------------------------------------------------------------------\u001b[0m",
      "\u001b[1;31mNameError\u001b[0m                                 Traceback (most recent call last)",
      "\u001b[1;32m~\\AppData\\Local\\Temp/ipykernel_10516/1408532586.py\u001b[0m in \u001b[0;36m<module>\u001b[1;34m\u001b[0m\n\u001b[1;32m----> 1\u001b[1;33m \u001b[0mindex\u001b[0m\u001b[1;33m(\u001b[0m\u001b[0mvar\u001b[0m\u001b[1;33m)\u001b[0m\u001b[1;33m\u001b[0m\u001b[1;33m\u001b[0m\u001b[0m\n\u001b[0m",
      "\u001b[1;31mNameError\u001b[0m: name 'index' is not defined"
     ]
    }
   ],
   "source": [
    "index(var)"
   ]
  },
  {
   "cell_type": "code",
   "execution_count": 8,
   "id": "802e48f5-db53-428b-b9a2-18ca0d5dfa28",
   "metadata": {},
   "outputs": [
    {
     "data": {
      "text/plain": [
       "'Karthik'"
      ]
     },
     "execution_count": 8,
     "metadata": {},
     "output_type": "execute_result"
    }
   ],
   "source": [
    "var[:]"
   ]
  },
  {
   "cell_type": "code",
   "execution_count": 9,
   "id": "c5959e16-90e5-4cbf-a81d-ab3aca12d0b1",
   "metadata": {},
   "outputs": [
    {
     "data": {
      "text/plain": [
       "'K'"
      ]
     },
     "execution_count": 9,
     "metadata": {},
     "output_type": "execute_result"
    }
   ],
   "source": [
    "var[0]"
   ]
  },
  {
   "cell_type": "code",
   "execution_count": 10,
   "id": "dfc6a113-b472-4ccb-9b26-946e6515bb77",
   "metadata": {},
   "outputs": [
    {
     "data": {
      "text/plain": [
       "'k'"
      ]
     },
     "execution_count": 10,
     "metadata": {},
     "output_type": "execute_result"
    }
   ],
   "source": [
    "var[-1]"
   ]
  },
  {
   "cell_type": "code",
   "execution_count": 12,
   "id": "8097962b-b20e-40fd-929a-c214cfdcee8e",
   "metadata": {},
   "outputs": [
    {
     "data": {
      "text/plain": [
       "''"
      ]
     },
     "execution_count": 12,
     "metadata": {},
     "output_type": "execute_result"
    }
   ],
   "source": [
    "var[-1:-4]"
   ]
  },
  {
   "cell_type": "code",
   "execution_count": 13,
   "id": "e6bb0686-6036-405b-9e4f-ee45b216714e",
   "metadata": {},
   "outputs": [
    {
     "data": {
      "text/plain": [
       "'k'"
      ]
     },
     "execution_count": 13,
     "metadata": {},
     "output_type": "execute_result"
    }
   ],
   "source": [
    "var[-1:]"
   ]
  },
  {
   "cell_type": "code",
   "execution_count": 14,
   "id": "94d93d79-f1c0-4453-bb9d-d6f0901dc45b",
   "metadata": {},
   "outputs": [
    {
     "ename": "SyntaxError",
     "evalue": "invalid syntax (Temp/ipykernel_10516/2102216961.py, line 1)",
     "output_type": "error",
     "traceback": [
      "\u001b[1;36m  File \u001b[1;32m\"C:\\Users\\SUNTECH\\AppData\\Local\\Temp/ipykernel_10516/2102216961.py\"\u001b[1;36m, line \u001b[1;32m1\u001b[0m\n\u001b[1;33m    str('Karthik') -> var1\u001b[0m\n\u001b[1;37m                   ^\u001b[0m\n\u001b[1;31mSyntaxError\u001b[0m\u001b[1;31m:\u001b[0m invalid syntax\n"
     ]
    }
   ],
   "source": [
    "str('Karthik') -> var1"
   ]
  },
  {
   "cell_type": "code",
   "execution_count": 21,
   "id": "3dd3ade3-3553-4aec-95ff-0d2db995c15e",
   "metadata": {},
   "outputs": [
    {
     "data": {
      "text/plain": [
       "'m'"
      ]
     },
     "execution_count": 21,
     "metadata": {},
     "output_type": "execute_result"
    }
   ],
   "source": [
    "'This is my first program'[8]"
   ]
  },
  {
   "cell_type": "code",
   "execution_count": 22,
   "id": "1c0b2927-358f-418a-b04a-2155e68d4f0a",
   "metadata": {},
   "outputs": [
    {
     "data": {
      "text/plain": [
       "\"This is my first program's\""
      ]
     },
     "execution_count": 22,
     "metadata": {},
     "output_type": "execute_result"
    }
   ],
   "source": [
    "\"This is my first program's\""
   ]
  },
  {
   "cell_type": "code",
   "execution_count": 23,
   "id": "77f1a05b-b44a-4df3-84e8-dcd993d6fa21",
   "metadata": {},
   "outputs": [],
   "source": [
    "var1 = \"This is my first program's\""
   ]
  },
  {
   "cell_type": "code",
   "execution_count": 24,
   "id": "d64f649b-98e3-46c9-bd25-e8fdbe69eca9",
   "metadata": {},
   "outputs": [
    {
     "data": {
      "text/plain": [
       "'his '"
      ]
     },
     "execution_count": 24,
     "metadata": {},
     "output_type": "execute_result"
    }
   ],
   "source": [
    "var1[1:5]"
   ]
  },
  {
   "cell_type": "code",
   "execution_count": 25,
   "id": "df088e8d-d4c1-4f0d-a81e-29f5c857bf57",
   "metadata": {},
   "outputs": [
    {
     "data": {
      "text/plain": [
       "26"
      ]
     },
     "execution_count": 25,
     "metadata": {},
     "output_type": "execute_result"
    }
   ],
   "source": [
    "len(var1)"
   ]
  },
  {
   "cell_type": "code",
   "execution_count": 26,
   "id": "ff96647b-0eda-4a60-9e6a-2d437f1f1458",
   "metadata": {},
   "outputs": [
    {
     "data": {
      "text/plain": [
       "\"s is my first program's\""
      ]
     },
     "execution_count": 26,
     "metadata": {},
     "output_type": "execute_result"
    }
   ],
   "source": [
    "var1[3:30]"
   ]
  },
  {
   "cell_type": "code",
   "execution_count": 27,
   "id": "c8b00f72-dd64-4696-95fa-63680f05fbe0",
   "metadata": {},
   "outputs": [
    {
     "data": {
      "text/plain": [
       "\"s is my first program'\""
      ]
     },
     "execution_count": 27,
     "metadata": {},
     "output_type": "execute_result"
    }
   ],
   "source": [
    "var1[3:25]"
   ]
  },
  {
   "cell_type": "code",
   "execution_count": 28,
   "id": "f670d11b-e087-4f49-8bbe-bf51eb0c1760",
   "metadata": {},
   "outputs": [
    {
     "data": {
      "text/plain": [
       "'i sm is r'"
      ]
     },
     "execution_count": 28,
     "metadata": {},
     "output_type": "execute_result"
    }
   ],
   "source": [
    "var1[2:20:2]"
   ]
  },
  {
   "cell_type": "code",
   "execution_count": 29,
   "id": "94b0b3c7-d4c8-4d6c-b78e-b79b23fe088e",
   "metadata": {},
   "outputs": [],
   "source": [
    "var3 = 'abcdefghijklmnopqrstuvwxyz'"
   ]
  },
  {
   "cell_type": "code",
   "execution_count": 30,
   "id": "402896e4-c228-462f-89c1-890d9fb975ab",
   "metadata": {},
   "outputs": [
    {
     "data": {
      "text/plain": [
       "26"
      ]
     },
     "execution_count": 30,
     "metadata": {},
     "output_type": "execute_result"
    }
   ],
   "source": [
    "len(var3)"
   ]
  },
  {
   "cell_type": "code",
   "execution_count": 31,
   "id": "5864105f-6ba5-4ff2-9ffb-f804f771a292",
   "metadata": {},
   "outputs": [
    {
     "data": {
      "text/plain": [
       "'cegikmoqsuw'"
      ]
     },
     "execution_count": 31,
     "metadata": {},
     "output_type": "execute_result"
    }
   ],
   "source": [
    "var3[2:24:2]"
   ]
  },
  {
   "cell_type": "code",
   "execution_count": 32,
   "id": "affb86fe-7a4a-469d-9372-0729c4b551b1",
   "metadata": {},
   "outputs": [
    {
     "data": {
      "text/plain": [
       "''"
      ]
     },
     "execution_count": 32,
     "metadata": {},
     "output_type": "execute_result"
    }
   ],
   "source": [
    "var3[0:20:-1]"
   ]
  },
  {
   "cell_type": "code",
   "execution_count": 33,
   "id": "8fd4ae51-e359-4225-b1ca-aaf60b2ea8fd",
   "metadata": {},
   "outputs": [
    {
     "data": {
      "text/plain": [
       "'ihgfedcb'"
      ]
     },
     "execution_count": 33,
     "metadata": {},
     "output_type": "execute_result"
    }
   ],
   "source": [
    "var3[8:0:-1]"
   ]
  },
  {
   "cell_type": "code",
   "execution_count": 35,
   "id": "eaa0a9c7-3adb-4164-ab1d-ac1088b7f4e3",
   "metadata": {},
   "outputs": [
    {
     "data": {
      "text/plain": [
       "7"
      ]
     },
     "execution_count": 35,
     "metadata": {},
     "output_type": "execute_result"
    }
   ],
   "source": [
    "len(var)"
   ]
  },
  {
   "cell_type": "code",
   "execution_count": 36,
   "id": "88910a2d-73b9-4177-a675-5f34d7ee6d8f",
   "metadata": {},
   "outputs": [
    {
     "data": {
      "text/plain": [
       "''"
      ]
     },
     "execution_count": 36,
     "metadata": {},
     "output_type": "execute_result"
    }
   ],
   "source": [
    "var[0:7:-1]"
   ]
  },
  {
   "cell_type": "code",
   "execution_count": 37,
   "id": "cdb6aafc-5914-4713-83c2-1fa9e0069c89",
   "metadata": {},
   "outputs": [
    {
     "data": {
      "text/plain": [
       "'kihtra'"
      ]
     },
     "execution_count": 37,
     "metadata": {},
     "output_type": "execute_result"
    }
   ],
   "source": [
    "var[7:0:-1]"
   ]
  },
  {
   "cell_type": "code",
   "execution_count": 38,
   "id": "811c6de2-61fd-4b19-a8b4-42390efcf2c4",
   "metadata": {},
   "outputs": [
    {
     "data": {
      "text/plain": [
       "''"
      ]
     },
     "execution_count": 38,
     "metadata": {},
     "output_type": "execute_result"
    }
   ],
   "source": [
    "var[7:-1:-1]"
   ]
  },
  {
   "cell_type": "code",
   "execution_count": 39,
   "id": "14b20a4e-7344-4f48-968b-dfa1d1035eb3",
   "metadata": {},
   "outputs": [
    {
     "data": {
      "text/plain": [
       "'Kart'"
      ]
     },
     "execution_count": 39,
     "metadata": {},
     "output_type": "execute_result"
    }
   ],
   "source": [
    "var[:-3]"
   ]
  },
  {
   "cell_type": "code",
   "execution_count": 40,
   "id": "cf90ba4f-088e-4fb8-aca3-c79fc4228435",
   "metadata": {},
   "outputs": [
    {
     "data": {
      "text/plain": [
       "'ik'"
      ]
     },
     "execution_count": 40,
     "metadata": {},
     "output_type": "execute_result"
    }
   ],
   "source": [
    "var[-2:]"
   ]
  },
  {
   "cell_type": "code",
   "execution_count": 41,
   "id": "bf0b4fe3-45b9-4d64-a3a7-ef65b4ca9a1d",
   "metadata": {},
   "outputs": [
    {
     "data": {
      "text/plain": [
       "'Karthik'"
      ]
     },
     "execution_count": 41,
     "metadata": {},
     "output_type": "execute_result"
    }
   ],
   "source": [
    "var[::1]"
   ]
  },
  {
   "cell_type": "code",
   "execution_count": 42,
   "id": "f9d2e58d-1f2b-4b2d-94cc-1643f37bbbd1",
   "metadata": {},
   "outputs": [
    {
     "data": {
      "text/plain": [
       "'Krhk'"
      ]
     },
     "execution_count": 42,
     "metadata": {},
     "output_type": "execute_result"
    }
   ],
   "source": [
    "var[::2]"
   ]
  },
  {
   "cell_type": "code",
   "execution_count": 43,
   "id": "b5525148-d784-4343-a8fa-480a47674be9",
   "metadata": {},
   "outputs": [
    {
     "data": {
      "text/plain": [
       "'kihtraK'"
      ]
     },
     "execution_count": 43,
     "metadata": {},
     "output_type": "execute_result"
    }
   ],
   "source": [
    "var[::-1]"
   ]
  },
  {
   "cell_type": "code",
   "execution_count": 44,
   "id": "e9a7265c-1dab-4549-a401-daa2012143dd",
   "metadata": {},
   "outputs": [
    {
     "data": {
      "text/plain": [
       "'kihtraK'"
      ]
     },
     "execution_count": 44,
     "metadata": {},
     "output_type": "execute_result"
    }
   ],
   "source": [
    "var[8:-8:-1]"
   ]
  },
  {
   "cell_type": "code",
   "execution_count": 46,
   "id": "951ce354-36af-4209-b745-527ff8178e96",
   "metadata": {},
   "outputs": [
    {
     "data": {
      "text/plain": [
       "'kihtraK'"
      ]
     },
     "execution_count": 46,
     "metadata": {},
     "output_type": "execute_result"
    }
   ],
   "source": [
    "var[len(var):-len(var)-1:-1]"
   ]
  },
  {
   "cell_type": "code",
   "execution_count": 47,
   "id": "767c042c-c364-47a3-8046-666667b8a043",
   "metadata": {},
   "outputs": [
    {
     "data": {
      "text/plain": [
       "''"
      ]
     },
     "execution_count": 47,
     "metadata": {},
     "output_type": "execute_result"
    }
   ],
   "source": [
    "var[-2:-8:1]"
   ]
  },
  {
   "cell_type": "code",
   "execution_count": 48,
   "id": "dd9d7417-1472-4c4a-b44e-25434f6f4183",
   "metadata": {},
   "outputs": [
    {
     "data": {
      "text/plain": [
       "'Karth'"
      ]
     },
     "execution_count": 48,
     "metadata": {},
     "output_type": "execute_result"
    }
   ],
   "source": [
    "var[-7:-2:1]"
   ]
  },
  {
   "cell_type": "code",
   "execution_count": 49,
   "id": "822b9e92-b0f8-480d-88f3-4e03daa944c1",
   "metadata": {},
   "outputs": [
    {
     "data": {
      "text/plain": [
       "''"
      ]
     },
     "execution_count": 49,
     "metadata": {},
     "output_type": "execute_result"
    }
   ],
   "source": [
    "var[5:0]"
   ]
  },
  {
   "cell_type": "code",
   "execution_count": 50,
   "id": "db2fd114-3cbb-4209-b072-54c61aeb09a7",
   "metadata": {},
   "outputs": [
    {
     "data": {
      "text/plain": [
       "''"
      ]
     },
     "execution_count": 50,
     "metadata": {},
     "output_type": "execute_result"
    }
   ],
   "source": [
    "var[-7:0:-1]"
   ]
  },
  {
   "cell_type": "code",
   "execution_count": 51,
   "id": "88444e23-aba2-46f1-b089-f32ed39364df",
   "metadata": {},
   "outputs": [
    {
     "data": {
      "text/plain": [
       "''"
      ]
     },
     "execution_count": 51,
     "metadata": {},
     "output_type": "execute_result"
    }
   ],
   "source": [
    "var[-7:0:1]"
   ]
  },
  {
   "cell_type": "code",
   "execution_count": 52,
   "id": "9b5f4cad-ab8c-44b6-9b48-31435f9635d0",
   "metadata": {},
   "outputs": [
    {
     "data": {
      "text/plain": [
       "''"
      ]
     },
     "execution_count": 52,
     "metadata": {},
     "output_type": "execute_result"
    }
   ],
   "source": [
    "var[:-1:-1]"
   ]
  },
  {
   "cell_type": "code",
   "execution_count": 53,
   "id": "158af7ae-4edd-4139-bc45-c00634e83a5d",
   "metadata": {},
   "outputs": [
    {
     "ename": "TypeError",
     "evalue": "can only concatenate str (not \"int\") to str",
     "output_type": "error",
     "traceback": [
      "\u001b[1;31m---------------------------------------------------------------------------\u001b[0m",
      "\u001b[1;31mTypeError\u001b[0m                                 Traceback (most recent call last)",
      "\u001b[1;32m~\\AppData\\Local\\Temp/ipykernel_10516/3601626252.py\u001b[0m in \u001b[0;36m<module>\u001b[1;34m\u001b[0m\n\u001b[1;32m----> 1\u001b[1;33m \u001b[0mvar\u001b[0m \u001b[1;33m+\u001b[0m \u001b[1;36m1\u001b[0m\u001b[1;33m\u001b[0m\u001b[1;33m\u001b[0m\u001b[0m\n\u001b[0m",
      "\u001b[1;31mTypeError\u001b[0m: can only concatenate str (not \"int\") to str"
     ]
    }
   ],
   "source": [
    "var + 1"
   ]
  },
  {
   "cell_type": "code",
   "execution_count": 54,
   "id": "974444a1-436b-4b20-8d5b-dbf1f51289a2",
   "metadata": {},
   "outputs": [],
   "source": [
    "var1 = 'Karthik'\n",
    "var2 = 'Konanki'"
   ]
  },
  {
   "cell_type": "code",
   "execution_count": 55,
   "id": "b03958f2-ca56-4b48-8eb5-d300ac504b73",
   "metadata": {},
   "outputs": [
    {
     "data": {
      "text/plain": [
       "'KarthikKonanki'"
      ]
     },
     "execution_count": 55,
     "metadata": {},
     "output_type": "execute_result"
    }
   ],
   "source": [
    "var1 + var2"
   ]
  },
  {
   "cell_type": "code",
   "execution_count": 56,
   "id": "3c9ad2f4-cb48-43cb-bbb3-b3d8227696c8",
   "metadata": {},
   "outputs": [
    {
     "data": {
      "text/plain": [
       "'Karthik1'"
      ]
     },
     "execution_count": 56,
     "metadata": {},
     "output_type": "execute_result"
    }
   ],
   "source": [
    "var1 + str(1)"
   ]
  },
  {
   "cell_type": "code",
   "execution_count": 57,
   "id": "086a1c82-4783-46f4-ab03-0c99f5c3ba87",
   "metadata": {},
   "outputs": [
    {
     "data": {
      "text/plain": [
       "'Karthik1'"
      ]
     },
     "execution_count": 57,
     "metadata": {},
     "output_type": "execute_result"
    }
   ],
   "source": [
    "var + '1'"
   ]
  },
  {
   "cell_type": "code",
   "execution_count": 58,
   "id": "a095978a-3b83-4b44-b603-861cd739554e",
   "metadata": {},
   "outputs": [
    {
     "data": {
      "text/plain": [
       "7"
      ]
     },
     "execution_count": 58,
     "metadata": {},
     "output_type": "execute_result"
    }
   ],
   "source": [
    "len(var1)"
   ]
  },
  {
   "cell_type": "code",
   "execution_count": 59,
   "id": "9f6e617e-8e56-4a29-85b1-297c81b8ea04",
   "metadata": {},
   "outputs": [
    {
     "data": {
      "text/plain": [
       "7"
      ]
     },
     "execution_count": 59,
     "metadata": {},
     "output_type": "execute_result"
    }
   ],
   "source": [
    "_"
   ]
  },
  {
   "cell_type": "code",
   "execution_count": 70,
   "id": "c26bb63a-e083-49b5-9796-22bcddc64455",
   "metadata": {},
   "outputs": [
    {
     "data": {
      "text/plain": [
       "'KarthikKarthik'"
      ]
     },
     "execution_count": 70,
     "metadata": {},
     "output_type": "execute_result"
    }
   ],
   "source": [
    "var3= var1*2\n",
    "var3"
   ]
  },
  {
   "cell_type": "code",
   "execution_count": 72,
   "id": "85b9567b-1ca6-4139-9f12-6f2b82cefc60",
   "metadata": {},
   "outputs": [
    {
     "data": {
      "text/plain": [
       "2"
      ]
     },
     "execution_count": 72,
     "metadata": {},
     "output_type": "execute_result"
    }
   ],
   "source": [
    "var3.count('Ka')"
   ]
  },
  {
   "cell_type": "code",
   "execution_count": 73,
   "id": "15071e64-dda6-470c-8ced-7d5e196f87b0",
   "metadata": {},
   "outputs": [
    {
     "data": {
      "text/plain": [
       "['Karth', 'k']"
      ]
     },
     "execution_count": 73,
     "metadata": {},
     "output_type": "execute_result"
    }
   ],
   "source": [
    "var1.split('i')"
   ]
  },
  {
   "cell_type": "code",
   "execution_count": 74,
   "id": "32f25e8c-f410-4709-9a5a-f397ca509f19",
   "metadata": {},
   "outputs": [
    {
     "data": {
      "text/plain": [
       "list"
      ]
     },
     "execution_count": 74,
     "metadata": {},
     "output_type": "execute_result"
    }
   ],
   "source": [
    "type(var1.split('i'))"
   ]
  },
  {
   "cell_type": "code",
   "execution_count": 75,
   "id": "e7942de8-09fe-4ba3-9cfb-3ff13907221c",
   "metadata": {},
   "outputs": [],
   "source": [
    "var4 = \"\"\"Python is dynamically-typed and garbage-collected. It supports multiple programming paradigms, including structured (particularly procedural), object-oriented and functional programming. It is often described as a \"batteries included\" language due to its comprehensive standard library.[31][32]\n",
    "\n",
    "Guido van Rossum began working on Python in the late 1980s as a successor to the ABC programming language and first released it in 1991 as Python 0.9.0.[33] Python 2.0 was released in 2000 and introduced new features such as list comprehensions, cycle-detecting garbage collection, reference counting, and Unicode support. Python 3.0, released in 2008, was a major revision that is not completely backward-compatible with earlier versions. Python 2 was discontinued with version 2.7.18 in 2020.[34]\"\"\""
   ]
  },
  {
   "cell_type": "code",
   "execution_count": 76,
   "id": "f5e9b017-75b2-43f7-9150-1bcc5206411d",
   "metadata": {},
   "outputs": [
    {
     "data": {
      "text/plain": [
       "'Python is dynamically-typed and garbage-collected. It supports multiple programming paradigms, including structured (particularly procedural), object-oriented and functional programming. It is often described as a \"batteries included\" language due to its comprehensive standard library.[31][32]\\n\\nGuido van Rossum began working on Python in the late 1980s as a successor to the ABC programming language and first released it in 1991 as Python 0.9.0.[33] Python 2.0 was released in 2000 and introduced new features such as list comprehensions, cycle-detecting garbage collection, reference counting, and Unicode support. Python 3.0, released in 2008, was a major revision that is not completely backward-compatible with earlier versions. Python 2 was discontinued with version 2.7.18 in 2020.[34]'"
      ]
     },
     "execution_count": 76,
     "metadata": {},
     "output_type": "execute_result"
    }
   ],
   "source": [
    "var4"
   ]
  },
  {
   "cell_type": "code",
   "execution_count": 77,
   "id": "03b07e25-4095-4432-9387-94545da402e6",
   "metadata": {},
   "outputs": [
    {
     "data": {
      "text/plain": [
       "['Python',\n",
       " 'is',\n",
       " 'dynamically-typed',\n",
       " 'and',\n",
       " 'garbage-collected.',\n",
       " 'It',\n",
       " 'supports',\n",
       " 'multiple',\n",
       " 'programming',\n",
       " 'paradigms,',\n",
       " 'including',\n",
       " 'structured',\n",
       " '(particularly',\n",
       " 'procedural),',\n",
       " 'object-oriented',\n",
       " 'and',\n",
       " 'functional',\n",
       " 'programming.',\n",
       " 'It',\n",
       " 'is',\n",
       " 'often',\n",
       " 'described',\n",
       " 'as',\n",
       " 'a',\n",
       " '\"batteries',\n",
       " 'included\"',\n",
       " 'language',\n",
       " 'due',\n",
       " 'to',\n",
       " 'its',\n",
       " 'comprehensive',\n",
       " 'standard',\n",
       " 'library.[31][32]\\n\\nGuido',\n",
       " 'van',\n",
       " 'Rossum',\n",
       " 'began',\n",
       " 'working',\n",
       " 'on',\n",
       " 'Python',\n",
       " 'in',\n",
       " 'the',\n",
       " 'late',\n",
       " '1980s',\n",
       " 'as',\n",
       " 'a',\n",
       " 'successor',\n",
       " 'to',\n",
       " 'the',\n",
       " 'ABC',\n",
       " 'programming',\n",
       " 'language',\n",
       " 'and',\n",
       " 'first',\n",
       " 'released',\n",
       " 'it',\n",
       " 'in',\n",
       " '1991',\n",
       " 'as',\n",
       " 'Python',\n",
       " '0.9.0.[33]',\n",
       " 'Python',\n",
       " '2.0',\n",
       " 'was',\n",
       " 'released',\n",
       " 'in',\n",
       " '2000',\n",
       " 'and',\n",
       " 'introduced',\n",
       " 'new',\n",
       " 'features',\n",
       " 'such',\n",
       " 'as',\n",
       " 'list',\n",
       " 'comprehensions,',\n",
       " 'cycle-detecting',\n",
       " 'garbage',\n",
       " 'collection,',\n",
       " 'reference',\n",
       " 'counting,',\n",
       " 'and',\n",
       " 'Unicode',\n",
       " 'support.',\n",
       " 'Python',\n",
       " '3.0,',\n",
       " 'released',\n",
       " 'in',\n",
       " '2008,',\n",
       " 'was',\n",
       " 'a',\n",
       " 'major',\n",
       " 'revision',\n",
       " 'that',\n",
       " 'is',\n",
       " 'not',\n",
       " 'completely',\n",
       " 'backward-compatible',\n",
       " 'with',\n",
       " 'earlier',\n",
       " 'versions.',\n",
       " 'Python',\n",
       " '2',\n",
       " 'was',\n",
       " 'discontinued',\n",
       " 'with',\n",
       " 'version',\n",
       " '2.7.18',\n",
       " 'in',\n",
       " '2020.[34]']"
      ]
     },
     "execution_count": 77,
     "metadata": {},
     "output_type": "execute_result"
    }
   ],
   "source": [
    "var5 = var4.split(' ')\n",
    "var5"
   ]
  },
  {
   "cell_type": "code",
   "execution_count": 78,
   "id": "5d9160da-dc10-4b23-971c-3d19698c0c3a",
   "metadata": {},
   "outputs": [
    {
     "data": {
      "text/plain": [
       "6"
      ]
     },
     "execution_count": 78,
     "metadata": {},
     "output_type": "execute_result"
    }
   ],
   "source": [
    "var5.count('Python')"
   ]
  },
  {
   "cell_type": "code",
   "execution_count": 81,
   "id": "fc57eee3-f18f-4b2f-bed9-975a3169cfa3",
   "metadata": {},
   "outputs": [
    {
     "name": "stdout",
     "output_type": "stream",
     "text": [
      "Python = 6\n",
      "is = 3\n",
      "dynamically-typed = 1\n",
      "and = 5\n",
      "garbage-collected. = 1\n",
      "It = 2\n",
      "supports = 1\n",
      "multiple = 1\n",
      "programming = 2\n",
      "paradigms, = 1\n",
      "including = 1\n",
      "structured = 1\n",
      "(particularly = 1\n",
      "procedural), = 1\n",
      "object-oriented = 1\n",
      "and = 5\n",
      "functional = 1\n",
      "programming. = 1\n",
      "It = 2\n",
      "is = 3\n",
      "often = 1\n",
      "described = 1\n",
      "as = 4\n",
      "a = 3\n",
      "\"batteries = 1\n",
      "included\" = 1\n",
      "language = 2\n",
      "due = 1\n",
      "to = 2\n",
      "its = 1\n",
      "comprehensive = 1\n",
      "standard = 1\n",
      "library.[31][32]\n",
      "\n",
      "Guido = 1\n",
      "van = 1\n",
      "Rossum = 1\n",
      "began = 1\n",
      "working = 1\n",
      "on = 1\n",
      "Python = 6\n",
      "in = 5\n",
      "the = 2\n",
      "late = 1\n",
      "1980s = 1\n",
      "as = 4\n",
      "a = 3\n",
      "successor = 1\n",
      "to = 2\n",
      "the = 2\n",
      "ABC = 1\n",
      "programming = 2\n",
      "language = 2\n",
      "and = 5\n",
      "first = 1\n",
      "released = 3\n",
      "it = 1\n",
      "in = 5\n",
      "1991 = 1\n",
      "as = 4\n",
      "Python = 6\n",
      "0.9.0.[33] = 1\n",
      "Python = 6\n",
      "2.0 = 1\n",
      "was = 3\n",
      "released = 3\n",
      "in = 5\n",
      "2000 = 1\n",
      "and = 5\n",
      "introduced = 1\n",
      "new = 1\n",
      "features = 1\n",
      "such = 1\n",
      "as = 4\n",
      "list = 1\n",
      "comprehensions, = 1\n",
      "cycle-detecting = 1\n",
      "garbage = 1\n",
      "collection, = 1\n",
      "reference = 1\n",
      "counting, = 1\n",
      "and = 5\n",
      "Unicode = 1\n",
      "support. = 1\n",
      "Python = 6\n",
      "3.0, = 1\n",
      "released = 3\n",
      "in = 5\n",
      "2008, = 1\n",
      "was = 3\n",
      "a = 3\n",
      "major = 1\n",
      "revision = 1\n",
      "that = 1\n",
      "is = 3\n",
      "not = 1\n",
      "completely = 1\n",
      "backward-compatible = 1\n",
      "with = 2\n",
      "earlier = 1\n",
      "versions. = 1\n",
      "Python = 6\n",
      "2 = 1\n",
      "was = 3\n",
      "discontinued = 1\n",
      "with = 2\n",
      "version = 1\n",
      "2.7.18 = 1\n",
      "in = 5\n",
      "2020.[34] = 1\n"
     ]
    }
   ],
   "source": [
    "for i in var5:\n",
    "    print(i, \"=\", var5.count(i))"
   ]
  },
  {
   "cell_type": "code",
   "execution_count": 84,
   "id": "02c1a0ed-08ee-48eb-a055-c6e199c2f5df",
   "metadata": {},
   "outputs": [
    {
     "data": {
      "text/plain": [
       "'PYTHON IS DYNAMICALLY-TYPED AND GARBAGE-COLLECTED. IT SUPPORTS MULTIPLE PROGRAMMING PARADIGMS, INCLUDING STRUCTURED (PARTICULARLY PROCEDURAL), OBJECT-ORIENTED AND FUNCTIONAL PROGRAMMING. IT IS OFTEN DESCRIBED AS A \"BATTERIES INCLUDED\" LANGUAGE DUE TO ITS COMPREHENSIVE STANDARD LIBRARY.[31][32]\\n\\nGUIDO VAN ROSSUM BEGAN WORKING ON PYTHON IN THE LATE 1980S AS A SUCCESSOR TO THE ABC PROGRAMMING LANGUAGE AND FIRST RELEASED IT IN 1991 AS PYTHON 0.9.0.[33] PYTHON 2.0 WAS RELEASED IN 2000 AND INTRODUCED NEW FEATURES SUCH AS LIST COMPREHENSIONS, CYCLE-DETECTING GARBAGE COLLECTION, REFERENCE COUNTING, AND UNICODE SUPPORT. PYTHON 3.0, RELEASED IN 2008, WAS A MAJOR REVISION THAT IS NOT COMPLETELY BACKWARD-COMPATIBLE WITH EARLIER VERSIONS. PYTHON 2 WAS DISCONTINUED WITH VERSION 2.7.18 IN 2020.[34]'"
      ]
     },
     "execution_count": 84,
     "metadata": {},
     "output_type": "execute_result"
    }
   ],
   "source": [
    "var6 = var4.upper()\n",
    "var6"
   ]
  },
  {
   "cell_type": "code",
   "execution_count": 86,
   "id": "1c86ffa6-e97a-4acc-9066-4cc249458174",
   "metadata": {},
   "outputs": [
    {
     "data": {
      "text/plain": [
       "'python is dynamically-typed and garbage-collected. it supports multiple programming paradigms, including structured (particularly procedural), object-oriented and functional programming. it is often described as a \"batteries included\" language due to its comprehensive standard library.[31][32]\\n\\nguido van rossum began working on python in the late 1980s as a successor to the abc programming language and first released it in 1991 as python 0.9.0.[33] python 2.0 was released in 2000 and introduced new features such as list comprehensions, cycle-detecting garbage collection, reference counting, and unicode support. python 3.0, released in 2008, was a major revision that is not completely backward-compatible with earlier versions. python 2 was discontinued with version 2.7.18 in 2020.[34]'"
      ]
     },
     "execution_count": 86,
     "metadata": {},
     "output_type": "execute_result"
    }
   ],
   "source": [
    "var7 = var4.lower()\n",
    "var7"
   ]
  },
  {
   "cell_type": "code",
   "execution_count": 88,
   "id": "3098877c-3efc-4286-a168-d67efdba9ec4",
   "metadata": {},
   "outputs": [
    {
     "data": {
      "text/plain": [
       "'Python is dynamically-typed and garbage-collected. it supports multiple programming paradigms, including structured (particularly procedural), object-oriented and functional programming. it is often described as a \"batteries included\" language due to its comprehensive standard library.[31][32]\\n\\nguido van rossum began working on python in the late 1980s as a successor to the abc programming language and first released it in 1991 as python 0.9.0.[33] python 2.0 was released in 2000 and introduced new features such as list comprehensions, cycle-detecting garbage collection, reference counting, and unicode support. python 3.0, released in 2008, was a major revision that is not completely backward-compatible with earlier versions. python 2 was discontinued with version 2.7.18 in 2020.[34]'"
      ]
     },
     "execution_count": 88,
     "metadata": {},
     "output_type": "execute_result"
    }
   ],
   "source": [
    "var8 = var4.capitalize()\n",
    "var8"
   ]
  },
  {
   "cell_type": "code",
   "execution_count": 89,
   "id": "c6aa0f29-d36f-4d3d-83f5-ecfb6acaafc5",
   "metadata": {},
   "outputs": [
    {
     "data": {
      "text/plain": [
       "'Python Is Dynamically-Typed And Garbage-Collected. It Supports Multiple Programming Paradigms, Including Structured (Particularly Procedural), Object-Oriented And Functional Programming. It Is Often Described As A \"Batteries Included\" Language Due To Its Comprehensive Standard Library.[31][32]\\n\\nGuido Van Rossum Began Working On Python In The Late 1980S As A Successor To The Abc Programming Language And First Released It In 1991 As Python 0.9.0.[33] Python 2.0 Was Released In 2000 And Introduced New Features Such As List Comprehensions, Cycle-Detecting Garbage Collection, Reference Counting, And Unicode Support. Python 3.0, Released In 2008, Was A Major Revision That Is Not Completely Backward-Compatible With Earlier Versions. Python 2 Was Discontinued With Version 2.7.18 In 2020.[34]'"
      ]
     },
     "execution_count": 89,
     "metadata": {},
     "output_type": "execute_result"
    }
   ],
   "source": [
    "var8.title()"
   ]
  },
  {
   "cell_type": "code",
   "execution_count": 90,
   "id": "c7893fc2-5c82-4a10-919e-dd0425f87533",
   "metadata": {},
   "outputs": [
    {
     "data": {
      "text/plain": [
       "'Karthik koNANKI'"
      ]
     },
     "execution_count": 90,
     "metadata": {},
     "output_type": "execute_result"
    }
   ],
   "source": [
    "var1 = 'Karthik koNANKI'\n",
    "var1"
   ]
  },
  {
   "cell_type": "code",
   "execution_count": 91,
   "id": "93393339-45e3-4b89-9a0a-a09fd1d600e6",
   "metadata": {},
   "outputs": [
    {
     "data": {
      "text/plain": [
       "'kARTHIK KOnanki'"
      ]
     },
     "execution_count": 91,
     "metadata": {},
     "output_type": "execute_result"
    }
   ],
   "source": [
    "var1.swapcase()"
   ]
  },
  {
   "cell_type": "code",
   "execution_count": 92,
   "id": "91468fdc-d297-41ce-a3c6-b03325547c8a",
   "metadata": {},
   "outputs": [
    {
     "data": {
      "text/plain": [
       "'KARTHIK KONANKI'"
      ]
     },
     "execution_count": 92,
     "metadata": {},
     "output_type": "execute_result"
    }
   ],
   "source": [
    "var1.upper()"
   ]
  },
  {
   "cell_type": "code",
   "execution_count": 93,
   "id": "bf1ad84d-edb6-4657-b49b-7756fa2ce6a4",
   "metadata": {},
   "outputs": [
    {
     "data": {
      "text/plain": [
       "'karthik konanki'"
      ]
     },
     "execution_count": 93,
     "metadata": {},
     "output_type": "execute_result"
    }
   ],
   "source": [
    "var1.lower()"
   ]
  },
  {
   "cell_type": "code",
   "execution_count": 94,
   "id": "2f4f8da5-00aa-4141-a874-4fa5bb7fdd19",
   "metadata": {},
   "outputs": [
    {
     "data": {
      "text/plain": [
       "'Karthik Konanki'"
      ]
     },
     "execution_count": 94,
     "metadata": {},
     "output_type": "execute_result"
    }
   ],
   "source": [
    "var1.title()"
   ]
  },
  {
   "cell_type": "code",
   "execution_count": 95,
   "id": "0ec85753-5f3e-49b5-8ba9-73b4189041f0",
   "metadata": {},
   "outputs": [
    {
     "data": {
      "text/plain": [
       "'Karthik konanki'"
      ]
     },
     "execution_count": 95,
     "metadata": {},
     "output_type": "execute_result"
    }
   ],
   "source": [
    "var1.capitalize()"
   ]
  },
  {
   "cell_type": "code",
   "execution_count": 96,
   "id": "1ea9c6ba-4a7d-4ed7-9db6-6e1853203243",
   "metadata": {},
   "outputs": [
    {
     "data": {
      "text/plain": [
       "<reversed at 0x2289047f4c0>"
      ]
     },
     "execution_count": 96,
     "metadata": {},
     "output_type": "execute_result"
    }
   ],
   "source": [
    "reversed(var1)"
   ]
  },
  {
   "cell_type": "code",
   "execution_count": 97,
   "id": "6c1793f6-4b3f-4ed9-a6e6-1cd96706c192",
   "metadata": {},
   "outputs": [
    {
     "name": "stdout",
     "output_type": "stream",
     "text": [
      "<reversed object at 0x0000022890885AF0>\n"
     ]
    }
   ],
   "source": [
    "print(reversed(var1))"
   ]
  },
  {
   "cell_type": "code",
   "execution_count": 98,
   "id": "a7a24a8d-b525-48c0-b6e1-29a41d574fdb",
   "metadata": {},
   "outputs": [
    {
     "data": {
      "text/plain": [
       "[<reversed at 0x22890b4bac0>]"
      ]
     },
     "execution_count": 98,
     "metadata": {},
     "output_type": "execute_result"
    }
   ],
   "source": [
    "[reversed(var1)]"
   ]
  },
  {
   "cell_type": "code",
   "execution_count": 99,
   "id": "e5dc42a1-609e-4bda-8f68-c1bd935426e7",
   "metadata": {},
   "outputs": [
    {
     "data": {
      "text/plain": [
       "'IKNANok kihtraK'"
      ]
     },
     "execution_count": 99,
     "metadata": {},
     "output_type": "execute_result"
    }
   ],
   "source": [
    "''.join(reversed(var1))"
   ]
  },
  {
   "cell_type": "code",
   "execution_count": 100,
   "id": "0bd52e4e-c309-4d32-92c9-918045897c22",
   "metadata": {},
   "outputs": [
    {
     "data": {
      "text/plain": [
       "'    Karthik    '"
      ]
     },
     "execution_count": 100,
     "metadata": {},
     "output_type": "execute_result"
    }
   ],
   "source": [
    "var1 = \"    Karthik    \"\n",
    "var1"
   ]
  },
  {
   "cell_type": "code",
   "execution_count": 101,
   "id": "31cce529-e724-47cd-b50c-80aaaf2ccba1",
   "metadata": {},
   "outputs": [
    {
     "data": {
      "text/plain": [
       "'Karthik'"
      ]
     },
     "execution_count": 101,
     "metadata": {},
     "output_type": "execute_result"
    }
   ],
   "source": [
    "var1.strip()"
   ]
  },
  {
   "cell_type": "code",
   "execution_count": 102,
   "id": "a9dd378b-4c10-48a5-8d76-595983ae86ff",
   "metadata": {},
   "outputs": [
    {
     "data": {
      "text/plain": [
       "'Karthik Konanki'"
      ]
     },
     "execution_count": 102,
     "metadata": {},
     "output_type": "execute_result"
    }
   ],
   "source": [
    "'    Karthik Konanki    '.strip()"
   ]
  },
  {
   "cell_type": "code",
   "execution_count": 103,
   "id": "b758caad-cdaf-444a-8a39-4b6e605ced11",
   "metadata": {},
   "outputs": [
    {
     "data": {
      "text/plain": [
       "'Karthik    '"
      ]
     },
     "execution_count": 103,
     "metadata": {},
     "output_type": "execute_result"
    }
   ],
   "source": [
    "var1.lstrip()"
   ]
  },
  {
   "cell_type": "code",
   "execution_count": 104,
   "id": "ae66447e-5977-4f82-a1e7-36ad0b54caed",
   "metadata": {},
   "outputs": [
    {
     "data": {
      "text/plain": [
       "'    Karthik'"
      ]
     },
     "execution_count": 104,
     "metadata": {},
     "output_type": "execute_result"
    }
   ],
   "source": [
    "var1.rstrip()"
   ]
  },
  {
   "cell_type": "code",
   "execution_count": 105,
   "id": "463bc504-474e-4e61-b3fa-e03b1d7e446d",
   "metadata": {},
   "outputs": [
    {
     "data": {
      "text/plain": [
       "'K a r t h i k'"
      ]
     },
     "execution_count": 105,
     "metadata": {},
     "output_type": "execute_result"
    }
   ],
   "source": [
    "' '.join(var1.strip())"
   ]
  },
  {
   "cell_type": "code",
   "execution_count": 107,
   "id": "8031d4a2-f1b0-47ee-9933-29d20a0a3a99",
   "metadata": {},
   "outputs": [
    {
     "data": {
      "text/plain": [
       "'______Karthik_______'"
      ]
     },
     "execution_count": 107,
     "metadata": {},
     "output_type": "execute_result"
    }
   ],
   "source": [
    "var1.strip().center(20,'_')"
   ]
  },
  {
   "cell_type": "code",
   "execution_count": 108,
   "id": "68e7ebf4-b114-48b4-af1f-9bba010a9188",
   "metadata": {},
   "outputs": [
    {
     "data": {
      "text/plain": [
       "False"
      ]
     },
     "execution_count": 108,
     "metadata": {},
     "output_type": "execute_result"
    }
   ],
   "source": [
    "var.strip().isupper()"
   ]
  },
  {
   "cell_type": "code",
   "execution_count": 110,
   "id": "e3c3c4ab-54d7-436c-a086-2f6d84cf60a0",
   "metadata": {},
   "outputs": [
    {
     "data": {
      "text/plain": [
       "False"
      ]
     },
     "execution_count": 110,
     "metadata": {},
     "output_type": "execute_result"
    }
   ],
   "source": [
    "var1 = '    Karthik Konanki    '\n",
    "var1.isspace()"
   ]
  },
  {
   "cell_type": "code",
   "execution_count": 113,
   "id": "d8e5a15d-edc8-4789-8ac5-dccdaed40942",
   "metadata": {},
   "outputs": [
    {
     "data": {
      "text/plain": [
       "True"
      ]
     },
     "execution_count": 113,
     "metadata": {},
     "output_type": "execute_result"
    }
   ],
   "source": [
    "var1 = 'KarthikKonanki'\n",
    "var1.isalnum()"
   ]
  },
  {
   "cell_type": "code",
   "execution_count": 114,
   "id": "e86172fd-2a09-4178-8c58-2b4c28cf1ebd",
   "metadata": {},
   "outputs": [
    {
     "data": {
      "text/plain": [
       "False"
      ]
     },
     "execution_count": 114,
     "metadata": {},
     "output_type": "execute_result"
    }
   ],
   "source": [
    "var1 = 'Karthik Konanki'\n",
    "var1.isalnum()"
   ]
  },
  {
   "cell_type": "code",
   "execution_count": 116,
   "id": "66df8c5d-156a-4435-a13e-65d539dc52c9",
   "metadata": {},
   "outputs": [
    {
     "data": {
      "text/plain": [
       "True"
      ]
     },
     "execution_count": 116,
     "metadata": {},
     "output_type": "execute_result"
    }
   ],
   "source": [
    "var1 = 'KarthikKonanki'\n",
    "var1.isalpha()"
   ]
  },
  {
   "cell_type": "code",
   "execution_count": 117,
   "id": "48e24397-56a9-40b3-a95a-2b06786fa6d5",
   "metadata": {},
   "outputs": [
    {
     "data": {
      "text/plain": [
       "False"
      ]
     },
     "execution_count": 117,
     "metadata": {},
     "output_type": "execute_result"
    }
   ],
   "source": [
    "var1 = 'Karthik Konanki'\n",
    "var1.isalpha()"
   ]
  },
  {
   "cell_type": "code",
   "execution_count": 121,
   "id": "32fcba99-adf1-481e-b569-1c96eca0e6e6",
   "metadata": {},
   "outputs": [
    {
     "data": {
      "text/plain": [
       "False"
      ]
     },
     "execution_count": 121,
     "metadata": {},
     "output_type": "execute_result"
    }
   ],
   "source": [
    "var1.startswith('i')"
   ]
  },
  {
   "cell_type": "code",
   "execution_count": 120,
   "id": "22bf3297-907b-4d2d-95ab-2856394a1eae",
   "metadata": {},
   "outputs": [
    {
     "data": {
      "text/plain": [
       "True"
      ]
     },
     "execution_count": 120,
     "metadata": {},
     "output_type": "execute_result"
    }
   ],
   "source": [
    "var1.startswith('K')"
   ]
  },
  {
   "cell_type": "code",
   "execution_count": 122,
   "id": "8d9e260d-2a14-4aba-959c-c8d0e1d5fd7d",
   "metadata": {},
   "outputs": [
    {
     "data": {
      "text/plain": [
       "False"
      ]
     },
     "execution_count": 122,
     "metadata": {},
     "output_type": "execute_result"
    }
   ],
   "source": [
    "var1.endswith('k')"
   ]
  },
  {
   "cell_type": "code",
   "execution_count": 123,
   "id": "d8995afe-c290-4806-99ef-2c75c6353127",
   "metadata": {},
   "outputs": [],
   "source": [
    "var1 = 'Karthik\\tKonanki\\tIneuron'"
   ]
  },
  {
   "cell_type": "code",
   "execution_count": 124,
   "id": "e4f76589-8490-40be-b898-969df2fd4127",
   "metadata": {},
   "outputs": [
    {
     "data": {
      "text/plain": [
       "'Karthik Konanki Ineuron'"
      ]
     },
     "execution_count": 124,
     "metadata": {},
     "output_type": "execute_result"
    }
   ],
   "source": [
    "var1.expandtabs()"
   ]
  },
  {
   "cell_type": "code",
   "execution_count": 125,
   "id": "2bdb2503-764e-42dc-9dda-411dca8eb18d",
   "metadata": {},
   "outputs": [],
   "source": [
    "var1 = 'Karthik'"
   ]
  },
  {
   "cell_type": "code",
   "execution_count": 126,
   "id": "74f37ff8-9740-4b68-ae69-038d9df40828",
   "metadata": {},
   "outputs": [
    {
     "data": {
      "text/plain": [
       "'kihtraK'"
      ]
     },
     "execution_count": 126,
     "metadata": {},
     "output_type": "execute_result"
    }
   ],
   "source": [
    "''.join(reversed(var1))"
   ]
  },
  {
   "cell_type": "code",
   "execution_count": 127,
   "id": "cdadfac8-1ca1-46ae-b525-5a12debb2e77",
   "metadata": {},
   "outputs": [
    {
     "ename": "NameError",
     "evalue": "name 'lstrip' is not defined",
     "output_type": "error",
     "traceback": [
      "\u001b[1;31m---------------------------------------------------------------------------\u001b[0m",
      "\u001b[1;31mNameError\u001b[0m                                 Traceback (most recent call last)",
      "\u001b[1;32m~\\AppData\\Local\\Temp/ipykernel_10516/329709011.py\u001b[0m in \u001b[0;36m<module>\u001b[1;34m\u001b[0m\n\u001b[1;32m----> 1\u001b[1;33m \u001b[0mhelp\u001b[0m\u001b[1;33m(\u001b[0m\u001b[0mlstrip\u001b[0m\u001b[1;33m)\u001b[0m\u001b[1;33m\u001b[0m\u001b[1;33m\u001b[0m\u001b[0m\n\u001b[0m",
      "\u001b[1;31mNameError\u001b[0m: name 'lstrip' is not defined"
     ]
    }
   ],
   "source": [
    "help(lstrip)"
   ]
  },
  {
   "cell_type": "raw",
   "id": "77b53760-e40a-44a7-9d7b-d866845b9c41",
   "metadata": {},
   "source": [
    "s = \"this is My First Python programming class and i am learNING python string and its function\"\n",
    "1 . Try to extract data from index one to index 300 with a jump of 3 \n",
    "2. Try to reverse a string without using reverse function \n",
    "3. Try to split a string after conversion of entire string in uppercase \n",
    "4. try to convert the whole string into lower case \n",
    "5 . Try to capitalize the whole string \n",
    "6 . Write a diference between isalnum() and isalpha()\n",
    "7. Try to give an example of expand tab\n",
    "8 . Give an example of strip , lstrip and rstrip \n",
    "9.  Replace a string charecter by another charector by taking your own example \n",
    "\"sudhanshu\"\n",
    "10 . Try  to give a defination of string center function with and exmple \n",
    "11 . Write your own definition of compiler and interpretor without copy paste form internet in your own language\n",
    "12 . Python is a interpreted of compiled language give a clear ans with your understanding \n",
    "13 . Try to write a usecase of python with your understanding .\n",
    "\n",
    "\n",
    "you have to send a jupyter notebook to shivan@ineuron.ai before next saturday class 21st of may . "
   ]
  },
  {
   "cell_type": "code",
   "execution_count": 1,
   "id": "cee5577a-6258-40d1-9577-0a2b077835c8",
   "metadata": {},
   "outputs": [],
   "source": [
    "var='Karthik'"
   ]
  },
  {
   "cell_type": "code",
   "execution_count": 2,
   "id": "4b08a00a-0808-4d70-b803-6956fac1ae7f",
   "metadata": {},
   "outputs": [
    {
     "data": {
      "text/plain": [
       "True"
      ]
     },
     "execution_count": 2,
     "metadata": {},
     "output_type": "execute_result"
    }
   ],
   "source": [
    "var.isalnum()"
   ]
  },
  {
   "cell_type": "code",
   "execution_count": null,
   "id": "51cbff38-fb82-482f-bd0a-5f0630f2fe00",
   "metadata": {},
   "outputs": [],
   "source": []
  }
 ],
 "metadata": {
  "kernelspec": {
   "display_name": "Python 3 (ipykernel)",
   "language": "python",
   "name": "python3"
  },
  "language_info": {
   "codemirror_mode": {
    "name": "ipython",
    "version": 3
   },
   "file_extension": ".py",
   "mimetype": "text/x-python",
   "name": "python",
   "nbconvert_exporter": "python",
   "pygments_lexer": "ipython3",
   "version": "3.9.7"
  }
 },
 "nbformat": 4,
 "nbformat_minor": 5
}
