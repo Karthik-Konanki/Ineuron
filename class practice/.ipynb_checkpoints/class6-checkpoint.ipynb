{
 "cells": [
  {
   "cell_type": "markdown",
   "id": "29063ab2-905c-453e-aa86-51248c3632f4",
   "metadata": {},
   "source": [
    "# While loop"
   ]
  },
  {
   "cell_type": "code",
   "execution_count": 4,
   "id": "da52bc1f-364e-43ef-b711-69ce91a085b3",
   "metadata": {},
   "outputs": [
    {
     "name": "stdout",
     "output_type": "stream",
     "text": [
      "1\n",
      "2\n",
      "3\n",
      "4\n",
      "5\n",
      "6\n",
      "7\n",
      "8\n",
      "9\n",
      "10\n"
     ]
    }
   ],
   "source": [
    "a = 1\n",
    "b = 10\n",
    "\n",
    "while a <= b:\n",
    "    print(a)\n",
    "    a+=1"
   ]
  },
  {
   "cell_type": "code",
   "execution_count": 7,
   "id": "73a36021-9e97-4343-8f7f-2f3d31953ee8",
   "metadata": {},
   "outputs": [
    {
     "name": "stdout",
     "output_type": "stream",
     "text": [
      "1\n",
      "2\n",
      "3\n",
      "4\n",
      "5\n",
      "6\n",
      "7\n",
      "8\n",
      "9\n",
      "10\n"
     ]
    }
   ],
   "source": [
    "a = 1\n",
    "b = 10\n",
    "\n",
    "while a <= b:\n",
    "    print(a)\n",
    "    a=a+1"
   ]
  },
  {
   "cell_type": "code",
   "execution_count": 8,
   "id": "b5671df6-cb05-4db6-89a8-540ce173f805",
   "metadata": {},
   "outputs": [
    {
     "data": {
      "text/plain": [
       "11"
      ]
     },
     "execution_count": 8,
     "metadata": {},
     "output_type": "execute_result"
    }
   ],
   "source": [
    "a"
   ]
  },
  {
   "cell_type": "code",
   "execution_count": 9,
   "id": "5d3355e7-7263-4ba8-8684-26b3f3d534dc",
   "metadata": {},
   "outputs": [
    {
     "name": "stdout",
     "output_type": "stream",
     "text": [
      "1\n",
      "3\n",
      "5\n",
      "7\n",
      "9\n",
      "Print this else block\n"
     ]
    }
   ],
   "source": [
    "a = 1\n",
    "b = 10\n",
    "\n",
    "while a <= b:\n",
    "    print(a)\n",
    "    a=a+2\n",
    "else:\n",
    "    print('Print this else block')"
   ]
  },
  {
   "cell_type": "code",
   "execution_count": 10,
   "id": "9d45614b-f691-4b92-9a67-00e19a06cd5e",
   "metadata": {},
   "outputs": [
    {
     "name": "stdout",
     "output_type": "stream",
     "text": [
      "1\n",
      "2\n",
      "3\n",
      "4\n",
      "5\n"
     ]
    }
   ],
   "source": [
    "a = 1\n",
    "b = 10\n",
    "\n",
    "while a < 10:\n",
    "    print(a)\n",
    "    if  a== 5:\n",
    "        break\n",
    "    a = a + 1\n",
    "else:\n",
    "    print('Print this else block')"
   ]
  },
  {
   "cell_type": "code",
   "execution_count": 11,
   "id": "b3b1c891-024d-4f46-b330-801ad4fe6b96",
   "metadata": {},
   "outputs": [
    {
     "data": {
      "text/plain": [
       "5"
      ]
     },
     "execution_count": 11,
     "metadata": {},
     "output_type": "execute_result"
    }
   ],
   "source": [
    "a"
   ]
  },
  {
   "cell_type": "code",
   "execution_count": 14,
   "id": "5d4f0635-7676-4be3-9a76-77dd1bd326de",
   "metadata": {},
   "outputs": [
    {
     "data": {
      "text/plain": [
       "\"\\na = 1\\nb = 10\\n\\nwhile a < b:\\n    print(a)\\n    if  a == 5:\\n        continue\\n    a = a + 1\\nelse:\\n    print('Print this else block')\\n\\n\""
      ]
     },
     "execution_count": 14,
     "metadata": {},
     "output_type": "execute_result"
    }
   ],
   "source": [
    "# Infinite loop\n",
    "'''\n",
    "a = 1\n",
    "b = 10\n",
    "\n",
    "while a < b:\n",
    "    print(a)\n",
    "    if  a == 5:\n",
    "        continue\n",
    "    a = a + 1\n",
    "else:\n",
    "    print('Print this else block')\n",
    "\n",
    "'''"
   ]
  },
  {
   "cell_type": "code",
   "execution_count": 15,
   "id": "bf07fdfd-68dc-4fb7-9c59-cca871eb1c38",
   "metadata": {},
   "outputs": [
    {
     "name": "stdout",
     "output_type": "stream",
     "text": [
      "1\n",
      "2\n",
      "3\n",
      "4\n",
      "5\n",
      "6\n",
      "7\n",
      "8\n",
      "9\n",
      "Print this else block\n"
     ]
    }
   ],
   "source": [
    "a = 1\n",
    "b = 10\n",
    "\n",
    "while a < b:\n",
    "    print(a)\n",
    "    a = a + 1\n",
    "    if  a == 5:\n",
    "        continue\n",
    "else:\n",
    "    print('Print this else block')"
   ]
  },
  {
   "cell_type": "code",
   "execution_count": 17,
   "id": "764259ba-7e6e-4a81-afde-4c5f0965ab67",
   "metadata": {},
   "outputs": [
    {
     "name": "stdout",
     "output_type": "stream",
     "text": [
      "2\n",
      "3\n",
      "4\n",
      "6\n",
      "7\n",
      "8\n",
      "9\n",
      "10\n"
     ]
    }
   ],
   "source": [
    "a = 1\n",
    "b = 10\n",
    "\n",
    "while a < b:\n",
    "    a = a + 1\n",
    "    if  a == 5:\n",
    "        continue\n",
    "    print(a)"
   ]
  },
  {
   "cell_type": "code",
   "execution_count": 23,
   "id": "72a7fde0-864c-4d2f-8e19-501d5941f67f",
   "metadata": {},
   "outputs": [],
   "source": [
    "l = [2,10,5,26,7,9,8,20]"
   ]
  },
  {
   "cell_type": "code",
   "execution_count": 24,
   "id": "b9702685-d86a-4fc2-b819-38ff434e0f11",
   "metadata": {},
   "outputs": [
    {
     "data": {
      "text/plain": [
       "[2, 10, 5, 26, 7, 9, 8, 20]"
      ]
     },
     "execution_count": 24,
     "metadata": {},
     "output_type": "execute_result"
    }
   ],
   "source": [
    "l"
   ]
  },
  {
   "cell_type": "code",
   "execution_count": 26,
   "id": "ed157f70-bb42-428b-aa62-336e399d9631",
   "metadata": {},
   "outputs": [
    {
     "name": "stdout",
     "output_type": "stream",
     "text": [
      "0 : 2\n",
      "1 : 10\n",
      "2 : 5\n",
      "3 : 26\n",
      "4 : 7\n",
      "5 : 9\n",
      "6 : 8\n",
      "7 : 20\n"
     ]
    }
   ],
   "source": [
    "a = 0\n",
    "while a < len(l):\n",
    "    print(a,':',l[a])\n",
    "    a = a + 1"
   ]
  },
  {
   "cell_type": "code",
   "execution_count": 27,
   "id": "6f3e2daf-6613-425b-a41e-c0ab521fc3bb",
   "metadata": {},
   "outputs": [
    {
     "name": "stdout",
     "output_type": "stream",
     "text": [
      "0 : 2\n",
      "1 : 10\n",
      "2 : 5\n",
      "3 : 26\n",
      "4 : 7\n",
      "5 : 9\n",
      "6 : 8\n",
      "7 : 20\n"
     ]
    }
   ],
   "source": [
    "a = 0\n",
    "while a <= len(l)-1:\n",
    "    print(a,':',l[a])\n",
    "    a = a + 1"
   ]
  },
  {
   "cell_type": "code",
   "execution_count": 28,
   "id": "93151a5a-469f-4c31-91ef-06df3b365862",
   "metadata": {},
   "outputs": [],
   "source": [
    "t = (3, 4, 5, 6, 7, 8, 9)"
   ]
  },
  {
   "cell_type": "code",
   "execution_count": 31,
   "id": "76b2fed2-c33b-43cb-8421-17159d6eed94",
   "metadata": {},
   "outputs": [
    {
     "name": "stdout",
     "output_type": "stream",
     "text": [
      "3 : 6\n",
      "4 : 7\n"
     ]
    }
   ],
   "source": [
    "a = 0\n",
    "while a < len(t):\n",
    "    if t[a] == 6 or t[a] == 7:\n",
    "        print(a,':',t[a])\n",
    "    a = a + 1"
   ]
  },
  {
   "cell_type": "code",
   "execution_count": 49,
   "id": "0df70245-ea6a-404e-81a4-7fef42be0684",
   "metadata": {},
   "outputs": [
    {
     "name": "stdout",
     "output_type": "stream",
     "text": [
      "-3 : 7\n",
      "-4 : 6\n"
     ]
    },
    {
     "ename": "IndexError",
     "evalue": "tuple index out of range",
     "output_type": "error",
     "traceback": [
      "\u001b[1;31m---------------------------------------------------------------------------\u001b[0m",
      "\u001b[1;31mIndexError\u001b[0m                                Traceback (most recent call last)",
      "\u001b[1;32m~\\AppData\\Local\\Temp/ipykernel_8292/1175950093.py\u001b[0m in \u001b[0;36m<module>\u001b[1;34m\u001b[0m\n\u001b[0;32m      1\u001b[0m \u001b[0ma\u001b[0m \u001b[1;33m=\u001b[0m \u001b[1;33m-\u001b[0m\u001b[1;36m1\u001b[0m\u001b[1;33m\u001b[0m\u001b[1;33m\u001b[0m\u001b[0m\n\u001b[0;32m      2\u001b[0m \u001b[1;32mwhile\u001b[0m \u001b[0mlen\u001b[0m\u001b[1;33m(\u001b[0m\u001b[0mt\u001b[0m\u001b[1;33m)\u001b[0m \u001b[1;33m>\u001b[0m \u001b[0ma\u001b[0m \u001b[1;33m:\u001b[0m\u001b[1;33m\u001b[0m\u001b[1;33m\u001b[0m\u001b[0m\n\u001b[1;32m----> 3\u001b[1;33m     \u001b[1;32mif\u001b[0m \u001b[0mt\u001b[0m\u001b[1;33m[\u001b[0m\u001b[0ma\u001b[0m\u001b[1;33m]\u001b[0m \u001b[1;33m==\u001b[0m \u001b[1;36m6\u001b[0m \u001b[1;32mor\u001b[0m \u001b[0mt\u001b[0m\u001b[1;33m[\u001b[0m\u001b[0ma\u001b[0m\u001b[1;33m]\u001b[0m \u001b[1;33m==\u001b[0m \u001b[1;36m7\u001b[0m\u001b[1;33m:\u001b[0m\u001b[1;33m\u001b[0m\u001b[1;33m\u001b[0m\u001b[0m\n\u001b[0m\u001b[0;32m      4\u001b[0m         \u001b[0mprint\u001b[0m\u001b[1;33m(\u001b[0m\u001b[0ma\u001b[0m\u001b[1;33m,\u001b[0m\u001b[1;34m':'\u001b[0m\u001b[1;33m,\u001b[0m\u001b[0mt\u001b[0m\u001b[1;33m[\u001b[0m\u001b[0ma\u001b[0m\u001b[1;33m]\u001b[0m\u001b[1;33m)\u001b[0m\u001b[1;33m\u001b[0m\u001b[1;33m\u001b[0m\u001b[0m\n\u001b[0;32m      5\u001b[0m     \u001b[0ma\u001b[0m \u001b[1;33m=\u001b[0m \u001b[0ma\u001b[0m \u001b[1;33m-\u001b[0m \u001b[1;36m1\u001b[0m\u001b[1;33m\u001b[0m\u001b[1;33m\u001b[0m\u001b[0m\n",
      "\u001b[1;31mIndexError\u001b[0m: tuple index out of range"
     ]
    }
   ],
   "source": [
    "a = -1\n",
    "while len(t) > a :\n",
    "    if t[a] == 6 or t[a] == 7:\n",
    "        print(a,':',t[a])\n",
    "    a = a - 1"
   ]
  },
  {
   "cell_type": "code",
   "execution_count": 51,
   "id": "60f973d6-f730-46b4-853b-d1e47bf2c0f4",
   "metadata": {},
   "outputs": [
    {
     "name": "stdout",
     "output_type": "stream",
     "text": [
      "-3 : 7\n",
      "-4 : 6\n"
     ]
    }
   ],
   "source": [
    "a = -1\n",
    "while a > -len(t):\n",
    "    if t[a] == 6 or t[a] == 7:\n",
    "        print(a,':',t[a])\n",
    "    a = a - 1"
   ]
  },
  {
   "cell_type": "code",
   "execution_count": 52,
   "id": "11ea60ee-a93f-46df-b9fe-c57f39f053e5",
   "metadata": {},
   "outputs": [],
   "source": [
    "t = (6, 3, 4, 5, 6, 7, 8, 9)"
   ]
  },
  {
   "cell_type": "code",
   "execution_count": 53,
   "id": "0afef9bd-e1e0-4ef2-99fb-8a4b446eb78a",
   "metadata": {},
   "outputs": [
    {
     "name": "stdout",
     "output_type": "stream",
     "text": [
      "-3 : 7\n",
      "-4 : 6\n"
     ]
    }
   ],
   "source": [
    "a = -1\n",
    "while a > -len(t):\n",
    "    if t[a] == 6 or t[a] == 7:\n",
    "        print(a,':',t[a])\n",
    "    a = a - 1"
   ]
  },
  {
   "cell_type": "code",
   "execution_count": 57,
   "id": "60150bad-4f08-411e-b834-48f093911764",
   "metadata": {},
   "outputs": [
    {
     "name": "stdout",
     "output_type": "stream",
     "text": [
      "0 : 6\n",
      "-3 : 7\n",
      "-4 : 6\n"
     ]
    }
   ],
   "source": [
    "a = 0\n",
    "while -len(t) < a -1:\n",
    "     if t[a] == 6 or t[a] == 7:\n",
    "            print(a,':',t[a])\n",
    "     a = a - 1"
   ]
  },
  {
   "cell_type": "code",
   "execution_count": 58,
   "id": "6320b8f2-53dc-44d6-802f-98a6d3aeb007",
   "metadata": {},
   "outputs": [
    {
     "name": "stdout",
     "output_type": "stream",
     "text": [
      "0 : 6\n",
      "-3 : 7\n",
      "-4 : 6\n",
      "-8 : 6\n"
     ]
    },
    {
     "ename": "IndexError",
     "evalue": "tuple index out of range",
     "output_type": "error",
     "traceback": [
      "\u001b[1;31m---------------------------------------------------------------------------\u001b[0m",
      "\u001b[1;31mIndexError\u001b[0m                                Traceback (most recent call last)",
      "\u001b[1;32m~\\AppData\\Local\\Temp/ipykernel_8292/3215863623.py\u001b[0m in \u001b[0;36m<module>\u001b[1;34m\u001b[0m\n\u001b[0;32m      1\u001b[0m \u001b[0ma\u001b[0m \u001b[1;33m=\u001b[0m \u001b[1;36m0\u001b[0m\u001b[1;33m\u001b[0m\u001b[1;33m\u001b[0m\u001b[0m\n\u001b[0;32m      2\u001b[0m \u001b[1;32mwhile\u001b[0m \u001b[0mlen\u001b[0m\u001b[1;33m(\u001b[0m\u001b[0mt\u001b[0m\u001b[1;33m)\u001b[0m \u001b[1;33m>\u001b[0m \u001b[0ma\u001b[0m \u001b[1;33m:\u001b[0m\u001b[1;33m\u001b[0m\u001b[1;33m\u001b[0m\u001b[0m\n\u001b[1;32m----> 3\u001b[1;33m     \u001b[1;32mif\u001b[0m \u001b[0mt\u001b[0m\u001b[1;33m[\u001b[0m\u001b[0ma\u001b[0m\u001b[1;33m]\u001b[0m \u001b[1;33m==\u001b[0m \u001b[1;36m6\u001b[0m \u001b[1;32mor\u001b[0m \u001b[0mt\u001b[0m\u001b[1;33m[\u001b[0m\u001b[0ma\u001b[0m\u001b[1;33m]\u001b[0m \u001b[1;33m==\u001b[0m \u001b[1;36m7\u001b[0m\u001b[1;33m:\u001b[0m\u001b[1;33m\u001b[0m\u001b[1;33m\u001b[0m\u001b[0m\n\u001b[0m\u001b[0;32m      4\u001b[0m         \u001b[0mprint\u001b[0m\u001b[1;33m(\u001b[0m\u001b[0ma\u001b[0m\u001b[1;33m,\u001b[0m\u001b[1;34m':'\u001b[0m\u001b[1;33m,\u001b[0m\u001b[0mt\u001b[0m\u001b[1;33m[\u001b[0m\u001b[0ma\u001b[0m\u001b[1;33m]\u001b[0m\u001b[1;33m)\u001b[0m\u001b[1;33m\u001b[0m\u001b[1;33m\u001b[0m\u001b[0m\n\u001b[0;32m      5\u001b[0m     \u001b[0ma\u001b[0m \u001b[1;33m=\u001b[0m \u001b[0ma\u001b[0m \u001b[1;33m-\u001b[0m \u001b[1;36m1\u001b[0m\u001b[1;33m\u001b[0m\u001b[1;33m\u001b[0m\u001b[0m\n",
      "\u001b[1;31mIndexError\u001b[0m: tuple index out of range"
     ]
    }
   ],
   "source": [
    "a = 0\n",
    "while len(t) > a :\n",
    "    if t[a] == 6 or t[a] == 7:\n",
    "        print(a,':',t[a])\n",
    "    a = a - 1"
   ]
  },
  {
   "cell_type": "code",
   "execution_count": 59,
   "id": "9b4f0975-eb4e-4ead-95fd-082c0b3a2610",
   "metadata": {},
   "outputs": [
    {
     "name": "stdout",
     "output_type": "stream",
     "text": [
      "0 : 6\n",
      "-3 : 7\n",
      "-4 : 6\n"
     ]
    }
   ],
   "source": [
    "a = 0\n",
    "while -len(t) < a :\n",
    "    if t[a] == 6 or t[a] == 7:\n",
    "        print(a,':',t[a])\n",
    "    a = a - 1"
   ]
  },
  {
   "cell_type": "code",
   "execution_count": 62,
   "id": "92430009-50dd-49a6-a96d-f306d840bd67",
   "metadata": {},
   "outputs": [
    {
     "name": "stdout",
     "output_type": "stream",
     "text": [
      "-3 : 7\n",
      "-4 : 6\n"
     ]
    }
   ],
   "source": [
    "a = 0\n",
    "while len(t) > a :\n",
    "    if t[a] == 6 or t[a] == 7:\n",
    "        print(a,':',t[a])\n",
    "    a = a - 1\n",
    "    if a == -len(t):\n",
    "        break"
   ]
  },
  {
   "cell_type": "code",
   "execution_count": 68,
   "id": "0cda5bf0-c58f-4a88-ba06-f1ae5033d8de",
   "metadata": {},
   "outputs": [],
   "source": [
    "t = (6, 4, 5, 6, 7, 8, 6)"
   ]
  },
  {
   "cell_type": "code",
   "execution_count": 70,
   "id": "de84d8f1-c585-4497-91b7-f46626bbfa4d",
   "metadata": {},
   "outputs": [
    {
     "name": "stdout",
     "output_type": "stream",
     "text": [
      "index of 6 is -1\n",
      "index of 7 is -3\n",
      "index of 6 is -4\n",
      "index of 6 is -7\n"
     ]
    }
   ],
   "source": [
    "a = -1\n",
    "while a >= -len(t):\n",
    "    if t[a] == 6 or t[a] == 7:\n",
    "        print('index of', t[a], 'is', a)\n",
    "    a = a - 1"
   ]
  },
  {
   "cell_type": "code",
   "execution_count": 71,
   "id": "eea15d1b-e1a0-47c7-ac25-fe65003700d3",
   "metadata": {},
   "outputs": [],
   "source": [
    "d = {'k1':'karthik', 'k2':[1,2,3,4], 'k3':(2,3,4,5)}"
   ]
  },
  {
   "cell_type": "code",
   "execution_count": 72,
   "id": "ae202049-53cd-4a51-a51c-06c6dca21115",
   "metadata": {},
   "outputs": [
    {
     "data": {
      "text/plain": [
       "{'k1': 'karthik', 'k2': [1, 2, 3, 4], 'k3': (2, 3, 4, 5)}"
      ]
     },
     "execution_count": 72,
     "metadata": {},
     "output_type": "execute_result"
    }
   ],
   "source": [
    "d"
   ]
  },
  {
   "cell_type": "code",
   "execution_count": 74,
   "id": "e15f071c-643d-41d5-9d7d-22e4051bcfa0",
   "metadata": {},
   "outputs": [
    {
     "name": "stdout",
     "output_type": "stream",
     "text": [
      "dict_values(['karthik', [1, 2, 3, 4], (2, 3, 4, 5)])\n",
      "dict_values(['karthik', [1, 2, 3, 4], (2, 3, 4, 5)])\n",
      "dict_values(['karthik', [1, 2, 3, 4], (2, 3, 4, 5)])\n",
      "dict_values(['karthik', [1, 2, 3, 4], (2, 3, 4, 5)])\n"
     ]
    }
   ],
   "source": [
    "a = 0\n",
    "\n",
    "while a <= len(d):\n",
    "    print(d.values())\n",
    "    a = a + 1"
   ]
  },
  {
   "cell_type": "code",
   "execution_count": 80,
   "id": "9813d86c-4bd7-4a80-aa77-341ac5067711",
   "metadata": {},
   "outputs": [
    {
     "name": "stdout",
     "output_type": "stream",
     "text": [
      "karthik\n",
      "[1, 2, 3, 4]\n",
      "(2, 3, 4, 5)\n"
     ]
    }
   ],
   "source": [
    "a = 0\n",
    "b = list(d.keys())\n",
    "\n",
    "while a < len(d):\n",
    "    print(d[b[a]])\n",
    "    a = a + 1"
   ]
  },
  {
   "cell_type": "markdown",
   "id": "3b53ef66-baa4-4545-8734-24ca3fd3b8f4",
   "metadata": {},
   "source": [
    "# Functions"
   ]
  },
  {
   "cell_type": "code",
   "execution_count": 87,
   "id": "97fdba57-b5e4-4e18-9127-8cdcd0591f24",
   "metadata": {},
   "outputs": [
    {
     "name": "stdout",
     "output_type": "stream",
     "text": [
      "This is my first function\n"
     ]
    }
   ],
   "source": [
    "def test():\n",
    "    print('This is my first function')\n",
    "    \n",
    "test()"
   ]
  },
  {
   "cell_type": "code",
   "execution_count": 88,
   "id": "7a0a8149-8ef6-4743-a415-f1a15f1b1701",
   "metadata": {},
   "outputs": [
    {
     "name": "stdout",
     "output_type": "stream",
     "text": [
      "This is my first function\n"
     ]
    },
    {
     "data": {
      "text/plain": [
       "NoneType"
      ]
     },
     "execution_count": 88,
     "metadata": {},
     "output_type": "execute_result"
    }
   ],
   "source": [
    "type(test())"
   ]
  },
  {
   "cell_type": "code",
   "execution_count": 89,
   "id": "c9c9d75d-032c-40ca-97f2-d0995a5fa0a0",
   "metadata": {},
   "outputs": [
    {
     "name": "stdout",
     "output_type": "stream",
     "text": [
      "This is my first function\n"
     ]
    },
    {
     "ename": "TypeError",
     "evalue": "unsupported operand type(s) for +: 'NoneType' and 'str'",
     "output_type": "error",
     "traceback": [
      "\u001b[1;31m---------------------------------------------------------------------------\u001b[0m",
      "\u001b[1;31mTypeError\u001b[0m                                 Traceback (most recent call last)",
      "\u001b[1;32m~\\AppData\\Local\\Temp/ipykernel_8292/2278568058.py\u001b[0m in \u001b[0;36m<module>\u001b[1;34m\u001b[0m\n\u001b[1;32m----> 1\u001b[1;33m \u001b[0mtest\u001b[0m\u001b[1;33m(\u001b[0m\u001b[1;33m)\u001b[0m \u001b[1;33m+\u001b[0m \u001b[1;34m'Karthik'\u001b[0m\u001b[1;33m\u001b[0m\u001b[1;33m\u001b[0m\u001b[0m\n\u001b[0m",
      "\u001b[1;31mTypeError\u001b[0m: unsupported operand type(s) for +: 'NoneType' and 'str'"
     ]
    }
   ],
   "source": [
    "test() + 'Karthik'"
   ]
  },
  {
   "cell_type": "code",
   "execution_count": 90,
   "id": "a9216672-c4f8-4abf-a2b3-8b51d4726db3",
   "metadata": {},
   "outputs": [
    {
     "data": {
      "text/plain": [
       "'This is my first function'"
      ]
     },
     "execution_count": 90,
     "metadata": {},
     "output_type": "execute_result"
    }
   ],
   "source": [
    "def test():\n",
    "    return 'This is my first function'\n",
    "    \n",
    "test()"
   ]
  },
  {
   "cell_type": "code",
   "execution_count": 92,
   "id": "a9fb66ef-adc2-4289-a295-f0a06252b307",
   "metadata": {},
   "outputs": [
    {
     "data": {
      "text/plain": [
       "'This is my first function Karthik'"
      ]
     },
     "execution_count": 92,
     "metadata": {},
     "output_type": "execute_result"
    }
   ],
   "source": [
    "test() + ' Karthik'"
   ]
  },
  {
   "cell_type": "code",
   "execution_count": 93,
   "id": "755b1075-5923-49d3-a564-48df033d5c11",
   "metadata": {},
   "outputs": [
    {
     "ename": "IndentationError",
     "evalue": "expected an indented block (Temp/ipykernel_8292/1647743786.py, line 1)",
     "output_type": "error",
     "traceback": [
      "\u001b[1;36m  File \u001b[1;32m\"C:\\Users\\SUNTECH\\AppData\\Local\\Temp/ipykernel_8292/1647743786.py\"\u001b[1;36m, line \u001b[1;32m1\u001b[0m\n\u001b[1;33m    def test2():\u001b[0m\n\u001b[1;37m                ^\u001b[0m\n\u001b[1;31mIndentationError\u001b[0m\u001b[1;31m:\u001b[0m expected an indented block\n"
     ]
    }
   ],
   "source": [
    "def test2():"
   ]
  },
  {
   "cell_type": "code",
   "execution_count": 94,
   "id": "80b4e942-8308-4623-8645-f4a30ad56ee0",
   "metadata": {},
   "outputs": [],
   "source": [
    "def test2():\n",
    "    pass"
   ]
  },
  {
   "cell_type": "code",
   "execution_count": 97,
   "id": "c71c23d5-1b11-4f2a-a7cd-609655920ae2",
   "metadata": {},
   "outputs": [
    {
     "data": {
      "text/plain": [
       "(1, 2, 3, 4, 5, [1, 2, 3, 4])"
      ]
     },
     "execution_count": 97,
     "metadata": {},
     "output_type": "execute_result"
    }
   ],
   "source": [
    "def test3():\n",
    "    return 1, 2, 3, 4, 5, [1,2,3,4]\n",
    "test3()"
   ]
  },
  {
   "cell_type": "code",
   "execution_count": 98,
   "id": "c35f8536-6471-4320-b579-589e8966db69",
   "metadata": {},
   "outputs": [
    {
     "data": {
      "text/plain": [
       "(1, 2, 3, 4, 5, [1, 2, 3, 4])"
      ]
     },
     "execution_count": 98,
     "metadata": {},
     "output_type": "execute_result"
    }
   ],
   "source": [
    "a = test3()\n",
    "a"
   ]
  },
  {
   "cell_type": "code",
   "execution_count": 100,
   "id": "a5b87e36-bafd-40aa-bbc5-78990797e0df",
   "metadata": {},
   "outputs": [],
   "source": [
    "a, b, c, d, e, f = test3()"
   ]
  },
  {
   "cell_type": "code",
   "execution_count": 101,
   "id": "b11be1f1-3732-41d4-b22f-cc1d4be73e71",
   "metadata": {},
   "outputs": [
    {
     "data": {
      "text/plain": [
       "1"
      ]
     },
     "execution_count": 101,
     "metadata": {},
     "output_type": "execute_result"
    }
   ],
   "source": [
    "a"
   ]
  },
  {
   "cell_type": "code",
   "execution_count": 102,
   "id": "21636ee3-caa4-4ae9-8b37-bdd57abfe468",
   "metadata": {},
   "outputs": [
    {
     "data": {
      "text/plain": [
       "2"
      ]
     },
     "execution_count": 102,
     "metadata": {},
     "output_type": "execute_result"
    }
   ],
   "source": [
    "b"
   ]
  },
  {
   "cell_type": "code",
   "execution_count": 103,
   "id": "287b2515-de8f-4a3f-97a1-3f96ac9e1a0e",
   "metadata": {},
   "outputs": [
    {
     "data": {
      "text/plain": [
       "3"
      ]
     },
     "execution_count": 103,
     "metadata": {},
     "output_type": "execute_result"
    }
   ],
   "source": [
    "c"
   ]
  },
  {
   "cell_type": "code",
   "execution_count": 104,
   "id": "4944dc60-e7be-4d6e-9fc0-b6e753b96014",
   "metadata": {},
   "outputs": [
    {
     "data": {
      "text/plain": [
       "4"
      ]
     },
     "execution_count": 104,
     "metadata": {},
     "output_type": "execute_result"
    }
   ],
   "source": [
    "d"
   ]
  },
  {
   "cell_type": "code",
   "execution_count": 105,
   "id": "21c00032-341c-4e80-82b3-e7bd653dd9b5",
   "metadata": {},
   "outputs": [
    {
     "data": {
      "text/plain": [
       "5"
      ]
     },
     "execution_count": 105,
     "metadata": {},
     "output_type": "execute_result"
    }
   ],
   "source": [
    "e"
   ]
  },
  {
   "cell_type": "code",
   "execution_count": 106,
   "id": "967c609b-2dca-4af6-b98d-13c5c4a1c6c4",
   "metadata": {},
   "outputs": [
    {
     "data": {
      "text/plain": [
       "[1, 2, 3, 4]"
      ]
     },
     "execution_count": 106,
     "metadata": {},
     "output_type": "execute_result"
    }
   ],
   "source": [
    "f"
   ]
  },
  {
   "cell_type": "code",
   "execution_count": 107,
   "id": "baabc2c9-a7dd-4264-b7df-34b5e006e4b4",
   "metadata": {},
   "outputs": [
    {
     "data": {
      "text/plain": [
       "(20, 10)"
      ]
     },
     "execution_count": 107,
     "metadata": {},
     "output_type": "execute_result"
    }
   ],
   "source": [
    "def test4():\n",
    "    a = 4*5\n",
    "    b = 6+4\n",
    "    return a, b\n",
    "test4()"
   ]
  },
  {
   "cell_type": "code",
   "execution_count": 108,
   "id": "47cc2f01-4bf8-4ea4-a4c3-1a27704c9e6e",
   "metadata": {},
   "outputs": [],
   "source": [
    "j,k=test4()"
   ]
  },
  {
   "cell_type": "code",
   "execution_count": 109,
   "id": "e46e6bcc-6348-4966-9e5a-722cd52b74f6",
   "metadata": {},
   "outputs": [
    {
     "data": {
      "text/plain": [
       "20"
      ]
     },
     "execution_count": 109,
     "metadata": {},
     "output_type": "execute_result"
    }
   ],
   "source": [
    "j"
   ]
  },
  {
   "cell_type": "code",
   "execution_count": 110,
   "id": "07a92e4b-0a80-4377-911a-8971e5dc44f9",
   "metadata": {},
   "outputs": [
    {
     "data": {
      "text/plain": [
       "10"
      ]
     },
     "execution_count": 110,
     "metadata": {},
     "output_type": "execute_result"
    }
   ],
   "source": [
    "k"
   ]
  },
  {
   "cell_type": "code",
   "execution_count": 111,
   "id": "e8431bb2-be38-40b8-894c-105541616f97",
   "metadata": {},
   "outputs": [],
   "source": [
    "_, m = test4()"
   ]
  },
  {
   "cell_type": "code",
   "execution_count": 112,
   "id": "b1c0e1f5-5280-4344-a0f7-0825a30cd204",
   "metadata": {},
   "outputs": [
    {
     "data": {
      "text/plain": [
       "(1, 2, 3, 4, 5, [1, 2, 3, 4])"
      ]
     },
     "execution_count": 112,
     "metadata": {},
     "output_type": "execute_result"
    }
   ],
   "source": [
    "def test3():\n",
    "    return 1, 2, 3, 4, 5, [1,2,3,4]\n",
    "test3()"
   ]
  },
  {
   "cell_type": "code",
   "execution_count": 114,
   "id": "7fd8dabd-1e48-44e6-8cb1-63afdc65be21",
   "metadata": {},
   "outputs": [],
   "source": [
    "_,_,_,_,_,n = test3()"
   ]
  },
  {
   "cell_type": "code",
   "execution_count": 115,
   "id": "9e9545b3-34df-490e-a1eb-0616c361e910",
   "metadata": {},
   "outputs": [
    {
     "data": {
      "text/plain": [
       "[1, 2, 3, 4]"
      ]
     },
     "execution_count": 115,
     "metadata": {},
     "output_type": "execute_result"
    }
   ],
   "source": [
    "n"
   ]
  },
  {
   "cell_type": "code",
   "execution_count": 117,
   "id": "d47a9ecd-b7c9-4eee-a414-fd2937c05521",
   "metadata": {},
   "outputs": [
    {
     "ename": "UnboundLocalError",
     "evalue": "local variable 'a' referenced before assignment",
     "output_type": "error",
     "traceback": [
      "\u001b[1;31m---------------------------------------------------------------------------\u001b[0m",
      "\u001b[1;31mUnboundLocalError\u001b[0m                         Traceback (most recent call last)",
      "\u001b[1;32m~\\AppData\\Local\\Temp/ipykernel_8292/1552253913.py\u001b[0m in \u001b[0;36m<module>\u001b[1;34m\u001b[0m\n\u001b[0;32m      6\u001b[0m         \u001b[0mprint\u001b[0m\u001b[1;33m(\u001b[0m\u001b[1;34m'Print this else block'\u001b[0m\u001b[1;33m)\u001b[0m\u001b[1;33m\u001b[0m\u001b[1;33m\u001b[0m\u001b[0m\n\u001b[0;32m      7\u001b[0m \u001b[1;33m\u001b[0m\u001b[0m\n\u001b[1;32m----> 8\u001b[1;33m \u001b[0mtest5\u001b[0m\u001b[1;33m(\u001b[0m\u001b[1;33m)\u001b[0m\u001b[1;33m\u001b[0m\u001b[1;33m\u001b[0m\u001b[0m\n\u001b[0m",
      "\u001b[1;32m~\\AppData\\Local\\Temp/ipykernel_8292/1552253913.py\u001b[0m in \u001b[0;36mtest5\u001b[1;34m()\u001b[0m\n\u001b[0;32m      1\u001b[0m \u001b[1;32mdef\u001b[0m \u001b[0mtest5\u001b[0m\u001b[1;33m(\u001b[0m\u001b[1;33m)\u001b[0m\u001b[1;33m:\u001b[0m\u001b[1;33m\u001b[0m\u001b[1;33m\u001b[0m\u001b[0m\n\u001b[1;32m----> 2\u001b[1;33m     \u001b[1;32mwhile\u001b[0m \u001b[0ma\u001b[0m \u001b[1;33m<=\u001b[0m \u001b[0mb\u001b[0m\u001b[1;33m:\u001b[0m\u001b[1;33m\u001b[0m\u001b[1;33m\u001b[0m\u001b[0m\n\u001b[0m\u001b[0;32m      3\u001b[0m         \u001b[0mprint\u001b[0m\u001b[1;33m(\u001b[0m\u001b[0ma\u001b[0m\u001b[1;33m)\u001b[0m\u001b[1;33m\u001b[0m\u001b[1;33m\u001b[0m\u001b[0m\n\u001b[0;32m      4\u001b[0m         \u001b[0ma\u001b[0m\u001b[1;33m=\u001b[0m\u001b[0ma\u001b[0m\u001b[1;33m+\u001b[0m\u001b[1;36m2\u001b[0m\u001b[1;33m\u001b[0m\u001b[1;33m\u001b[0m\u001b[0m\n\u001b[0;32m      5\u001b[0m     \u001b[1;32melse\u001b[0m\u001b[1;33m:\u001b[0m\u001b[1;33m\u001b[0m\u001b[1;33m\u001b[0m\u001b[0m\n",
      "\u001b[1;31mUnboundLocalError\u001b[0m: local variable 'a' referenced before assignment"
     ]
    }
   ],
   "source": [
    "def test5():\n",
    "    while a <= b:\n",
    "        print(a)\n",
    "        a=a+2\n",
    "    else:\n",
    "        print('Print this else block')\n",
    "        \n",
    "test5()"
   ]
  },
  {
   "cell_type": "code",
   "execution_count": 119,
   "id": "a3b10931-6c86-418b-a935-087524e8f512",
   "metadata": {},
   "outputs": [
    {
     "name": "stdout",
     "output_type": "stream",
     "text": [
      "1\n",
      "3\n",
      "5\n",
      "7\n",
      "9\n",
      "Print this else block\n"
     ]
    }
   ],
   "source": [
    "def test5():\n",
    "    a = 1\n",
    "    b = 10\n",
    "    while a <= b:\n",
    "        print(a)\n",
    "        a=a+2\n",
    "    else:\n",
    "        print('Print this else block')\n",
    "        \n",
    "test5()"
   ]
  },
  {
   "cell_type": "code",
   "execution_count": 120,
   "id": "d185a986-7a9b-467c-9c30-76966aaaa984",
   "metadata": {},
   "outputs": [
    {
     "name": "stdout",
     "output_type": "stream",
     "text": [
      "1\n",
      "3\n",
      "5\n",
      "7\n",
      "9\n",
      "Print this else block\n"
     ]
    }
   ],
   "source": [
    "def test6(a, b):\n",
    "    while a <= b:\n",
    "        print(a)\n",
    "        a=a+2\n",
    "    else:\n",
    "        print('Print this else block')\n",
    "        \n",
    "test6(1,10)"
   ]
  },
  {
   "cell_type": "code",
   "execution_count": 121,
   "id": "08903b4d-0d8b-4d4f-9a2f-c98957218fb8",
   "metadata": {},
   "outputs": [
    {
     "ename": "TypeError",
     "evalue": "test6() missing 2 required positional arguments: 'a' and 'b'",
     "output_type": "error",
     "traceback": [
      "\u001b[1;31m---------------------------------------------------------------------------\u001b[0m",
      "\u001b[1;31mTypeError\u001b[0m                                 Traceback (most recent call last)",
      "\u001b[1;32m~\\AppData\\Local\\Temp/ipykernel_8292/3480340236.py\u001b[0m in \u001b[0;36m<module>\u001b[1;34m\u001b[0m\n\u001b[1;32m----> 1\u001b[1;33m \u001b[0mtest6\u001b[0m\u001b[1;33m(\u001b[0m\u001b[1;33m)\u001b[0m\u001b[1;33m\u001b[0m\u001b[1;33m\u001b[0m\u001b[0m\n\u001b[0m",
      "\u001b[1;31mTypeError\u001b[0m: test6() missing 2 required positional arguments: 'a' and 'b'"
     ]
    }
   ],
   "source": [
    "test6()"
   ]
  },
  {
   "cell_type": "code",
   "execution_count": 122,
   "id": "d5194cdf-47fb-41c8-9a19-2b7178b26d01",
   "metadata": {},
   "outputs": [
    {
     "name": "stdout",
     "output_type": "stream",
     "text": [
      "1\n",
      "3\n",
      "5\n",
      "7\n",
      "9\n",
      "11\n",
      "13\n",
      "15\n",
      "17\n",
      "19\n",
      "21\n",
      "23\n",
      "25\n",
      "27\n",
      "29\n",
      "31\n",
      "33\n",
      "35\n",
      "37\n",
      "39\n",
      "41\n",
      "43\n",
      "45\n",
      "47\n",
      "49\n",
      "Print this else block\n"
     ]
    }
   ],
   "source": [
    "test6(1, 50)"
   ]
  },
  {
   "cell_type": "code",
   "execution_count": 124,
   "id": "e480f94a-22e2-4b01-94f4-d7e6d2723676",
   "metadata": {},
   "outputs": [
    {
     "data": {
      "text/plain": [
       "1"
      ]
     },
     "execution_count": 124,
     "metadata": {},
     "output_type": "execute_result"
    }
   ],
   "source": [
    "def test7(a, b):\n",
    "    while a <= b:\n",
    "        return a\n",
    "        a=a+2\n",
    "    else:\n",
    "        return 'Print this else block'\n",
    "        \n",
    "test7(1,10)"
   ]
  },
  {
   "cell_type": "code",
   "execution_count": 128,
   "id": "967d9480-ed18-4f5b-ac59-257ec403565e",
   "metadata": {},
   "outputs": [
    {
     "name": "stdout",
     "output_type": "stream",
     "text": [
      "Print this else block\n"
     ]
    },
    {
     "data": {
      "text/plain": [
       "[1, 3, 5, 7, 9]"
      ]
     },
     "execution_count": 128,
     "metadata": {},
     "output_type": "execute_result"
    }
   ],
   "source": [
    "l = []\n",
    "def test7(a, b):\n",
    "    while a <= b:\n",
    "        l.append(a)\n",
    "        a=a+2\n",
    "    else:\n",
    "        print( 'Print this else block')\n",
    "    return l        \n",
    "test7(1,10)"
   ]
  },
  {
   "cell_type": "code",
   "execution_count": 141,
   "id": "cd01ab63-6640-4348-974d-dfefcf6474de",
   "metadata": {},
   "outputs": [],
   "source": [
    "l = [4, 5, 6, 4, 7, 8, 8, 8, 9,[3, 2, 5, 6, 7],'karthik']"
   ]
  },
  {
   "cell_type": "code",
   "execution_count": 142,
   "id": "92944471-c041-4a25-a00c-13a5081ce61b",
   "metadata": {},
   "outputs": [
    {
     "data": {
      "text/plain": [
       "[4, 5, 6, 4, 7, 8, 8, 8, 9, 3, 2, 5, 6, 7]"
      ]
     },
     "execution_count": 142,
     "metadata": {},
     "output_type": "execute_result"
    }
   ],
   "source": [
    "def test8():\n",
    "    l1=[]\n",
    "    for i in l:\n",
    "        if type(i) == int:\n",
    "            l1.append(i)   \n",
    "        if type(i) == list:\n",
    "            for j in i:\n",
    "                if type(j) == int:\n",
    "                    l.append(j) \n",
    "    return l1\n",
    "test8()"
   ]
  },
  {
   "cell_type": "code",
   "execution_count": 143,
   "id": "b177b622-ce19-408c-94d0-13119aa88720",
   "metadata": {},
   "outputs": [
    {
     "name": "stdout",
     "output_type": "stream",
     "text": [
      "index of 6 is -1\n",
      "index of 7 is -3\n",
      "index of 6 is -4\n",
      "index of 6 is -7\n"
     ]
    }
   ],
   "source": [
    "def test9():\n",
    "    a = -1\n",
    "    while a >= -len(t):\n",
    "        if t[a] == 6 or t[a] == 7:\n",
    "            print('index of', t[a], 'is', a)\n",
    "        a = a - 1\n",
    "test9()"
   ]
  },
  {
   "cell_type": "code",
   "execution_count": null,
   "id": "714986f1-396e-492d-a6df-2ea3450ba7b9",
   "metadata": {},
   "outputs": [],
   "source": [
    "Your First Challenge : \n",
    "    \n",
    "\n",
    "\n",
    "q1 : Try to print this by using while loop \n",
    "* \n",
    "* * \n",
    "* * * \n",
    "* * * * \n",
    "* * * * * \n",
    "* * * * * * \n",
    "* * * * * * * \n",
    "* * * * * * * * \n",
    "* * * * * * * * * \n",
    "\n",
    "q2 : try to print below by using while loop : \n",
    "        \n",
    "A\n",
    "B H \n",
    "C I N\n",
    "D J o S\n",
    "E K p T W\n",
    "F L Q U X z\n",
    "G M R V Y \n",
    "\n",
    "q3 : Try to print all the number divisible by 3 in between a range of 40 - 400\n",
    "    \n",
    "q4 : Try to filter out all the vowels form below text by using while loop : \n",
    " \"\"\"Python is a high-level, interpreted, general-purpose programming language. Its design philosophy emphasizes code readability with the use of significant indentation.[32]\n",
    "\n",
    "Python is dynamically-typed and garbage-collected. It supports multiple programming paradigms, including structured (particularly procedural), object-oriented and functional programming. It is often described as a \"batteries included\" language due to its comprehensive standard library.[33][34]\n",
    "\n",
    "Guido van Rossum began working on Python in the late 1980s as a successor to the ABC programming language and first released it in 1991 as Python 0.9.0.[35] Python 2.0 was released in 2000 and introduced new features such as list comprehensions, cycle-detecting garbage collection, reference counting, and Unicode support. Python 3.0, released in 2008, was a major revision that is not completely backward-compatible with earlier versions. Python 2 was discontinued with version 2.7.18 in 2020.[36]\n",
    "\n",
    "Python consistently ranks as one of the most popular programming languagesc\"\"\" \n",
    "\n",
    "\n",
    "q5 : Try to generate all the even number between 1- 1000\n",
    "\n",
    "q6 : Define a function for all the above problem statememnt  . \n",
    "    \n",
    "q7 : write a code to get a time of your system \n",
    "\n",
    "q8 : Write a code to fetch date form your system \n",
    "\n",
    "q9 : Write a code to send a mail to your friend \n",
    "\n",
    "q10 : write a code to trigger alarm for you at scheduled time \n",
    "\n",
    "q11 : write a code to check ip address of your system \n",
    "\n",
    "q12 : Write a code to check a perticular installation in your system\n",
    "\n",
    "q13 : Write a code to convert any text in to voice \n",
    "\n",
    "q14 : you have to write a fun which will take string and return a len of \n",
    "it without using a inbuilt fun len\n",
    "\n",
    "q15 :write a fun which will be able to print an index of all premitive element which you will pass \n",
    "\n",
    "q16 : Write a fun which will take input as a dict and give me out as a list of all the values \n",
    "even in case of 2 level nesting it should work . \n",
    "\n",
    "q17 : write a function whihc will take multiple list as a input and give me concatnation of all the element as \n",
    "and output\n",
    "\n",
    "q18 : Write a function which will whould return list of all the file name from a directory . \n",
    "\n",
    "q19 : write a function whihc will be able to read a image file and show it to you .\n",
    "    \n",
    "q20 : write a function by which you will be able to append two PDF files . \n",
    "    \n",
    "q21 : write a function which can help you to filter only word file from a directory . \n",
    "    \n",
    "q22 : write a function which can read video file and play for you . \n",
    "    \n",
    "q23 : write a function which will be able to shutdonw your system . \n",
    "\n",
    "q24 : Write a function which will whould return list of all the file name from a directory . \n",
    "\n",
    "q25 : write a function whihc will be able to access your mail . \n",
    "        "
   ]
  }
 ],
 "metadata": {
  "kernelspec": {
   "display_name": "Python 3 (ipykernel)",
   "language": "python",
   "name": "python3"
  },
  "language_info": {
   "codemirror_mode": {
    "name": "ipython",
    "version": 3
   },
   "file_extension": ".py",
   "mimetype": "text/x-python",
   "name": "python",
   "nbconvert_exporter": "python",
   "pygments_lexer": "ipython3",
   "version": "3.9.7"
  }
 },
 "nbformat": 4,
 "nbformat_minor": 5
}
