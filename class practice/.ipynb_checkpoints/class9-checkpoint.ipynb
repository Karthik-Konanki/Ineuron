{
 "cells": [
  {
   "cell_type": "markdown",
   "id": "838dc2fe-efa1-46fc-af63-52cd42bb3251",
   "metadata": {},
   "source": [
    "## Iterator"
   ]
  },
  {
   "cell_type": "code",
   "execution_count": 15,
   "id": "47d63476-c63e-4096-9941-b1dfc6f4c707",
   "metadata": {},
   "outputs": [],
   "source": [
    "l = [1,2,3,4,5,5]"
   ]
  },
  {
   "cell_type": "code",
   "execution_count": 16,
   "id": "cbdc65ad-06b4-4812-ab87-0fe1362b837e",
   "metadata": {},
   "outputs": [
    {
     "name": "stdout",
     "output_type": "stream",
     "text": [
      "1\n",
      "2\n",
      "3\n",
      "4\n",
      "5\n",
      "5\n"
     ]
    }
   ],
   "source": [
    "for i in l:\n",
    "    print(i)"
   ]
  },
  {
   "cell_type": "code",
   "execution_count": 17,
   "id": "40636003-487b-4b47-ad00-a160a758ebbd",
   "metadata": {},
   "outputs": [
    {
     "ename": "TypeError",
     "evalue": "'list' object is not an iterator",
     "output_type": "error",
     "traceback": [
      "\u001b[1;31m---------------------------------------------------------------------------\u001b[0m",
      "\u001b[1;31mTypeError\u001b[0m                                 Traceback (most recent call last)",
      "\u001b[1;32m~\\AppData\\Local\\Temp/ipykernel_13272/2016234150.py\u001b[0m in \u001b[0;36m<module>\u001b[1;34m\u001b[0m\n\u001b[1;32m----> 1\u001b[1;33m \u001b[0mnext\u001b[0m\u001b[1;33m(\u001b[0m\u001b[0ml\u001b[0m\u001b[1;33m)\u001b[0m\u001b[1;33m\u001b[0m\u001b[1;33m\u001b[0m\u001b[0m\n\u001b[0m",
      "\u001b[1;31mTypeError\u001b[0m: 'list' object is not an iterator"
     ]
    }
   ],
   "source": [
    "next(l)"
   ]
  },
  {
   "cell_type": "code",
   "execution_count": 18,
   "id": "f805f5e9-16d8-4c20-aedf-de91c18227a5",
   "metadata": {},
   "outputs": [
    {
     "ename": "TypeError",
     "evalue": "'int' object is not an iterator",
     "output_type": "error",
     "traceback": [
      "\u001b[1;31m---------------------------------------------------------------------------\u001b[0m",
      "\u001b[1;31mTypeError\u001b[0m                                 Traceback (most recent call last)",
      "\u001b[1;32m~\\AppData\\Local\\Temp/ipykernel_13272/542480322.py\u001b[0m in \u001b[0;36m<module>\u001b[1;34m\u001b[0m\n\u001b[1;32m----> 1\u001b[1;33m \u001b[0mnext\u001b[0m\u001b[1;33m(\u001b[0m\u001b[1;36m2\u001b[0m\u001b[1;33m)\u001b[0m\u001b[1;33m\u001b[0m\u001b[1;33m\u001b[0m\u001b[0m\n\u001b[0m",
      "\u001b[1;31mTypeError\u001b[0m: 'int' object is not an iterator"
     ]
    }
   ],
   "source": [
    "next(2)"
   ]
  },
  {
   "cell_type": "code",
   "execution_count": 27,
   "id": "ebe4f9af-2e96-4c49-a42f-24ba08c2f2bd",
   "metadata": {},
   "outputs": [
    {
     "ename": "TypeError",
     "evalue": "'int' object is not iterable",
     "output_type": "error",
     "traceback": [
      "\u001b[1;31m---------------------------------------------------------------------------\u001b[0m",
      "\u001b[1;31mTypeError\u001b[0m                                 Traceback (most recent call last)",
      "\u001b[1;32m~\\AppData\\Local\\Temp/ipykernel_13272/4048872889.py\u001b[0m in \u001b[0;36m<module>\u001b[1;34m\u001b[0m\n\u001b[1;32m----> 1\u001b[1;33m \u001b[0mb\u001b[0m \u001b[1;33m=\u001b[0m \u001b[0miter\u001b[0m\u001b[1;33m(\u001b[0m\u001b[1;36m1\u001b[0m\u001b[1;33m)\u001b[0m\u001b[1;33m\u001b[0m\u001b[1;33m\u001b[0m\u001b[0m\n\u001b[0m",
      "\u001b[1;31mTypeError\u001b[0m: 'int' object is not iterable"
     ]
    }
   ],
   "source": [
    "b = iter(1)"
   ]
  },
  {
   "cell_type": "code",
   "execution_count": 19,
   "id": "52189399-2379-48c4-b427-0c324214c5ff",
   "metadata": {},
   "outputs": [],
   "source": [
    "b = iter(l)"
   ]
  },
  {
   "cell_type": "code",
   "execution_count": 20,
   "id": "0e1ec407-65ee-4729-9fa0-33381f7a6b7b",
   "metadata": {},
   "outputs": [
    {
     "data": {
      "text/plain": [
       "1"
      ]
     },
     "execution_count": 20,
     "metadata": {},
     "output_type": "execute_result"
    }
   ],
   "source": [
    "next(b)"
   ]
  },
  {
   "cell_type": "code",
   "execution_count": 21,
   "id": "693fd55b-4f38-4f2d-b656-e94fe35ca9fe",
   "metadata": {},
   "outputs": [
    {
     "data": {
      "text/plain": [
       "2"
      ]
     },
     "execution_count": 21,
     "metadata": {},
     "output_type": "execute_result"
    }
   ],
   "source": [
    "next(b)"
   ]
  },
  {
   "cell_type": "code",
   "execution_count": 22,
   "id": "a1689b90-9f1b-4880-b44b-201adccefa8e",
   "metadata": {},
   "outputs": [
    {
     "data": {
      "text/plain": [
       "3"
      ]
     },
     "execution_count": 22,
     "metadata": {},
     "output_type": "execute_result"
    }
   ],
   "source": [
    "next(b)"
   ]
  },
  {
   "cell_type": "code",
   "execution_count": 23,
   "id": "41686ab8-c828-4f11-8477-ab46d726afaf",
   "metadata": {},
   "outputs": [
    {
     "data": {
      "text/plain": [
       "4"
      ]
     },
     "execution_count": 23,
     "metadata": {},
     "output_type": "execute_result"
    }
   ],
   "source": [
    "next(b)"
   ]
  },
  {
   "cell_type": "code",
   "execution_count": 24,
   "id": "5389eeb8-6234-4918-b8a3-ebb63494b64a",
   "metadata": {},
   "outputs": [
    {
     "data": {
      "text/plain": [
       "5"
      ]
     },
     "execution_count": 24,
     "metadata": {},
     "output_type": "execute_result"
    }
   ],
   "source": [
    "next(b)"
   ]
  },
  {
   "cell_type": "code",
   "execution_count": 25,
   "id": "54945451-e20f-4f97-b696-38c9e1b631de",
   "metadata": {},
   "outputs": [
    {
     "data": {
      "text/plain": [
       "5"
      ]
     },
     "execution_count": 25,
     "metadata": {},
     "output_type": "execute_result"
    }
   ],
   "source": [
    "next(b)"
   ]
  },
  {
   "cell_type": "code",
   "execution_count": 26,
   "id": "a8d8f545-7561-4478-b49d-0b53c25fcad7",
   "metadata": {},
   "outputs": [
    {
     "ename": "StopIteration",
     "evalue": "",
     "output_type": "error",
     "traceback": [
      "\u001b[1;31m---------------------------------------------------------------------------\u001b[0m",
      "\u001b[1;31mStopIteration\u001b[0m                             Traceback (most recent call last)",
      "\u001b[1;32m~\\AppData\\Local\\Temp/ipykernel_13272/973617480.py\u001b[0m in \u001b[0;36m<module>\u001b[1;34m\u001b[0m\n\u001b[1;32m----> 1\u001b[1;33m \u001b[0mnext\u001b[0m\u001b[1;33m(\u001b[0m\u001b[0mb\u001b[0m\u001b[1;33m)\u001b[0m\u001b[1;33m\u001b[0m\u001b[1;33m\u001b[0m\u001b[0m\n\u001b[0m",
      "\u001b[1;31mStopIteration\u001b[0m: "
     ]
    }
   ],
   "source": [
    "next(b)"
   ]
  },
  {
   "cell_type": "code",
   "execution_count": 28,
   "id": "53fe8fbd-06c0-4152-9352-fd21ff72e0d7",
   "metadata": {},
   "outputs": [],
   "source": [
    "s = 'Karthik'"
   ]
  },
  {
   "cell_type": "code",
   "execution_count": 29,
   "id": "0858b877-a12e-44c3-a5f9-676805690584",
   "metadata": {},
   "outputs": [
    {
     "ename": "TypeError",
     "evalue": "'str' object is not an iterator",
     "output_type": "error",
     "traceback": [
      "\u001b[1;31m---------------------------------------------------------------------------\u001b[0m",
      "\u001b[1;31mTypeError\u001b[0m                                 Traceback (most recent call last)",
      "\u001b[1;32m~\\AppData\\Local\\Temp/ipykernel_13272/1977886155.py\u001b[0m in \u001b[0;36m<module>\u001b[1;34m\u001b[0m\n\u001b[1;32m----> 1\u001b[1;33m \u001b[0mnext\u001b[0m\u001b[1;33m(\u001b[0m\u001b[0ms\u001b[0m\u001b[1;33m)\u001b[0m\u001b[1;33m\u001b[0m\u001b[1;33m\u001b[0m\u001b[0m\n\u001b[0m",
      "\u001b[1;31mTypeError\u001b[0m: 'str' object is not an iterator"
     ]
    }
   ],
   "source": [
    "next(s)"
   ]
  },
  {
   "cell_type": "code",
   "execution_count": 30,
   "id": "9eb4667b-4c7b-4a64-aba7-574946a9db0e",
   "metadata": {},
   "outputs": [],
   "source": [
    "s = iter(s)"
   ]
  },
  {
   "cell_type": "code",
   "execution_count": 31,
   "id": "d2b2222f-bf6c-48b1-a127-82cfbdb866a1",
   "metadata": {},
   "outputs": [
    {
     "data": {
      "text/plain": [
       "'K'"
      ]
     },
     "execution_count": 31,
     "metadata": {},
     "output_type": "execute_result"
    }
   ],
   "source": [
    "next(s)"
   ]
  },
  {
   "cell_type": "code",
   "execution_count": 32,
   "id": "a97cc97e-0c3b-4cfa-a8f5-91770d2da15e",
   "metadata": {},
   "outputs": [
    {
     "data": {
      "text/plain": [
       "'a'"
      ]
     },
     "execution_count": 32,
     "metadata": {},
     "output_type": "execute_result"
    }
   ],
   "source": [
    "next(s)"
   ]
  },
  {
   "cell_type": "code",
   "execution_count": 33,
   "id": "dd73bd37-3120-4944-a407-6d9fc12a08d5",
   "metadata": {},
   "outputs": [
    {
     "data": {
      "text/plain": [
       "'r'"
      ]
     },
     "execution_count": 33,
     "metadata": {},
     "output_type": "execute_result"
    }
   ],
   "source": [
    "next(s)"
   ]
  },
  {
   "cell_type": "code",
   "execution_count": 34,
   "id": "e805e957-9833-473b-a94b-d2eb2dfb6bfe",
   "metadata": {},
   "outputs": [
    {
     "data": {
      "text/plain": [
       "'t'"
      ]
     },
     "execution_count": 34,
     "metadata": {},
     "output_type": "execute_result"
    }
   ],
   "source": [
    "next(s)"
   ]
  },
  {
   "cell_type": "code",
   "execution_count": 35,
   "id": "4c248392-9586-42b3-a973-f744fc7f7949",
   "metadata": {},
   "outputs": [
    {
     "data": {
      "text/plain": [
       "'h'"
      ]
     },
     "execution_count": 35,
     "metadata": {},
     "output_type": "execute_result"
    }
   ],
   "source": [
    "next(s)"
   ]
  },
  {
   "cell_type": "code",
   "execution_count": 36,
   "id": "a06b9ba9-4754-4602-9da1-5e424bac2c69",
   "metadata": {},
   "outputs": [
    {
     "data": {
      "text/plain": [
       "'i'"
      ]
     },
     "execution_count": 36,
     "metadata": {},
     "output_type": "execute_result"
    }
   ],
   "source": [
    "next(s)"
   ]
  },
  {
   "cell_type": "code",
   "execution_count": 37,
   "id": "7f0c1d35-339f-4746-9e27-73cf875bea8d",
   "metadata": {},
   "outputs": [
    {
     "data": {
      "text/plain": [
       "'k'"
      ]
     },
     "execution_count": 37,
     "metadata": {},
     "output_type": "execute_result"
    }
   ],
   "source": [
    "next(s)"
   ]
  },
  {
   "cell_type": "code",
   "execution_count": 38,
   "id": "44cf969b-498c-4df3-b7fa-5519af56fb73",
   "metadata": {},
   "outputs": [
    {
     "ename": "StopIteration",
     "evalue": "",
     "output_type": "error",
     "traceback": [
      "\u001b[1;31m---------------------------------------------------------------------------\u001b[0m",
      "\u001b[1;31mStopIteration\u001b[0m                             Traceback (most recent call last)",
      "\u001b[1;32m~\\AppData\\Local\\Temp/ipykernel_13272/1977886155.py\u001b[0m in \u001b[0;36m<module>\u001b[1;34m\u001b[0m\n\u001b[1;32m----> 1\u001b[1;33m \u001b[0mnext\u001b[0m\u001b[1;33m(\u001b[0m\u001b[0ms\u001b[0m\u001b[1;33m)\u001b[0m\u001b[1;33m\u001b[0m\u001b[1;33m\u001b[0m\u001b[0m\n\u001b[0m",
      "\u001b[1;31mStopIteration\u001b[0m: "
     ]
    }
   ],
   "source": [
    "next(s)"
   ]
  },
  {
   "cell_type": "code",
   "execution_count": 39,
   "id": "e3dadcbf-db34-4729-b9ce-997a51b86ac0",
   "metadata": {},
   "outputs": [],
   "source": [
    "n = 'Karthik'"
   ]
  },
  {
   "cell_type": "code",
   "execution_count": 40,
   "id": "8e304249-2252-473f-ae41-bb50cf1ed034",
   "metadata": {},
   "outputs": [
    {
     "name": "stdout",
     "output_type": "stream",
     "text": [
      "K\n",
      "a\n",
      "r\n",
      "t\n",
      "h\n",
      "i\n",
      "k\n"
     ]
    }
   ],
   "source": [
    "for i in n:\n",
    "    print(i)"
   ]
  },
  {
   "cell_type": "code",
   "execution_count": 41,
   "id": "504523ac-71ae-40e9-b5d6-59737852b2fd",
   "metadata": {},
   "outputs": [],
   "source": [
    "t = (5, 4, 2, 6, 7, 8)"
   ]
  },
  {
   "cell_type": "code",
   "execution_count": 42,
   "id": "8e8bd367-4834-49fb-bece-6cf0efd3156c",
   "metadata": {},
   "outputs": [
    {
     "ename": "TypeError",
     "evalue": "'tuple' object is not an iterator",
     "output_type": "error",
     "traceback": [
      "\u001b[1;31m---------------------------------------------------------------------------\u001b[0m",
      "\u001b[1;31mTypeError\u001b[0m                                 Traceback (most recent call last)",
      "\u001b[1;32m~\\AppData\\Local\\Temp/ipykernel_13272/2139502855.py\u001b[0m in \u001b[0;36m<module>\u001b[1;34m\u001b[0m\n\u001b[1;32m----> 1\u001b[1;33m \u001b[0mnext\u001b[0m\u001b[1;33m(\u001b[0m\u001b[0mt\u001b[0m\u001b[1;33m)\u001b[0m\u001b[1;33m\u001b[0m\u001b[1;33m\u001b[0m\u001b[0m\n\u001b[0m",
      "\u001b[1;31mTypeError\u001b[0m: 'tuple' object is not an iterator"
     ]
    }
   ],
   "source": [
    "next(t)"
   ]
  },
  {
   "cell_type": "code",
   "execution_count": 43,
   "id": "43e432ff-3103-477b-b961-49374f3cea57",
   "metadata": {},
   "outputs": [],
   "source": [
    "t1=iter(t)"
   ]
  },
  {
   "cell_type": "code",
   "execution_count": 44,
   "id": "c7c833cb-7c09-4f52-8aaf-fae3cd7c04ec",
   "metadata": {},
   "outputs": [
    {
     "data": {
      "text/plain": [
       "5"
      ]
     },
     "execution_count": 44,
     "metadata": {},
     "output_type": "execute_result"
    }
   ],
   "source": [
    "next(t1)"
   ]
  },
  {
   "cell_type": "code",
   "execution_count": 45,
   "id": "7b144364-4a70-43fa-86f4-ac0e6a0fdc96",
   "metadata": {},
   "outputs": [
    {
     "data": {
      "text/plain": [
       "4"
      ]
     },
     "execution_count": 45,
     "metadata": {},
     "output_type": "execute_result"
    }
   ],
   "source": [
    "next(t1)"
   ]
  },
  {
   "cell_type": "code",
   "execution_count": 46,
   "id": "ec586aaf-2b1c-428c-9192-de3a9d73fac5",
   "metadata": {},
   "outputs": [
    {
     "data": {
      "text/plain": [
       "2"
      ]
     },
     "execution_count": 46,
     "metadata": {},
     "output_type": "execute_result"
    }
   ],
   "source": [
    "next(t1)"
   ]
  },
  {
   "cell_type": "code",
   "execution_count": 47,
   "id": "723b3f1b-14b6-4ed6-b552-358e7ec84b80",
   "metadata": {},
   "outputs": [
    {
     "data": {
      "text/plain": [
       "6"
      ]
     },
     "execution_count": 47,
     "metadata": {},
     "output_type": "execute_result"
    }
   ],
   "source": [
    "next(t1)"
   ]
  },
  {
   "cell_type": "code",
   "execution_count": 48,
   "id": "01dd32e9-6cc8-4de0-9686-e982d2609f81",
   "metadata": {},
   "outputs": [
    {
     "data": {
      "text/plain": [
       "7"
      ]
     },
     "execution_count": 48,
     "metadata": {},
     "output_type": "execute_result"
    }
   ],
   "source": [
    "next(t1)"
   ]
  },
  {
   "cell_type": "code",
   "execution_count": 49,
   "id": "3c1f3602-efe0-45c5-85c5-af137f49e36b",
   "metadata": {},
   "outputs": [
    {
     "data": {
      "text/plain": [
       "8"
      ]
     },
     "execution_count": 49,
     "metadata": {},
     "output_type": "execute_result"
    }
   ],
   "source": [
    "next(t1)"
   ]
  },
  {
   "cell_type": "code",
   "execution_count": 50,
   "id": "1f17a96e-fd1a-4bf1-b46f-efac04d47a6e",
   "metadata": {},
   "outputs": [
    {
     "ename": "StopIteration",
     "evalue": "",
     "output_type": "error",
     "traceback": [
      "\u001b[1;31m---------------------------------------------------------------------------\u001b[0m",
      "\u001b[1;31mStopIteration\u001b[0m                             Traceback (most recent call last)",
      "\u001b[1;32m~\\AppData\\Local\\Temp/ipykernel_13272/712794094.py\u001b[0m in \u001b[0;36m<module>\u001b[1;34m\u001b[0m\n\u001b[1;32m----> 1\u001b[1;33m \u001b[0mnext\u001b[0m\u001b[1;33m(\u001b[0m\u001b[0mt1\u001b[0m\u001b[1;33m)\u001b[0m\u001b[1;33m\u001b[0m\u001b[1;33m\u001b[0m\u001b[0m\n\u001b[0m",
      "\u001b[1;31mStopIteration\u001b[0m: "
     ]
    }
   ],
   "source": [
    "next(t1)"
   ]
  },
  {
   "cell_type": "markdown",
   "id": "73369e77-f93f-406e-99af-13263c75fedd",
   "metadata": {},
   "source": [
    "## Generator"
   ]
  },
  {
   "cell_type": "code",
   "execution_count": 51,
   "id": "ecabd86e-2bb3-4327-9422-3138b07a79e3",
   "metadata": {},
   "outputs": [
    {
     "data": {
      "text/plain": [
       "range(1, 10)"
      ]
     },
     "execution_count": 51,
     "metadata": {},
     "output_type": "execute_result"
    }
   ],
   "source": [
    "range(1,10)"
   ]
  },
  {
   "cell_type": "code",
   "execution_count": 63,
   "id": "cbafa0bd-36d5-4ed4-a9c4-ae7ca50cdf4b",
   "metadata": {},
   "outputs": [],
   "source": [
    "l = list(range(1,11))"
   ]
  },
  {
   "cell_type": "code",
   "execution_count": 64,
   "id": "7c20ab81-fab2-43a9-b5d6-56d29abc8e07",
   "metadata": {},
   "outputs": [
    {
     "data": {
      "text/plain": [
       "[1, 2, 3, 4, 5, 6, 7, 8, 9, 10]"
      ]
     },
     "execution_count": 64,
     "metadata": {},
     "output_type": "execute_result"
    }
   ],
   "source": [
    "l"
   ]
  },
  {
   "cell_type": "code",
   "execution_count": 65,
   "id": "07d68ffe-5a0d-4a05-8772-980709fa9931",
   "metadata": {},
   "outputs": [],
   "source": [
    "def sqr():\n",
    "    l = []\n",
    "    for i in range(1, 11):\n",
    "        l.append(i*i)\n",
    "    return l"
   ]
  },
  {
   "cell_type": "code",
   "execution_count": 66,
   "id": "1eeea545-2268-4677-b9cb-b4fafbb6a70b",
   "metadata": {},
   "outputs": [
    {
     "data": {
      "text/plain": [
       "[1, 4, 9, 16, 25, 36, 49, 64, 81, 100]"
      ]
     },
     "execution_count": 66,
     "metadata": {},
     "output_type": "execute_result"
    }
   ],
   "source": [
    "sqr()"
   ]
  },
  {
   "cell_type": "code",
   "execution_count": 67,
   "id": "0b594901-383f-4d0a-86cd-6ece36a879b0",
   "metadata": {},
   "outputs": [],
   "source": [
    "t = tuple(range(11))"
   ]
  },
  {
   "cell_type": "code",
   "execution_count": 68,
   "id": "7f3619de-8fbb-4d2d-b55b-ac531776d0a7",
   "metadata": {},
   "outputs": [
    {
     "data": {
      "text/plain": [
       "(0, 1, 2, 3, 4, 5, 6, 7, 8, 9, 10)"
      ]
     },
     "execution_count": 68,
     "metadata": {},
     "output_type": "execute_result"
    }
   ],
   "source": [
    "t"
   ]
  },
  {
   "cell_type": "code",
   "execution_count": 69,
   "id": "612bf798-303a-4317-aeec-5b5c26144d4e",
   "metadata": {},
   "outputs": [
    {
     "data": {
      "text/plain": [
       "range(0, 11)"
      ]
     },
     "execution_count": 69,
     "metadata": {},
     "output_type": "execute_result"
    }
   ],
   "source": [
    "range(11)"
   ]
  },
  {
   "cell_type": "code",
   "execution_count": 71,
   "id": "609eaa3a-6687-44d2-8f0a-463146104be5",
   "metadata": {},
   "outputs": [],
   "source": [
    "def square_fun(n):\n",
    "    x = [i*i for i in range(n)]\n",
    "    return x"
   ]
  },
  {
   "cell_type": "code",
   "execution_count": 72,
   "id": "f433257b-cb6a-49eb-9684-fcc9d7bb4070",
   "metadata": {},
   "outputs": [
    {
     "data": {
      "text/plain": [
       "[0, 1, 4, 9]"
      ]
     },
     "execution_count": 72,
     "metadata": {},
     "output_type": "execute_result"
    }
   ],
   "source": [
    "square_fun(4)"
   ]
  },
  {
   "cell_type": "code",
   "execution_count": 74,
   "id": "ba6b1a1a-489e-4b04-a14c-ea66d0d0754e",
   "metadata": {},
   "outputs": [],
   "source": [
    "def square_fun1(n):\n",
    "    x = [i*i for i in range(n)]\n",
    "    yield x"
   ]
  },
  {
   "cell_type": "code",
   "execution_count": 75,
   "id": "e2f6427a-7443-488f-aaad-d0816cb08d7d",
   "metadata": {},
   "outputs": [
    {
     "data": {
      "text/plain": [
       "<generator object square_fun1 at 0x00000297D0A3CCF0>"
      ]
     },
     "execution_count": 75,
     "metadata": {},
     "output_type": "execute_result"
    }
   ],
   "source": [
    "square_fun1(4)"
   ]
  },
  {
   "cell_type": "code",
   "execution_count": 76,
   "id": "d248437d-6cbf-4141-9acb-170371169442",
   "metadata": {},
   "outputs": [
    {
     "name": "stdout",
     "output_type": "stream",
     "text": [
      "[0, 1, 4, 9, 16]\n"
     ]
    }
   ],
   "source": [
    "for i in square_fun1(5):\n",
    "    print(i)"
   ]
  },
  {
   "cell_type": "code",
   "execution_count": 77,
   "id": "50e3efe0-9069-4fd4-95be-b5c13d81b8cd",
   "metadata": {},
   "outputs": [
    {
     "ename": "TypeError",
     "evalue": "'range' object is not an iterator",
     "output_type": "error",
     "traceback": [
      "\u001b[1;31m---------------------------------------------------------------------------\u001b[0m",
      "\u001b[1;31mTypeError\u001b[0m                                 Traceback (most recent call last)",
      "\u001b[1;32m~\\AppData\\Local\\Temp/ipykernel_13272/2900367581.py\u001b[0m in \u001b[0;36m<module>\u001b[1;34m\u001b[0m\n\u001b[1;32m----> 1\u001b[1;33m \u001b[0mnext\u001b[0m\u001b[1;33m(\u001b[0m\u001b[0mrange\u001b[0m\u001b[1;33m(\u001b[0m\u001b[1;36m4\u001b[0m\u001b[1;33m)\u001b[0m\u001b[1;33m)\u001b[0m\u001b[1;33m\u001b[0m\u001b[1;33m\u001b[0m\u001b[0m\n\u001b[0m",
      "\u001b[1;31mTypeError\u001b[0m: 'range' object is not an iterator"
     ]
    }
   ],
   "source": [
    "next(range(4))"
   ]
  },
  {
   "cell_type": "code",
   "execution_count": 78,
   "id": "6df1dfa6-e34c-4680-8187-c9ec6eedef1b",
   "metadata": {},
   "outputs": [],
   "source": [
    "i = iter(range(4))"
   ]
  },
  {
   "cell_type": "code",
   "execution_count": 79,
   "id": "04fcfc74-9413-4778-9449-d2a38187d1b3",
   "metadata": {},
   "outputs": [
    {
     "data": {
      "text/plain": [
       "0"
      ]
     },
     "execution_count": 79,
     "metadata": {},
     "output_type": "execute_result"
    }
   ],
   "source": [
    "next(i)"
   ]
  },
  {
   "cell_type": "code",
   "execution_count": 80,
   "id": "fefa3c45-22e4-4624-8040-6747d6595f3d",
   "metadata": {},
   "outputs": [
    {
     "data": {
      "text/plain": [
       "1"
      ]
     },
     "execution_count": 80,
     "metadata": {},
     "output_type": "execute_result"
    }
   ],
   "source": [
    "next(i)"
   ]
  },
  {
   "cell_type": "code",
   "execution_count": 81,
   "id": "d3e401d2-b9e8-4d87-b699-74b3dff22772",
   "metadata": {},
   "outputs": [
    {
     "data": {
      "text/plain": [
       "2"
      ]
     },
     "execution_count": 81,
     "metadata": {},
     "output_type": "execute_result"
    }
   ],
   "source": [
    "next(i)"
   ]
  },
  {
   "cell_type": "code",
   "execution_count": 82,
   "id": "fce31976-3ac5-47de-9061-a43dab0b8902",
   "metadata": {},
   "outputs": [
    {
     "data": {
      "text/plain": [
       "3"
      ]
     },
     "execution_count": 82,
     "metadata": {},
     "output_type": "execute_result"
    }
   ],
   "source": [
    "next(i)"
   ]
  },
  {
   "cell_type": "code",
   "execution_count": 83,
   "id": "1700f5e3-584b-4ed9-a460-16261ad272ae",
   "metadata": {},
   "outputs": [
    {
     "ename": "StopIteration",
     "evalue": "",
     "output_type": "error",
     "traceback": [
      "\u001b[1;31m---------------------------------------------------------------------------\u001b[0m",
      "\u001b[1;31mStopIteration\u001b[0m                             Traceback (most recent call last)",
      "\u001b[1;32m~\\AppData\\Local\\Temp/ipykernel_13272/1939748483.py\u001b[0m in \u001b[0;36m<module>\u001b[1;34m\u001b[0m\n\u001b[1;32m----> 1\u001b[1;33m \u001b[0mnext\u001b[0m\u001b[1;33m(\u001b[0m\u001b[0mi\u001b[0m\u001b[1;33m)\u001b[0m\u001b[1;33m\u001b[0m\u001b[1;33m\u001b[0m\u001b[0m\n\u001b[0m",
      "\u001b[1;31mStopIteration\u001b[0m: "
     ]
    }
   ],
   "source": [
    "next(i)"
   ]
  },
  {
   "cell_type": "code",
   "execution_count": 86,
   "id": "9d4ae18b-7ad1-422b-8a64-319c7e6343f1",
   "metadata": {},
   "outputs": [],
   "source": [
    "def genfib(n):\n",
    "    a = 1\n",
    "    b = 1\n",
    "    l=[]\n",
    "    for i in range(n):\n",
    "        l.append(a)\n",
    "        a,b = b, a+b\n",
    "    return l"
   ]
  },
  {
   "cell_type": "code",
   "execution_count": 87,
   "id": "f3bdb3f4-1844-4566-a126-29c54fac22d9",
   "metadata": {},
   "outputs": [
    {
     "data": {
      "text/plain": [
       "[1, 1, 2, 3, 5, 8, 13, 21, 34, 55]"
      ]
     },
     "execution_count": 87,
     "metadata": {},
     "output_type": "execute_result"
    }
   ],
   "source": [
    "genfib(10)"
   ]
  },
  {
   "cell_type": "code",
   "execution_count": 94,
   "id": "465bb23a-cabb-4202-b239-1ebf540fbf2a",
   "metadata": {},
   "outputs": [],
   "source": [
    "def genfib(n):\n",
    "    a = 1\n",
    "    b = 1\n",
    "    l=[]\n",
    "    for i in range(n):\n",
    "        l.append(a)\n",
    "        a, b = b, a+b\n",
    "    return l"
   ]
  },
  {
   "cell_type": "code",
   "execution_count": 95,
   "id": "02cfb8fb-814d-456b-8d57-b4233fe4a724",
   "metadata": {},
   "outputs": [
    {
     "data": {
      "text/plain": [
       "[1, 1, 2, 3, 5, 8, 13, 21, 34, 55]"
      ]
     },
     "execution_count": 95,
     "metadata": {},
     "output_type": "execute_result"
    }
   ],
   "source": [
    "genfib(10)"
   ]
  },
  {
   "cell_type": "code",
   "execution_count": 97,
   "id": "6ef74bf1-6648-4cbc-8fd6-eb676b8d89f4",
   "metadata": {},
   "outputs": [],
   "source": [
    "def genfib1(n):\n",
    "    a = 1\n",
    "    b = 1\n",
    "    for i in range(n):\n",
    "        yield a\n",
    "        a, b = b, a+b"
   ]
  },
  {
   "cell_type": "code",
   "execution_count": 98,
   "id": "985330c8-3b2e-4a10-8df7-afeba254de30",
   "metadata": {},
   "outputs": [
    {
     "data": {
      "text/plain": [
       "<generator object genfib1 at 0x00000297D0A39740>"
      ]
     },
     "execution_count": 98,
     "metadata": {},
     "output_type": "execute_result"
    }
   ],
   "source": [
    "genfib1(10)"
   ]
  },
  {
   "cell_type": "code",
   "execution_count": 99,
   "id": "14188b5e-2e72-4591-91ff-2d694aff4d4e",
   "metadata": {},
   "outputs": [
    {
     "name": "stdout",
     "output_type": "stream",
     "text": [
      "1\n",
      "1\n",
      "2\n",
      "3\n",
      "5\n",
      "8\n",
      "13\n",
      "21\n",
      "34\n",
      "55\n"
     ]
    }
   ],
   "source": [
    "for i in genfib1(10):\n",
    "    print(i)"
   ]
  },
  {
   "cell_type": "markdown",
   "id": "4e81c688-957c-484e-82db-3172b362b26e",
   "metadata": {},
   "source": [
    "## File operations"
   ]
  },
  {
   "cell_type": "code",
   "execution_count": 100,
   "id": "06df7481-0c88-4981-bcbd-ebb629404a82",
   "metadata": {},
   "outputs": [
    {
     "ename": "FileNotFoundError",
     "evalue": "[Errno 2] No such file or directory: 'kart.txt'",
     "output_type": "error",
     "traceback": [
      "\u001b[1;31m---------------------------------------------------------------------------\u001b[0m",
      "\u001b[1;31mFileNotFoundError\u001b[0m                         Traceback (most recent call last)",
      "\u001b[1;32m~\\AppData\\Local\\Temp/ipykernel_13272/995492979.py\u001b[0m in \u001b[0;36m<module>\u001b[1;34m\u001b[0m\n\u001b[1;32m----> 1\u001b[1;33m \u001b[0mf\u001b[0m \u001b[1;33m=\u001b[0m \u001b[0mopen\u001b[0m\u001b[1;33m(\u001b[0m\u001b[1;34m\"kart.txt\"\u001b[0m\u001b[1;33m)\u001b[0m\u001b[1;33m\u001b[0m\u001b[1;33m\u001b[0m\u001b[0m\n\u001b[0m",
      "\u001b[1;31mFileNotFoundError\u001b[0m: [Errno 2] No such file or directory: 'kart.txt'"
     ]
    }
   ],
   "source": [
    "f = open(\"kart.txt\")"
   ]
  },
  {
   "cell_type": "code",
   "execution_count": 101,
   "id": "6582f36d-2138-42ac-8b20-294f468ed23e",
   "metadata": {},
   "outputs": [
    {
     "data": {
      "text/plain": [
       "['In',\n",
       " 'Out',\n",
       " '_',\n",
       " '_10',\n",
       " '_11',\n",
       " '_12',\n",
       " '_13',\n",
       " '_20',\n",
       " '_21',\n",
       " '_22',\n",
       " '_23',\n",
       " '_24',\n",
       " '_25',\n",
       " '_31',\n",
       " '_32',\n",
       " '_33',\n",
       " '_34',\n",
       " '_35',\n",
       " '_36',\n",
       " '_37',\n",
       " '_44',\n",
       " '_45',\n",
       " '_46',\n",
       " '_47',\n",
       " '_48',\n",
       " '_49',\n",
       " '_51',\n",
       " '_54',\n",
       " '_56',\n",
       " '_58',\n",
       " '_60',\n",
       " '_62',\n",
       " '_64',\n",
       " '_66',\n",
       " '_68',\n",
       " '_69',\n",
       " '_72',\n",
       " '_75',\n",
       " '_79',\n",
       " '_80',\n",
       " '_81',\n",
       " '_82',\n",
       " '_87',\n",
       " '_89',\n",
       " '_91',\n",
       " '_93',\n",
       " '_95',\n",
       " '_98',\n",
       " '__',\n",
       " '___',\n",
       " '__builtin__',\n",
       " '__builtins__',\n",
       " '__doc__',\n",
       " '__loader__',\n",
       " '__name__',\n",
       " '__package__',\n",
       " '__spec__',\n",
       " '_dh',\n",
       " '_i',\n",
       " '_i1',\n",
       " '_i10',\n",
       " '_i100',\n",
       " '_i101',\n",
       " '_i11',\n",
       " '_i12',\n",
       " '_i13',\n",
       " '_i14',\n",
       " '_i15',\n",
       " '_i16',\n",
       " '_i17',\n",
       " '_i18',\n",
       " '_i19',\n",
       " '_i2',\n",
       " '_i20',\n",
       " '_i21',\n",
       " '_i22',\n",
       " '_i23',\n",
       " '_i24',\n",
       " '_i25',\n",
       " '_i26',\n",
       " '_i27',\n",
       " '_i28',\n",
       " '_i29',\n",
       " '_i3',\n",
       " '_i30',\n",
       " '_i31',\n",
       " '_i32',\n",
       " '_i33',\n",
       " '_i34',\n",
       " '_i35',\n",
       " '_i36',\n",
       " '_i37',\n",
       " '_i38',\n",
       " '_i39',\n",
       " '_i4',\n",
       " '_i40',\n",
       " '_i41',\n",
       " '_i42',\n",
       " '_i43',\n",
       " '_i44',\n",
       " '_i45',\n",
       " '_i46',\n",
       " '_i47',\n",
       " '_i48',\n",
       " '_i49',\n",
       " '_i5',\n",
       " '_i50',\n",
       " '_i51',\n",
       " '_i52',\n",
       " '_i53',\n",
       " '_i54',\n",
       " '_i55',\n",
       " '_i56',\n",
       " '_i57',\n",
       " '_i58',\n",
       " '_i59',\n",
       " '_i6',\n",
       " '_i60',\n",
       " '_i61',\n",
       " '_i62',\n",
       " '_i63',\n",
       " '_i64',\n",
       " '_i65',\n",
       " '_i66',\n",
       " '_i67',\n",
       " '_i68',\n",
       " '_i69',\n",
       " '_i7',\n",
       " '_i70',\n",
       " '_i71',\n",
       " '_i72',\n",
       " '_i73',\n",
       " '_i74',\n",
       " '_i75',\n",
       " '_i76',\n",
       " '_i77',\n",
       " '_i78',\n",
       " '_i79',\n",
       " '_i8',\n",
       " '_i80',\n",
       " '_i81',\n",
       " '_i82',\n",
       " '_i83',\n",
       " '_i84',\n",
       " '_i85',\n",
       " '_i86',\n",
       " '_i87',\n",
       " '_i88',\n",
       " '_i89',\n",
       " '_i9',\n",
       " '_i90',\n",
       " '_i91',\n",
       " '_i92',\n",
       " '_i93',\n",
       " '_i94',\n",
       " '_i95',\n",
       " '_i96',\n",
       " '_i97',\n",
       " '_i98',\n",
       " '_i99',\n",
       " '_ih',\n",
       " '_ii',\n",
       " '_iii',\n",
       " '_oh',\n",
       " 'b',\n",
       " 'exit',\n",
       " 'genfib',\n",
       " 'genfib1',\n",
       " 'get_ipython',\n",
       " 'i',\n",
       " 'l',\n",
       " 'n',\n",
       " 'quit',\n",
       " 's',\n",
       " 'sqr',\n",
       " 'square_fun',\n",
       " 'square_fun1',\n",
       " 't',\n",
       " 't1']"
      ]
     },
     "execution_count": 101,
     "metadata": {},
     "output_type": "execute_result"
    }
   ],
   "source": [
    "dir()"
   ]
  },
  {
   "cell_type": "code",
   "execution_count": 103,
   "id": "fcbc1112-c27a-467d-9c94-b0df1f1881d1",
   "metadata": {},
   "outputs": [
    {
     "name": "stdout",
     "output_type": "stream",
     "text": [
      " Volume in drive E is New Volume\n",
      " Volume Serial Number is 5034-357B\n",
      "\n",
      " Directory of E:\\Python\\ineuron\\class\n",
      "\n",
      "18-06-2022  04.36 PM    <DIR>          .\n",
      "29-05-2022  05.46 PM    <DIR>          ..\n",
      "18-06-2022  03.09 PM    <DIR>          .ipynb_checkpoints\n",
      "14-05-2022  06.08 PM            24,357 class1.ipynb\n",
      "15-05-2022  09.05 PM            47,043 class2.ipynb\n",
      "22-05-2022  02.59 PM            83,389 class3.ipynb\n",
      "22-05-2022  05.31 PM            35,567 class4.ipynb\n",
      "29-05-2022  08.51 AM            27,117 class5.ipynb\n",
      "30-05-2022  04.36 PM            38,427 class6.ipynb\n",
      "11-06-2022  08.23 PM            31,109 class7.ipynb\n",
      "12-06-2022  04.00 PM             7,835 class8.ipynb\n",
      "18-06-2022  04.36 PM            32,792 class9.ipynb\n",
      "30-05-2022  07.54 PM             4,118 source_code.ipynb\n",
      "31-05-2022  09.45 AM    <DIR>          tasks\n",
      "18-06-2022  04.35 PM                13 test.txt\n",
      "              11 File(s)        331,767 bytes\n",
      "               4 Dir(s)  865,067,253,760 bytes free\n"
     ]
    }
   ],
   "source": [
    "ls"
   ]
  },
  {
   "cell_type": "code",
   "execution_count": 104,
   "id": "0560be69-2081-4ba3-91db-e842950c6a9d",
   "metadata": {},
   "outputs": [],
   "source": [
    "f = open('Kart.txt', 'w')"
   ]
  },
  {
   "cell_type": "code",
   "execution_count": 105,
   "id": "7cb0f5bd-eddc-4129-8bbf-60295f35c6ab",
   "metadata": {},
   "outputs": [
    {
     "name": "stdout",
     "output_type": "stream",
     "text": [
      " Volume in drive E is New Volume\n",
      " Volume Serial Number is 5034-357B\n",
      "\n",
      " Directory of E:\\Python\\ineuron\\class\n",
      "\n",
      "18-06-2022  04.37 PM    <DIR>          .\n",
      "29-05-2022  05.46 PM    <DIR>          ..\n",
      "18-06-2022  03.09 PM    <DIR>          .ipynb_checkpoints\n",
      "14-05-2022  06.08 PM            24,357 class1.ipynb\n",
      "15-05-2022  09.05 PM            47,043 class2.ipynb\n",
      "22-05-2022  02.59 PM            83,389 class3.ipynb\n",
      "22-05-2022  05.31 PM            35,567 class4.ipynb\n",
      "29-05-2022  08.51 AM            27,117 class5.ipynb\n",
      "30-05-2022  04.36 PM            38,427 class6.ipynb\n",
      "11-06-2022  08.23 PM            31,109 class7.ipynb\n",
      "12-06-2022  04.00 PM             7,835 class8.ipynb\n",
      "18-06-2022  04.36 PM            32,792 class9.ipynb\n",
      "18-06-2022  04.37 PM                 0 Kart.txt\n",
      "30-05-2022  07.54 PM             4,118 source_code.ipynb\n",
      "31-05-2022  09.45 AM    <DIR>          tasks\n",
      "18-06-2022  04.35 PM                13 test.txt\n",
      "              12 File(s)        331,767 bytes\n",
      "               4 Dir(s)  865,067,253,760 bytes free\n"
     ]
    }
   ],
   "source": [
    "ls"
   ]
  },
  {
   "cell_type": "code",
   "execution_count": 106,
   "id": "7e5fefa2-e860-4967-b7da-523fefaf12a9",
   "metadata": {},
   "outputs": [
    {
     "data": {
      "text/plain": [
       "31"
      ]
     },
     "execution_count": 106,
     "metadata": {},
     "output_type": "execute_result"
    }
   ],
   "source": [
    "f.write(\"This is my first file operation\")"
   ]
  },
  {
   "cell_type": "code",
   "execution_count": 107,
   "id": "3b93ae93-4d58-4ece-a346-2a9699ad7290",
   "metadata": {},
   "outputs": [],
   "source": [
    "f.close()"
   ]
  },
  {
   "cell_type": "code",
   "execution_count": 108,
   "id": "3fa18bb1-ca35-42e8-92b1-ef86432fe2f6",
   "metadata": {},
   "outputs": [
    {
     "name": "stdout",
     "output_type": "stream",
     "text": [
      " Volume in drive E is New Volume\n",
      " Volume Serial Number is 5034-357B\n",
      "\n",
      " Directory of E:\\Python\\ineuron\\class\n",
      "\n",
      "18-06-2022  04.38 PM    <DIR>          .\n",
      "29-05-2022  05.46 PM    <DIR>          ..\n",
      "18-06-2022  04.40 PM    <DIR>          .ipynb_checkpoints\n",
      "14-05-2022  06.08 PM            24,357 class1.ipynb\n",
      "15-05-2022  09.05 PM            47,043 class2.ipynb\n",
      "22-05-2022  02.59 PM            83,389 class3.ipynb\n",
      "22-05-2022  05.31 PM            35,567 class4.ipynb\n",
      "29-05-2022  08.51 AM            27,117 class5.ipynb\n",
      "30-05-2022  04.36 PM            38,427 class6.ipynb\n",
      "11-06-2022  08.23 PM            31,109 class7.ipynb\n",
      "12-06-2022  04.00 PM             7,835 class8.ipynb\n",
      "18-06-2022  04.38 PM            35,453 class9.ipynb\n",
      "18-06-2022  04.40 PM                31 Kart.txt\n",
      "30-05-2022  07.54 PM             4,118 source_code.ipynb\n",
      "31-05-2022  09.45 AM    <DIR>          tasks\n",
      "18-06-2022  04.35 PM                13 test.txt\n",
      "              12 File(s)        334,459 bytes\n",
      "               4 Dir(s)  865,067,253,760 bytes free\n"
     ]
    }
   ],
   "source": [
    "ls"
   ]
  },
  {
   "cell_type": "code",
   "execution_count": 109,
   "id": "c8aeef7a-a25a-4720-a8d8-377121669e99",
   "metadata": {},
   "outputs": [
    {
     "data": {
      "text/plain": [
       "32"
      ]
     },
     "execution_count": 109,
     "metadata": {},
     "output_type": "execute_result"
    }
   ],
   "source": [
    "f1 = open(\"text.txt\", 'w')\n",
    "f1.write(\"This is my second file operation\")"
   ]
  },
  {
   "cell_type": "code",
   "execution_count": 110,
   "id": "dd06a9fb-d42e-4c92-85a9-95914d7bc68f",
   "metadata": {},
   "outputs": [],
   "source": [
    "f1.close()"
   ]
  },
  {
   "cell_type": "code",
   "execution_count": 111,
   "id": "1a70301c-147b-491f-bae1-0f4029d03c88",
   "metadata": {},
   "outputs": [],
   "source": [
    "l = [1, 2, 3, 4, 5, 6]"
   ]
  },
  {
   "cell_type": "code",
   "execution_count": 112,
   "id": "9ef981d6-ee3e-40d7-bae5-908eece687db",
   "metadata": {},
   "outputs": [
    {
     "ename": "TypeError",
     "evalue": "write() argument must be str, not list",
     "output_type": "error",
     "traceback": [
      "\u001b[1;31m---------------------------------------------------------------------------\u001b[0m",
      "\u001b[1;31mTypeError\u001b[0m                                 Traceback (most recent call last)",
      "\u001b[1;32m~\\AppData\\Local\\Temp/ipykernel_13272/195064959.py\u001b[0m in \u001b[0;36m<module>\u001b[1;34m\u001b[0m\n\u001b[0;32m      1\u001b[0m \u001b[0mf2\u001b[0m \u001b[1;33m=\u001b[0m \u001b[0mopen\u001b[0m\u001b[1;33m(\u001b[0m\u001b[1;34m\"test.txt\"\u001b[0m\u001b[1;33m,\u001b[0m \u001b[1;34m'w'\u001b[0m\u001b[1;33m)\u001b[0m\u001b[1;33m\u001b[0m\u001b[1;33m\u001b[0m\u001b[0m\n\u001b[1;32m----> 2\u001b[1;33m \u001b[0mf2\u001b[0m\u001b[1;33m.\u001b[0m\u001b[0mwrite\u001b[0m\u001b[1;33m(\u001b[0m\u001b[0ml\u001b[0m\u001b[1;33m)\u001b[0m\u001b[1;33m\u001b[0m\u001b[1;33m\u001b[0m\u001b[0m\n\u001b[0m",
      "\u001b[1;31mTypeError\u001b[0m: write() argument must be str, not list"
     ]
    }
   ],
   "source": [
    "f2 = open(\"test.txt\", 'w')\n",
    "f2.write(l)"
   ]
  },
  {
   "cell_type": "code",
   "execution_count": 113,
   "id": "e7b2cc56-a03e-48ac-85c1-060f89b31531",
   "metadata": {},
   "outputs": [
    {
     "data": {
      "text/plain": [
       "18"
      ]
     },
     "execution_count": 113,
     "metadata": {},
     "output_type": "execute_result"
    }
   ],
   "source": [
    "f2.write(str(l))"
   ]
  },
  {
   "cell_type": "code",
   "execution_count": 114,
   "id": "535ef89c-7808-4c5c-bf75-b5a605066176",
   "metadata": {},
   "outputs": [],
   "source": [
    "f2.close()"
   ]
  },
  {
   "cell_type": "code",
   "execution_count": 122,
   "id": "9f6318d0-7d7c-4940-90c2-9fc0f9ce3a3e",
   "metadata": {},
   "outputs": [
    {
     "name": "stdout",
     "output_type": "stream",
     "text": [
      "Overwriting text1.txt\n"
     ]
    }
   ],
   "source": [
    "%%writefile text1.txt\n",
    "This is my python program\n",
    "This is my python program\n",
    "This is my python program\n",
    "This is my python program\n",
    "This is my python program\n",
    "This is my python program\n",
    "This is my python program\n",
    "This is my python program\n",
    "This is my python program\n",
    "This is my python program\n",
    "This is my python program\n",
    "This is my python program\n",
    "This is my python program\n",
    "This is my python program\n",
    "This is my python program"
   ]
  },
  {
   "cell_type": "code",
   "execution_count": 123,
   "id": "8128bad8-6b21-42af-8091-54afe4801abe",
   "metadata": {},
   "outputs": [],
   "source": [
    "f3 = open('text1.txt')"
   ]
  },
  {
   "cell_type": "code",
   "execution_count": 124,
   "id": "c718740b-bfa4-4bcb-97fd-68b5a1387a8b",
   "metadata": {},
   "outputs": [
    {
     "data": {
      "text/plain": [
       "'This is my python program\\nThis is my python program\\nThis is my python program\\nThis is my python program\\nThis is my python program\\nThis is my python program\\nThis is my python program\\nThis is my python program\\nThis is my python program\\nThis is my python program\\nThis is my python program\\nThis is my python program\\nThis is my python program\\nThis is my python program\\nThis is my python program\\n'"
      ]
     },
     "execution_count": 124,
     "metadata": {},
     "output_type": "execute_result"
    }
   ],
   "source": [
    "f3.read()"
   ]
  },
  {
   "cell_type": "code",
   "execution_count": 125,
   "id": "0277e0aa-247a-4a7d-acdc-aab0d0edb4bc",
   "metadata": {},
   "outputs": [
    {
     "data": {
      "text/plain": [
       "''"
      ]
     },
     "execution_count": 125,
     "metadata": {},
     "output_type": "execute_result"
    }
   ],
   "source": [
    "f3.read()"
   ]
  },
  {
   "cell_type": "code",
   "execution_count": 126,
   "id": "a3d8dd18-be6a-49db-947d-dca2bdeb35b9",
   "metadata": {},
   "outputs": [
    {
     "data": {
      "text/plain": [
       "0"
      ]
     },
     "execution_count": 126,
     "metadata": {},
     "output_type": "execute_result"
    }
   ],
   "source": [
    "f3.seek(0)"
   ]
  },
  {
   "cell_type": "code",
   "execution_count": 127,
   "id": "02d26d26-e0c2-47af-a41a-48d53a27b578",
   "metadata": {},
   "outputs": [
    {
     "data": {
      "text/plain": [
       "'This is my python program\\nThis is my python program\\nThis is my python program\\nThis is my python program\\nThis is my python program\\nThis is my python program\\nThis is my python program\\nThis is my python program\\nThis is my python program\\nThis is my python program\\nThis is my python program\\nThis is my python program\\nThis is my python program\\nThis is my python program\\nThis is my python program\\n'"
      ]
     },
     "execution_count": 127,
     "metadata": {},
     "output_type": "execute_result"
    }
   ],
   "source": [
    "f3.read()"
   ]
  },
  {
   "cell_type": "code",
   "execution_count": 128,
   "id": "8088c4f7-55d9-41f4-81f7-e7afcde93c81",
   "metadata": {},
   "outputs": [
    {
     "data": {
      "text/plain": [
       "''"
      ]
     },
     "execution_count": 128,
     "metadata": {},
     "output_type": "execute_result"
    }
   ],
   "source": [
    "f3.read()"
   ]
  },
  {
   "cell_type": "code",
   "execution_count": 129,
   "id": "20a3c381-9de6-47b2-9b69-9a2f11076cb6",
   "metadata": {},
   "outputs": [
    {
     "data": {
      "text/plain": [
       "0"
      ]
     },
     "execution_count": 129,
     "metadata": {},
     "output_type": "execute_result"
    }
   ],
   "source": [
    "f3.seek(0)"
   ]
  },
  {
   "cell_type": "code",
   "execution_count": 130,
   "id": "176e1eb9-50e2-40e1-83cd-2ce4603a76ee",
   "metadata": {},
   "outputs": [
    {
     "data": {
      "text/plain": [
       "'This is my python program\\nThis is my python program\\nThis is my python program\\nThis is my python program\\nThis is my python program\\nThis is my python program\\nThis is my python program\\nThis is my python program\\nThis is my python program\\nThis is my python program\\nThis is my python program\\nThis is my python program\\nThis is my python program\\nThis is my python program\\nThis is my python program\\n'"
      ]
     },
     "execution_count": 130,
     "metadata": {},
     "output_type": "execute_result"
    }
   ],
   "source": [
    "f3.read()"
   ]
  },
  {
   "cell_type": "code",
   "execution_count": 131,
   "id": "3e348cfd-9e19-4b43-9cb5-d86d13533057",
   "metadata": {},
   "outputs": [
    {
     "data": {
      "text/plain": [
       "4"
      ]
     },
     "execution_count": 131,
     "metadata": {},
     "output_type": "execute_result"
    }
   ],
   "source": [
    "f3.seek(4)"
   ]
  },
  {
   "cell_type": "code",
   "execution_count": 132,
   "id": "05340091-2849-4965-bd54-a61d5c461a66",
   "metadata": {},
   "outputs": [
    {
     "data": {
      "text/plain": [
       "' is my python program\\nThis is my python program\\nThis is my python program\\nThis is my python program\\nThis is my python program\\nThis is my python program\\nThis is my python program\\nThis is my python program\\nThis is my python program\\nThis is my python program\\nThis is my python program\\nThis is my python program\\nThis is my python program\\nThis is my python program\\nThis is my python program\\n'"
      ]
     },
     "execution_count": 132,
     "metadata": {},
     "output_type": "execute_result"
    }
   ],
   "source": [
    "f3.read()"
   ]
  },
  {
   "cell_type": "code",
   "execution_count": 133,
   "id": "6ae7a622-199a-4d2b-9153-d4f6ffeaee92",
   "metadata": {},
   "outputs": [
    {
     "data": {
      "text/plain": [
       "50"
      ]
     },
     "execution_count": 133,
     "metadata": {},
     "output_type": "execute_result"
    }
   ],
   "source": [
    "f3.seek(50)"
   ]
  },
  {
   "cell_type": "code",
   "execution_count": 134,
   "id": "8cafe632-ca4d-4153-ba6b-d72a07aea139",
   "metadata": {},
   "outputs": [
    {
     "data": {
      "text/plain": [
       "'am\\nThis is my python program\\nThis is my python program\\nThis is my python program\\nThis is my python program\\nThis is my python program\\nThis is my python program\\nThis is my python program\\nThis is my python program\\nThis is my python program\\nThis is my python program\\nThis is my python program\\nThis is my python program\\nThis is my python program\\n'"
      ]
     },
     "execution_count": 134,
     "metadata": {},
     "output_type": "execute_result"
    }
   ],
   "source": [
    "f3.read()"
   ]
  },
  {
   "cell_type": "code",
   "execution_count": 135,
   "id": "09ded49c-d178-4c6d-86c4-272b3309d562",
   "metadata": {},
   "outputs": [
    {
     "data": {
      "text/plain": [
       "405"
      ]
     },
     "execution_count": 135,
     "metadata": {},
     "output_type": "execute_result"
    }
   ],
   "source": [
    "f3.tell()"
   ]
  },
  {
   "cell_type": "code",
   "execution_count": 136,
   "id": "86bdce7b-da18-46ea-a540-072c9b569eaf",
   "metadata": {},
   "outputs": [
    {
     "data": {
      "text/plain": [
       "5"
      ]
     },
     "execution_count": 136,
     "metadata": {},
     "output_type": "execute_result"
    }
   ],
   "source": [
    "f3.seek(5)"
   ]
  },
  {
   "cell_type": "code",
   "execution_count": 137,
   "id": "eedf5133-5d12-485d-b5cb-4858f3b15318",
   "metadata": {},
   "outputs": [
    {
     "data": {
      "text/plain": [
       "5"
      ]
     },
     "execution_count": 137,
     "metadata": {},
     "output_type": "execute_result"
    }
   ],
   "source": [
    "f3.tell()"
   ]
  },
  {
   "cell_type": "code",
   "execution_count": 138,
   "id": "158b5e1e-b3f8-4df5-a3ec-49c0395e9bab",
   "metadata": {},
   "outputs": [
    {
     "data": {
      "text/plain": [
       "'is my python pr'"
      ]
     },
     "execution_count": 138,
     "metadata": {},
     "output_type": "execute_result"
    }
   ],
   "source": [
    "f3.read(15)"
   ]
  },
  {
   "cell_type": "code",
   "execution_count": 139,
   "id": "400abd73-ec95-4d76-9016-b3570693e7a9",
   "metadata": {},
   "outputs": [],
   "source": [
    "f4 = open('text1.txt')"
   ]
  },
  {
   "cell_type": "code",
   "execution_count": 140,
   "id": "2545379d-9b33-472d-be07-3df75e316e73",
   "metadata": {},
   "outputs": [
    {
     "data": {
      "text/plain": [
       "'This is my python program\\nThis is my python program\\nThis is my python program\\nThis is my python program\\nThis is my python program\\nThis is my python program\\nThis is my python program\\nThis is my python program\\nThis is my python program\\nThis is my python program\\nThis is my python program\\nThis is my python program\\nThis is my python program\\nThis is my python program\\nThis is my python program\\n'"
      ]
     },
     "execution_count": 140,
     "metadata": {},
     "output_type": "execute_result"
    }
   ],
   "source": [
    "f4.read()"
   ]
  },
  {
   "cell_type": "code",
   "execution_count": 141,
   "id": "30e4a6c1-a673-45eb-a9a1-e282817b13b4",
   "metadata": {},
   "outputs": [
    {
     "data": {
      "text/plain": [
       "0"
      ]
     },
     "execution_count": 141,
     "metadata": {},
     "output_type": "execute_result"
    }
   ],
   "source": [
    "f4.seek(0)"
   ]
  },
  {
   "cell_type": "code",
   "execution_count": 142,
   "id": "ad5daf4b-7ffb-41a9-83dd-16ff5ce977dd",
   "metadata": {},
   "outputs": [
    {
     "data": {
      "text/plain": [
       "'This is my python program\\n'"
      ]
     },
     "execution_count": 142,
     "metadata": {},
     "output_type": "execute_result"
    }
   ],
   "source": [
    "f4.readline()"
   ]
  },
  {
   "cell_type": "code",
   "execution_count": 143,
   "id": "8dcc8ef5-a0d4-4962-9865-219f1606fb7d",
   "metadata": {},
   "outputs": [
    {
     "data": {
      "text/plain": [
       "0"
      ]
     },
     "execution_count": 143,
     "metadata": {},
     "output_type": "execute_result"
    }
   ],
   "source": [
    "f4.seek(0)"
   ]
  },
  {
   "cell_type": "code",
   "execution_count": 144,
   "id": "28c0902d-8bb0-40b5-a26a-e7d03f12b06a",
   "metadata": {},
   "outputs": [
    {
     "data": {
      "text/plain": [
       "['This is my python program\\n',\n",
       " 'This is my python program\\n',\n",
       " 'This is my python program\\n',\n",
       " 'This is my python program\\n',\n",
       " 'This is my python program\\n',\n",
       " 'This is my python program\\n',\n",
       " 'This is my python program\\n',\n",
       " 'This is my python program\\n',\n",
       " 'This is my python program\\n',\n",
       " 'This is my python program\\n',\n",
       " 'This is my python program\\n',\n",
       " 'This is my python program\\n',\n",
       " 'This is my python program\\n',\n",
       " 'This is my python program\\n',\n",
       " 'This is my python program\\n']"
      ]
     },
     "execution_count": 144,
     "metadata": {},
     "output_type": "execute_result"
    }
   ],
   "source": [
    "f4.readlines()"
   ]
  },
  {
   "cell_type": "code",
   "execution_count": 145,
   "id": "894e6d12-6c53-4a23-8050-ffe3a1f81f09",
   "metadata": {},
   "outputs": [
    {
     "data": {
      "text/plain": [
       "<_io.TextIOWrapper name='text1.txt' mode='r' encoding='cp1252'>"
      ]
     },
     "execution_count": 145,
     "metadata": {},
     "output_type": "execute_result"
    }
   ],
   "source": [
    "f4"
   ]
  },
  {
   "cell_type": "code",
   "execution_count": 146,
   "id": "728fc605-757b-4aad-870a-35a67bcf43e7",
   "metadata": {},
   "outputs": [
    {
     "data": {
      "text/plain": [
       "6"
      ]
     },
     "execution_count": 146,
     "metadata": {},
     "output_type": "execute_result"
    }
   ],
   "source": [
    "f4.fileno()"
   ]
  },
  {
   "cell_type": "code",
   "execution_count": 147,
   "id": "dea76a5a-931d-454f-b20a-f7caacd32c1e",
   "metadata": {},
   "outputs": [],
   "source": [
    "f5 = open('text1.txt','w')"
   ]
  },
  {
   "cell_type": "code",
   "execution_count": 148,
   "id": "055a8e15-cb85-4d31-af40-549376888a6c",
   "metadata": {},
   "outputs": [
    {
     "data": {
      "text/plain": [
       "460"
      ]
     },
     "execution_count": 148,
     "metadata": {},
     "output_type": "execute_result"
    }
   ],
   "source": [
    "f5.write('''This is my python program\\n',\n",
    " 'This is my python program\\n',\n",
    " 'This is my python program\\n',\n",
    " 'This is my python program\\n',\n",
    " 'This is my python program\\n',\n",
    " 'This is my python program\\n',\n",
    " 'This is my python program\\n',\n",
    " 'This is my python program\\n',\n",
    " 'This is my python program\\n',\n",
    " 'This is my python program\\n',\n",
    " 'This is my python program\\n',\n",
    " 'This is my python program\\n',\n",
    " 'This is my python program\\n',\n",
    " 'This is my python program\\n',\n",
    " 'This is my python program\\n''')"
   ]
  },
  {
   "cell_type": "code",
   "execution_count": 149,
   "id": "7bfba0ac-a234-419b-a1a9-0258e00064b3",
   "metadata": {},
   "outputs": [],
   "source": [
    "f5.close()"
   ]
  },
  {
   "cell_type": "code",
   "execution_count": 150,
   "id": "e095d717-7f96-400d-889c-accebce1921a",
   "metadata": {},
   "outputs": [],
   "source": [
    "f5 = open('text1.txt','w')"
   ]
  },
  {
   "cell_type": "code",
   "execution_count": 151,
   "id": "dab4fce2-fba7-44c0-b6c7-e8bbbd44ec85",
   "metadata": {},
   "outputs": [
    {
     "data": {
      "text/plain": [
       "16"
      ]
     },
     "execution_count": 151,
     "metadata": {},
     "output_type": "execute_result"
    }
   ],
   "source": [
    "f5.write('writing new data')"
   ]
  },
  {
   "cell_type": "code",
   "execution_count": 152,
   "id": "bc99e6c2-9464-433b-b0e1-540672d6b4bf",
   "metadata": {},
   "outputs": [],
   "source": [
    "f5.close()"
   ]
  },
  {
   "cell_type": "code",
   "execution_count": 154,
   "id": "810b4ebf-f572-4ec5-a08e-37213acf1539",
   "metadata": {},
   "outputs": [],
   "source": [
    "f = open('text1.txt','a')"
   ]
  },
  {
   "cell_type": "code",
   "execution_count": 157,
   "id": "155892ef-f633-402e-aea2-6d8406fc66d4",
   "metadata": {},
   "outputs": [
    {
     "data": {
      "text/plain": [
       "491"
      ]
     },
     "execution_count": 157,
     "metadata": {},
     "output_type": "execute_result"
    }
   ],
   "source": [
    "f.write(''' 'This is my python program\\n'\n",
    "            'This is my python program\\n',\n",
    "            'This is my python program\\n',\n",
    "            'This is my python program\\n',\n",
    "            'This is my python program\\n',\n",
    "            'This is my python program\\n',\n",
    "            'This is my python program\\n',\n",
    "            'This is my python program\\n',\n",
    "            'This is my python program\\n',\n",
    "            'This is my python program\\n',\n",
    "            'This is my python program\\n',\n",
    "            'This is my python program\\n' ''')"
   ]
  },
  {
   "cell_type": "code",
   "execution_count": 158,
   "id": "00d89ca0-bc45-419f-9030-56a5f1fb84c4",
   "metadata": {},
   "outputs": [],
   "source": [
    "f.close()"
   ]
  },
  {
   "cell_type": "markdown",
   "id": "940b7537-899f-4038-9c44-096105e51b20",
   "metadata": {},
   "source": [
    "## map, reduce, filter functions"
   ]
  },
  {
   "cell_type": "code",
   "execution_count": 161,
   "id": "e998a652-56e4-4138-b319-f34de3f3acfa",
   "metadata": {},
   "outputs": [],
   "source": [
    "l = [2,3,4,5,6]\n",
    "l1=[]"
   ]
  },
  {
   "cell_type": "code",
   "execution_count": 162,
   "id": "8d54de36-dc67-4685-8d86-990e532bff6d",
   "metadata": {},
   "outputs": [],
   "source": [
    "for i in l:\n",
    "    l1.append(i**2)"
   ]
  },
  {
   "cell_type": "code",
   "execution_count": 163,
   "id": "0dc21dba-8369-42dd-84cf-27ad7dee39e6",
   "metadata": {},
   "outputs": [
    {
     "data": {
      "text/plain": [
       "[4, 9, 16, 25, 36]"
      ]
     },
     "execution_count": 163,
     "metadata": {},
     "output_type": "execute_result"
    }
   ],
   "source": [
    "l1"
   ]
  },
  {
   "cell_type": "code",
   "execution_count": 164,
   "id": "f79075e6-cfa0-42a2-9829-c2ec16a74bcd",
   "metadata": {},
   "outputs": [],
   "source": [
    "def sq(n):\n",
    "    return n**2"
   ]
  },
  {
   "cell_type": "code",
   "execution_count": 165,
   "id": "ed5b2701-f268-4c16-8a87-f435d86be163",
   "metadata": {},
   "outputs": [
    {
     "data": {
      "text/plain": [
       "[4, 9, 16, 25, 36]"
      ]
     },
     "execution_count": 165,
     "metadata": {},
     "output_type": "execute_result"
    }
   ],
   "source": [
    "list(map(sq,l))"
   ]
  },
  {
   "cell_type": "code",
   "execution_count": 166,
   "id": "b0836a26-922d-4d6d-838e-3cae651b8001",
   "metadata": {},
   "outputs": [
    {
     "data": {
      "text/plain": [
       "<map at 0x297d1ea4e80>"
      ]
     },
     "execution_count": 166,
     "metadata": {},
     "output_type": "execute_result"
    }
   ],
   "source": [
    "map(lambda x: x**2, l)"
   ]
  },
  {
   "cell_type": "code",
   "execution_count": 167,
   "id": "6d656d35-98ee-4087-901f-51edba985393",
   "metadata": {},
   "outputs": [
    {
     "data": {
      "text/plain": [
       "[4, 9, 16, 25, 36]"
      ]
     },
     "execution_count": 167,
     "metadata": {},
     "output_type": "execute_result"
    }
   ],
   "source": [
    "list(map(lambda x: x**2, l))"
   ]
  },
  {
   "cell_type": "code",
   "execution_count": 169,
   "id": "81dbb496-24ae-4268-bf03-ad6fe3951eb7",
   "metadata": {},
   "outputs": [
    {
     "data": {
      "text/plain": [
       "['2', '3', '4', '5', '6']"
      ]
     },
     "execution_count": 169,
     "metadata": {},
     "output_type": "execute_result"
    }
   ],
   "source": [
    "list(map(lambda x: str(x), l))"
   ]
  },
  {
   "cell_type": "code",
   "execution_count": 170,
   "id": "6c2f528a-d515-4b8b-9a48-9b1dec4e2222",
   "metadata": {},
   "outputs": [
    {
     "data": {
      "text/plain": [
       "['2', '3', '4', '5', '6']"
      ]
     },
     "execution_count": 170,
     "metadata": {},
     "output_type": "execute_result"
    }
   ],
   "source": [
    "list(map(str, l))"
   ]
  },
  {
   "cell_type": "code",
   "execution_count": 172,
   "id": "242fbd4e-f4fc-4bfd-8147-d11bf36a185d",
   "metadata": {},
   "outputs": [],
   "source": [
    "from functools import reduce"
   ]
  },
  {
   "cell_type": "code",
   "execution_count": 177,
   "id": "783b1801-b35d-467d-9312-07fb1ae07a08",
   "metadata": {},
   "outputs": [],
   "source": [
    "l = [3, 4, 5, 6, 7, 8, 9]"
   ]
  },
  {
   "cell_type": "code",
   "execution_count": 178,
   "id": "0932fcbf-5333-4ccb-849e-7a8f4370ff8c",
   "metadata": {},
   "outputs": [
    {
     "data": {
      "text/plain": [
       "42"
      ]
     },
     "execution_count": 178,
     "metadata": {},
     "output_type": "execute_result"
    }
   ],
   "source": [
    "sum(l)"
   ]
  },
  {
   "cell_type": "code",
   "execution_count": 179,
   "id": "725342b4-cb80-474c-a6f9-fe7d8ab28f80",
   "metadata": {},
   "outputs": [
    {
     "data": {
      "text/plain": [
       "42"
      ]
     },
     "execution_count": 179,
     "metadata": {},
     "output_type": "execute_result"
    }
   ],
   "source": [
    "reduce(lambda a, b: a+b, l)"
   ]
  },
  {
   "cell_type": "code",
   "execution_count": 180,
   "id": "62b306ea-fa72-4aef-b18c-863275a01b19",
   "metadata": {},
   "outputs": [],
   "source": [
    "l = [3, 4, 5, 6, 7, 8, 9, 6]"
   ]
  },
  {
   "cell_type": "code",
   "execution_count": 181,
   "id": "80471962-068f-481f-ac43-0ff770c784f3",
   "metadata": {},
   "outputs": [
    {
     "data": {
      "text/plain": [
       "48"
      ]
     },
     "execution_count": 181,
     "metadata": {},
     "output_type": "execute_result"
    }
   ],
   "source": [
    "sum(l)"
   ]
  },
  {
   "cell_type": "code",
   "execution_count": 182,
   "id": "5020f68b-0c59-4fa5-84b8-2ddb6340f550",
   "metadata": {},
   "outputs": [
    {
     "ename": "TypeError",
     "evalue": "<lambda>() missing 1 required positional argument: 'c'",
     "output_type": "error",
     "traceback": [
      "\u001b[1;31m---------------------------------------------------------------------------\u001b[0m",
      "\u001b[1;31mTypeError\u001b[0m                                 Traceback (most recent call last)",
      "\u001b[1;32m~\\AppData\\Local\\Temp/ipykernel_13272/1555838833.py\u001b[0m in \u001b[0;36m<module>\u001b[1;34m\u001b[0m\n\u001b[1;32m----> 1\u001b[1;33m \u001b[0mreduce\u001b[0m\u001b[1;33m(\u001b[0m\u001b[1;32mlambda\u001b[0m \u001b[0ma\u001b[0m\u001b[1;33m,\u001b[0m \u001b[0mb\u001b[0m\u001b[1;33m,\u001b[0m \u001b[0mc\u001b[0m\u001b[1;33m:\u001b[0m \u001b[0ma\u001b[0m\u001b[1;33m+\u001b[0m\u001b[0mb\u001b[0m\u001b[1;33m+\u001b[0m\u001b[0mc\u001b[0m\u001b[1;33m,\u001b[0m \u001b[0ml\u001b[0m\u001b[1;33m)\u001b[0m\u001b[1;33m\u001b[0m\u001b[1;33m\u001b[0m\u001b[0m\n\u001b[0m",
      "\u001b[1;31mTypeError\u001b[0m: <lambda>() missing 1 required positional argument: 'c'"
     ]
    }
   ],
   "source": [
    "reduce(lambda a, b, c: a+b+c, l)"
   ]
  },
  {
   "cell_type": "code",
   "execution_count": 183,
   "id": "c1787e80-dfea-4470-9974-85087e735c4d",
   "metadata": {},
   "outputs": [],
   "source": [
    "l = [3, 4, 5, 6, 7, 8, 9, 6, 7]"
   ]
  },
  {
   "cell_type": "code",
   "execution_count": 184,
   "id": "471add7f-eb1d-4a47-afe0-e222bba4e201",
   "metadata": {},
   "outputs": [
    {
     "data": {
      "text/plain": [
       "55"
      ]
     },
     "execution_count": 184,
     "metadata": {},
     "output_type": "execute_result"
    }
   ],
   "source": [
    "sum(l)"
   ]
  },
  {
   "cell_type": "code",
   "execution_count": 185,
   "id": "44be80b5-bcba-4e25-8184-c51b6e232e53",
   "metadata": {},
   "outputs": [
    {
     "ename": "TypeError",
     "evalue": "<lambda>() missing 1 required positional argument: 'c'",
     "output_type": "error",
     "traceback": [
      "\u001b[1;31m---------------------------------------------------------------------------\u001b[0m",
      "\u001b[1;31mTypeError\u001b[0m                                 Traceback (most recent call last)",
      "\u001b[1;32m~\\AppData\\Local\\Temp/ipykernel_13272/1555838833.py\u001b[0m in \u001b[0;36m<module>\u001b[1;34m\u001b[0m\n\u001b[1;32m----> 1\u001b[1;33m \u001b[0mreduce\u001b[0m\u001b[1;33m(\u001b[0m\u001b[1;32mlambda\u001b[0m \u001b[0ma\u001b[0m\u001b[1;33m,\u001b[0m \u001b[0mb\u001b[0m\u001b[1;33m,\u001b[0m \u001b[0mc\u001b[0m\u001b[1;33m:\u001b[0m \u001b[0ma\u001b[0m\u001b[1;33m+\u001b[0m\u001b[0mb\u001b[0m\u001b[1;33m+\u001b[0m\u001b[0mc\u001b[0m\u001b[1;33m,\u001b[0m \u001b[0ml\u001b[0m\u001b[1;33m)\u001b[0m\u001b[1;33m\u001b[0m\u001b[1;33m\u001b[0m\u001b[0m\n\u001b[0m",
      "\u001b[1;31mTypeError\u001b[0m: <lambda>() missing 1 required positional argument: 'c'"
     ]
    }
   ],
   "source": [
    "reduce(lambda a, b, c: a+b+c, l)"
   ]
  },
  {
   "cell_type": "code",
   "execution_count": 187,
   "id": "b19ea68f-92ec-40a2-9a81-d3818eb3a5a2",
   "metadata": {},
   "outputs": [],
   "source": [
    "l = [3]"
   ]
  },
  {
   "cell_type": "code",
   "execution_count": 188,
   "id": "6e6d89ce-8c4d-403b-b5f6-f145217be97c",
   "metadata": {},
   "outputs": [
    {
     "data": {
      "text/plain": [
       "3"
      ]
     },
     "execution_count": 188,
     "metadata": {},
     "output_type": "execute_result"
    }
   ],
   "source": [
    "sum(l)"
   ]
  },
  {
   "cell_type": "code",
   "execution_count": 189,
   "id": "8d50104c-166c-4820-ad1a-cb50214a7e46",
   "metadata": {},
   "outputs": [
    {
     "data": {
      "text/plain": [
       "3"
      ]
     },
     "execution_count": 189,
     "metadata": {},
     "output_type": "execute_result"
    }
   ],
   "source": [
    "reduce(lambda a, b: a+b, l)"
   ]
  },
  {
   "cell_type": "code",
   "execution_count": 190,
   "id": "01d40c61-0d74-42b2-ad41-d4acce8527f2",
   "metadata": {},
   "outputs": [],
   "source": [
    "l = [3, 4, 5, 6, 7, 8, 9, 6, 7]"
   ]
  },
  {
   "cell_type": "code",
   "execution_count": 192,
   "id": "232c43db-0a60-4266-87ff-86113392cc7a",
   "metadata": {},
   "outputs": [
    {
     "name": "stdout",
     "output_type": "stream",
     "text": [
      "4\n",
      "6\n",
      "8\n",
      "6\n"
     ]
    }
   ],
   "source": [
    "for i in l:\n",
    "    if i%2 ==0:\n",
    "        print(i)"
   ]
  },
  {
   "cell_type": "code",
   "execution_count": 193,
   "id": "3eefe27a-3bae-44eb-b118-4cb2b486d443",
   "metadata": {},
   "outputs": [
    {
     "data": {
      "text/plain": [
       "<filter at 0x297d1ea4430>"
      ]
     },
     "execution_count": 193,
     "metadata": {},
     "output_type": "execute_result"
    }
   ],
   "source": [
    "filter(lambda x : x%2==0, l)"
   ]
  },
  {
   "cell_type": "code",
   "execution_count": 194,
   "id": "445db2d4-d54a-4766-8f01-a98541c6c1e0",
   "metadata": {},
   "outputs": [
    {
     "data": {
      "text/plain": [
       "[4, 6, 8, 6]"
      ]
     },
     "execution_count": 194,
     "metadata": {},
     "output_type": "execute_result"
    }
   ],
   "source": [
    "list(filter(lambda x : x%2==0, l))"
   ]
  },
  {
   "cell_type": "code",
   "execution_count": 195,
   "id": "156a3648-a70f-4251-a8ca-659aa960c873",
   "metadata": {},
   "outputs": [],
   "source": [
    "def even(n):\n",
    "    if n%2==0:\n",
    "        return True"
   ]
  },
  {
   "cell_type": "code",
   "execution_count": 196,
   "id": "be51d4ad-973c-4e67-a53e-da18ae5e7dbd",
   "metadata": {},
   "outputs": [
    {
     "data": {
      "text/plain": [
       "[4, 6, 8, 6]"
      ]
     },
     "execution_count": 196,
     "metadata": {},
     "output_type": "execute_result"
    }
   ],
   "source": [
    "list(filter(even, l))"
   ]
  },
  {
   "cell_type": "code",
   "execution_count": null,
   "id": "57e90227-9743-4698-b477-f510510fb987",
   "metadata": {},
   "outputs": [],
   "source": []
  }
 ],
 "metadata": {
  "kernelspec": {
   "display_name": "Python 3 (ipykernel)",
   "language": "python",
   "name": "python3"
  },
  "language_info": {
   "codemirror_mode": {
    "name": "ipython",
    "version": 3
   },
   "file_extension": ".py",
   "mimetype": "text/x-python",
   "name": "python",
   "nbconvert_exporter": "python",
   "pygments_lexer": "ipython3",
   "version": "3.9.7"
  }
 },
 "nbformat": 4,
 "nbformat_minor": 5
}
