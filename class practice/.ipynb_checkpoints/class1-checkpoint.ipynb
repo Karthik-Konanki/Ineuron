{
 "cells": [
  {
   "cell_type": "code",
   "execution_count": 1,
   "id": "fc1f0c96-95a7-43c8-9623-2fce0d602c75",
   "metadata": {},
   "outputs": [
    {
     "name": "stdout",
     "output_type": "stream",
     "text": [
      "The Zen of Python, by Tim Peters\n",
      "\n",
      "Beautiful is better than ugly.\n",
      "Explicit is better than implicit.\n",
      "Simple is better than complex.\n",
      "Complex is better than complicated.\n",
      "Flat is better than nested.\n",
      "Sparse is better than dense.\n",
      "Readability counts.\n",
      "Special cases aren't special enough to break the rules.\n",
      "Although practicality beats purity.\n",
      "Errors should never pass silently.\n",
      "Unless explicitly silenced.\n",
      "In the face of ambiguity, refuse the temptation to guess.\n",
      "There should be one-- and preferably only one --obvious way to do it.\n",
      "Although that way may not be obvious at first unless you're Dutch.\n",
      "Now is better than never.\n",
      "Although never is often better than *right* now.\n",
      "If the implementation is hard to explain, it's a bad idea.\n",
      "If the implementation is easy to explain, it may be a good idea.\n",
      "Namespaces are one honking great idea -- let's do more of those!\n"
     ]
    }
   ],
   "source": [
    "import this"
   ]
  },
  {
   "cell_type": "code",
   "execution_count": 2,
   "id": "13266dbe-e191-468d-ad9b-3f86a50c8b2b",
   "metadata": {},
   "outputs": [],
   "source": [
    "var = 10"
   ]
  },
  {
   "cell_type": "code",
   "execution_count": 3,
   "id": "f1444f78-940d-4a6e-8d20-8fa976c37c28",
   "metadata": {},
   "outputs": [
    {
     "ename": "NameError",
     "evalue": "name 'a' is not defined",
     "output_type": "error",
     "traceback": [
      "\u001b[1;31m---------------------------------------------------------------------------\u001b[0m",
      "\u001b[1;31mNameError\u001b[0m                                 Traceback (most recent call last)",
      "\u001b[1;32m~\\AppData\\Local\\Temp/ipykernel_3888/2167009006.py\u001b[0m in \u001b[0;36m<module>\u001b[1;34m\u001b[0m\n\u001b[1;32m----> 1\u001b[1;33m \u001b[0ma\u001b[0m\u001b[1;33m\u001b[0m\u001b[1;33m\u001b[0m\u001b[0m\n\u001b[0m",
      "\u001b[1;31mNameError\u001b[0m: name 'a' is not defined"
     ]
    }
   ],
   "source": [
    "a"
   ]
  },
  {
   "cell_type": "code",
   "execution_count": null,
   "id": "a7c28a14-caa1-4246-866e-0dda07900fbb",
   "metadata": {},
   "outputs": [],
   "source": [
    "a-2"
   ]
  },
  {
   "cell_type": "code",
   "execution_count": 4,
   "id": "e72399da-2137-449d-b609-76b591d0c5f9",
   "metadata": {},
   "outputs": [
    {
     "data": {
      "text/plain": [
       "10"
      ]
     },
     "execution_count": 4,
     "metadata": {},
     "output_type": "execute_result"
    }
   ],
   "source": [
    "var"
   ]
  },
  {
   "cell_type": "code",
   "execution_count": 5,
   "id": "c7337df1-8dcf-4afb-9f3e-3a6d6ca18e0e",
   "metadata": {},
   "outputs": [
    {
     "data": {
      "text/plain": [
       "8"
      ]
     },
     "execution_count": 5,
     "metadata": {},
     "output_type": "execute_result"
    }
   ],
   "source": [
    "var-2"
   ]
  },
  {
   "cell_type": "code",
   "execution_count": 6,
   "id": "ab748b46-4a5a-4bd8-866b-3ad4700cc993",
   "metadata": {},
   "outputs": [
    {
     "data": {
      "text/plain": [
       "8"
      ]
     },
     "execution_count": 6,
     "metadata": {},
     "output_type": "execute_result"
    }
   ],
   "source": [
    "_"
   ]
  },
  {
   "cell_type": "code",
   "execution_count": 7,
   "id": "668df8f8-253f-4008-8e48-f36b1711bc71",
   "metadata": {},
   "outputs": [],
   "source": [
    "var1='Karthik'"
   ]
  },
  {
   "cell_type": "code",
   "execution_count": 8,
   "id": "f9f64a24-8ba2-43d6-98c7-0b64faef4cbd",
   "metadata": {},
   "outputs": [
    {
     "data": {
      "text/plain": [
       "'Karthik'"
      ]
     },
     "execution_count": 8,
     "metadata": {},
     "output_type": "execute_result"
    }
   ],
   "source": [
    "var1"
   ]
  },
  {
   "cell_type": "code",
   "execution_count": 9,
   "id": "b59bc704-8572-42df-9715-8948a26619d2",
   "metadata": {},
   "outputs": [
    {
     "data": {
      "text/plain": [
       "'Karthik'"
      ]
     },
     "execution_count": 9,
     "metadata": {},
     "output_type": "execute_result"
    }
   ],
   "source": [
    "_"
   ]
  },
  {
   "cell_type": "code",
   "execution_count": 10,
   "id": "3558e3b1-32b6-498b-9563-00abfb5376b7",
   "metadata": {},
   "outputs": [
    {
     "data": {
      "text/plain": [
       "int"
      ]
     },
     "execution_count": 10,
     "metadata": {},
     "output_type": "execute_result"
    }
   ],
   "source": [
    "type(var)"
   ]
  },
  {
   "cell_type": "code",
   "execution_count": 11,
   "id": "027df596-11d5-42e7-93f2-1fe3ae16bc72",
   "metadata": {},
   "outputs": [
    {
     "data": {
      "text/plain": [
       "str"
      ]
     },
     "execution_count": 11,
     "metadata": {},
     "output_type": "execute_result"
    }
   ],
   "source": [
    "type(var1)"
   ]
  },
  {
   "cell_type": "code",
   "execution_count": 12,
   "id": "0300f6a3-e7d9-4673-8c92-bcb69086f72c",
   "metadata": {},
   "outputs": [],
   "source": [
    "a = 3.04"
   ]
  },
  {
   "cell_type": "code",
   "execution_count": 13,
   "id": "841343b0-e43b-4bf5-bfbd-3e92e87d6c89",
   "metadata": {},
   "outputs": [
    {
     "data": {
      "text/plain": [
       "float"
      ]
     },
     "execution_count": 13,
     "metadata": {},
     "output_type": "execute_result"
    }
   ],
   "source": [
    "type(a)"
   ]
  },
  {
   "cell_type": "code",
   "execution_count": 17,
   "id": "c61d88c5-bb64-465f-844c-d03ef70f1876",
   "metadata": {},
   "outputs": [],
   "source": [
    "b = 2 + 1j"
   ]
  },
  {
   "cell_type": "code",
   "execution_count": 18,
   "id": "906b7451-d145-4aa9-9d79-69700f663a00",
   "metadata": {},
   "outputs": [
    {
     "data": {
      "text/plain": [
       "(2+1j)"
      ]
     },
     "execution_count": 18,
     "metadata": {},
     "output_type": "execute_result"
    }
   ],
   "source": [
    "b"
   ]
  },
  {
   "cell_type": "code",
   "execution_count": 16,
   "id": "df0bc924-dbd1-4fce-9f9c-24939c6a3c39",
   "metadata": {},
   "outputs": [
    {
     "ename": "SyntaxError",
     "evalue": "invalid syntax (Temp/ipykernel_3888/4052778532.py, line 1)",
     "output_type": "error",
     "traceback": [
      "\u001b[1;36m  File \u001b[1;32m\"C:\\Users\\SUNTECH\\AppData\\Local\\Temp/ipykernel_3888/4052778532.py\"\u001b[1;36m, line \u001b[1;32m1\u001b[0m\n\u001b[1;33m    c = 2 + 1i\u001b[0m\n\u001b[1;37m             ^\u001b[0m\n\u001b[1;31mSyntaxError\u001b[0m\u001b[1;31m:\u001b[0m invalid syntax\n"
     ]
    }
   ],
   "source": [
    "c = 2 + 1i"
   ]
  },
  {
   "cell_type": "code",
   "execution_count": 19,
   "id": "07d09dc1-811a-46f2-995f-5c5edbc583b3",
   "metadata": {},
   "outputs": [
    {
     "data": {
      "text/plain": [
       "complex"
      ]
     },
     "execution_count": 19,
     "metadata": {},
     "output_type": "execute_result"
    }
   ],
   "source": [
    "type(b)"
   ]
  },
  {
   "cell_type": "code",
   "execution_count": 20,
   "id": "33e2c790-94c6-480e-bc4a-a7c9776fbfd1",
   "metadata": {},
   "outputs": [],
   "source": [
    "d = True"
   ]
  },
  {
   "cell_type": "code",
   "execution_count": 21,
   "id": "35138f85-a166-4fed-a557-f9addc449413",
   "metadata": {},
   "outputs": [
    {
     "data": {
      "text/plain": [
       "bool"
      ]
     },
     "execution_count": 21,
     "metadata": {},
     "output_type": "execute_result"
    }
   ],
   "source": [
    "type(d)"
   ]
  },
  {
   "cell_type": "code",
   "execution_count": 22,
   "id": "837654cc-ced1-49f9-b37d-f5795a80599a",
   "metadata": {},
   "outputs": [],
   "source": [
    "e = False"
   ]
  },
  {
   "cell_type": "code",
   "execution_count": 23,
   "id": "25b38ebb-9a77-4f17-8cf1-e8a5c370ab67",
   "metadata": {},
   "outputs": [
    {
     "data": {
      "text/plain": [
       "bool"
      ]
     },
     "execution_count": 23,
     "metadata": {},
     "output_type": "execute_result"
    }
   ],
   "source": [
    "type(e)"
   ]
  },
  {
   "cell_type": "code",
   "execution_count": 24,
   "id": "cf8f214d-b936-43db-ac50-ad8f7429b267",
   "metadata": {},
   "outputs": [
    {
     "data": {
      "text/plain": [
       "1"
      ]
     },
     "execution_count": 24,
     "metadata": {},
     "output_type": "execute_result"
    }
   ],
   "source": [
    "True - False"
   ]
  },
  {
   "cell_type": "code",
   "execution_count": 26,
   "id": "8bce5ec7-d903-4da9-8114-3ad2c554f3b3",
   "metadata": {},
   "outputs": [
    {
     "data": {
      "text/plain": [
       "0"
      ]
     },
     "execution_count": 26,
     "metadata": {},
     "output_type": "execute_result"
    }
   ],
   "source": [
    "True - True\n"
   ]
  },
  {
   "cell_type": "code",
   "execution_count": 27,
   "id": "3a08ab64-16b3-44d6-bca9-83e62e86cb15",
   "metadata": {},
   "outputs": [
    {
     "data": {
      "text/plain": [
       "1"
      ]
     },
     "execution_count": 27,
     "metadata": {},
     "output_type": "execute_result"
    }
   ],
   "source": [
    "True * True"
   ]
  },
  {
   "cell_type": "code",
   "execution_count": 31,
   "id": "9b36c30f-e89e-4426-a63d-18bea7be2a72",
   "metadata": {},
   "outputs": [
    {
     "ename": "ZeroDivisionError",
     "evalue": "division by zero",
     "output_type": "error",
     "traceback": [
      "\u001b[1;31m---------------------------------------------------------------------------\u001b[0m",
      "\u001b[1;31mZeroDivisionError\u001b[0m                         Traceback (most recent call last)",
      "\u001b[1;32m~\\AppData\\Local\\Temp/ipykernel_3888/3474628751.py\u001b[0m in \u001b[0;36m<module>\u001b[1;34m\u001b[0m\n\u001b[1;32m----> 1\u001b[1;33m \u001b[1;32mTrue\u001b[0m \u001b[1;33m/\u001b[0m \u001b[1;32mFalse\u001b[0m \u001b[1;31m# in numpy it return INF\u001b[0m\u001b[1;33m\u001b[0m\u001b[1;33m\u001b[0m\u001b[0m\n\u001b[0m",
      "\u001b[1;31mZeroDivisionError\u001b[0m: division by zero"
     ]
    }
   ],
   "source": [
    "True / False # in numpy it return INF"
   ]
  },
  {
   "cell_type": "code",
   "execution_count": 32,
   "id": "37484710-25b5-495c-87db-4c3216b83d05",
   "metadata": {},
   "outputs": [
    {
     "ename": "ZeroDivisionError",
     "evalue": "integer division or modulo by zero",
     "output_type": "error",
     "traceback": [
      "\u001b[1;31m---------------------------------------------------------------------------\u001b[0m",
      "\u001b[1;31mZeroDivisionError\u001b[0m                         Traceback (most recent call last)",
      "\u001b[1;32m~\\AppData\\Local\\Temp/ipykernel_3888/2460968556.py\u001b[0m in \u001b[0;36m<module>\u001b[1;34m\u001b[0m\n\u001b[1;32m----> 1\u001b[1;33m \u001b[1;32mTrue\u001b[0m \u001b[1;33m//\u001b[0m \u001b[1;32mFalse\u001b[0m \u001b[1;31m# in numpy it return INF\u001b[0m\u001b[1;33m\u001b[0m\u001b[1;33m\u001b[0m\u001b[0m\n\u001b[0m",
      "\u001b[1;31mZeroDivisionError\u001b[0m: integer division or modulo by zero"
     ]
    }
   ],
   "source": [
    "True // False # in numpy it return INF"
   ]
  },
  {
   "cell_type": "code",
   "execution_count": 33,
   "id": "1e1e5131-1460-4ed1-a2e2-18c4f16d6dc0",
   "metadata": {},
   "outputs": [],
   "source": [
    "f = 5 + 2j"
   ]
  },
  {
   "cell_type": "code",
   "execution_count": 34,
   "id": "9e442564-2309-46b4-952f-ecb1bf903fea",
   "metadata": {},
   "outputs": [
    {
     "data": {
      "text/plain": [
       "(5+2j)"
      ]
     },
     "execution_count": 34,
     "metadata": {},
     "output_type": "execute_result"
    }
   ],
   "source": [
    "f"
   ]
  },
  {
   "cell_type": "code",
   "execution_count": 35,
   "id": "4752f906-0bb7-49ac-ac2b-c505d59398d3",
   "metadata": {},
   "outputs": [
    {
     "data": {
      "text/plain": [
       "(10+4j)"
      ]
     },
     "execution_count": 35,
     "metadata": {},
     "output_type": "execute_result"
    }
   ],
   "source": [
    "f + f"
   ]
  },
  {
   "cell_type": "code",
   "execution_count": 36,
   "id": "bde02e08-bde9-481a-9b5b-bc86cef7e08c",
   "metadata": {},
   "outputs": [
    {
     "data": {
      "text/plain": [
       "(21+20j)"
      ]
     },
     "execution_count": 36,
     "metadata": {},
     "output_type": "execute_result"
    }
   ],
   "source": [
    "f*f"
   ]
  },
  {
   "cell_type": "code",
   "execution_count": 37,
   "id": "2302bc11-7e1b-492f-a224-9cd1198a3ad5",
   "metadata": {},
   "outputs": [
    {
     "data": {
      "text/plain": [
       "0.0"
      ]
     },
     "execution_count": 37,
     "metadata": {},
     "output_type": "execute_result"
    }
   ],
   "source": [
    "0/1"
   ]
  },
  {
   "cell_type": "code",
   "execution_count": 38,
   "id": "73199d9f-2c2f-4c2a-8b18-585ef7280f96",
   "metadata": {},
   "outputs": [
    {
     "data": {
      "text/plain": [
       "0"
      ]
     },
     "execution_count": 38,
     "metadata": {},
     "output_type": "execute_result"
    }
   ],
   "source": [
    "0//1"
   ]
  },
  {
   "cell_type": "code",
   "execution_count": 39,
   "id": "684ccb41-3ca6-4451-865d-e7f1aad16906",
   "metadata": {},
   "outputs": [
    {
     "data": {
      "text/plain": [
       "5.0"
      ]
     },
     "execution_count": 39,
     "metadata": {},
     "output_type": "execute_result"
    }
   ],
   "source": [
    "f.real"
   ]
  },
  {
   "cell_type": "code",
   "execution_count": 40,
   "id": "900b757a-a20d-429e-ad46-398cb756ef5c",
   "metadata": {},
   "outputs": [
    {
     "data": {
      "text/plain": [
       "2.0"
      ]
     },
     "execution_count": 40,
     "metadata": {},
     "output_type": "execute_result"
    }
   ],
   "source": [
    "f.imag"
   ]
  },
  {
   "cell_type": "code",
   "execution_count": 41,
   "id": "9adde337-957c-4def-b10b-42d85e8c3a2f",
   "metadata": {},
   "outputs": [
    {
     "data": {
      "text/plain": [
       "<function complex.conjugate>"
      ]
     },
     "execution_count": 41,
     "metadata": {},
     "output_type": "execute_result"
    }
   ],
   "source": [
    "f.conjugate"
   ]
  },
  {
   "cell_type": "code",
   "execution_count": 42,
   "id": "90159425-030a-490e-b6dc-75eacc7fe7dd",
   "metadata": {},
   "outputs": [
    {
     "data": {
      "text/plain": [
       "float"
      ]
     },
     "execution_count": 42,
     "metadata": {},
     "output_type": "execute_result"
    }
   ],
   "source": [
    "type(f.imag)"
   ]
  },
  {
   "cell_type": "code",
   "execution_count": 43,
   "id": "6adc3205-edaa-4f9f-8a9e-7a275026dbde",
   "metadata": {},
   "outputs": [
    {
     "data": {
      "text/plain": [
       "builtin_function_or_method"
      ]
     },
     "execution_count": 43,
     "metadata": {},
     "output_type": "execute_result"
    }
   ],
   "source": [
    "type(f.conjugate)"
   ]
  },
  {
   "cell_type": "code",
   "execution_count": 44,
   "id": "50a0da46-1e1f-47bd-a26f-0c4fb72a21da",
   "metadata": {},
   "outputs": [],
   "source": [
    "var2 = 'Konanki'"
   ]
  },
  {
   "cell_type": "code",
   "execution_count": 45,
   "id": "7c26d3b7-0d7e-4c9f-ae2b-6acda46ab784",
   "metadata": {},
   "outputs": [
    {
     "ename": "TypeError",
     "evalue": "unsupported operand type(s) for -: 'str' and 'str'",
     "output_type": "error",
     "traceback": [
      "\u001b[1;31m---------------------------------------------------------------------------\u001b[0m",
      "\u001b[1;31mTypeError\u001b[0m                                 Traceback (most recent call last)",
      "\u001b[1;32m~\\AppData\\Local\\Temp/ipykernel_3888/3402950499.py\u001b[0m in \u001b[0;36m<module>\u001b[1;34m\u001b[0m\n\u001b[1;32m----> 1\u001b[1;33m \u001b[0mvar1\u001b[0m \u001b[1;33m-\u001b[0m \u001b[0mvar2\u001b[0m\u001b[1;33m\u001b[0m\u001b[1;33m\u001b[0m\u001b[0m\n\u001b[0m",
      "\u001b[1;31mTypeError\u001b[0m: unsupported operand type(s) for -: 'str' and 'str'"
     ]
    }
   ],
   "source": [
    "var1 - var2"
   ]
  },
  {
   "cell_type": "code",
   "execution_count": 47,
   "id": "82d62597-c814-4275-8058-93bbab0d6601",
   "metadata": {},
   "outputs": [
    {
     "data": {
      "text/plain": [
       "'Karthik Konanki'"
      ]
     },
     "execution_count": 47,
     "metadata": {},
     "output_type": "execute_result"
    }
   ],
   "source": [
    "var1 + ' ' + var2"
   ]
  },
  {
   "cell_type": "code",
   "execution_count": 49,
   "id": "507a9383-cd69-418f-9d51-b8b7009db1f7",
   "metadata": {},
   "outputs": [],
   "source": [
    "l = [1,2,3,'Karthik',True, 3+1j]"
   ]
  },
  {
   "cell_type": "code",
   "execution_count": 50,
   "id": "e4c3493e-dc75-468a-b69e-4f7fb626bd49",
   "metadata": {},
   "outputs": [
    {
     "data": {
      "text/plain": [
       "list"
      ]
     },
     "execution_count": 50,
     "metadata": {},
     "output_type": "execute_result"
    }
   ],
   "source": [
    "type(l)"
   ]
  },
  {
   "cell_type": "code",
   "execution_count": 51,
   "id": "acf807ba-8fca-476c-9646-8e68cf28939e",
   "metadata": {},
   "outputs": [
    {
     "data": {
      "text/plain": [
       "[1, 2, 3, 'Karthik', True, (3+1j)]"
      ]
     },
     "execution_count": 51,
     "metadata": {},
     "output_type": "execute_result"
    }
   ],
   "source": [
    "l"
   ]
  },
  {
   "cell_type": "code",
   "execution_count": 52,
   "id": "5dd99841-7c53-4261-aaed-55bf9b13c7d4",
   "metadata": {},
   "outputs": [
    {
     "name": "stdout",
     "output_type": "stream",
     "text": [
      "1\n",
      "2\n",
      "3\n",
      "Karthik\n",
      "True\n",
      "(3+1j)\n"
     ]
    }
   ],
   "source": [
    "for i in l:\n",
    "    print(i)"
   ]
  },
  {
   "cell_type": "code",
   "execution_count": 53,
   "id": "807bc1c7-3528-41e7-820e-a90ee2253e6b",
   "metadata": {},
   "outputs": [
    {
     "data": {
      "text/plain": [
       "True"
      ]
     },
     "execution_count": 53,
     "metadata": {},
     "output_type": "execute_result"
    }
   ],
   "source": [
    "l[4]"
   ]
  },
  {
   "cell_type": "code",
   "execution_count": 55,
   "id": "be864d6a-61a7-4207-948e-e3108a9e5cba",
   "metadata": {},
   "outputs": [
    {
     "data": {
      "text/plain": [
       "(3+1j)"
      ]
     },
     "execution_count": 55,
     "metadata": {},
     "output_type": "execute_result"
    }
   ],
   "source": [
    "l[len(l)-1]"
   ]
  },
  {
   "cell_type": "code",
   "execution_count": 56,
   "id": "a9c8ece5-017d-4fb3-a596-0c8474d519fb",
   "metadata": {},
   "outputs": [
    {
     "data": {
      "text/plain": [
       "6"
      ]
     },
     "execution_count": 56,
     "metadata": {},
     "output_type": "execute_result"
    }
   ],
   "source": [
    "len(l)"
   ]
  },
  {
   "cell_type": "code",
   "execution_count": 57,
   "id": "c079673c-8aee-4945-b099-f10ffef27a10",
   "metadata": {},
   "outputs": [
    {
     "data": {
      "text/plain": [
       "1"
      ]
     },
     "execution_count": 57,
     "metadata": {},
     "output_type": "execute_result"
    }
   ],
   "source": [
    "l[-len(l)]"
   ]
  },
  {
   "cell_type": "code",
   "execution_count": 58,
   "id": "86c2ed08-11eb-4829-8f91-8694515a6226",
   "metadata": {},
   "outputs": [],
   "source": [
    "t = (1, 2, 3, 'Karthik', True, 3 + 2j)"
   ]
  },
  {
   "cell_type": "code",
   "execution_count": 59,
   "id": "da01228c-6515-4035-96af-949621d7e9eb",
   "metadata": {},
   "outputs": [
    {
     "data": {
      "text/plain": [
       "tuple"
      ]
     },
     "execution_count": 59,
     "metadata": {},
     "output_type": "execute_result"
    }
   ],
   "source": [
    "type(t)"
   ]
  },
  {
   "cell_type": "code",
   "execution_count": 60,
   "id": "f62bf8f5-e652-4649-86c7-5237c61dc58f",
   "metadata": {},
   "outputs": [
    {
     "data": {
      "text/plain": [
       "6"
      ]
     },
     "execution_count": 60,
     "metadata": {},
     "output_type": "execute_result"
    }
   ],
   "source": [
    "len(t)"
   ]
  },
  {
   "cell_type": "code",
   "execution_count": 62,
   "id": "c7d87c50-ae41-4c1b-bde8-c3c48360b032",
   "metadata": {},
   "outputs": [
    {
     "data": {
      "text/plain": [
       "1"
      ]
     },
     "execution_count": 62,
     "metadata": {},
     "output_type": "execute_result"
    }
   ],
   "source": [
    "t[-len(t)]"
   ]
  },
  {
   "cell_type": "code",
   "execution_count": 63,
   "id": "be598a2b-59b3-4ff7-9614-8c214ec6089a",
   "metadata": {},
   "outputs": [],
   "source": [
    "dict = {'a':'Karthik', 'b' : 'Konanki', 'c' : 32}"
   ]
  },
  {
   "cell_type": "code",
   "execution_count": 64,
   "id": "4241ae44-4fae-4cd3-977d-98ee0f4ca2c1",
   "metadata": {},
   "outputs": [
    {
     "data": {
      "text/plain": [
       "{'a': 'Karthik', 'b': 'Konanki', 'c': 32}"
      ]
     },
     "execution_count": 64,
     "metadata": {},
     "output_type": "execute_result"
    }
   ],
   "source": [
    "dict"
   ]
  },
  {
   "cell_type": "code",
   "execution_count": 66,
   "id": "3f255fcf-1662-4057-8c21-c98e1e62c004",
   "metadata": {},
   "outputs": [
    {
     "name": "stdout",
     "output_type": "stream",
     "text": [
      "a\n",
      "b\n",
      "c\n"
     ]
    }
   ],
   "source": [
    "for i in dict:\n",
    "    print(i)"
   ]
  },
  {
   "cell_type": "code",
   "execution_count": null,
   "id": "a27b7bc4-b637-46c8-b448-702fd1c41192",
   "metadata": {},
   "outputs": [],
   "source": []
  }
 ],
 "metadata": {
  "kernelspec": {
   "display_name": "Python 3 (ipykernel)",
   "language": "python",
   "name": "python3"
  },
  "language_info": {
   "codemirror_mode": {
    "name": "ipython",
    "version": 3
   },
   "file_extension": ".py",
   "mimetype": "text/x-python",
   "name": "python",
   "nbconvert_exporter": "python",
   "pygments_lexer": "ipython3",
   "version": "3.9.7"
  }
 },
 "nbformat": 4,
 "nbformat_minor": 5
}
