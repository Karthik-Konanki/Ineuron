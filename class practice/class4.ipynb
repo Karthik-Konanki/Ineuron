{
 "cells": [
  {
   "cell_type": "markdown",
   "id": "5d07248c-d664-4923-bce4-bbe64d12dcd9",
   "metadata": {},
   "source": [
    "# Conditional Statements"
   ]
  },
  {
   "cell_type": "code",
   "execution_count": 3,
   "id": "fb5d176a-d43d-444b-9764-05f8a0a70c7c",
   "metadata": {},
   "outputs": [
    {
     "ename": "SyntaxError",
     "evalue": "invalid syntax (Temp/ipykernel_27524/690346117.py, line 3)",
     "output_type": "error",
     "traceback": [
      "\u001b[1;36m  File \u001b[1;32m\"C:\\Users\\SUNTECH\\AppData\\Local\\Temp/ipykernel_27524/690346117.py\"\u001b[1;36m, line \u001b[1;32m3\u001b[0m\n\u001b[1;33m    if a == 10\u001b[0m\n\u001b[1;37m                  ^\u001b[0m\n\u001b[1;31mSyntaxError\u001b[0m\u001b[1;31m:\u001b[0m invalid syntax\n"
     ]
    }
   ],
   "source": [
    "a = 10\n",
    "\n",
    "if a == 10    "
   ]
  },
  {
   "cell_type": "code",
   "execution_count": 4,
   "id": "353d0b79-a373-450c-ad7f-e2c1857ac320",
   "metadata": {},
   "outputs": [
    {
     "ename": "IndentationError",
     "evalue": "expected an indented block (Temp/ipykernel_27524/2170735758.py, line 1)",
     "output_type": "error",
     "traceback": [
      "\u001b[1;36m  File \u001b[1;32m\"C:\\Users\\SUNTECH\\AppData\\Local\\Temp/ipykernel_27524/2170735758.py\"\u001b[1;36m, line \u001b[1;32m1\u001b[0m\n\u001b[1;33m    if a == 10:\u001b[0m\n\u001b[1;37m               ^\u001b[0m\n\u001b[1;31mIndentationError\u001b[0m\u001b[1;31m:\u001b[0m expected an indented block\n"
     ]
    }
   ],
   "source": [
    "if a == 10:"
   ]
  },
  {
   "cell_type": "code",
   "execution_count": 5,
   "id": "970404ac-2364-4a61-b525-d2355e3a08f0",
   "metadata": {},
   "outputs": [
    {
     "name": "stdout",
     "output_type": "stream",
     "text": [
      "10\n"
     ]
    }
   ],
   "source": [
    "if a == 10:\n",
    "    print(a)"
   ]
  },
  {
   "cell_type": "code",
   "execution_count": 6,
   "id": "d159b6c4-1a88-499a-88c7-506023400ffa",
   "metadata": {},
   "outputs": [
    {
     "name": "stdout",
     "output_type": "stream",
     "text": [
      "10\n"
     ]
    }
   ],
   "source": [
    "if a == 10:print(a)"
   ]
  },
  {
   "cell_type": "code",
   "execution_count": 7,
   "id": "b2349156-a2af-4759-86b1-ac19d385c7a9",
   "metadata": {},
   "outputs": [
    {
     "name": "stdout",
     "output_type": "stream",
     "text": [
      "This is my first condition\n"
     ]
    }
   ],
   "source": [
    "if a == 10:print('This is my first condition')"
   ]
  },
  {
   "cell_type": "code",
   "execution_count": 8,
   "id": "4a32abb6-9ee9-4df7-88bd-ba6a63bfa459",
   "metadata": {},
   "outputs": [
    {
     "name": "stdout",
     "output_type": "stream",
     "text": [
      "This is my first condition\n"
     ]
    }
   ],
   "source": [
    "if a == 10:\n",
    "    print('This is my first condition')"
   ]
  },
  {
   "cell_type": "code",
   "execution_count": 14,
   "id": "853037d7-5cc4-4746-9677-48ff09a48c60",
   "metadata": {},
   "outputs": [],
   "source": [
    "if a == 11:\n",
    "    print('This is my first condition')\n"
   ]
  },
  {
   "cell_type": "code",
   "execution_count": 13,
   "id": "7e43c5d1-c696-4e8c-a2d1-f2d8eafb4d8c",
   "metadata": {},
   "outputs": [
    {
     "ename": "SyntaxError",
     "evalue": "'return' outside function (Temp/ipykernel_27524/2304559069.py, line 3)",
     "output_type": "error",
     "traceback": [
      "\u001b[1;36m  File \u001b[1;32m\"C:\\Users\\SUNTECH\\AppData\\Local\\Temp/ipykernel_27524/2304559069.py\"\u001b[1;36m, line \u001b[1;32m3\u001b[0m\n\u001b[1;33m    return False\u001b[0m\n\u001b[1;37m    ^\u001b[0m\n\u001b[1;31mSyntaxError\u001b[0m\u001b[1;31m:\u001b[0m 'return' outside function\n"
     ]
    }
   ],
   "source": [
    "if a == 11:\n",
    "    print('This is my first condition')\n",
    "    return False"
   ]
  },
  {
   "cell_type": "code",
   "execution_count": 15,
   "id": "3d42d1c5-a05d-44df-a9f1-94019ec5802e",
   "metadata": {},
   "outputs": [
    {
     "ename": "SyntaxError",
     "evalue": "'return' outside function (Temp/ipykernel_27524/298669686.py, line 3)",
     "output_type": "error",
     "traceback": [
      "\u001b[1;36m  File \u001b[1;32m\"C:\\Users\\SUNTECH\\AppData\\Local\\Temp/ipykernel_27524/298669686.py\"\u001b[1;36m, line \u001b[1;32m3\u001b[0m\n\u001b[1;33m    return False\u001b[0m\n\u001b[1;37m    ^\u001b[0m\n\u001b[1;31mSyntaxError\u001b[0m\u001b[1;31m:\u001b[0m 'return' outside function\n"
     ]
    }
   ],
   "source": [
    "if a == 11:\n",
    "    print('This is my first condition')\n",
    "return False"
   ]
  },
  {
   "cell_type": "code",
   "execution_count": 16,
   "id": "4fba7a86-0f52-4597-8de2-bc2a4b1678c3",
   "metadata": {},
   "outputs": [],
   "source": [
    "a = 10\n",
    "if a > 5:\n",
    "    pass"
   ]
  },
  {
   "cell_type": "code",
   "execution_count": 18,
   "id": "21fd1b1d-c3b8-4e0d-b486-c7f8eaf7cbdd",
   "metadata": {},
   "outputs": [
    {
     "name": "stdout",
     "output_type": "stream",
     "text": [
      "print this if condition is true\n"
     ]
    }
   ],
   "source": [
    "if a > 8:\n",
    "    print('print this if condition is true')"
   ]
  },
  {
   "cell_type": "code",
   "execution_count": 19,
   "id": "16dae473-63d9-4576-ad8d-d30d51767624",
   "metadata": {},
   "outputs": [],
   "source": [
    "if a < 8:\n",
    "    print('print this if condition is true')"
   ]
  },
  {
   "cell_type": "code",
   "execution_count": 21,
   "id": "1fbf71a5-0fa6-456e-a77d-7a9b81cbe23b",
   "metadata": {},
   "outputs": [
    {
     "name": "stdout",
     "output_type": "stream",
     "text": [
      "My condition is True\n"
     ]
    }
   ],
   "source": [
    "a = 10\n",
    "if a != 11:\n",
    "    print('My condition is True')\n",
    "else:\n",
    "    print('My condition is False')"
   ]
  },
  {
   "cell_type": "code",
   "execution_count": 22,
   "id": "96363518-067f-4e07-b2c5-7eeabbadb4be",
   "metadata": {},
   "outputs": [
    {
     "name": "stdout",
     "output_type": "stream",
     "text": [
      "My condition is False\n"
     ]
    }
   ],
   "source": [
    "a = 10\n",
    "if a == 11:\n",
    "    print('My condition is True')\n",
    "else:\n",
    "    print('My condition is False')"
   ]
  },
  {
   "cell_type": "code",
   "execution_count": 23,
   "id": "4a156233-81c7-4ce6-b981-cbf80c2d79f6",
   "metadata": {},
   "outputs": [
    {
     "name": "stdout",
     "output_type": "stream",
     "text": [
      "if all the blocks will fail, then do this\n"
     ]
    }
   ],
   "source": [
    "a = 10\n",
    "\n",
    "if a == 12:\n",
    "    print('we are trying to compare 10 with 11')\n",
    "elif a == 11:\n",
    "    print('we are trying to compare 10 with 11')\n",
    "else:\n",
    "    print('if all the blocks will fail, then do this')"
   ]
  },
  {
   "cell_type": "code",
   "execution_count": 24,
   "id": "f6573835-6bf5-4e9e-ae86-18e41e914816",
   "metadata": {},
   "outputs": [
    {
     "name": "stdout",
     "output_type": "stream",
     "text": [
      "we are trying to compare 10 with 11\n"
     ]
    }
   ],
   "source": [
    "a = 10\n",
    "\n",
    "if a == 12:\n",
    "    print('we are trying to compare 10 with 11')\n",
    "elif a == 10:\n",
    "    print('we are trying to compare 10 with 11')\n",
    "else:\n",
    "    print('if all the blocks will fail, then do this')"
   ]
  },
  {
   "cell_type": "code",
   "execution_count": 26,
   "id": "82c3db8a-6567-481d-b8f5-7e0fdff8b853",
   "metadata": {},
   "outputs": [
    {
     "ename": "SyntaxError",
     "evalue": "EOL while scanning string literal (Temp/ipykernel_27524/3363133664.py, line 4)",
     "output_type": "error",
     "traceback": [
      "\u001b[1;36m  File \u001b[1;32m\"C:\\Users\\SUNTECH\\AppData\\Local\\Temp/ipykernel_27524/3363133664.py\"\u001b[1;36m, line \u001b[1;32m4\u001b[0m\n\u001b[1;33m    print(\"May be i wont be able to buy a jacket')\u001b[0m\n\u001b[1;37m                                                  ^\u001b[0m\n\u001b[1;31mSyntaxError\u001b[0m\u001b[1;31m:\u001b[0m EOL while scanning string literal\n"
     ]
    }
   ],
   "source": [
    "price = 500\n",
    "\n",
    "if price > 500:\n",
    "    print(\"May be i wont be able to buy a jacket')\n",
    "elif price < 500:\n",
    "          print(\"I will be able to buy a jacket')"
   ]
  },
  {
   "cell_type": "code",
   "execution_count": 29,
   "id": "284ebfb1-3cc5-44ee-ac28-9c1c44e3f283",
   "metadata": {},
   "outputs": [],
   "source": [
    "price = 500\n",
    "\n",
    "if price > 500:\n",
    "    print(\"May be i wont able to buy a jacket\")\n",
    "elif price < 500:\n",
    "    print(\"I will be able to buy a jacket\")"
   ]
  },
  {
   "cell_type": "code",
   "execution_count": 30,
   "id": "8bd2ce3d-0252-4708-a11b-ca1c2b460ca6",
   "metadata": {},
   "outputs": [
    {
     "name": "stdout",
     "output_type": "stream",
     "text": [
      "I will be able to buy a jacket\n"
     ]
    }
   ],
   "source": [
    "price = 500\n",
    "\n",
    "if price > 500:\n",
    "    print(\"May be i wont able to buy a jacket\")\n",
    "elif price <= 500:\n",
    "    print(\"I will be able to buy a jacket\")"
   ]
  },
  {
   "cell_type": "code",
   "execution_count": 31,
   "id": "07c4b775-126b-49e0-ae3a-745860509bae",
   "metadata": {},
   "outputs": [
    {
     "ename": "SyntaxError",
     "evalue": "invalid syntax (Temp/ipykernel_27524/524172461.py, line 7)",
     "output_type": "error",
     "traceback": [
      "\u001b[1;36m  File \u001b[1;32m\"C:\\Users\\SUNTECH\\AppData\\Local\\Temp/ipykernel_27524/524172461.py\"\u001b[1;36m, line \u001b[1;32m7\u001b[0m\n\u001b[1;33m    else price == 500:\u001b[0m\n\u001b[1;37m         ^\u001b[0m\n\u001b[1;31mSyntaxError\u001b[0m\u001b[1;31m:\u001b[0m invalid syntax\n"
     ]
    }
   ],
   "source": [
    "price = 500\n",
    "\n",
    "if price > 500:\n",
    "    print(\"May be i wont able to buy a jacket\")\n",
    "elif price <= 500:\n",
    "    print(\"I will be able to buy a jacket\")\n",
    "else price == 500:\n",
    "    print(\"i dont know')"
   ]
  },
  {
   "cell_type": "code",
   "execution_count": 33,
   "id": "12cf7fde-fa2b-4a71-840f-96d50c7b823f",
   "metadata": {},
   "outputs": [
    {
     "name": "stdout",
     "output_type": "stream",
     "text": [
      "I will be able to buy a jacket\n"
     ]
    }
   ],
   "source": [
    "price = 500\n",
    "\n",
    "if price > 500:\n",
    "    print(\"May be i wont able to buy a jacket\")\n",
    "elif price <= 500:\n",
    "    print(\"I will be able to buy a jacket\")\n",
    "elif price == 500:\n",
    "    print(\"I will be able to buy a jacket\")\n",
    "else:\n",
    "    print(\"i dont know\")"
   ]
  },
  {
   "cell_type": "code",
   "execution_count": 34,
   "id": "d26e6a03-a482-48d4-9c06-1a72e58d9f44",
   "metadata": {},
   "outputs": [
    {
     "name": "stdout",
     "output_type": "stream",
     "text": [
      "True\n"
     ]
    }
   ],
   "source": [
    "l = [1,2,3,4,5,6]\n",
    "\n",
    "if 6 in l:\n",
    "    print(True)"
   ]
  },
  {
   "cell_type": "code",
   "execution_count": 35,
   "id": "1521bb6e-7db1-4290-b95c-b547d11e852c",
   "metadata": {},
   "outputs": [
    {
     "name": "stdout",
     "output_type": "stream",
     "text": [
      "True\n"
     ]
    }
   ],
   "source": [
    "l = [1,2,3,4,5,6]\n",
    "\n",
    "if len(l) in l:\n",
    "    print(True)"
   ]
  },
  {
   "cell_type": "code",
   "execution_count": 40,
   "id": "3d657837-1732-4002-be4e-a3fe0adcc771",
   "metadata": {},
   "outputs": [
    {
     "name": "stdout",
     "output_type": "stream",
     "text": [
      "Try to perform a task\n"
     ]
    }
   ],
   "source": [
    "l = [1,2,3,4,5,6]\n",
    "if 2 in l:\n",
    "    print('Try to perform a task')\n",
    "else:\n",
    "    print('Do not perform task')"
   ]
  },
  {
   "cell_type": "code",
   "execution_count": 41,
   "id": "62f68472-a3a0-41e0-bddb-2c288354c2ef",
   "metadata": {},
   "outputs": [
    {
     "name": "stdout",
     "output_type": "stream",
     "text": [
      "Do not perform task\n"
     ]
    }
   ],
   "source": [
    "l = [1,2,3,4,5,6]\n",
    "if 8 in l:\n",
    "    print('Try to perform a task')\n",
    "else:\n",
    "    print('Do not perform task')"
   ]
  },
  {
   "cell_type": "code",
   "execution_count": 42,
   "id": "677dae67-364c-4231-b695-8b31f60aa01a",
   "metadata": {},
   "outputs": [
    {
     "name": "stdout",
     "output_type": "stream",
     "text": [
      "Try to do addition\n"
     ]
    }
   ],
   "source": [
    "l = [1,2,3,4,5,6]\n",
    "if 1 in l:\n",
    "    print('Try to do addition')\n",
    "elif 2 in l:\n",
    "    print('Try to do substraction')\n",
    "elif 3 in l:\n",
    "    print('Try to so division')"
   ]
  },
  {
   "cell_type": "code",
   "execution_count": 43,
   "id": "8ecc4469-01f3-472f-b0bb-0d7948eba9ef",
   "metadata": {},
   "outputs": [
    {
     "name": "stdout",
     "output_type": "stream",
     "text": [
      "Try to do substraction\n",
      "Try to so division\n"
     ]
    }
   ],
   "source": [
    "if 10 in l:\n",
    "    print('Try to do addition')\n",
    "elif 2 in l:\n",
    "    print('Try to do substraction')\n",
    "elif 3 in l:\n",
    "    print('Try to so division')\n",
    "if 4 in l:\n",
    "    print('Try to so division')"
   ]
  },
  {
   "cell_type": "code",
   "execution_count": 44,
   "id": "dcf20d2a-8097-491c-8dc6-87c6a09db25a",
   "metadata": {},
   "outputs": [],
   "source": [
    "a = 400"
   ]
  },
  {
   "cell_type": "code",
   "execution_count": 57,
   "id": "46cf7b9b-2b9e-4cd2-bab3-2de6c6a3fe6b",
   "metadata": {},
   "outputs": [
    {
     "name": "stdin",
     "output_type": "stream",
     "text": [
      " 40\n"
     ]
    }
   ],
   "source": [
    "b = input() # by default input stores in string format"
   ]
  },
  {
   "cell_type": "code",
   "execution_count": 58,
   "id": "a7ddb6b0-e703-417a-b218-eff8953533b5",
   "metadata": {},
   "outputs": [
    {
     "data": {
      "text/plain": [
       "'40'"
      ]
     },
     "execution_count": 58,
     "metadata": {},
     "output_type": "execute_result"
    }
   ],
   "source": [
    "b"
   ]
  },
  {
   "cell_type": "code",
   "execution_count": 59,
   "id": "124054c4-a97d-47e8-a359-8a0167048f2a",
   "metadata": {},
   "outputs": [
    {
     "name": "stdin",
     "output_type": "stream",
     "text": [
      " Karthik\n"
     ]
    }
   ],
   "source": [
    "b = input()"
   ]
  },
  {
   "cell_type": "code",
   "execution_count": 60,
   "id": "7aa57ad9-6cc1-4b1c-8c1b-76e4a0b2b45f",
   "metadata": {},
   "outputs": [
    {
     "data": {
      "text/plain": [
       "'Karthik'"
      ]
     },
     "execution_count": 60,
     "metadata": {},
     "output_type": "execute_result"
    }
   ],
   "source": [
    "b"
   ]
  },
  {
   "cell_type": "code",
   "execution_count": 61,
   "id": "856a3d1a-1de1-475f-afd3-53f9dc096210",
   "metadata": {},
   "outputs": [
    {
     "name": "stdin",
     "output_type": "stream",
     "text": [
      " 400\n"
     ]
    }
   ],
   "source": [
    "b = int(input())"
   ]
  },
  {
   "cell_type": "code",
   "execution_count": 62,
   "id": "3f3c6ad9-6a35-4778-ad3a-be42d819cff6",
   "metadata": {},
   "outputs": [
    {
     "data": {
      "text/plain": [
       "400"
      ]
     },
     "execution_count": 62,
     "metadata": {},
     "output_type": "execute_result"
    }
   ],
   "source": [
    "b"
   ]
  },
  {
   "cell_type": "code",
   "execution_count": 64,
   "id": "5ece6865-f2f8-4a2b-bce3-3ea0d1c6ba07",
   "metadata": {},
   "outputs": [
    {
     "name": "stdin",
     "output_type": "stream",
     "text": [
      " 600\n"
     ]
    },
    {
     "name": "stdout",
     "output_type": "stream",
     "text": [
      "No wont buy\n"
     ]
    }
   ],
   "source": [
    "c = int(input())\n",
    "if c < 500:\n",
    "    print('I will be able to buy something')\n",
    "else:\n",
    "    print('No wont buy')"
   ]
  },
  {
   "cell_type": "code",
   "execution_count": 65,
   "id": "bee37b23-0fd7-46e2-8f4f-a73f23acd246",
   "metadata": {},
   "outputs": [
    {
     "name": "stdin",
     "output_type": "stream",
     "text": [
      " 600\n"
     ]
    },
    {
     "name": "stdout",
     "output_type": "stream",
     "text": [
      "I wont be able to buy anything with this price\n"
     ]
    }
   ],
   "source": [
    "price = int(input())\n",
    "\n",
    "if price < 500:\n",
    "    print('I will be able to buy something')\n",
    "    if price < 400:\n",
    "        print('I will be able to buy a Jacket')\n",
    "    elif price < 300:\n",
    "        print('I will be able to buy a shirt')\n",
    "    else:\n",
    "        print('I will be able to buy anything')\n",
    "else:\n",
    "    print('I wont be able to buy anything with this price')"
   ]
  },
  {
   "cell_type": "code",
   "execution_count": 66,
   "id": "e1b48cfd-622b-4f8a-ad00-e10c9fd1be81",
   "metadata": {},
   "outputs": [
    {
     "name": "stdin",
     "output_type": "stream",
     "text": [
      " 300\n"
     ]
    },
    {
     "name": "stdout",
     "output_type": "stream",
     "text": [
      "I will be able to buy something\n",
      "I will be able to buy a Jacket\n"
     ]
    }
   ],
   "source": [
    "price = int(input())\n",
    "\n",
    "if price < 500:\n",
    "    print('I will be able to buy something')\n",
    "    if price < 400:\n",
    "        print('I will be able to buy a Jacket')\n",
    "    elif price < 300:\n",
    "        print('I will be able to buy a shirt')\n",
    "    else:\n",
    "        print('I will be able to buy anything')\n",
    "else:\n",
    "    print('I wont be able to buy anything with this price')"
   ]
  },
  {
   "cell_type": "code",
   "execution_count": 70,
   "id": "303f64db-6734-4d61-b78b-a06f43913932",
   "metadata": {},
   "outputs": [
    {
     "name": "stdin",
     "output_type": "stream",
     "text": [
      " 501\n"
     ]
    },
    {
     "name": "stdout",
     "output_type": "stream",
     "text": [
      "I wont be able to buy anything with this price\n",
      "I will try something else\n"
     ]
    }
   ],
   "source": [
    "price = int(input())\n",
    "\n",
    "if price < 500:\n",
    "    print('I will be able to buy something')\n",
    "    if price < 400:\n",
    "        print('I will be able to buy a Jacket')\n",
    "    elif price < 300:\n",
    "        print('I will be able to buy a shirt')\n",
    "        if price < 200:\n",
    "            print('I will be able to do something')\n",
    "    else:\n",
    "        print('I will be able to buy anything')\n",
    "else:\n",
    "    print('I wont be able to buy anything with this price')\n",
    "    if price > 500:\n",
    "        print('I will try something else')"
   ]
  },
  {
   "cell_type": "code",
   "execution_count": 75,
   "id": "1e0610a4-a5c6-41e4-8f21-f23679672d9b",
   "metadata": {},
   "outputs": [
    {
     "name": "stdin",
     "output_type": "stream",
     "text": [
      " 300\n"
     ]
    },
    {
     "name": "stdout",
     "output_type": "stream",
     "text": [
      "No GRE\n",
      "TOFEL\n",
      "Try Some thing else\n"
     ]
    }
   ],
   "source": [
    "marks = int(input())\n",
    "\n",
    "if marks < 600:\n",
    "    print(\"No GRE\")\n",
    "    if marks < 500:\n",
    "        print(\"TOFEL\")\n",
    "        if marks < 400:\n",
    "            print(\"Try Some thing else\")\n",
    "else:\n",
    "    print(\"GRE\")"
   ]
  },
  {
   "cell_type": "code",
   "execution_count": 82,
   "id": "5b2888ed-8ebf-4063-8650-762fa1db06b6",
   "metadata": {},
   "outputs": [
    {
     "name": "stdin",
     "output_type": "stream",
     "text": [
      "Enter the number: 0\n"
     ]
    },
    {
     "name": "stdout",
     "output_type": "stream",
     "text": [
      "Entered value is Zero\n"
     ]
    }
   ],
   "source": [
    "val = float(input(\"Enter the number:\"))\n",
    "            \n",
    "if val >= 0:\n",
    "    if val == 0:\n",
    "        print(\"Entered value is Zero\")\n",
    "    else:\n",
    "        print(\"Entered value is a Positive number\")\n",
    "else:\n",
    "    print(\"Entered value is a Negative number\")\n",
    "    "
   ]
  },
  {
   "cell_type": "code",
   "execution_count": 84,
   "id": "48c21d43-6e6f-4170-a6a1-3152eb76c139",
   "metadata": {},
   "outputs": [
    {
     "name": "stdout",
     "output_type": "stream",
     "text": [
      "Try to do something\n"
     ]
    }
   ],
   "source": [
    "a = 10\n",
    "\n",
    "if a < 10 or a == 10:\n",
    "    print('Try to do something')"
   ]
  },
  {
   "cell_type": "code",
   "execution_count": 85,
   "id": "0ec4f3dd-5adc-4e9f-b73f-b93f88055719",
   "metadata": {},
   "outputs": [],
   "source": [
    "a = 10\n",
    "\n",
    "if a < 10 or a > 10:\n",
    "    print(True)"
   ]
  },
  {
   "cell_type": "code",
   "execution_count": 87,
   "id": "c7f2590d-da76-419f-8e55-2bf40e336d66",
   "metadata": {},
   "outputs": [
    {
     "name": "stdout",
     "output_type": "stream",
     "text": [
      "False\n"
     ]
    }
   ],
   "source": [
    "a = 10\n",
    "\n",
    "if a < 10 and a == 10:\n",
    "    print(True)\n",
    "else:\n",
    "    print(False)"
   ]
  },
  {
   "cell_type": "code",
   "execution_count": 88,
   "id": "33e1523f-49aa-4715-b357-3169a0641ee7",
   "metadata": {},
   "outputs": [
    {
     "name": "stdout",
     "output_type": "stream",
     "text": [
      "True\n"
     ]
    }
   ],
   "source": [
    "a = 10\n",
    "\n",
    "if a < 11 and a == 10:\n",
    "    print(True)\n",
    "else:\n",
    "    print(False)"
   ]
  },
  {
   "cell_type": "code",
   "execution_count": 89,
   "id": "bc7d2082-b485-4f71-9964-a304a06231bf",
   "metadata": {},
   "outputs": [
    {
     "name": "stdout",
     "output_type": "stream",
     "text": [
      "False\n"
     ]
    }
   ],
   "source": [
    "a = 'karthik'\n",
    "\n",
    "if a == 'karthik' and a == 'Karthik':\n",
    "    print(True)\n",
    "else:\n",
    "    print(False)"
   ]
  },
  {
   "cell_type": "code",
   "execution_count": 90,
   "id": "56a8b893-3e8e-4c60-a9b3-5ccab4aa9059",
   "metadata": {},
   "outputs": [
    {
     "name": "stdout",
     "output_type": "stream",
     "text": [
      "True\n"
     ]
    }
   ],
   "source": [
    "a = 'karthik'\n",
    "\n",
    "if a == 'karthik' and a != 'Karthik':\n",
    "    print(True)\n",
    "else:\n",
    "    print(False)"
   ]
  },
  {
   "cell_type": "code",
   "execution_count": 91,
   "id": "62c6ef28-a2ef-4663-9fc2-02ff7bfcaf73",
   "metadata": {},
   "outputs": [
    {
     "name": "stdout",
     "output_type": "stream",
     "text": [
      "False\n"
     ]
    }
   ],
   "source": [
    "a = 10\n",
    "b = 11\n",
    "c = 12\n",
    "d = 13\n",
    "\n",
    "if a == 9 and b == 11 and c == 12  and d == 13:\n",
    "    print(True)\n",
    "else:\n",
    "    print(False)"
   ]
  },
  {
   "cell_type": "code",
   "execution_count": 92,
   "id": "6cbe7a4e-d652-46ba-bddd-0f91e836726d",
   "metadata": {},
   "outputs": [
    {
     "name": "stdout",
     "output_type": "stream",
     "text": [
      "True\n"
     ]
    }
   ],
   "source": [
    "a = 10\n",
    "b = 11\n",
    "c = 12\n",
    "d = 13\n",
    "\n",
    "if a == 9 or b == 11 and c == 12  and d == 13:\n",
    "    print(True)\n",
    "else:\n",
    "    print(False)"
   ]
  },
  {
   "cell_type": "code",
   "execution_count": 95,
   "id": "2237764d-5abf-4d73-af69-69468c910da1",
   "metadata": {},
   "outputs": [
    {
     "name": "stdout",
     "output_type": "stream",
     "text": [
      "All the values are verified\n",
      "dict_values(['Value', 'karthik', 'ineuron'])\n"
     ]
    }
   ],
   "source": [
    "d = {'Key1':'Value','Key2':'karthik','Key3':'ineuron'}\n",
    "\n",
    "if d['Key1'] == 'Value' and d['Key2'] == 'karthik' and d['Key3'] == 'ineuron':\n",
    "    print(\"All the values are verified\")\n",
    "    print(d.values())\n",
    "else:\n",
    "    print(\"All the values are not verified\")"
   ]
  },
  {
   "cell_type": "code",
   "execution_count": 96,
   "id": "b955e8a1-5f51-440c-82de-197d36fb72c8",
   "metadata": {},
   "outputs": [
    {
     "name": "stdout",
     "output_type": "stream",
     "text": [
      "All the values are not verified\n"
     ]
    }
   ],
   "source": [
    "d = {'Key1':'Value','Key2':'karthik','Key3':'ineuron'}\n",
    "\n",
    "if d['Key1'] == 'Value' and d['Key2'] == 'Karthik' and d['Key3'] == 'ineuron':\n",
    "    print(\"All the values are verified\")\n",
    "    print(d.values())\n",
    "else:\n",
    "    print(\"All the values are not verified\")"
   ]
  },
  {
   "cell_type": "markdown",
   "id": "e8c23b99-8ba3-4c57-9608-f44b2fa26004",
   "metadata": {},
   "source": [
    "# Loops"
   ]
  },
  {
   "cell_type": "code",
   "execution_count": 97,
   "id": "b078be25-3861-4694-91e6-c936e1e6d91f",
   "metadata": {},
   "outputs": [],
   "source": [
    "l = [1,2,3,4,5,'Karthik', True, [1,2,3]]"
   ]
  },
  {
   "cell_type": "code",
   "execution_count": 101,
   "id": "b49c11d8-617a-496e-a378-05c5b241ba9a",
   "metadata": {},
   "outputs": [
    {
     "name": "stdout",
     "output_type": "stream",
     "text": [
      "1\n",
      "<class 'int'>\n",
      "2\n",
      "<class 'int'>\n",
      "3\n",
      "<class 'int'>\n",
      "4\n",
      "<class 'int'>\n",
      "5\n",
      "<class 'int'>\n",
      "Karthik\n",
      "<class 'str'>\n",
      "True\n",
      "<class 'bool'>\n",
      "[1, 2, 3]\n",
      "<class 'list'>\n"
     ]
    }
   ],
   "source": [
    "for i in l:\n",
    "    print(i)\n",
    "    print(type(i))"
   ]
  },
  {
   "cell_type": "code",
   "execution_count": 104,
   "id": "22080c6d-c2f4-43de-9ee0-47777e4e864f",
   "metadata": {},
   "outputs": [
    {
     "ename": "TypeError",
     "evalue": "'int' object is not iterable",
     "output_type": "error",
     "traceback": [
      "\u001b[1;31m---------------------------------------------------------------------------\u001b[0m",
      "\u001b[1;31mTypeError\u001b[0m                                 Traceback (most recent call last)",
      "\u001b[1;32m~\\AppData\\Local\\Temp/ipykernel_27524/2981510653.py\u001b[0m in \u001b[0;36m<module>\u001b[1;34m\u001b[0m\n\u001b[1;32m----> 1\u001b[1;33m \u001b[1;32mfor\u001b[0m \u001b[0mi\u001b[0m \u001b[1;32min\u001b[0m \u001b[0mlen\u001b[0m\u001b[1;33m(\u001b[0m\u001b[0ml\u001b[0m\u001b[1;33m)\u001b[0m\u001b[1;33m:\u001b[0m\u001b[1;33m\u001b[0m\u001b[1;33m\u001b[0m\u001b[0m\n\u001b[0m\u001b[0;32m      2\u001b[0m     \u001b[0mprint\u001b[0m\u001b[1;33m(\u001b[0m\u001b[0mi\u001b[0m\u001b[1;33m)\u001b[0m\u001b[1;33m\u001b[0m\u001b[1;33m\u001b[0m\u001b[0m\n",
      "\u001b[1;31mTypeError\u001b[0m: 'int' object is not iterable"
     ]
    }
   ],
   "source": [
    "for i in len(l):\n",
    "    print(i)"
   ]
  },
  {
   "cell_type": "code",
   "execution_count": 105,
   "id": "fdb7555d-997b-4ee5-983a-99b521c79ce6",
   "metadata": {},
   "outputs": [
    {
     "name": "stdout",
     "output_type": "stream",
     "text": [
      "0\n",
      "1\n",
      "2\n",
      "3\n",
      "4\n",
      "5\n",
      "6\n",
      "7\n"
     ]
    }
   ],
   "source": [
    "for i in range(len(l)):\n",
    "    print(i)"
   ]
  },
  {
   "cell_type": "code",
   "execution_count": 106,
   "id": "cdd3724f-1f8c-43d3-8a17-a484202a8a73",
   "metadata": {},
   "outputs": [
    {
     "name": "stdout",
     "output_type": "stream",
     "text": [
      "2\n",
      "3\n",
      "4\n",
      "5\n",
      "6\n"
     ]
    },
    {
     "ename": "TypeError",
     "evalue": "can only concatenate str (not \"int\") to str",
     "output_type": "error",
     "traceback": [
      "\u001b[1;31m---------------------------------------------------------------------------\u001b[0m",
      "\u001b[1;31mTypeError\u001b[0m                                 Traceback (most recent call last)",
      "\u001b[1;32m~\\AppData\\Local\\Temp/ipykernel_27524/792718838.py\u001b[0m in \u001b[0;36m<module>\u001b[1;34m\u001b[0m\n\u001b[0;32m      1\u001b[0m \u001b[1;32mfor\u001b[0m \u001b[0mi\u001b[0m \u001b[1;32min\u001b[0m \u001b[0ml\u001b[0m\u001b[1;33m:\u001b[0m\u001b[1;33m\u001b[0m\u001b[1;33m\u001b[0m\u001b[0m\n\u001b[1;32m----> 2\u001b[1;33m     \u001b[0mprint\u001b[0m\u001b[1;33m(\u001b[0m\u001b[0mi\u001b[0m \u001b[1;33m+\u001b[0m \u001b[1;36m1\u001b[0m\u001b[1;33m)\u001b[0m\u001b[1;33m\u001b[0m\u001b[1;33m\u001b[0m\u001b[0m\n\u001b[0m",
      "\u001b[1;31mTypeError\u001b[0m: can only concatenate str (not \"int\") to str"
     ]
    }
   ],
   "source": [
    "l = [1,2,3,4,5,'Karthik', True, [1,2,3]]\n",
    "\n",
    "for i in l:\n",
    "    print(i + 1)"
   ]
  },
  {
   "cell_type": "code",
   "execution_count": 107,
   "id": "ab3dec79-3c12-4c5e-a4e9-0f19f126b5cf",
   "metadata": {},
   "outputs": [
    {
     "name": "stdout",
     "output_type": "stream",
     "text": [
      "2\n",
      "3\n",
      "4\n",
      "5\n",
      "6\n",
      "7\n",
      "8\n",
      "9\n"
     ]
    }
   ],
   "source": [
    "l = [1,2,3,4,5,6,7,8]\n",
    "\n",
    "for i in l:\n",
    "    print(i + 1)"
   ]
  },
  {
   "cell_type": "code",
   "execution_count": 111,
   "id": "8ab364b2-e5a4-427f-aacb-d73eb00a3655",
   "metadata": {},
   "outputs": [
    {
     "name": "stdout",
     "output_type": "stream",
     "text": [
      "2\n",
      "3\n",
      "4\n",
      "5\n",
      "6\n",
      "Karthik\n",
      "1\n",
      "2\n",
      "3\n",
      "51.5\n"
     ]
    }
   ],
   "source": [
    "l = [1,2,3,4,5,'Karthik', True, [1,2,3], 50.5]\n",
    "\n",
    "for i in l:\n",
    "    if type(i) == int or type(i) == float:\n",
    "        print(i+1)\n",
    "    if type(i) == str:\n",
    "        print(i)\n",
    "    if type(i) == list:\n",
    "        for j in i:\n",
    "            print(j)"
   ]
  },
  {
   "cell_type": "code",
   "execution_count": 113,
   "id": "5bc37f55-9358-4916-9a1b-233db9b12c9b",
   "metadata": {},
   "outputs": [
    {
     "name": "stdout",
     "output_type": "stream",
     "text": [
      "2\n",
      "3\n",
      "4\n",
      "5\n",
      "6\n",
      "Karthik\n",
      "1\n",
      "2\n",
      "3\n",
      "51.5\n"
     ]
    },
    {
     "data": {
      "text/plain": [
       "[1, 2, 3, 4, 5, 'Karthik', 1, 2, 3, 50.5]"
      ]
     },
     "execution_count": 113,
     "metadata": {},
     "output_type": "execute_result"
    }
   ],
   "source": [
    "l = [1,2,3,4,5,'Karthik', True, [1,2,3], 50.5]\n",
    "l1=[]\n",
    "for i in l:\n",
    "    if type(i) == int or type(i) == float:\n",
    "        print(i+1)\n",
    "        l1.append(i)\n",
    "    if type(i) == str:\n",
    "        print(i)\n",
    "        l1.append(i)\n",
    "    if type(i) == list:\n",
    "        for j in i:\n",
    "            print(j)\n",
    "            l1.append(j)\n",
    "\n",
    "l1"
   ]
  },
  {
   "cell_type": "code",
   "execution_count": 115,
   "id": "8535f9cd-cd33-4ec7-b0fc-71000ca3365b",
   "metadata": {},
   "outputs": [
    {
     "ename": "AttributeError",
     "evalue": "'int' object has no attribute 'isapha'",
     "output_type": "error",
     "traceback": [
      "\u001b[1;31m---------------------------------------------------------------------------\u001b[0m",
      "\u001b[1;31mAttributeError\u001b[0m                            Traceback (most recent call last)",
      "\u001b[1;32m~\\AppData\\Local\\Temp/ipykernel_27524/1469521948.py\u001b[0m in \u001b[0;36m<module>\u001b[1;34m\u001b[0m\n\u001b[0;32m      2\u001b[0m \u001b[0ml1\u001b[0m\u001b[1;33m=\u001b[0m\u001b[1;33m[\u001b[0m\u001b[1;33m]\u001b[0m\u001b[1;33m\u001b[0m\u001b[1;33m\u001b[0m\u001b[0m\n\u001b[0;32m      3\u001b[0m \u001b[1;32mfor\u001b[0m \u001b[0mi\u001b[0m \u001b[1;32min\u001b[0m \u001b[0ml\u001b[0m\u001b[1;33m:\u001b[0m\u001b[1;33m\u001b[0m\u001b[1;33m\u001b[0m\u001b[0m\n\u001b[1;32m----> 4\u001b[1;33m     \u001b[1;32mif\u001b[0m \u001b[0mi\u001b[0m\u001b[1;33m.\u001b[0m\u001b[0misapha\u001b[0m \u001b[1;33m==\u001b[0m \u001b[1;32mTrue\u001b[0m\u001b[1;33m:\u001b[0m\u001b[1;33m\u001b[0m\u001b[1;33m\u001b[0m\u001b[0m\n\u001b[0m\u001b[0;32m      5\u001b[0m         \u001b[0mprint\u001b[0m\u001b[1;33m(\u001b[0m\u001b[0mi\u001b[0m\u001b[1;33m)\u001b[0m\u001b[1;33m\u001b[0m\u001b[1;33m\u001b[0m\u001b[0m\n",
      "\u001b[1;31mAttributeError\u001b[0m: 'int' object has no attribute 'isapha'"
     ]
    }
   ],
   "source": [
    "l = [1,2,3,4,5,'Karthik', True, [1,2,3], 50.5]\n",
    "l1=[]\n",
    "for i in l:\n",
    "    if i.isapha == True:\n",
    "        print(i)"
   ]
  },
  {
   "cell_type": "code",
   "execution_count": 121,
   "id": "d79bb59c-86f3-49f6-a6e9-5a63c31d0997",
   "metadata": {},
   "outputs": [
    {
     "ename": "AttributeError",
     "evalue": "'int' object has no attribute 'isalpha'",
     "output_type": "error",
     "traceback": [
      "\u001b[1;31m---------------------------------------------------------------------------\u001b[0m",
      "\u001b[1;31mAttributeError\u001b[0m                            Traceback (most recent call last)",
      "\u001b[1;32m~\\AppData\\Local\\Temp/ipykernel_27524/2961026914.py\u001b[0m in \u001b[0;36m<module>\u001b[1;34m\u001b[0m\n\u001b[0;32m      2\u001b[0m \u001b[0ml1\u001b[0m\u001b[1;33m=\u001b[0m\u001b[1;33m[\u001b[0m\u001b[1;33m]\u001b[0m\u001b[1;33m\u001b[0m\u001b[1;33m\u001b[0m\u001b[0m\n\u001b[0;32m      3\u001b[0m \u001b[1;32mfor\u001b[0m \u001b[0mi\u001b[0m \u001b[1;32min\u001b[0m \u001b[0ml\u001b[0m\u001b[1;33m:\u001b[0m\u001b[1;33m\u001b[0m\u001b[1;33m\u001b[0m\u001b[0m\n\u001b[1;32m----> 4\u001b[1;33m     \u001b[1;32mif\u001b[0m \u001b[0mi\u001b[0m\u001b[1;33m.\u001b[0m\u001b[0misalpha\u001b[0m\u001b[1;33m(\u001b[0m\u001b[1;33m)\u001b[0m \u001b[1;33m==\u001b[0m \u001b[1;32mTrue\u001b[0m\u001b[1;33m:\u001b[0m\u001b[1;33m\u001b[0m\u001b[1;33m\u001b[0m\u001b[0m\n\u001b[0m\u001b[0;32m      5\u001b[0m         \u001b[0mprint\u001b[0m\u001b[1;33m(\u001b[0m\u001b[0mi\u001b[0m\u001b[1;33m)\u001b[0m\u001b[1;33m\u001b[0m\u001b[1;33m\u001b[0m\u001b[0m\n",
      "\u001b[1;31mAttributeError\u001b[0m: 'int' object has no attribute 'isalpha'"
     ]
    }
   ],
   "source": [
    "l = [1,2,3,4,5,'Karthik', True, [1,2,3], 50.5]\n",
    "l1=[]\n",
    "for i in l:\n",
    "    if i.isalpha() == True:\n",
    "        print(i)"
   ]
  },
  {
   "cell_type": "code",
   "execution_count": 117,
   "id": "080bcfd3-9f53-4269-bb1d-abc0aae2adff",
   "metadata": {},
   "outputs": [],
   "source": [
    "a.isalpha"
   ]
  },
  {
   "cell_type": "code",
   "execution_count": 118,
   "id": "5a1ac598-735c-406d-a611-8764a8173583",
   "metadata": {},
   "outputs": [
    {
     "data": {
      "text/plain": [
       "False"
      ]
     },
     "execution_count": 118,
     "metadata": {},
     "output_type": "execute_result"
    }
   ],
   "source": []
  },
  {
   "cell_type": "code",
   "execution_count": null,
   "id": "4daf33c3-b2c2-40d1-83fe-0998b7cc1391",
   "metadata": {},
   "outputs": [],
   "source": []
  }
 ],
 "metadata": {
  "kernelspec": {
   "display_name": "Python 3 (ipykernel)",
   "language": "python",
   "name": "python3"
  },
  "language_info": {
   "codemirror_mode": {
    "name": "ipython",
    "version": 3
   },
   "file_extension": ".py",
   "mimetype": "text/x-python",
   "name": "python",
   "nbconvert_exporter": "python",
   "pygments_lexer": "ipython3",
   "version": "3.9.7"
  }
 },
 "nbformat": 4,
 "nbformat_minor": 5
}
