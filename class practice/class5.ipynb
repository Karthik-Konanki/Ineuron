{
 "cells": [
  {
   "cell_type": "markdown",
   "id": "121349b2-34a9-48f4-88fa-8772c8a5b6bc",
   "metadata": {},
   "source": [
    "# Looping Statements"
   ]
  },
  {
   "cell_type": "code",
   "execution_count": 2,
   "id": "52d7df07-d513-45fc-a1db-ebce3a9697d1",
   "metadata": {},
   "outputs": [],
   "source": [
    "l = [1, 2, 3, 4, 5, 'Karthik', [1,2,3],(1,2,3), True]"
   ]
  },
  {
   "cell_type": "code",
   "execution_count": 3,
   "id": "fb70e3dd-7865-457c-a527-347ae671b718",
   "metadata": {},
   "outputs": [
    {
     "name": "stdout",
     "output_type": "stream",
     "text": [
      "1\n",
      "2\n",
      "3\n",
      "4\n",
      "5\n",
      "Karthik\n",
      "[1, 2, 3]\n",
      "(1, 2, 3)\n",
      "True\n"
     ]
    }
   ],
   "source": [
    "for i in l:\n",
    "    print(i)"
   ]
  },
  {
   "cell_type": "code",
   "execution_count": 6,
   "id": "eb4b367d-f3d2-467a-818d-fb4927d7c8df",
   "metadata": {},
   "outputs": [
    {
     "name": "stdout",
     "output_type": "stream",
     "text": [
      "1\n",
      "2\n",
      "3\n",
      "4\n",
      "5\n",
      "Karthik\n",
      "K\n",
      "a\n",
      "r\n",
      "t\n",
      "h\n",
      "i\n",
      "k\n",
      "1\n",
      "2\n",
      "3\n",
      "1\n",
      "2\n",
      "3\n",
      "True\n"
     ]
    }
   ],
   "source": [
    "for i in l:\n",
    "    if type(i) == int:\n",
    "        print(i)\n",
    "    if type(i) == str:\n",
    "        print(i)\n",
    "        for j in i:\n",
    "            print(j)\n",
    "    if type(i) == list:\n",
    "        for k in i:\n",
    "            print(k)\n",
    "    if type(i) == tuple:\n",
    "        for m in i:\n",
    "            print(m)\n",
    "    if type(i) == bool:\n",
    "        print(i)\n",
    "    "
   ]
  },
  {
   "cell_type": "code",
   "execution_count": 7,
   "id": "186a413d-441e-4ca5-a456-b3f795473f5e",
   "metadata": {},
   "outputs": [],
   "source": [
    "for i in l:\n",
    "    pass"
   ]
  },
  {
   "cell_type": "code",
   "execution_count": 8,
   "id": "09444375-22b0-4d1e-a4aa-a8a7befad99a",
   "metadata": {},
   "outputs": [],
   "source": [
    "name = 'Karthik'"
   ]
  },
  {
   "cell_type": "code",
   "execution_count": 9,
   "id": "a07dcaaa-0538-419a-9f60-547f1224c500",
   "metadata": {},
   "outputs": [
    {
     "name": "stdout",
     "output_type": "stream",
     "text": [
      "K\n",
      "a\n",
      "r\n",
      "t\n",
      "h\n",
      "i\n",
      "k\n"
     ]
    }
   ],
   "source": [
    "for i in name:\n",
    "    print(i)"
   ]
  },
  {
   "cell_type": "code",
   "execution_count": 10,
   "id": "45530be0-dbe6-4db2-8837-db7413a7469d",
   "metadata": {},
   "outputs": [
    {
     "name": "stdout",
     "output_type": "stream",
     "text": [
      "K\n",
      "a\n",
      "r\n",
      "t\n",
      "h\n",
      "i\n",
      "k\n"
     ]
    }
   ],
   "source": [
    "for _ in name:\n",
    "    print(_)"
   ]
  },
  {
   "cell_type": "code",
   "execution_count": 11,
   "id": "a63c4e67-4060-407c-81e9-6e620b8f9e67",
   "metadata": {},
   "outputs": [
    {
     "data": {
      "text/plain": [
       "'k'"
      ]
     },
     "execution_count": 11,
     "metadata": {},
     "output_type": "execute_result"
    }
   ],
   "source": [
    "_"
   ]
  },
  {
   "cell_type": "code",
   "execution_count": 21,
   "id": "fdae2426-c49e-41a3-8acd-c3c97d9f61f6",
   "metadata": {},
   "outputs": [
    {
     "name": "stdout",
     "output_type": "stream",
     "text": [
      "1\n",
      "2\n",
      "3\n",
      "4\n",
      "5\n",
      "Karthik\n",
      "[1, 2, 3]\n",
      "(1, 2, 3)\n",
      "True\n",
      "If loop is going to complete itself will execute else\n"
     ]
    }
   ],
   "source": [
    "for i in l:     #else will works if iterable is completed\n",
    "    print(i)\n",
    "else:\n",
    "    print('If loop is going to complete itself will execute else')"
   ]
  },
  {
   "cell_type": "code",
   "execution_count": 22,
   "id": "e21e2ec4-4adb-436b-951d-97d9ff126ea8",
   "metadata": {},
   "outputs": [
    {
     "name": "stdout",
     "output_type": "stream",
     "text": [
      "1\n",
      "2\n",
      "3\n"
     ]
    }
   ],
   "source": [
    "for i in l:\n",
    "    if i == 4:\n",
    "        break\n",
    "    print(i)\n",
    "else:\n",
    "    print('This will execute only if for is going to complete')"
   ]
  },
  {
   "cell_type": "code",
   "execution_count": 24,
   "id": "8462cd55-2300-4ad8-bd87-b8c878512973",
   "metadata": {},
   "outputs": [
    {
     "name": "stdout",
     "output_type": "stream",
     "text": [
      "K\n",
      "a\n",
      "r\n"
     ]
    }
   ],
   "source": [
    "for i in name:\n",
    "    if i == 't':\n",
    "        break\n",
    "    print(i)\n",
    "else:\n",
    "    print('print string', name)"
   ]
  },
  {
   "cell_type": "code",
   "execution_count": 26,
   "id": "62dc51b5-dba2-4bc1-a912-adea6502dd64",
   "metadata": {},
   "outputs": [
    {
     "name": "stdout",
     "output_type": "stream",
     "text": [
      "K\n",
      "a\n",
      "r\n"
     ]
    }
   ],
   "source": [
    "for i in name:\n",
    "    if i == 't':\n",
    "        break\n",
    "    print(i)\n",
    "else:\n",
    "    print('print string', name)"
   ]
  },
  {
   "cell_type": "code",
   "execution_count": 28,
   "id": "4ce30712-6e16-4cf8-97b9-e48447a3cb3f",
   "metadata": {},
   "outputs": [
    {
     "name": "stdout",
     "output_type": "stream",
     "text": [
      "K\n",
      "a\n",
      "r\n",
      "t\n",
      "h\n",
      "i\n",
      "k\n",
      "Print string: Karthik\n"
     ]
    }
   ],
   "source": [
    "for i in name:\n",
    "    if i == 'm':\n",
    "        break\n",
    "    print(i)\n",
    "else:\n",
    "    print('Print string:', name)"
   ]
  },
  {
   "cell_type": "code",
   "execution_count": 29,
   "id": "a8a51ddf-93ab-4ac8-ab4b-f51bba52e074",
   "metadata": {},
   "outputs": [],
   "source": [
    "t = (4, 5, 6, 7, 'Karthik', True)"
   ]
  },
  {
   "cell_type": "code",
   "execution_count": 30,
   "id": "a0bc2c72-eb49-4516-9cf9-b913a607a10c",
   "metadata": {},
   "outputs": [
    {
     "name": "stdout",
     "output_type": "stream",
     "text": [
      "4\n",
      "5\n",
      "6\n",
      "7\n",
      "Karthik\n",
      "True\n"
     ]
    }
   ],
   "source": [
    "for i in t:\n",
    "    print(i)"
   ]
  },
  {
   "cell_type": "code",
   "execution_count": 31,
   "id": "c315e28d-cca7-4e36-933d-6e7614a5f5a4",
   "metadata": {},
   "outputs": [],
   "source": [
    "d = {'key1': 'value', 234: 'xyz', 'name': 'sudh', 'no': 34324345, 'key4': 'sdfsf'}"
   ]
  },
  {
   "cell_type": "code",
   "execution_count": 32,
   "id": "951148ff-522d-4944-9a53-d19bb8a8a199",
   "metadata": {},
   "outputs": [
    {
     "name": "stdout",
     "output_type": "stream",
     "text": [
      "key1\n",
      "234\n",
      "name\n",
      "no\n",
      "key4\n"
     ]
    }
   ],
   "source": [
    "for i in d:\n",
    "    print(i)"
   ]
  },
  {
   "cell_type": "code",
   "execution_count": 33,
   "id": "c428e2a5-8cbb-4a88-911d-f0554a78f963",
   "metadata": {},
   "outputs": [
    {
     "name": "stdout",
     "output_type": "stream",
     "text": [
      "value\n",
      "xyz\n",
      "sudh\n",
      "34324345\n",
      "sdfsf\n"
     ]
    }
   ],
   "source": [
    "for i in d:\n",
    "    print(d[i])"
   ]
  },
  {
   "cell_type": "code",
   "execution_count": 41,
   "id": "f1764f87-03f6-4121-8320-f4246289528b",
   "metadata": {},
   "outputs": [
    {
     "ename": "TypeError",
     "evalue": "'dict_items' object is not subscriptable",
     "output_type": "error",
     "traceback": [
      "\u001b[1;31m---------------------------------------------------------------------------\u001b[0m",
      "\u001b[1;31mTypeError\u001b[0m                                 Traceback (most recent call last)",
      "\u001b[1;32m~\\AppData\\Local\\Temp/ipykernel_18028/603861557.py\u001b[0m in \u001b[0;36m<module>\u001b[1;34m\u001b[0m\n\u001b[0;32m      1\u001b[0m \u001b[1;32mfor\u001b[0m \u001b[0mi\u001b[0m \u001b[1;32min\u001b[0m \u001b[0md\u001b[0m\u001b[1;33m:\u001b[0m\u001b[1;33m\u001b[0m\u001b[1;33m\u001b[0m\u001b[0m\n\u001b[1;32m----> 2\u001b[1;33m     \u001b[0mprint\u001b[0m\u001b[1;33m(\u001b[0m\u001b[0md\u001b[0m\u001b[1;33m.\u001b[0m\u001b[0mitems\u001b[0m\u001b[1;33m(\u001b[0m\u001b[1;33m)\u001b[0m\u001b[1;33m[\u001b[0m\u001b[0mi\u001b[0m\u001b[1;33m]\u001b[0m\u001b[1;33m)\u001b[0m\u001b[1;33m\u001b[0m\u001b[1;33m\u001b[0m\u001b[0m\n\u001b[0m",
      "\u001b[1;31mTypeError\u001b[0m: 'dict_items' object is not subscriptable"
     ]
    }
   ],
   "source": [
    "for i in d:\n",
    "    print(d.items()[i])"
   ]
  },
  {
   "cell_type": "code",
   "execution_count": 42,
   "id": "90dd2545-530e-4377-8f11-a34c8a857c7d",
   "metadata": {},
   "outputs": [
    {
     "name": "stdout",
     "output_type": "stream",
     "text": [
      "key1 : value\n",
      "234 : xyz\n",
      "name : sudh\n",
      "no : 34324345\n",
      "key4 : sdfsf\n"
     ]
    }
   ],
   "source": [
    "for i in d:\n",
    "    print(i,':', d[i])"
   ]
  },
  {
   "cell_type": "code",
   "execution_count": 43,
   "id": "87219f0f-4d89-43e9-9d9b-855442e03493",
   "metadata": {},
   "outputs": [],
   "source": [
    "s = {1, 5, 6, 4, 2}"
   ]
  },
  {
   "cell_type": "code",
   "execution_count": 44,
   "id": "c905053f-0672-4508-9e58-2887b95798e6",
   "metadata": {},
   "outputs": [
    {
     "name": "stdout",
     "output_type": "stream",
     "text": [
      "1\n",
      "2\n",
      "4\n",
      "5\n",
      "6\n"
     ]
    }
   ],
   "source": [
    "for i in s:\n",
    "    print(i)"
   ]
  },
  {
   "cell_type": "code",
   "execution_count": 57,
   "id": "a802c194-7a1d-402b-847f-3ba563ee8ccf",
   "metadata": {},
   "outputs": [
    {
     "name": "stdout",
     "output_type": "stream",
     "text": [
      "\n",
      "*\n",
      "**\n",
      "***\n",
      "****\n",
      "*****\n"
     ]
    }
   ],
   "source": [
    "for i in range(1):\n",
    "    for j in range(6):\n",
    "        print(j*'*')"
   ]
  },
  {
   "cell_type": "code",
   "execution_count": 60,
   "id": "258a10d6-898c-436a-8106-fb606423255f",
   "metadata": {},
   "outputs": [
    {
     "data": {
      "text/plain": [
       "[]"
      ]
     },
     "execution_count": 60,
     "metadata": {},
     "output_type": "execute_result"
    }
   ],
   "source": [
    "list(range(0,9,-1))"
   ]
  },
  {
   "cell_type": "code",
   "execution_count": 62,
   "id": "f719c677-dd22-41c0-9156-f7895c0b1c40",
   "metadata": {},
   "outputs": [
    {
     "data": {
      "text/plain": [
       "[0, 1, 2, 3, 4, 5, 6, 7, 8]"
      ]
     },
     "execution_count": 62,
     "metadata": {},
     "output_type": "execute_result"
    }
   ],
   "source": [
    "list(range(0,9,1))"
   ]
  },
  {
   "cell_type": "code",
   "execution_count": 63,
   "id": "1d4bae29-5339-4b4a-9bc5-03f3e6cf182e",
   "metadata": {},
   "outputs": [
    {
     "name": "stdout",
     "output_type": "stream",
     "text": [
      "karthik \n",
      "\n",
      "karthik karthik \n",
      "\n",
      "karthik karthik karthik \n",
      "\n",
      "karthik karthik karthik karthik \n",
      "\n"
     ]
    }
   ],
   "source": [
    "n = 4\n",
    "\n",
    "for i in range(4):\n",
    "    for j in range(0, i+1):\n",
    "        print('karthik', end = ' ')\n",
    "    print(\"\\n\")"
   ]
  },
  {
   "cell_type": "code",
   "execution_count": 68,
   "id": "c455a189-8654-4f63-90be-a10fcee5d7c9",
   "metadata": {},
   "outputs": [
    {
     "name": "stdout",
     "output_type": "stream",
     "text": [
      "* * * * * * \n",
      "\n",
      "* * * * * * \n",
      "\n",
      "* * * * * * \n",
      "\n",
      "* * * * * * \n",
      "\n",
      "* * * * * * \n",
      "\n",
      "* * * * * * \n",
      "\n"
     ]
    }
   ],
   "source": [
    "for i in range(6):\n",
    "    for j in range(6):\n",
    "        print('*', end = ' ')\n",
    "    print(\"\\n\")"
   ]
  },
  {
   "cell_type": "code",
   "execution_count": 71,
   "id": "7b248a9a-c0cc-45c0-b240-5a9837ae7674",
   "metadata": {},
   "outputs": [
    {
     "name": "stdout",
     "output_type": "stream",
     "text": [
      "karthik \n",
      "\n",
      "karthik karthik \n",
      "\n",
      "karthik karthik karthik \n",
      "\n",
      "karthik karthik karthik karthik \n",
      "\n"
     ]
    }
   ],
   "source": [
    "\n",
    "for i in range(4):\n",
    "    for j in range(0, i+1):\n",
    "        print('karthik', end = ' ')\n",
    "    print(\"\\n\")"
   ]
  },
  {
   "cell_type": "code",
   "execution_count": 73,
   "id": "b5a8e91d-9921-43b2-b4ab-f4221198ccf2",
   "metadata": {},
   "outputs": [
    {
     "name": "stdout",
     "output_type": "stream",
     "text": [
      "          sudh \n",
      "     sudh sudh sudh \n",
      "sudh sudh sudh sudh sudh \n"
     ]
    }
   ],
   "source": [
    "n = 3\n",
    "for i in range(n):\n",
    "    for j in range(i,n-1):\n",
    "        print(' '*len('sudh'), end = ' ')\n",
    "    for j in range(i+1):\n",
    "        print('sudh', end= ' ')\n",
    "    for j in range(i):\n",
    "         print('sudh', end= ' ')\n",
    "    print()"
   ]
  },
  {
   "cell_type": "code",
   "execution_count": 3,
   "id": "43648b8f-0c1e-4fe5-8821-ac644141eb90",
   "metadata": {},
   "outputs": [
    {
     "name": "stdout",
     "output_type": "stream",
     "text": [
      "          sudh  \n",
      "       sudh  sudh  \n",
      "    sudh  sudh  sudh  \n",
      " sudh  sudh  sudh  sudh  \n"
     ]
    }
   ],
   "source": [
    "n = 4\n",
    "k = n\n",
    "\n",
    "for i in range(n):\n",
    "    k = k - 1\n",
    "    print('   '*k, end=' ')\n",
    "    for j in range(i+1):\n",
    "        print('sudh', end='  ')\n",
    "    print()"
   ]
  },
  {
   "cell_type": "code",
   "execution_count": 1,
   "id": "7fc7bbec-61b3-45d3-a414-eca25a05ffbb",
   "metadata": {},
   "outputs": [
    {
     "name": "stdout",
     "output_type": "stream",
     "text": [
      "         \n",
      "      sudh \n",
      "   sudh sudh \n",
      "sudh sudh sudh \n"
     ]
    }
   ],
   "source": [
    "n = 3\n",
    "\n",
    "for i in range(n+1):\n",
    "    print('   '*(n-i)+'sudh '*i)"
   ]
  },
  {
   "cell_type": "code",
   "execution_count": 91,
   "id": "94b8f969-c71a-4f25-b48e-4819eb6438a7",
   "metadata": {},
   "outputs": [],
   "source": [
    "t = (3, 23, 45, 67, 2, 4, 5, 6)"
   ]
  },
  {
   "cell_type": "code",
   "execution_count": 93,
   "id": "d2aa1186-f1b7-4445-b431-b3d9028a741c",
   "metadata": {},
   "outputs": [
    {
     "name": "stdout",
     "output_type": "stream",
     "text": [
      "0 : 3\n",
      "1 : 23\n",
      "2 : 45\n",
      "3 : 67\n",
      "4 : 2\n",
      "5 : 4\n",
      "6 : 5\n",
      "7 : 6\n"
     ]
    }
   ],
   "source": [
    "for i in  t:\n",
    "    print(t.index(i),':',i)"
   ]
  },
  {
   "cell_type": "code",
   "execution_count": 95,
   "id": "40990c02-4893-47b0-bf36-fc1eaedb1cf6",
   "metadata": {},
   "outputs": [
    {
     "name": "stdout",
     "output_type": "stream",
     "text": [
      "0 : 3\n",
      "1 : 23\n",
      "2 : 45\n",
      "3 : 67\n",
      "4 : 2\n",
      "5 : 4\n",
      "6 : 5\n",
      "7 : 6\n"
     ]
    }
   ],
   "source": [
    "for i in range(len(t)):\n",
    "    print(i,':', t[i])"
   ]
  },
  {
   "cell_type": "code",
   "execution_count": 96,
   "id": "19e428ae-3cb2-485e-a82e-2f7b3ec4cd0c",
   "metadata": {},
   "outputs": [
    {
     "name": "stdout",
     "output_type": "stream",
     "text": [
      "0 : K\n",
      "1 : a\n",
      "2 : r\n",
      "3 : t\n",
      "4 : h\n",
      "5 : i\n",
      "6 : k\n"
     ]
    }
   ],
   "source": [
    "s = 'Karthik'\n",
    "\n",
    "for i in s:\n",
    "    print(s.index(i), ':', i)"
   ]
  },
  {
   "cell_type": "code",
   "execution_count": 112,
   "id": "a2859a04-7162-4237-87ee-950545d61ac0",
   "metadata": {},
   "outputs": [
    {
     "name": "stdout",
     "output_type": "stream",
     "text": [
      "0 : K\n",
      "1 : a\n",
      "2 : r\n",
      "3 : t\n",
      "4 : h\n",
      "5 : i\n",
      "6 : k\n"
     ]
    }
   ],
   "source": [
    "for i in range(len(s)):\n",
    "    print(i,':', s[i])"
   ]
  },
  {
   "cell_type": "code",
   "execution_count": 114,
   "id": "fc38564d-49db-4cb7-8935-a92bd2dddb21",
   "metadata": {},
   "outputs": [
    {
     "name": "stdout",
     "output_type": "stream",
     "text": [
      "6 : k\n",
      "5 : i\n",
      "4 : h\n",
      "3 : t\n",
      "2 : r\n",
      "1 : a\n",
      "0 : K\n"
     ]
    }
   ],
   "source": [
    "for i in range(len(s)-1,-1,-1):\n",
    "    print(i,':', s[i])"
   ]
  },
  {
   "cell_type": "code",
   "execution_count": 115,
   "id": "dbe53ee1-76c9-485f-a0d2-1472f07be00a",
   "metadata": {},
   "outputs": [
    {
     "name": "stdout",
     "output_type": "stream",
     "text": [
      "6 : k\n",
      "5 : i\n",
      "4 : h\n",
      "3 : t\n",
      "2 : r\n",
      "1 : a\n",
      "0 : K\n"
     ]
    }
   ],
   "source": [
    "for i in range(len(s)-1,-1,-1):\n",
    "    print(i,':', s[i])"
   ]
  },
  {
   "cell_type": "code",
   "execution_count": 116,
   "id": "f61ba84c-8c22-4a6e-8f08-390b99dfc184",
   "metadata": {},
   "outputs": [],
   "source": [
    "d = {'key1': 'value', 234: 'xyz', 'name': 'sudh', 'no': 34324345, 'key4': 'sdfsf'}"
   ]
  },
  {
   "cell_type": "code",
   "execution_count": 117,
   "id": "72b57be6-62ed-4a37-8afe-8a8cc1ab6816",
   "metadata": {},
   "outputs": [
    {
     "data": {
      "text/plain": [
       "{'key1': 'value', 234: 'xyz', 'name': 'sudh', 'no': 34324345, 'key4': 'sdfsf'}"
      ]
     },
     "execution_count": 117,
     "metadata": {},
     "output_type": "execute_result"
    }
   ],
   "source": [
    "d"
   ]
  },
  {
   "cell_type": "code",
   "execution_count": 118,
   "id": "ae35eff1-c129-465e-87a7-04ad6f3e3e06",
   "metadata": {},
   "outputs": [
    {
     "data": {
      "text/plain": [
       "dict_items([('key1', 'value'), (234, 'xyz'), ('name', 'sudh'), ('no', 34324345), ('key4', 'sdfsf')])"
      ]
     },
     "execution_count": 118,
     "metadata": {},
     "output_type": "execute_result"
    }
   ],
   "source": [
    "d.items()"
   ]
  },
  {
   "cell_type": "code",
   "execution_count": 122,
   "id": "2185e75b-84c9-42e0-9ec8-434579cde5f7",
   "metadata": {},
   "outputs": [
    {
     "name": "stdout",
     "output_type": "stream",
     "text": [
      "('key1', 'value') <class 'tuple'> <class 'str'> <class 'str'>\n",
      "(234, 'xyz') <class 'tuple'> <class 'int'> <class 'str'>\n",
      "('name', 'sudh') <class 'tuple'> <class 'str'> <class 'str'>\n",
      "('no', 34324345) <class 'tuple'> <class 'str'> <class 'int'>\n",
      "('key4', 'sdfsf') <class 'tuple'> <class 'str'> <class 'str'>\n"
     ]
    }
   ],
   "source": [
    "for i in d.items():\n",
    "    print(i, type(i), type(i[0]), type(i[1]))"
   ]
  },
  {
   "cell_type": "code",
   "execution_count": 123,
   "id": "0ef54d61-36c5-42aa-a60d-14a1f58aa205",
   "metadata": {},
   "outputs": [],
   "source": [
    "l = ['karthik', 'Konanki', 3256354, 'karthik.rays@gmail.com',345,346585]"
   ]
  },
  {
   "cell_type": "code",
   "execution_count": 125,
   "id": "a3192bbe-2068-4b23-98ac-f9bacf680d2f",
   "metadata": {},
   "outputs": [
    {
     "name": "stdout",
     "output_type": "stream",
     "text": [
      "[3256354, 345, 346585]\n",
      "['karthik', 'Konanki', 'karthik.rays@gmail.com']\n"
     ]
    }
   ],
   "source": [
    "l1= []\n",
    "l2= []\n",
    "\n",
    "for i in l:\n",
    "    if type(i) == int:\n",
    "        l1.append(i)\n",
    "    if type(i) == str:\n",
    "        l2.append(i)\n",
    "\n",
    "print(l1)\n",
    "print(l2)"
   ]
  },
  {
   "cell_type": "code",
   "execution_count": 132,
   "id": "4c385b17-9c18-428d-bc3a-ed5166c4f67b",
   "metadata": {},
   "outputs": [],
   "source": [
    "d = {1:6534,'name':'Karthik', 'email':'karthik.rays@gmail.com', 235:'ufsdhcvs', 'key':'hgdc',234:'3456'}"
   ]
  },
  {
   "cell_type": "code",
   "execution_count": 133,
   "id": "fee4b217-1bff-4869-9781-c46932257464",
   "metadata": {},
   "outputs": [
    {
     "data": {
      "text/plain": [
       "{1: 6534,\n",
       " 'name': 'Karthik',\n",
       " 'email': 'karthik.rays@gmail.com',\n",
       " 235: 'ufsdhcvs',\n",
       " 'key': 'hgdc',\n",
       " 234: '3456'}"
      ]
     },
     "execution_count": 133,
     "metadata": {},
     "output_type": "execute_result"
    }
   ],
   "source": [
    "d"
   ]
  },
  {
   "cell_type": "code",
   "execution_count": 134,
   "id": "65033877-2f9c-4ccf-ba98-22504c4f1a36",
   "metadata": {},
   "outputs": [
    {
     "name": "stdout",
     "output_type": "stream",
     "text": [
      "1\n",
      "name\n",
      "email\n",
      "235\n",
      "key\n",
      "234\n"
     ]
    }
   ],
   "source": [
    "for i in d:\n",
    "    print(i)"
   ]
  },
  {
   "cell_type": "code",
   "execution_count": 135,
   "id": "30a5ed25-15b5-466a-851a-c243d2e9b949",
   "metadata": {},
   "outputs": [
    {
     "name": "stdout",
     "output_type": "stream",
     "text": [
      "1 : 6534\n",
      "235 : ufsdhcvs\n",
      "234 : 3456\n"
     ]
    }
   ],
   "source": [
    "for i in d:\n",
    "    if type(i)==int:\n",
    "        print(i,':', d[i])"
   ]
  },
  {
   "cell_type": "code",
   "execution_count": 157,
   "id": "b14e3c51-45ea-4fc6-9452-fd81fe6580bb",
   "metadata": {},
   "outputs": [],
   "source": [
    "s = 'aaaabbbccd'"
   ]
  },
  {
   "cell_type": "code",
   "execution_count": 158,
   "id": "4b9d8ba4-4b3e-4a8c-afef-58c668ef16b6",
   "metadata": {},
   "outputs": [
    {
     "name": "stdout",
     "output_type": "stream",
     "text": [
      "c : 2\n",
      "b : 3\n",
      "d : 1\n",
      "a : 4\n"
     ]
    }
   ],
   "source": [
    "for i in set(s):\n",
    "    print(i,':', s.count(i))"
   ]
  },
  {
   "cell_type": "code",
   "execution_count": 159,
   "id": "15fc20ff-e0fd-401a-ad5c-a5bea63572c8",
   "metadata": {},
   "outputs": [],
   "source": [
    "i = 3456115112"
   ]
  },
  {
   "cell_type": "code",
   "execution_count": 160,
   "id": "bd7ea650-113f-4fd7-9d12-f1e06776344f",
   "metadata": {},
   "outputs": [],
   "source": [
    "l = str(i)"
   ]
  },
  {
   "cell_type": "code",
   "execution_count": 161,
   "id": "36698f2f-e417-4a5a-8e4a-7375102a52af",
   "metadata": {},
   "outputs": [
    {
     "data": {
      "text/plain": [
       "'3456115112'"
      ]
     },
     "execution_count": 161,
     "metadata": {},
     "output_type": "execute_result"
    }
   ],
   "source": [
    "l"
   ]
  },
  {
   "cell_type": "code",
   "execution_count": 163,
   "id": "43324f6d-775a-4552-94e4-719433d4d578",
   "metadata": {},
   "outputs": [
    {
     "name": "stdout",
     "output_type": "stream",
     "text": [
      "3 <class 'str'>\n",
      "4 <class 'str'>\n",
      "5 <class 'str'>\n",
      "6 <class 'str'>\n",
      "1 <class 'str'>\n",
      "1 <class 'str'>\n",
      "5 <class 'str'>\n",
      "1 <class 'str'>\n",
      "1 <class 'str'>\n",
      "2 <class 'str'>\n"
     ]
    }
   ],
   "source": [
    "for j in str(i):\n",
    "    print(int(j), type(j))"
   ]
  },
  {
   "cell_type": "code",
   "execution_count": 165,
   "id": "41148504-ed54-42a0-bc86-982758b0600b",
   "metadata": {},
   "outputs": [],
   "source": [
    "t = ('karthik', 'kumar', [1,2,3],(3, 5,6,7),{'key1':'sudh', 'key2':'Kumar'})"
   ]
  },
  {
   "cell_type": "code",
   "execution_count": 166,
   "id": "cae5956a-6683-47e0-810b-7377166abdb4",
   "metadata": {},
   "outputs": [
    {
     "name": "stdout",
     "output_type": "stream",
     "text": [
      "3\n",
      "3\n"
     ]
    }
   ],
   "source": [
    "for i in t:\n",
    "    if type(i) == list or type(i) == tuple:\n",
    "        for j in i:\n",
    "            if j == 3:\n",
    "                print(j)"
   ]
  },
  {
   "cell_type": "code",
   "execution_count": 167,
   "id": "7092f8e5-a9d6-4acd-a408-c6703d3a88cb",
   "metadata": {},
   "outputs": [],
   "source": [
    "t = ('karthik', 'kumar', [1,2,3],(3, 5,6,7),{3:'sudh', 'key2':'Kumar'})"
   ]
  },
  {
   "cell_type": "code",
   "execution_count": 168,
   "id": "70ecaa0d-bd3e-4c1a-a883-303ab7225e0b",
   "metadata": {},
   "outputs": [
    {
     "name": "stdout",
     "output_type": "stream",
     "text": [
      "3\n",
      "3\n",
      "3\n"
     ]
    }
   ],
   "source": [
    "for i in t:\n",
    "    if type(i) == list or type(i) == tuple or type(i)==dict:\n",
    "        for j in i:\n",
    "            if j == 3:\n",
    "                print(j)"
   ]
  },
  {
   "cell_type": "code",
   "execution_count": 180,
   "id": "2e462bfd-0a21-4e23-9eba-37fc21521b68",
   "metadata": {},
   "outputs": [],
   "source": [
    "t = ('karthik', 'kumar', [1,2,3],(3, 5,6,7),{3:3, 'key2':'Kumar'})"
   ]
  },
  {
   "cell_type": "code",
   "execution_count": 183,
   "id": "1660eafb-0b63-4ff6-b6bb-3e9508e335fc",
   "metadata": {},
   "outputs": [
    {
     "name": "stdout",
     "output_type": "stream",
     "text": [
      "3\n",
      "3\n",
      "3 3\n"
     ]
    }
   ],
   "source": [
    "for i in t:\n",
    "    if type(i) == list or type(i) == tuple:\n",
    "        for j in i:\n",
    "            if j == 3:\n",
    "                print(j)\n",
    "    if type(i) == dict:\n",
    "        for k,v in i.items():\n",
    "            if k == 3  or v == 3:\n",
    "                print(k, v)"
   ]
  },
  {
   "cell_type": "code",
   "execution_count": 184,
   "id": "606f4a5d-f0e8-4417-a760-592066807353",
   "metadata": {},
   "outputs": [
    {
     "name": "stdout",
     "output_type": "stream",
     "text": [
      "3\n",
      "3\n",
      "3\n",
      "3\n"
     ]
    }
   ],
   "source": [
    "for i in t:\n",
    "    if type(i) == list or type(i) == tuple:\n",
    "        for j in i:\n",
    "            if j == 3:\n",
    "                print(j)\n",
    "    if type(i) == dict:\n",
    "        for k,v in i.items():\n",
    "            if k == 3  or v == 3:\n",
    "                print(k)\n",
    "                print(v)"
   ]
  },
  {
   "cell_type": "code",
   "execution_count": null,
   "id": "1cee279f-9adc-4257-b031-86ab48029924",
   "metadata": {},
   "outputs": [],
   "source": [
    "Q1: \n",
    "Ineuron\n",
    "Ineuron Ineuron\n",
    "Ineuron Ineuron Ineuron\n",
    "Ineuron Ineuron Ineuron Ineuron\n",
    "\n",
    "Q2: \n",
    "            Ineuron\n",
    "Ineuron     Ineuron      Ineuron \n"
   ]
  }
 ],
 "metadata": {
  "kernelspec": {
   "display_name": "Python 3 (ipykernel)",
   "language": "python",
   "name": "python3"
  },
  "language_info": {
   "codemirror_mode": {
    "name": "ipython",
    "version": 3
   },
   "file_extension": ".py",
   "mimetype": "text/x-python",
   "name": "python",
   "nbconvert_exporter": "python",
   "pygments_lexer": "ipython3",
   "version": "3.9.7"
  }
 },
 "nbformat": 4,
 "nbformat_minor": 5
}
