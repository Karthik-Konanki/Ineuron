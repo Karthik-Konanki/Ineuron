{
 "cells": [
  {
   "cell_type": "markdown",
   "id": "473d3aef-3259-4158-a613-0ef722d6b491",
   "metadata": {},
   "source": [
    "# Data Types"
   ]
  },
  {
   "cell_type": "markdown",
   "id": "8f234a70-5e5d-42fe-ace2-21ef5ed4347c",
   "metadata": {},
   "source": [
    "# Primitive Datatypes"
   ]
  },
  {
   "cell_type": "markdown",
   "id": "54a3c439-2849-417f-8507-1ff8f0db6745",
   "metadata": {},
   "source": [
    "Every value in Python has a datatype. Since everything is an object in Python programming, data types are actually classes and variables are instance (object) of these classes."
   ]
  },
  {
   "cell_type": "markdown",
   "id": "fb3ac0e1-dda2-49db-b82b-4c265e8c9941",
   "metadata": {},
   "source": [
    "# Numbers"
   ]
  },
  {
   "cell_type": "code",
   "execution_count": 36,
   "id": "018397ae-996a-471f-b379-4afda7894409",
   "metadata": {},
   "outputs": [],
   "source": [
    "a = 10"
   ]
  },
  {
   "cell_type": "code",
   "execution_count": 37,
   "id": "19e45535-dd33-41e0-8691-b2a04f7e522d",
   "metadata": {},
   "outputs": [
    {
     "data": {
      "text/plain": [
       "int"
      ]
     },
     "execution_count": 37,
     "metadata": {},
     "output_type": "execute_result"
    }
   ],
   "source": [
    "type(a)"
   ]
  },
  {
   "cell_type": "code",
   "execution_count": 38,
   "id": "5fddcd88-b440-4ff3-bae0-926d760260da",
   "metadata": {},
   "outputs": [
    {
     "name": "stdout",
     "output_type": "stream",
     "text": [
      "<class 'int'>\n"
     ]
    }
   ],
   "source": [
    "print(type(a))"
   ]
  },
  {
   "cell_type": "code",
   "execution_count": 39,
   "id": "6cb72d2f-d98c-4044-96d9-7d22d1d85f0b",
   "metadata": {},
   "outputs": [],
   "source": [
    "a = 10.5"
   ]
  },
  {
   "cell_type": "code",
   "execution_count": 40,
   "id": "9c319ee8-14fb-480a-8a64-064b47343e24",
   "metadata": {},
   "outputs": [
    {
     "data": {
      "text/plain": [
       "float"
      ]
     },
     "execution_count": 40,
     "metadata": {},
     "output_type": "execute_result"
    }
   ],
   "source": [
    "type(a)"
   ]
  },
  {
   "cell_type": "code",
   "execution_count": 41,
   "id": "617fe9f0-e35c-46df-ae21-d2c068556772",
   "metadata": {},
   "outputs": [
    {
     "name": "stdout",
     "output_type": "stream",
     "text": [
      "<class 'float'>\n"
     ]
    }
   ],
   "source": [
    "print(type(a))"
   ]
  },
  {
   "cell_type": "code",
   "execution_count": 42,
   "id": "9c4c1753-fa6d-4bcc-82b8-34b36d74013d",
   "metadata": {},
   "outputs": [],
   "source": [
    "a = 10 + 2j"
   ]
  },
  {
   "cell_type": "code",
   "execution_count": 43,
   "id": "11918547-3d6d-4b40-b86f-f1c14dc7ba94",
   "metadata": {},
   "outputs": [
    {
     "data": {
      "text/plain": [
       "complex"
      ]
     },
     "execution_count": 43,
     "metadata": {},
     "output_type": "execute_result"
    }
   ],
   "source": [
    "type(a)"
   ]
  },
  {
   "cell_type": "code",
   "execution_count": 44,
   "id": "8f787f02-ed90-4527-a68f-9ef108dbcaf1",
   "metadata": {},
   "outputs": [
    {
     "name": "stdout",
     "output_type": "stream",
     "text": [
      "<class 'complex'>\n"
     ]
    }
   ],
   "source": [
    "print(type(a))"
   ]
  },
  {
   "cell_type": "markdown",
   "id": "5a760419-0926-431b-b388-6ffe04b32b41",
   "metadata": {},
   "source": [
    "# Boolean"
   ]
  },
  {
   "cell_type": "code",
   "execution_count": 45,
   "id": "d82dc7ab-7c53-492a-92df-ca2476d88b3d",
   "metadata": {},
   "outputs": [],
   "source": [
    "a = True"
   ]
  },
  {
   "cell_type": "code",
   "execution_count": 46,
   "id": "241727e3-babe-4cec-af0e-20f5e17cd3b4",
   "metadata": {},
   "outputs": [
    {
     "data": {
      "text/plain": [
       "bool"
      ]
     },
     "execution_count": 46,
     "metadata": {},
     "output_type": "execute_result"
    }
   ],
   "source": [
    "type(a)"
   ]
  },
  {
   "cell_type": "code",
   "execution_count": 47,
   "id": "650eede4-516f-4f7e-aace-cbceac73ad9f",
   "metadata": {},
   "outputs": [
    {
     "name": "stdout",
     "output_type": "stream",
     "text": [
      "<class 'bool'>\n"
     ]
    }
   ],
   "source": [
    "print(type(a))"
   ]
  },
  {
   "cell_type": "markdown",
   "id": "c0ef0268-06a8-4fc5-87b5-e6e876b1f1ac",
   "metadata": {},
   "source": [
    "# Strings"
   ]
  },
  {
   "cell_type": "markdown",
   "id": "5aa128ee-5055-45c1-8c75-b526ba9eb227",
   "metadata": {},
   "source": [
    "String is sequence of Unicode characters. \n",
    "\n",
    "We can use single quotes or double quotes to represent strings. \n",
    "\n",
    "Multi-line strings can be denoted using triple quotes, ''' or \"\"\".\n",
    "\n",
    "A string in Python consists of a series or sequence of characters - letters, numbers, and special characters. \n",
    "\n",
    "Strings can be indexed - often synonymously called subscripted as well. \n",
    "\n",
    "Similar to C, the first character of a string has the index 0."
   ]
  },
  {
   "cell_type": "code",
   "execution_count": 48,
   "id": "ae2075f1-f1f2-4c52-886a-53efec34966d",
   "metadata": {},
   "outputs": [],
   "source": [
    "a = 'Karthik'"
   ]
  },
  {
   "cell_type": "code",
   "execution_count": 49,
   "id": "40e77ed4-04a7-4cc8-9060-06934f0e8541",
   "metadata": {},
   "outputs": [
    {
     "data": {
      "text/plain": [
       "str"
      ]
     },
     "execution_count": 49,
     "metadata": {},
     "output_type": "execute_result"
    }
   ],
   "source": [
    "type(a)"
   ]
  },
  {
   "cell_type": "code",
   "execution_count": 50,
   "id": "c913e00f-1434-4efa-9c6c-f5c7ba596b02",
   "metadata": {},
   "outputs": [
    {
     "name": "stdout",
     "output_type": "stream",
     "text": [
      "<class 'str'>\n"
     ]
    }
   ],
   "source": [
    "print(type(a))"
   ]
  },
  {
   "cell_type": "markdown",
   "id": "9cb75ad3-a696-4f97-8fe9-889e7994efb6",
   "metadata": {},
   "source": [
    "# Advanced Data types or Collections"
   ]
  },
  {
   "cell_type": "markdown",
   "id": "53d253e5-1419-4961-8df3-ac5779d97000",
   "metadata": {},
   "source": [
    "# Lists"
   ]
  },
  {
   "cell_type": "code",
   "execution_count": 52,
   "id": "7a56077e-1577-4ae1-af08-6d86909360e0",
   "metadata": {},
   "outputs": [],
   "source": [
    "a = [1,2,3,'Karthik', True]"
   ]
  },
  {
   "cell_type": "code",
   "execution_count": 53,
   "id": "d06b68c7-5576-4b4d-badf-14372394ecc1",
   "metadata": {},
   "outputs": [
    {
     "data": {
      "text/plain": [
       "list"
      ]
     },
     "execution_count": 53,
     "metadata": {},
     "output_type": "execute_result"
    }
   ],
   "source": [
    "type(a)"
   ]
  },
  {
   "cell_type": "code",
   "execution_count": 54,
   "id": "2f295d76-8de5-474f-962b-7e822b0dae88",
   "metadata": {},
   "outputs": [
    {
     "name": "stdout",
     "output_type": "stream",
     "text": [
      "<class 'list'>\n"
     ]
    }
   ],
   "source": [
    "print(type(a))"
   ]
  },
  {
   "cell_type": "code",
   "execution_count": 55,
   "id": "151b9345-a18f-48be-bf57-c9a56a125606",
   "metadata": {},
   "outputs": [],
   "source": [
    "a = []"
   ]
  },
  {
   "cell_type": "code",
   "execution_count": 56,
   "id": "79740806-26f0-4ed3-a7c7-ef51e2b44d22",
   "metadata": {},
   "outputs": [
    {
     "data": {
      "text/plain": [
       "list"
      ]
     },
     "execution_count": 56,
     "metadata": {},
     "output_type": "execute_result"
    }
   ],
   "source": [
    "type(a)"
   ]
  },
  {
   "cell_type": "code",
   "execution_count": 57,
   "id": "9295aa09-157f-4b85-ae8f-ef34963ad8d4",
   "metadata": {},
   "outputs": [
    {
     "name": "stdout",
     "output_type": "stream",
     "text": [
      "<class 'list'>\n"
     ]
    }
   ],
   "source": [
    "print(type(a))"
   ]
  },
  {
   "cell_type": "markdown",
   "id": "808b0233-5d0a-422a-80bd-26949cc1189d",
   "metadata": {},
   "source": [
    "# Tuples"
   ]
  },
  {
   "cell_type": "code",
   "execution_count": 58,
   "id": "8408744b-811d-449c-a599-d572b7f83d7f",
   "metadata": {},
   "outputs": [],
   "source": [
    "a = (1, 2, 3, 'Karthik', True)"
   ]
  },
  {
   "cell_type": "code",
   "execution_count": 59,
   "id": "d4b0b84e-a622-4ed6-b623-7e14bc645054",
   "metadata": {},
   "outputs": [
    {
     "data": {
      "text/plain": [
       "tuple"
      ]
     },
     "execution_count": 59,
     "metadata": {},
     "output_type": "execute_result"
    }
   ],
   "source": [
    "type(a)"
   ]
  },
  {
   "cell_type": "code",
   "execution_count": 60,
   "id": "b4a0e39b-e53c-4d31-9365-13804c1bc261",
   "metadata": {},
   "outputs": [
    {
     "name": "stdout",
     "output_type": "stream",
     "text": [
      "<class 'tuple'>\n"
     ]
    }
   ],
   "source": [
    "print(type(a))"
   ]
  },
  {
   "cell_type": "code",
   "execution_count": 61,
   "id": "9732e664-90d9-4998-a9c6-21da406fa30a",
   "metadata": {},
   "outputs": [],
   "source": [
    "a = ()"
   ]
  },
  {
   "cell_type": "code",
   "execution_count": 62,
   "id": "496e62ba-491b-4aa2-b04f-e27b1c5a4781",
   "metadata": {},
   "outputs": [
    {
     "data": {
      "text/plain": [
       "tuple"
      ]
     },
     "execution_count": 62,
     "metadata": {},
     "output_type": "execute_result"
    }
   ],
   "source": [
    "type(a)"
   ]
  },
  {
   "cell_type": "code",
   "execution_count": 63,
   "id": "585a4254-721a-41b5-b580-57b34c5e21bd",
   "metadata": {},
   "outputs": [
    {
     "name": "stdout",
     "output_type": "stream",
     "text": [
      "<class 'tuple'>\n"
     ]
    }
   ],
   "source": [
    "print(type(a))"
   ]
  },
  {
   "cell_type": "markdown",
   "id": "849d3636-5346-46f3-ba22-a49a08efcaf4",
   "metadata": {},
   "source": [
    "# Dictionaries"
   ]
  },
  {
   "cell_type": "code",
   "execution_count": 72,
   "id": "7ae138a2-17c0-4b3b-94f3-1f03704c1b68",
   "metadata": {},
   "outputs": [],
   "source": [
    "a = {'Key1':'Value1', 'Key2': 1, 'Key3': 'Value3'}"
   ]
  },
  {
   "cell_type": "code",
   "execution_count": 73,
   "id": "aea288e9-4a08-4a26-835f-1ec66e39a1b0",
   "metadata": {},
   "outputs": [
    {
     "data": {
      "text/plain": [
       "dict"
      ]
     },
     "execution_count": 73,
     "metadata": {},
     "output_type": "execute_result"
    }
   ],
   "source": [
    "type(a)"
   ]
  },
  {
   "cell_type": "code",
   "execution_count": 74,
   "id": "013effb0-2888-487c-997d-0b7190578859",
   "metadata": {},
   "outputs": [
    {
     "name": "stdout",
     "output_type": "stream",
     "text": [
      "<class 'dict'>\n"
     ]
    }
   ],
   "source": [
    "print(type(a))"
   ]
  },
  {
   "cell_type": "code",
   "execution_count": 75,
   "id": "2a0894d0-9de0-47c7-a6e4-f728bb654d80",
   "metadata": {},
   "outputs": [],
   "source": [
    "a = {}"
   ]
  },
  {
   "cell_type": "code",
   "execution_count": 76,
   "id": "83798413-f45c-4638-bde8-28061b786c96",
   "metadata": {},
   "outputs": [
    {
     "data": {
      "text/plain": [
       "dict"
      ]
     },
     "execution_count": 76,
     "metadata": {},
     "output_type": "execute_result"
    }
   ],
   "source": [
    "type(a)"
   ]
  },
  {
   "cell_type": "code",
   "execution_count": 77,
   "id": "bc3d28f9-4423-4dea-8f35-ce96d18af4e7",
   "metadata": {},
   "outputs": [
    {
     "name": "stdout",
     "output_type": "stream",
     "text": [
      "<class 'dict'>\n"
     ]
    }
   ],
   "source": [
    "print(type(a))"
   ]
  },
  {
   "cell_type": "markdown",
   "id": "30614ae2-b1fc-4946-a44a-62bb82802a8a",
   "metadata": {},
   "source": [
    "# Sets"
   ]
  },
  {
   "cell_type": "code",
   "execution_count": 78,
   "id": "ed179ece-c018-4ca9-a163-8296624ac087",
   "metadata": {},
   "outputs": [],
   "source": [
    "a = {1, 2, 3, 4 ,5, 6, 6, 6, 7}"
   ]
  },
  {
   "cell_type": "code",
   "execution_count": 79,
   "id": "2fd62692-7dd1-4c7c-a3e4-2906389d363b",
   "metadata": {},
   "outputs": [
    {
     "data": {
      "text/plain": [
       "set"
      ]
     },
     "execution_count": 79,
     "metadata": {},
     "output_type": "execute_result"
    }
   ],
   "source": [
    "type(a)"
   ]
  },
  {
   "cell_type": "code",
   "execution_count": 80,
   "id": "53087be3-22f4-41fb-a856-709209670347",
   "metadata": {},
   "outputs": [
    {
     "name": "stdout",
     "output_type": "stream",
     "text": [
      "<class 'set'>\n"
     ]
    }
   ],
   "source": [
    "print(type(a))"
   ]
  },
  {
   "cell_type": "code",
   "execution_count": 81,
   "id": "40b2a733-3213-4053-9ff3-f3bf384a9d47",
   "metadata": {},
   "outputs": [],
   "source": [
    "a = {45}"
   ]
  },
  {
   "cell_type": "code",
   "execution_count": 82,
   "id": "ef14d118-a2dc-4f14-aa5c-c6ac60b490a6",
   "metadata": {},
   "outputs": [
    {
     "data": {
      "text/plain": [
       "set"
      ]
     },
     "execution_count": 82,
     "metadata": {},
     "output_type": "execute_result"
    }
   ],
   "source": [
    "type(a)"
   ]
  },
  {
   "cell_type": "code",
   "execution_count": 83,
   "id": "242b9a4d-2d55-4f8b-b3e0-cfc7f2fc5d72",
   "metadata": {},
   "outputs": [
    {
     "name": "stdout",
     "output_type": "stream",
     "text": [
      "<class 'set'>\n"
     ]
    }
   ],
   "source": [
    "print(type(a))"
   ]
  },
  {
   "cell_type": "code",
   "execution_count": null,
   "id": "8521f1f4-0767-4f6b-b8ab-c568c4bd5686",
   "metadata": {},
   "outputs": [],
   "source": []
  }
 ],
 "metadata": {
  "kernelspec": {
   "display_name": "Python 3 (ipykernel)",
   "language": "python",
   "name": "python3"
  },
  "language_info": {
   "codemirror_mode": {
    "name": "ipython",
    "version": 3
   },
   "file_extension": ".py",
   "mimetype": "text/x-python",
   "name": "python",
   "nbconvert_exporter": "python",
   "pygments_lexer": "ipython3",
   "version": "3.9.7"
  }
 },
 "nbformat": 4,
 "nbformat_minor": 5
}
