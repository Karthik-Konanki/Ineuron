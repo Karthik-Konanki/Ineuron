{
 "cells": [
  {
   "cell_type": "markdown",
   "id": "d9c757c4-1af6-4d47-8446-36559d21fb2d",
   "metadata": {},
   "source": [
    "# Operators"
   ]
  },
  {
   "cell_type": "markdown",
   "id": "5f803786-79e4-4944-8dab-f4da70870c30",
   "metadata": {},
   "source": [
    "Operators are special symbols in Python that carry out arithmetic or logical computation. The value that the operator operates on is called the operand."
   ]
  },
  {
   "cell_type": "markdown",
   "id": "ab1e1228-5229-4d38-ad99-28bfe7172c4d",
   "metadata": {},
   "source": [
    "## Operators Types"
   ]
  },
  {
   "cell_type": "markdown",
   "id": "c7205fdd-8088-4247-ad8d-03f81ac8d991",
   "metadata": {},
   "source": [
    "Based on operands:\n",
    "1. Unary operators\n",
    "\n",
    "2. Binary operators\n",
    "\n",
    "Based on operators:\n",
    "\n",
    "1. Arithmetic operators\n",
    "    \n",
    "2. Comparison (Relational) operators\n",
    "\n",
    "3. Logical (Boolean) operators\n",
    "\n",
    "4. Bitwise operators\n",
    "\n",
    "5. Assignment operators\n",
    "\n",
    "6. Special operators"
   ]
  },
  {
   "cell_type": "markdown",
   "id": "1618f587-76c3-4d5c-bb31-015f2c7edf69",
   "metadata": {},
   "source": [
    "## Arithmetic Operators"
   ]
  },
  {
   "cell_type": "markdown",
   "id": "efda7cd1-a8ca-4eef-b2b8-aab3706ecd41",
   "metadata": {},
   "source": [
    "Arithmetic operators are used to perform mathematical operations like addition, subtraction, multiplication etc."
   ]
  },
  {
   "cell_type": "markdown",
   "id": "edab564e-830c-4346-8785-e97937370a21",
   "metadata": {},
   "source": [
    "    + , -, *, /, %, //, **  are arithmetic operators"
   ]
  },
  {
   "cell_type": "markdown",
   "id": "fbe815e4-692a-4411-955e-91892f4c64da",
   "metadata": {},
   "source": [
    "Example:"
   ]
  },
  {
   "cell_type": "code",
   "execution_count": 1,
   "id": "740304a1-f0b0-4047-b997-219ced29ebf8",
   "metadata": {},
   "outputs": [
    {
     "name": "stdout",
     "output_type": "stream",
     "text": [
      "30\n"
     ]
    }
   ],
   "source": [
    "x, y = 10, 20\n",
    "\n",
    "#addition\n",
    "print(x + y)\n",
    "\n",
    "#subtraction(-)\n",
    "\n",
    "#multiplication(*)\n",
    "\n",
    "#division(/)\n",
    "\n",
    "#modulo division (%)\n",
    "\n",
    "#Floor Division (//)\n",
    "\n",
    "#Exponent (**)"
   ]
  },
  {
   "cell_type": "code",
   "execution_count": 2,
   "id": "af5f45b0-f46b-4209-9f5f-1606c21c03d9",
   "metadata": {},
   "outputs": [
    {
     "data": {
      "text/plain": [
       "-5"
      ]
     },
     "execution_count": 2,
     "metadata": {},
     "output_type": "execute_result"
    }
   ],
   "source": [
    "# Negation - Unary operators\n",
    "\n",
    "a = -5\n",
    "a"
   ]
  },
  {
   "cell_type": "code",
   "execution_count": 3,
   "id": "e8d515ab-b074-40c4-bd61-8da9a7ecb4f4",
   "metadata": {},
   "outputs": [
    {
     "data": {
      "text/plain": [
       "30"
      ]
     },
     "execution_count": 3,
     "metadata": {},
     "output_type": "execute_result"
    }
   ],
   "source": [
    "#addition\n",
    "x + y"
   ]
  },
  {
   "cell_type": "code",
   "execution_count": 4,
   "id": "fc3e2d7d-11c6-46f4-b98c-7c70beaab6a8",
   "metadata": {},
   "outputs": [
    {
     "data": {
      "text/plain": [
       "-10"
      ]
     },
     "execution_count": 4,
     "metadata": {},
     "output_type": "execute_result"
    }
   ],
   "source": [
    "#subtraction(-)\n",
    "x - y"
   ]
  },
  {
   "cell_type": "code",
   "execution_count": 5,
   "id": "252a2a66-4ff7-4727-85c4-3c9c99c5808f",
   "metadata": {},
   "outputs": [
    {
     "data": {
      "text/plain": [
       "200"
      ]
     },
     "execution_count": 5,
     "metadata": {},
     "output_type": "execute_result"
    }
   ],
   "source": [
    "#multiplication(*)\n",
    "x * y"
   ]
  },
  {
   "cell_type": "code",
   "execution_count": 6,
   "id": "a2829ba7-295a-426f-b6dd-1ed22216af51",
   "metadata": {},
   "outputs": [
    {
     "data": {
      "text/plain": [
       "0.5"
      ]
     },
     "execution_count": 6,
     "metadata": {},
     "output_type": "execute_result"
    }
   ],
   "source": [
    "#division(/)\n",
    "x / y"
   ]
  },
  {
   "cell_type": "code",
   "execution_count": 7,
   "id": "5ffa07e4-fdad-4f93-8207-2fa317b2b818",
   "metadata": {},
   "outputs": [
    {
     "data": {
      "text/plain": [
       "0"
      ]
     },
     "execution_count": 7,
     "metadata": {},
     "output_type": "execute_result"
    }
   ],
   "source": [
    "##Floor Division (//) - Truncating division\n",
    "x // y"
   ]
  },
  {
   "cell_type": "code",
   "execution_count": 8,
   "id": "d054f7a4-ba5d-49e8-8646-98a3873a528b",
   "metadata": {},
   "outputs": [
    {
     "data": {
      "text/plain": [
       "10"
      ]
     },
     "execution_count": 8,
     "metadata": {},
     "output_type": "execute_result"
    }
   ],
   "source": [
    "#modulo division (%)\n",
    "x % y"
   ]
  },
  {
   "cell_type": "code",
   "execution_count": 9,
   "id": "63b1c62e-c3b1-4aaa-8db5-a4d568fd5deb",
   "metadata": {},
   "outputs": [
    {
     "data": {
      "text/plain": [
       "100000000000000000000"
      ]
     },
     "execution_count": 9,
     "metadata": {},
     "output_type": "execute_result"
    }
   ],
   "source": [
    "#Exponent (**)\n",
    "x ** y"
   ]
  },
  {
   "cell_type": "code",
   "execution_count": 10,
   "id": "9a576b9f-8654-43e8-a5c8-56a1bae20618",
   "metadata": {},
   "outputs": [],
   "source": [
    "# for strings + operator can be used to concatenate the strings\n",
    "\n",
    "a, b = 'Karthik', 'Konanki'"
   ]
  },
  {
   "cell_type": "code",
   "execution_count": 11,
   "id": "6273fce2-e101-48bc-a2fc-10081b3a64f8",
   "metadata": {},
   "outputs": [
    {
     "data": {
      "text/plain": [
       "'KarthikKonanki'"
      ]
     },
     "execution_count": 11,
     "metadata": {},
     "output_type": "execute_result"
    }
   ],
   "source": [
    "a + b"
   ]
  },
  {
   "cell_type": "code",
   "execution_count": 12,
   "id": "acdfdb3f-7425-4d5e-9965-23ad0921453a",
   "metadata": {},
   "outputs": [
    {
     "data": {
      "text/plain": [
       "'Karthik Konanki'"
      ]
     },
     "execution_count": 12,
     "metadata": {},
     "output_type": "execute_result"
    }
   ],
   "source": [
    "a + \" \" + b"
   ]
  },
  {
   "cell_type": "markdown",
   "id": "67013222-01a3-43e7-8588-e7bc4830ede0",
   "metadata": {},
   "source": [
    "## Comparision Operators"
   ]
  },
  {
   "cell_type": "markdown",
   "id": "5e90c983-c3fd-4b97-8f90-795b0f7dd666",
   "metadata": {},
   "source": [
    "Comparison operators are used to compare values. It either returns True or False according to the condition."
   ]
  },
  {
   "cell_type": "markdown",
   "id": "84bc50fe-bef4-4965-a289-4df9b4fa3eb6",
   "metadata": {},
   "source": [
    "    >, <, ==, !=, >=, <= are comparision operators"
   ]
  },
  {
   "cell_type": "code",
   "execution_count": 13,
   "id": "62ac078d-173e-4af5-96eb-495389f04934",
   "metadata": {},
   "outputs": [
    {
     "name": "stdout",
     "output_type": "stream",
     "text": [
      "True\n"
     ]
    }
   ],
   "source": [
    "a, b = 10, 20         \n",
    "\n",
    "print(a < b)  #check a is less than b\n",
    "\n",
    "#check a is greater than b\n",
    "\n",
    "#check a is equal to b\n",
    "\n",
    "#check a is not equal to b (!=)\n",
    "\n",
    "#check a greater than or equal to b\n",
    "\n",
    "#check a less than or equal to b"
   ]
  },
  {
   "cell_type": "code",
   "execution_count": 14,
   "id": "33c0a665-cd33-484b-9635-a50fb2523e8a",
   "metadata": {},
   "outputs": [
    {
     "data": {
      "text/plain": [
       "False"
      ]
     },
     "execution_count": 14,
     "metadata": {},
     "output_type": "execute_result"
    }
   ],
   "source": [
    "a > b"
   ]
  },
  {
   "cell_type": "code",
   "execution_count": 15,
   "id": "875501c6-59c9-4eab-9f67-6568f2cb97d6",
   "metadata": {},
   "outputs": [
    {
     "data": {
      "text/plain": [
       "False"
      ]
     },
     "execution_count": 15,
     "metadata": {},
     "output_type": "execute_result"
    }
   ],
   "source": [
    "a == b"
   ]
  },
  {
   "cell_type": "code",
   "execution_count": 16,
   "id": "6c9a9523-5ecf-4216-b5bc-7a55838178eb",
   "metadata": {},
   "outputs": [
    {
     "data": {
      "text/plain": [
       "True"
      ]
     },
     "execution_count": 16,
     "metadata": {},
     "output_type": "execute_result"
    }
   ],
   "source": [
    "a != b"
   ]
  },
  {
   "cell_type": "code",
   "execution_count": 17,
   "id": "7d858cd2-cc83-47b3-b54a-ebc0e67c0b79",
   "metadata": {},
   "outputs": [
    {
     "data": {
      "text/plain": [
       "False"
      ]
     },
     "execution_count": 17,
     "metadata": {},
     "output_type": "execute_result"
    }
   ],
   "source": [
    "a >= b"
   ]
  },
  {
   "cell_type": "code",
   "execution_count": 18,
   "id": "43c530a7-7495-4a9c-a7f0-964f9eaed1ba",
   "metadata": {},
   "outputs": [
    {
     "data": {
      "text/plain": [
       "True"
      ]
     },
     "execution_count": 18,
     "metadata": {},
     "output_type": "execute_result"
    }
   ],
   "source": [
    "a <= b"
   ]
  },
  {
   "cell_type": "code",
   "execution_count": 19,
   "id": "0594d0c9-4100-4479-a514-63ca6acbe86b",
   "metadata": {},
   "outputs": [],
   "source": [
    "a, b =  'Karthik', 'Konanki'"
   ]
  },
  {
   "cell_type": "code",
   "execution_count": 20,
   "id": "15960aba-6e07-4582-a1c2-de4dbcb7df14",
   "metadata": {},
   "outputs": [
    {
     "data": {
      "text/plain": [
       "False"
      ]
     },
     "execution_count": 20,
     "metadata": {},
     "output_type": "execute_result"
    }
   ],
   "source": [
    "a > b"
   ]
  },
  {
   "cell_type": "code",
   "execution_count": 21,
   "id": "5650f38c-35df-47a6-bf80-cbce02cc8a20",
   "metadata": {},
   "outputs": [
    {
     "data": {
      "text/plain": [
       "True"
      ]
     },
     "execution_count": 21,
     "metadata": {},
     "output_type": "execute_result"
    }
   ],
   "source": [
    "a < b"
   ]
  },
  {
   "cell_type": "code",
   "execution_count": 22,
   "id": "fae31387-728e-4895-acf9-74717a2c1ba4",
   "metadata": {},
   "outputs": [
    {
     "data": {
      "text/plain": [
       "False"
      ]
     },
     "execution_count": 22,
     "metadata": {},
     "output_type": "execute_result"
    }
   ],
   "source": [
    "a == b"
   ]
  },
  {
   "cell_type": "code",
   "execution_count": 23,
   "id": "ed58b6d1-4d48-4371-bb11-b27a6a495abf",
   "metadata": {},
   "outputs": [
    {
     "data": {
      "text/plain": [
       "True"
      ]
     },
     "execution_count": 23,
     "metadata": {},
     "output_type": "execute_result"
    }
   ],
   "source": [
    "a != b"
   ]
  },
  {
   "cell_type": "code",
   "execution_count": 24,
   "id": "d1abf548-aee8-421b-a16c-dc6b6de9f2c1",
   "metadata": {},
   "outputs": [
    {
     "data": {
      "text/plain": [
       "False"
      ]
     },
     "execution_count": 24,
     "metadata": {},
     "output_type": "execute_result"
    }
   ],
   "source": [
    "a >= b"
   ]
  },
  {
   "cell_type": "code",
   "execution_count": 25,
   "id": "40d1d99e-85d9-4725-bedc-917630653bb6",
   "metadata": {},
   "outputs": [
    {
     "data": {
      "text/plain": [
       "True"
      ]
     },
     "execution_count": 25,
     "metadata": {},
     "output_type": "execute_result"
    }
   ],
   "source": [
    "a <= b"
   ]
  },
  {
   "cell_type": "markdown",
   "id": "141c2ce6-68d1-4958-9854-5aa26f6ce3c6",
   "metadata": {},
   "source": [
    "## Logical Operators"
   ]
  },
  {
   "cell_type": "markdown",
   "id": "544a983c-e3b3-46e3-aa17-0b33f90d1388",
   "metadata": {},
   "source": [
    "Logical operators are  **and, or, not** operators."
   ]
  },
  {
   "cell_type": "code",
   "execution_count": 26,
   "id": "368a459a-fb7c-444f-ab6f-41232f2c9833",
   "metadata": {},
   "outputs": [
    {
     "name": "stdout",
     "output_type": "stream",
     "text": [
      "False\n"
     ]
    }
   ],
   "source": [
    "a, b = True, False\n",
    "\n",
    "#print a and b\n",
    "print(a and b)\n",
    "\n",
    "#print a or b\n",
    "\n",
    "#print not b\n"
   ]
  },
  {
   "cell_type": "code",
   "execution_count": 27,
   "id": "4d8536ab-a749-4be7-8e5b-3155827ae45e",
   "metadata": {},
   "outputs": [
    {
     "data": {
      "text/plain": [
       "True"
      ]
     },
     "execution_count": 27,
     "metadata": {},
     "output_type": "execute_result"
    }
   ],
   "source": [
    "a  or b"
   ]
  },
  {
   "cell_type": "code",
   "execution_count": 28,
   "id": "a627a25e-8f07-49cb-be95-56d2d4f8d144",
   "metadata": {},
   "outputs": [
    {
     "ename": "TypeError",
     "evalue": "argument of type 'bool' is not iterable",
     "output_type": "error",
     "traceback": [
      "\u001b[1;31m---------------------------------------------------------------------------\u001b[0m",
      "\u001b[1;31mTypeError\u001b[0m                                 Traceback (most recent call last)",
      "\u001b[1;32m~\\AppData\\Local\\Temp/ipykernel_28188/3115273429.py\u001b[0m in \u001b[0;36m<module>\u001b[1;34m\u001b[0m\n\u001b[1;32m----> 1\u001b[1;33m \u001b[0ma\u001b[0m \u001b[1;32mnot\u001b[0m \u001b[1;32min\u001b[0m \u001b[0mb\u001b[0m\u001b[1;33m\u001b[0m\u001b[1;33m\u001b[0m\u001b[0m\n\u001b[0m",
      "\u001b[1;31mTypeError\u001b[0m: argument of type 'bool' is not iterable"
     ]
    }
   ],
   "source": [
    "a not in b"
   ]
  },
  {
   "cell_type": "code",
   "execution_count": null,
   "id": "69903752-76a5-427e-b28f-f03a052b9d0a",
   "metadata": {},
   "outputs": [],
   "source": [
    "not b"
   ]
  },
  {
   "cell_type": "code",
   "execution_count": 29,
   "id": "c96488bc-99fd-4dc5-b4c6-22bbac8ed4af",
   "metadata": {},
   "outputs": [
    {
     "data": {
      "text/plain": [
       "False"
      ]
     },
     "execution_count": 29,
     "metadata": {},
     "output_type": "execute_result"
    }
   ],
   "source": [
    "not a"
   ]
  },
  {
   "cell_type": "code",
   "execution_count": 30,
   "id": "b6526034-8d66-4123-ab7b-7d53a615e7cd",
   "metadata": {},
   "outputs": [
    {
     "data": {
      "text/plain": [
       "False"
      ]
     },
     "execution_count": 30,
     "metadata": {},
     "output_type": "execute_result"
    }
   ],
   "source": [
    "not (10>5)"
   ]
  },
  {
   "cell_type": "markdown",
   "id": "983de091-d675-4588-9275-b249c25cf5f5",
   "metadata": {},
   "source": [
    "## Bitwise operators"
   ]
  },
  {
   "cell_type": "markdown",
   "id": "e97cbad5-5171-41af-9dcb-a2e601486c21",
   "metadata": {},
   "source": [
    "Bitwise operators act on operands as if they were string of binary digits. It operates bit by bit.\n",
    "\n",
    "1. Use bin() function to convert integer to binary value\n",
    "2. Use int() function to convert binary to integer value"
   ]
  },
  {
   "cell_type": "code",
   "execution_count": 31,
   "id": "92bc3558-25e6-4841-a1c4-f501b2569122",
   "metadata": {},
   "outputs": [
    {
     "data": {
      "text/plain": [
       "'0b1010'"
      ]
     },
     "execution_count": 31,
     "metadata": {},
     "output_type": "execute_result"
    }
   ],
   "source": [
    "bin(10)"
   ]
  },
  {
   "cell_type": "code",
   "execution_count": 32,
   "id": "e692ba34-76f4-4e4c-b9bb-5200a1537849",
   "metadata": {},
   "outputs": [
    {
     "data": {
      "text/plain": [
       "10"
      ]
     },
     "execution_count": 32,
     "metadata": {},
     "output_type": "execute_result"
    }
   ],
   "source": [
    "int(0b1010)"
   ]
  },
  {
   "cell_type": "markdown",
   "id": "29dafbd9-420b-415a-89da-813d02157865",
   "metadata": {},
   "source": [
    "    &,  |,  ~,  ^,  >>,  << are Bitwise operators"
   ]
  },
  {
   "cell_type": "code",
   "execution_count": 33,
   "id": "c68bfd80-c20a-4da7-8bcc-63fc494fbd8f",
   "metadata": {},
   "outputs": [
    {
     "name": "stdout",
     "output_type": "stream",
     "text": [
      "0\n"
     ]
    }
   ],
   "source": [
    "a, b = 10, 4\n",
    "\n",
    "#Bitwise AND\n",
    "print(a & b)\n",
    "\n",
    "#Bitwise OR\n",
    "\n",
    "\n",
    "#Bitwise NOT\n",
    "\n",
    "\n",
    "#Bitwise XOR\n",
    "\n",
    "\n",
    "#Bitwise rightshift\n",
    "\n",
    "\n",
    "#Bitwise Leftshift\n"
   ]
  },
  {
   "cell_type": "markdown",
   "id": "8e1891bc-3fbb-4a30-896b-fe25f402cafd",
   "metadata": {},
   "source": [
    "Bitwise AND operator\n",
    "\n",
    "|input1|input2|output|\n",
    "|:-----|:-----|:-----|\n",
    "|0|0|0|\n",
    "|0|1|0|\n",
    "|1|0|0|\n",
    "|1|1|1|"
   ]
  },
  {
   "cell_type": "code",
   "execution_count": 34,
   "id": "fc91e4ef-7c8a-4f96-917f-3bd8ed6d5e88",
   "metadata": {},
   "outputs": [
    {
     "data": {
      "text/plain": [
       "14"
      ]
     },
     "execution_count": 34,
     "metadata": {},
     "output_type": "execute_result"
    }
   ],
   "source": [
    "# Print bitwise OR operation\n",
    "a | b"
   ]
  },
  {
   "cell_type": "markdown",
   "id": "0eb2365d-a037-49f8-89a9-e3da9df7517c",
   "metadata": {},
   "source": [
    "Bitwise OR operator\n",
    "\n",
    "|input1|input2|output|\n",
    "|:-----|:-----|:-----|\n",
    "|0|0|0|\n",
    "|0|1|1|\n",
    "|1|0|1|\n",
    "|1|1|1|"
   ]
  },
  {
   "cell_type": "code",
   "execution_count": 35,
   "id": "a2b390ec-c83c-4b1f-8f91-f82c286272af",
   "metadata": {},
   "outputs": [
    {
     "data": {
      "text/plain": [
       "-11"
      ]
     },
     "execution_count": 35,
     "metadata": {},
     "output_type": "execute_result"
    }
   ],
   "source": [
    "# Print bitwise NOT / compliment operation(unary operator)\n",
    "~a"
   ]
  },
  {
   "cell_type": "markdown",
   "id": "a89f5f0b-187d-4a00-815e-d40d08c94f42",
   "metadata": {},
   "source": [
    "Bitwise OR operator\n",
    "\n",
    "**General formula: ~x = -x-1**\n",
    "\n",
    "\n",
    "\n",
    "|input|output|\n",
    "|:-----|:-----|\n",
    "|0|1|\n",
    "|1|0|"
   ]
  },
  {
   "cell_type": "code",
   "execution_count": 36,
   "id": "5d39476b-86a8-4b85-b14c-2a623eb114b3",
   "metadata": {},
   "outputs": [
    {
     "data": {
      "text/plain": [
       "14"
      ]
     },
     "execution_count": 36,
     "metadata": {},
     "output_type": "execute_result"
    }
   ],
   "source": [
    "# print bitwise XOR operation\n",
    "a ^ b"
   ]
  },
  {
   "cell_type": "markdown",
   "id": "dccb7b3d-ea25-4415-9e9c-86987853ac7a",
   "metadata": {},
   "source": [
    "Bitwise XOR operator\n",
    "\n",
    "|input1|input2|output|\n",
    "|:-----|:-----|:-----|\n",
    "|0|0|0|\n",
    "|0|1|1|\n",
    "|1|0|1|\n",
    "|1|1|0|"
   ]
  },
  {
   "cell_type": "code",
   "execution_count": 37,
   "id": "aa14e05a-440d-4e3c-9f5c-3ce82401f99d",
   "metadata": {},
   "outputs": [
    {
     "data": {
      "text/plain": [
       "2"
      ]
     },
     "execution_count": 37,
     "metadata": {},
     "output_type": "execute_result"
    }
   ],
   "source": [
    "# print bitwise right shift operation\n",
    "a >> 2"
   ]
  },
  {
   "cell_type": "markdown",
   "id": "20734315-bc3c-414c-8c6e-6e9fe9a20125",
   "metadata": {},
   "source": [
    "**General Formaula: x >> n**\n",
    "1. where x --> actual value\n",
    "         n --> no. of shifts"
   ]
  },
  {
   "cell_type": "code",
   "execution_count": 38,
   "id": "5734f6c2-3081-402a-b7c6-8540eed50b71",
   "metadata": {},
   "outputs": [
    {
     "data": {
      "text/plain": [
       "40"
      ]
     },
     "execution_count": 38,
     "metadata": {},
     "output_type": "execute_result"
    }
   ],
   "source": [
    "# print bitwise left shift operation\n",
    "\n",
    "a << 2"
   ]
  },
  {
   "cell_type": "markdown",
   "id": "33258795-d964-4f99-8fc9-e1a558510e4f",
   "metadata": {},
   "source": [
    "**General Formaula: x << n**\n",
    "1. where x --> actual value\n",
    "         n --> no. of shifts"
   ]
  },
  {
   "cell_type": "markdown",
   "id": "4d620984-5c06-4c43-93a2-78e2d758fb86",
   "metadata": {},
   "source": [
    "## Assignment operators"
   ]
  },
  {
   "cell_type": "markdown",
   "id": "34b08a54-9978-4e0a-925e-3aec2175d022",
   "metadata": {},
   "source": [
    "Assignment operators are used in Python to assign values to variables.\n",
    "\n",
    "a = 5 is a simple assignment operator that assigns the value 5 on the right to the variable a on the left."
   ]
  },
  {
   "cell_type": "markdown",
   "id": "c4d7d0bb-83f2-4dad-a617-77deba9819ff",
   "metadata": {},
   "source": [
    "    =,  +=,  -=,  *=,  /=,  %=,  //=,  **=, &=,  |=,  ^=,  >>=,  <<= are Assignment operators"
   ]
  },
  {
   "cell_type": "code",
   "execution_count": 39,
   "id": "2531bd87-2d49-4f6d-8120-dfc04298b813",
   "metadata": {},
   "outputs": [
    {
     "name": "stdout",
     "output_type": "stream",
     "text": [
      "20\n"
     ]
    }
   ],
   "source": [
    "a = 10\n",
    "\n",
    "a += 10         #add AND\n",
    "print(a)\n",
    "\n",
    "#subtract AND (-=)\n",
    "\n",
    "#Multiply AND (*=)\n",
    "\n",
    "#Divide AND (/=)\n",
    "\n",
    "#Modulus AND (%=)\n",
    "\n",
    "#Floor Division (//=)\n",
    "\n",
    "#Exponent AND (**=)\n"
   ]
  },
  {
   "cell_type": "code",
   "execution_count": 40,
   "id": "eb13ba39-110b-4f95-8abe-54300d43c1b4",
   "metadata": {},
   "outputs": [
    {
     "data": {
      "text/plain": [
       "0"
      ]
     },
     "execution_count": 40,
     "metadata": {},
     "output_type": "execute_result"
    }
   ],
   "source": [
    "a = 10\n",
    "# Subtract right operand from left operand and then assign to left operand\n",
    "a -= 10\n",
    "\n",
    "a"
   ]
  },
  {
   "cell_type": "code",
   "execution_count": 41,
   "id": "11eda2e1-e08d-446c-a5f7-380bda905e71",
   "metadata": {},
   "outputs": [
    {
     "data": {
      "text/plain": [
       "100"
      ]
     },
     "execution_count": 41,
     "metadata": {},
     "output_type": "execute_result"
    }
   ],
   "source": [
    "a = 10\n",
    "# Multiply right operand with left operand and then assign to left operand\n",
    "a *= 10\n",
    "\n",
    "a"
   ]
  },
  {
   "cell_type": "code",
   "execution_count": 42,
   "id": "53b6db8e-11fa-45e4-b60c-8e0585b3de43",
   "metadata": {},
   "outputs": [
    {
     "data": {
      "text/plain": [
       "1.0"
      ]
     },
     "execution_count": 42,
     "metadata": {},
     "output_type": "execute_result"
    }
   ],
   "source": [
    "a = 10\n",
    "# Divide left operand with right operand and then assign to left operand\n",
    "a /= 10\n",
    "\n",
    "a"
   ]
  },
  {
   "cell_type": "code",
   "execution_count": 43,
   "id": "909f1c52-c494-47cb-a371-0798177d3c86",
   "metadata": {},
   "outputs": [
    {
     "data": {
      "text/plain": [
       "0"
      ]
     },
     "execution_count": 43,
     "metadata": {},
     "output_type": "execute_result"
    }
   ],
   "source": [
    "a = 10\n",
    "#Takes modulus using left and right operands and assign the result to left operand\n",
    "a %= 10\n",
    "\n",
    "a"
   ]
  },
  {
   "cell_type": "code",
   "execution_count": 44,
   "id": "a1b1e804-2d5c-4923-b3bc-6655b8516494",
   "metadata": {},
   "outputs": [
    {
     "data": {
      "text/plain": [
       "1"
      ]
     },
     "execution_count": 44,
     "metadata": {},
     "output_type": "execute_result"
    }
   ],
   "source": [
    "a = 10\n",
    "# Divide left operand with right operand and then assign the value(floor) to left operand\n",
    "a //= 10\n",
    "\n",
    "a"
   ]
  },
  {
   "cell_type": "code",
   "execution_count": 45,
   "id": "e2407a60-4840-4d71-992d-1bd3f5e89433",
   "metadata": {},
   "outputs": [
    {
     "data": {
      "text/plain": [
       "10000000000"
      ]
     },
     "execution_count": 45,
     "metadata": {},
     "output_type": "execute_result"
    }
   ],
   "source": [
    "a = 10\n",
    "# Calculate exponent(raise power) value using operands and assign value to left operand\n",
    "a **= 10\n",
    "\n",
    "a"
   ]
  },
  {
   "cell_type": "code",
   "execution_count": 46,
   "id": "0aa171b2-d498-4c37-a359-54104857b515",
   "metadata": {},
   "outputs": [
    {
     "data": {
      "text/plain": [
       "10"
      ]
     },
     "execution_count": 46,
     "metadata": {},
     "output_type": "execute_result"
    }
   ],
   "source": [
    "a = 10\n",
    "# Performs Bitwise AND on operands and assign value to left operand\n",
    "a &= 10\n",
    "\n",
    "a"
   ]
  },
  {
   "cell_type": "code",
   "execution_count": 47,
   "id": "9b477690-fbd4-48b9-a504-32a8c5304ff2",
   "metadata": {},
   "outputs": [
    {
     "data": {
      "text/plain": [
       "10"
      ]
     },
     "execution_count": 47,
     "metadata": {},
     "output_type": "execute_result"
    }
   ],
   "source": [
    "a = 10\n",
    "# Performs Bitwise OR on operands and assign value to left operand\n",
    "a |= 10\n",
    "\n",
    "a"
   ]
  },
  {
   "cell_type": "code",
   "execution_count": 48,
   "id": "9170e2e6-d2b4-479c-9697-1ee3f40997bb",
   "metadata": {},
   "outputs": [
    {
     "data": {
      "text/plain": [
       "0"
      ]
     },
     "execution_count": 48,
     "metadata": {},
     "output_type": "execute_result"
    }
   ],
   "source": [
    "a = 10\n",
    "# Performs Bitwise xOR on operands and assign value to left operand\n",
    "a ^= 10\n",
    "\n",
    "a"
   ]
  },
  {
   "cell_type": "code",
   "execution_count": 49,
   "id": "6597ac1d-121a-40b6-be3b-c77fa1713437",
   "metadata": {},
   "outputs": [
    {
     "data": {
      "text/plain": [
       "0"
      ]
     },
     "execution_count": 49,
     "metadata": {},
     "output_type": "execute_result"
    }
   ],
   "source": [
    "a = 10\n",
    "# Performs Bitwise RIGHT SHIFT on operands and assign value to left operand\n",
    "a >>= 10\n",
    "\n",
    "a"
   ]
  },
  {
   "cell_type": "code",
   "execution_count": 50,
   "id": "621042ad-5c25-479c-9213-b453a52c9172",
   "metadata": {},
   "outputs": [
    {
     "data": {
      "text/plain": [
       "10240"
      ]
     },
     "execution_count": 50,
     "metadata": {},
     "output_type": "execute_result"
    }
   ],
   "source": [
    "a = 10\n",
    "# Performs Bitwise LEFT SHIFT on operands and assign value to left operand\n",
    "a <<= 10\n",
    "\n",
    "a"
   ]
  },
  {
   "cell_type": "markdown",
   "id": "7abfb708-a894-4bd0-b1b2-2cc5e8ff4eae",
   "metadata": {},
   "source": [
    "## Special Operators"
   ]
  },
  {
   "cell_type": "markdown",
   "id": "64642e3e-8824-4986-9568-35112590dae9",
   "metadata": {},
   "source": [
    "### Identity Operators"
   ]
  },
  {
   "cell_type": "markdown",
   "id": "25b4d02c-654b-42c9-8667-5440cb9646f7",
   "metadata": {},
   "source": [
    "**is and is not** are the identity operators in Python. \n",
    "\n",
    "They are used to check if two values (or variables) are located on the same part of the memory."
   ]
  },
  {
   "cell_type": "code",
   "execution_count": 51,
   "id": "1b0d8e1a-ace3-4333-a8d2-e8e434c02113",
   "metadata": {},
   "outputs": [
    {
     "name": "stdout",
     "output_type": "stream",
     "text": [
      "True\n"
     ]
    }
   ],
   "source": [
    "a = 5\n",
    "b = 5\n",
    "print(a is b)    #5 is object created once both a and b points to same object\n",
    "\n",
    "#check is not"
   ]
  },
  {
   "cell_type": "code",
   "execution_count": 52,
   "id": "ee77048f-0a8b-4380-9a76-942f47eae30f",
   "metadata": {},
   "outputs": [
    {
     "name": "stdout",
     "output_type": "stream",
     "text": [
      "False\n"
     ]
    }
   ],
   "source": [
    "a = 5\n",
    "b = 5\n",
    "print(a is not b)    #5 is object created once both a and b points to same object\n",
    "\n",
    "#check is not"
   ]
  },
  {
   "cell_type": "code",
   "execution_count": 53,
   "id": "11e0908a-2190-4bd8-bc91-aee31eb48169",
   "metadata": {},
   "outputs": [
    {
     "name": "stdout",
     "output_type": "stream",
     "text": [
      "False\n"
     ]
    }
   ],
   "source": [
    "l1 = [1, 2, 3]\n",
    "l2 = [1, 2, 3]\n",
    "print(l1 is l2)"
   ]
  },
  {
   "cell_type": "code",
   "execution_count": 54,
   "id": "73aea529-4fe9-421f-93d3-e24351001df8",
   "metadata": {},
   "outputs": [
    {
     "name": "stdout",
     "output_type": "stream",
     "text": [
      "False\n"
     ]
    }
   ],
   "source": [
    "s1 = \"Satish\"\n",
    "s2 = \"Satish\"\n",
    "print(s1 is not s2)"
   ]
  },
  {
   "cell_type": "markdown",
   "id": "82ec2f23-e4f7-4d89-bf7d-a17263f4f7f8",
   "metadata": {},
   "source": [
    "### MemberShip Operators"
   ]
  },
  {
   "cell_type": "markdown",
   "id": "f7f6ec52-79de-4b22-afaf-d554f94880a8",
   "metadata": {},
   "source": [
    "**in and not in** are the membership operators in Python. \n",
    "    \n",
    "They are used to test whether a value or variable is found in a sequence (string, list, tuple, set and   dictionary)."
   ]
  },
  {
   "cell_type": "code",
   "execution_count": 55,
   "id": "8169cd36-b2d0-4608-a059-b1e30ccfd3e8",
   "metadata": {},
   "outputs": [
    {
     "name": "stdout",
     "output_type": "stream",
     "text": [
      "True\n"
     ]
    }
   ],
   "source": [
    "lst = [1, 2, 3, 4]\n",
    "print(1 in lst)       #check 1 is present in a given list or not\n",
    "\n",
    "#check 5 is present in a given list\n"
   ]
  },
  {
   "cell_type": "code",
   "execution_count": 56,
   "id": "8ee8c36d-1828-4b6a-84a5-206764ba20ca",
   "metadata": {},
   "outputs": [
    {
     "name": "stdout",
     "output_type": "stream",
     "text": [
      "True\n"
     ]
    }
   ],
   "source": [
    "d = {1: \"a\", 2: \"b\"}\n",
    "print(1 in d)"
   ]
  },
  {
   "cell_type": "code",
   "execution_count": 57,
   "id": "ede9edde-4e19-4576-a94d-f20e36df5065",
   "metadata": {},
   "outputs": [
    {
     "name": "stdout",
     "output_type": "stream",
     "text": [
      "False\n"
     ]
    }
   ],
   "source": [
    "d = {1: \"a\", 2: \"b\"}\n",
    "print(1 not in d)"
   ]
  },
  {
   "cell_type": "code",
   "execution_count": 58,
   "id": "08dc8cb9-06af-4c07-9f50-0e861c0a440f",
   "metadata": {},
   "outputs": [
    {
     "ename": "SyntaxError",
     "evalue": "invalid syntax (Temp/ipykernel_28188/2828080105.py, line 1)",
     "output_type": "error",
     "traceback": [
      "\u001b[1;36m  File \u001b[1;32m\"C:\\Users\\SUNTECH\\AppData\\Local\\Temp/ipykernel_28188/2828080105.py\"\u001b[1;36m, line \u001b[1;32m1\u001b[0m\n\u001b[1;33m    name :=  \"Karthik\"\u001b[0m\n\u001b[1;37m                      ^\u001b[0m\n\u001b[1;31mSyntaxError\u001b[0m\u001b[1;31m:\u001b[0m invalid syntax\n"
     ]
    }
   ],
   "source": [
    "name :=  \"Karthik\"\n",
    "name"
   ]
  },
  {
   "cell_type": "markdown",
   "id": "99159d2d-7ad6-429f-a89d-7487edab5719",
   "metadata": {},
   "source": [
    "## Operator Overloading"
   ]
  },
  {
   "cell_type": "code",
   "execution_count": 59,
   "id": "aa5b5244-b62b-4f01-9ab6-1c2bc35d851b",
   "metadata": {},
   "outputs": [],
   "source": [
    "# for strings + operator can be used to concatenate the strings\n",
    "\n",
    "a, b = 'Karthik', 'Konanki'"
   ]
  },
  {
   "cell_type": "code",
   "execution_count": 60,
   "id": "aead8b5b-ca0e-4a45-880c-a318908779a2",
   "metadata": {},
   "outputs": [
    {
     "data": {
      "text/plain": [
       "'KarthikKonanki'"
      ]
     },
     "execution_count": 60,
     "metadata": {},
     "output_type": "execute_result"
    }
   ],
   "source": [
    "a + b"
   ]
  },
  {
   "cell_type": "code",
   "execution_count": 61,
   "id": "6b94c88e-a09a-4ca7-bde8-f947e501af26",
   "metadata": {},
   "outputs": [
    {
     "data": {
      "text/plain": [
       "'Karthik Konanki'"
      ]
     },
     "execution_count": 61,
     "metadata": {},
     "output_type": "execute_result"
    }
   ],
   "source": [
    "a + \" \" + b"
   ]
  },
  {
   "cell_type": "markdown",
   "id": "1bbc3860-1be1-4055-b050-a38dd519a6db",
   "metadata": {},
   "source": [
    "Binary Operators: The special function that we need to implement is tabulated below.\n",
    "\n",
    "|Operator|Expression|Internally|\n",
    "|:-------|:---------|:---------|\n",
    "|Addition|p1 + p2|p1.\\__add__(p2)|\n",
    "|Subtraction|p1 - p2|p1.\\__sub__(p2)|\n",
    "|Multiplication|p1 * p2|p1.\\__mul__(p2)|\n",
    "|Power|p1 ** p2|p1.\\__pow__(p2)|\n",
    "|Division|p1 / p2|p1.\\__truediv__(p2)|\n",
    "|Floor Division|p1 // p2|p1.\\__floordiv__(p2)|\n",
    "|Remainder (modulo)|p1 % p2|p1.\\__mod__(p2)|\n",
    "|Bitwise Left Shift|p1 << p2|p1.\\__lshift__(p2)|\n",
    "|Bitwise Right Shift|p1 >> p2|p1.\\__rshift__(p2)|\n",
    "|Bitwise AND|p1 & p2|p1.\\__and__(p2)|\n",
    "|Bitwise OR|p1 \\| p2|p1.\\__or__(p2)|\n",
    "|Bitwise XOR|p1 ^ p2|p1.\\__xor__(p2)|\n",
    "|Bitwise NOT|~p1|p1.\\__invert__()|"
   ]
  },
  {
   "cell_type": "markdown",
   "id": "68b87df3-da46-430e-ab76-421dc7ace6e6",
   "metadata": {},
   "source": [
    "Comparison Operators: The special functions that we need to implement, to overload other comparison operators are tabulated below.\n",
    "\n",
    "|Operator|Expression|Internally|\n",
    "|:-------|:---------|:---------|\n",
    "|Less than|p1 < p2|p1.\\__lt__(p2)|\n",
    "|Less than or equal to|p1 <= p2|p1.\\__le__(p2)|\n",
    "|Equal to|p1 == p2|p1.\\__eq__(p2)|\n",
    "|Not equal to|p1 != p2|p1.\\__ne__(p2)|\n",
    "|Greater than|p1 > p2|p1.\\__gt__(p2)|\n",
    "|Greater than or equal to|p1 >= p2|p1.\\__ge__(p2)|"
   ]
  },
  {
   "cell_type": "markdown",
   "id": "9984f619-44b9-4997-b58a-9ef18cc0bc89",
   "metadata": {},
   "source": [
    "Assignment Operators: Overloading\n",
    "\n",
    "|Expression|Internally|\n",
    "|:---------|:---------|\n",
    "|-=|\\__isub__(self, other)|\n",
    "|+=|\\__iadd__(self, other)|\n",
    "|*=|\\__imul__(self, other)|\n",
    "|/=|\\__idiv__(self, other)|\n",
    "|//=|\\__ifloordiv__(self, other)|\n",
    "|%=|\\__imod__(self, other)|\n",
    "|**=|\\__ipow__(self, other)|\n",
    "|>>=|\\__irshift__(self, other)|\n",
    "|<<=|\\__ilshift__(self, other)|\n",
    "|&=|\\__iand__(self, other)|\n",
    "|\\|=|\\__ior__(self, other)|\n",
    "|^=|\\__ixor__(self, other)|"
   ]
  },
  {
   "cell_type": "markdown",
   "id": "d0508be7-45ee-4f32-822f-30a97ad4c7aa",
   "metadata": {},
   "source": [
    "Unary Operators: Overloading\n",
    "\n",
    "|Expression|Internally|\n",
    "|:---------|:---------|\n",
    "|–|\\__neg__(self)|\n",
    "|+|\\__pos__(self)|\n",
    "|~|\\__invert__(self)|"
   ]
  },
  {
   "cell_type": "code",
   "execution_count": null,
   "id": "a1e4f462-762f-49c6-a34c-88fc3a2f674b",
   "metadata": {},
   "outputs": [],
   "source": []
  },
  {
   "cell_type": "markdown",
   "id": "22638074-de9e-4c5b-8378-4935aa87736b",
   "metadata": {},
   "source": [
    "## Operator order of precedence"
   ]
  },
  {
   "cell_type": "markdown",
   "id": "3040ff2a-adbb-41f9-b36d-d92461a7ddc9",
   "metadata": {},
   "source": [
    "1. ()\n",
    "\n",
    "2. **\n",
    "\n",
    "3. unary operator\n",
    "\n",
    "4. *, /, //, %\n",
    "\n",
    "5. +, -\n",
    "\n",
    "6. <<, >>\n",
    "\n",
    "7. &\n",
    "\n",
    "8. ^\n",
    "\n",
    "9. |\n",
    "\n",
    "10. relational and membership operators\n",
    "\n",
    "11. not\n",
    "\n",
    "12. and \n",
    "\n",
    "13. or"
   ]
  },
  {
   "cell_type": "code",
   "execution_count": 62,
   "id": "b9595584-1979-42bb-bb2f-541217022085",
   "metadata": {},
   "outputs": [
    {
     "data": {
      "text/plain": [
       "12"
      ]
     },
     "execution_count": 62,
     "metadata": {},
     "output_type": "execute_result"
    }
   ],
   "source": [
    "2+5*2"
   ]
  },
  {
   "cell_type": "code",
   "execution_count": 63,
   "id": "f34e4b93-1ffe-44da-b8c7-720ce06e7d1b",
   "metadata": {},
   "outputs": [
    {
     "data": {
      "text/plain": [
       "14"
      ]
     },
     "execution_count": 63,
     "metadata": {},
     "output_type": "execute_result"
    }
   ],
   "source": [
    "(2+5)*2"
   ]
  },
  {
   "cell_type": "markdown",
   "id": "86f2fbc2-1413-4232-b72a-b5a390255988",
   "metadata": {},
   "source": [
    "## Operator Associativity"
   ]
  },
  {
   "cell_type": "markdown",
   "id": "0fb8b4be-aab8-4b7a-bc50-4b9ac1b2d43f",
   "metadata": {},
   "source": [
    "If an expression contains two or more operators with the same precedence then Operator Associativity is used to determine. It can either be **Left to Right** or from **Right to Left**."
   ]
  },
  {
   "cell_type": "code",
   "execution_count": 64,
   "id": "b46f3b17-2448-4f6f-954c-17a466b46613",
   "metadata": {},
   "outputs": [
    {
     "data": {
      "text/plain": [
       "6"
      ]
     },
     "execution_count": 64,
     "metadata": {},
     "output_type": "execute_result"
    }
   ],
   "source": [
    "2 + 5 -1"
   ]
  },
  {
   "cell_type": "markdown",
   "id": "f5335655-5e54-47be-8c54-9c6eecd42583",
   "metadata": {},
   "source": [
    "|Operator|Description|Associativity|\n",
    "|:-------|:----------|:------------|\n",
    "|( )|Parentheses|left-to-right|\n",
    "|**|Exponent|right-to-left|\n",
    "|*, /, %|Multiplication/division/modulus|left-to-right|\n",
    "|+, –|Addition/subtraction|left-to-right|\n",
    "|<<, >>|Bitwise shift left, Bitwise shift right|left-to-right|\n",
    "|<, <=|Relational less than/less than or equal to|left-to-right|\n",
    "|>, >=|Relational greater than/greater  than or equal to|left-to-right|\n",
    "|==, !=|Relational is equal to/is not equal to|left-to-right|\n",
    "|is, is not|Identity|left-to-right|\n",
    "|in, not in|Membership operators|left-to-right|\n",
    "|&|Bitwise AND|left-to-right|\n",
    "|^|Bitwise exclusive OR|left-to-right|\n",
    "|\\||Bitwise inclusive OR|left-to-right|\n",
    "|not|Logical NOT|right-to-left|\n",
    "|and|Logical AND|left-to-right|\n",
    "|or|Logical OR|left-to-right|\n",
    "|=|Assignment|right-to-left|\n",
    "|+=, -=|Addition/subtraction assignment|right-to-left|\n",
    "|*=, /=|Multiplication/division assignment|right-to-left|\n",
    "|%=, &=|Modulus/bitwise AND assignment|right-to-left|\n",
    "|^=, \\|=|Bitwise exclusive/inclusive OR assignment|right-to-left|\n",
    "|<<=, >>=|Bitwise shift left/right assignment|right-to-left|\n"
   ]
  },
  {
   "cell_type": "code",
   "execution_count": null,
   "id": "703153f8-d682-4456-8bad-19c508095987",
   "metadata": {},
   "outputs": [],
   "source": []
  }
 ],
 "metadata": {
  "kernelspec": {
   "display_name": "Python 3 (ipykernel)",
   "language": "python",
   "name": "python3"
  },
  "language_info": {
   "codemirror_mode": {
    "name": "ipython",
    "version": 3
   },
   "file_extension": ".py",
   "mimetype": "text/x-python",
   "name": "python",
   "nbconvert_exporter": "python",
   "pygments_lexer": "ipython3",
   "version": "3.9.7"
  }
 },
 "nbformat": 4,
 "nbformat_minor": 5
}
