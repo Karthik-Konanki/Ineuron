{
 "cells": [
  {
   "cell_type": "markdown",
   "id": "5bd0de2b-ecbd-4ee8-97bb-afd21e4e7739",
   "metadata": {},
   "source": [
    "# Python input and output"
   ]
  },
  {
   "cell_type": "markdown",
   "id": "1353e8e3-f106-4101-bd2d-63a6d0bb3f5e",
   "metadata": {},
   "source": [
    "## Python Output"
   ]
  },
  {
   "cell_type": "markdown",
   "id": "8b3ff94f-18cc-45b8-b9b2-5c0df70693b4",
   "metadata": {},
   "source": [
    "We use the print() function to output data to the standard output device"
   ]
  },
  {
   "cell_type": "code",
   "execution_count": 1,
   "id": "87f67815-2ed1-4174-a2b5-dedae7b9bff0",
   "metadata": {},
   "outputs": [
    {
     "name": "stdout",
     "output_type": "stream",
     "text": [
      "Hello, World\n"
     ]
    }
   ],
   "source": [
    "print(\"Hello, World\")"
   ]
  },
  {
   "cell_type": "markdown",
   "id": "8017e068-a8fd-40bb-9f16-78dde4a2bba6",
   "metadata": {},
   "source": [
    "print(\"Hello,\", \"World\")"
   ]
  },
  {
   "cell_type": "code",
   "execution_count": 4,
   "id": "2e3e196c-335b-4314-a75b-f87c0f574d48",
   "metadata": {},
   "outputs": [
    {
     "name": "stdout",
     "output_type": "stream",
     "text": [
      "The value of variable a is 10\n"
     ]
    }
   ],
   "source": [
    "a = 10\n",
    "print(\"The value of variable a is\", a)"
   ]
  },
  {
   "cell_type": "code",
   "execution_count": 5,
   "id": "53d4e31f-3227-4fa8-8338-5ee711b41099",
   "metadata": {},
   "outputs": [
    {
     "name": "stdout",
     "output_type": "stream",
     "text": [
      "My name is Karthik\n"
     ]
    }
   ],
   "source": [
    "a = 'Karthik'\n",
    "print(\"My name is \" + a)"
   ]
  },
  {
   "cell_type": "code",
   "execution_count": 6,
   "id": "60e879d6-9f62-4869-b671-3766906c3293",
   "metadata": {},
   "outputs": [
    {
     "name": "stdout",
     "output_type": "stream",
     "text": [
      "My name is Karthik\n"
     ]
    }
   ],
   "source": [
    "print(\"My name is\", a)"
   ]
  },
  {
   "cell_type": "code",
   "execution_count": 8,
   "id": "468845c8-7d76-4fa0-8b2d-a2ca9d220358",
   "metadata": {},
   "outputs": [
    {
     "ename": "TypeError",
     "evalue": "can only concatenate str (not \"int\") to str",
     "output_type": "error",
     "traceback": [
      "\u001b[1;31m---------------------------------------------------------------------------\u001b[0m",
      "\u001b[1;31mTypeError\u001b[0m                                 Traceback (most recent call last)",
      "\u001b[1;32m~\\AppData\\Local\\Temp/ipykernel_20008/849918299.py\u001b[0m in \u001b[0;36m<module>\u001b[1;34m\u001b[0m\n\u001b[0;32m      1\u001b[0m \u001b[0ma\u001b[0m \u001b[1;33m=\u001b[0m \u001b[1;36m10\u001b[0m\u001b[1;33m\u001b[0m\u001b[1;33m\u001b[0m\u001b[0m\n\u001b[1;32m----> 2\u001b[1;33m \u001b[0mprint\u001b[0m\u001b[1;33m(\u001b[0m\u001b[1;34m\"The value of variable a is \"\u001b[0m\u001b[1;33m+\u001b[0m \u001b[0ma\u001b[0m\u001b[1;33m)\u001b[0m\u001b[1;33m\u001b[0m\u001b[1;33m\u001b[0m\u001b[0m\n\u001b[0m",
      "\u001b[1;31mTypeError\u001b[0m: can only concatenate str (not \"int\") to str"
     ]
    }
   ],
   "source": [
    "a = 10\n",
    "print(\"The value of variable a is \"+ a)"
   ]
  },
  {
   "cell_type": "code",
   "execution_count": 9,
   "id": "57e6b6fc-2162-4261-aac5-c506f1c7bdd6",
   "metadata": {},
   "outputs": [
    {
     "name": "stdout",
     "output_type": "stream",
     "text": [
      "The value of variable a is 10\n"
     ]
    }
   ],
   "source": [
    "a = 10\n",
    "print(\"The value of variable a is \"+ str(a))"
   ]
  },
  {
   "cell_type": "markdown",
   "id": "7443d383-8221-426f-a13a-d80b323ea3fc",
   "metadata": {},
   "source": [
    "## Output formatting"
   ]
  },
  {
   "cell_type": "code",
   "execution_count": 10,
   "id": "9f7cf950-1f69-4903-b9bd-25606dad7eea",
   "metadata": {},
   "outputs": [
    {
     "name": "stdout",
     "output_type": "stream",
     "text": [
      "The value of a is 10 and b is 20\n"
     ]
    }
   ],
   "source": [
    "a = 10; b = 20\n",
    "\n",
    "print(\"The value of a is {} and b is {}\".format(a,b)) #default"
   ]
  },
  {
   "cell_type": "code",
   "execution_count": 12,
   "id": "a29dfa20-3cd4-42f7-b78f-168026ae83e8",
   "metadata": {},
   "outputs": [
    {
     "name": "stdout",
     "output_type": "stream",
     "text": [
      "The value of b is 20 and a is 10\n"
     ]
    }
   ],
   "source": [
    "a = 10 ; b = 20\n",
    "\n",
    "print(\"The value of b is {1} and a is {0}\".format(a, b)) #specify position of arguments"
   ]
  },
  {
   "cell_type": "code",
   "execution_count": 14,
   "id": "418cf0ff-76f0-4593-ac2f-2f9196aa33f1",
   "metadata": {},
   "outputs": [
    {
     "name": "stdout",
     "output_type": "stream",
     "text": [
      "Hello Karthik, Good morning\n"
     ]
    }
   ],
   "source": [
    "#we can use keyword arguments to format the string\n",
    "print(\"Hello {name}, {greeting}\".format(name = \"Karthik\", greeting=\"Good morning\"))"
   ]
  },
  {
   "cell_type": "code",
   "execution_count": 16,
   "id": "a95fdacb-5bd3-45f1-a753-090a8355ccd1",
   "metadata": {},
   "outputs": [
    {
     "name": "stdout",
     "output_type": "stream",
     "text": [
      "We have three friends, Karthik, Suresh and Nepal\n"
     ]
    }
   ],
   "source": [
    "#we can combine positional arguments with keyword arguments\n",
    "print(\"We have three friends, {0}, {1} and {other}\".format('Karthik', 'Suresh', other='Nepal'))"
   ]
  },
  {
   "cell_type": "code",
   "execution_count": 17,
   "id": "2b0908a2-638e-44da-8d80-f10ddce90693",
   "metadata": {},
   "outputs": [
    {
     "ename": "SyntaxError",
     "evalue": "positional argument follows keyword argument (Temp/ipykernel_20008/1176405442.py, line 2)",
     "output_type": "error",
     "traceback": [
      "\u001b[1;36m  File \u001b[1;32m\"C:\\Users\\SUNTECH\\AppData\\Local\\Temp/ipykernel_20008/1176405442.py\"\u001b[1;36m, line \u001b[1;32m2\u001b[0m\n\u001b[1;33m    print(\"We have three friends, {0}, {1} and {other}\". format( other='Nepal','Karthik', 'Suresh'))\u001b[0m\n\u001b[1;37m                                                                                                  ^\u001b[0m\n\u001b[1;31mSyntaxError\u001b[0m\u001b[1;31m:\u001b[0m positional argument follows keyword argument\n"
     ]
    }
   ],
   "source": [
    "#we can combine positional arguments with keyword arguments\n",
    "print(\"We have three friends, {0}, {1} and {other}\". format( other='Nepal','Karthik', 'Suresh'))"
   ]
  },
  {
   "cell_type": "code",
   "execution_count": 18,
   "id": "bcf900eb-3349-4101-967e-941644ac4a05",
   "metadata": {},
   "outputs": [
    {
     "ename": "SyntaxError",
     "evalue": "positional argument follows keyword argument (Temp/ipykernel_20008/2134145183.py, line 2)",
     "output_type": "error",
     "traceback": [
      "\u001b[1;36m  File \u001b[1;32m\"C:\\Users\\SUNTECH\\AppData\\Local\\Temp/ipykernel_20008/2134145183.py\"\u001b[1;36m, line \u001b[1;32m2\u001b[0m\n\u001b[1;33m    print(\"We have three friends, {other}, {0} and {1}.\". format( other='Nepal','Karthik', 'Suresh'))\u001b[0m\n\u001b[1;37m                                                                                                   ^\u001b[0m\n\u001b[1;31mSyntaxError\u001b[0m\u001b[1;31m:\u001b[0m positional argument follows keyword argument\n"
     ]
    }
   ],
   "source": [
    "#we can combine positional arguments with keyword arguments\n",
    "print(\"We have three friends, {other}, {0} and {1}.\". format( other='Nepal','Karthik', 'Suresh'))"
   ]
  },
  {
   "cell_type": "code",
   "execution_count": 19,
   "id": "9c731819-384e-4a7b-9c5a-a23107a4a957",
   "metadata": {},
   "outputs": [
    {
     "name": "stdout",
     "output_type": "stream",
     "text": [
      "We have three friends, Nepal, Karthik and Suresh.\n"
     ]
    }
   ],
   "source": [
    "#we can combine positional arguments with keyword arguments\n",
    "print(\"We have three friends, {other}, {0} and {1}.\". format('Karthik', 'Suresh', other='Nepal'))"
   ]
  },
  {
   "cell_type": "markdown",
   "id": "9eba988c-28b3-42a8-9087-0a3dced7d862",
   "metadata": {},
   "source": [
    "## Python input"
   ]
  },
  {
   "cell_type": "code",
   "execution_count": 28,
   "id": "da01e6f1-2eee-40ae-bb1b-a7b4b8f2ad29",
   "metadata": {},
   "outputs": [
    {
     "name": "stdin",
     "output_type": "stream",
     "text": [
      "Enter the number: 20\n"
     ]
    }
   ],
   "source": [
    "a = input(\"Enter the number:\")"
   ]
  },
  {
   "cell_type": "code",
   "execution_count": 29,
   "id": "a8f2c426-1c33-4d13-af68-3bc1511fc385",
   "metadata": {},
   "outputs": [
    {
     "data": {
      "text/plain": [
       "'20'"
      ]
     },
     "execution_count": 29,
     "metadata": {},
     "output_type": "execute_result"
    }
   ],
   "source": [
    "a"
   ]
  },
  {
   "cell_type": "code",
   "execution_count": 30,
   "id": "548d9b76-a8d3-4e8a-84f0-a636aea1af97",
   "metadata": {},
   "outputs": [
    {
     "data": {
      "text/plain": [
       "str"
      ]
     },
     "execution_count": 30,
     "metadata": {},
     "output_type": "execute_result"
    }
   ],
   "source": [
    "type(a)"
   ]
  },
  {
   "cell_type": "markdown",
   "id": "0aac6381-b753-4612-91e1-4acd523a9e5b",
   "metadata": {},
   "source": [
    "By default input takes value as string, need to type cast according to requirement"
   ]
  },
  {
   "cell_type": "code",
   "execution_count": 31,
   "id": "6e59883e-4045-4062-ab03-cfaedb6b76d8",
   "metadata": {},
   "outputs": [
    {
     "name": "stdin",
     "output_type": "stream",
     "text": [
      "Enter the number: 20\n"
     ]
    }
   ],
   "source": [
    "a = int(input(\"Enter the number:\"))"
   ]
  },
  {
   "cell_type": "code",
   "execution_count": 32,
   "id": "c058bbff-0deb-49cb-87e9-ed1324e1ba51",
   "metadata": {},
   "outputs": [
    {
     "data": {
      "text/plain": [
       "20"
      ]
     },
     "execution_count": 32,
     "metadata": {},
     "output_type": "execute_result"
    }
   ],
   "source": [
    "a"
   ]
  },
  {
   "cell_type": "code",
   "execution_count": 33,
   "id": "67b8bbf5-e4ae-4cf2-a94f-0e346b4d0e9e",
   "metadata": {},
   "outputs": [
    {
     "data": {
      "text/plain": [
       "int"
      ]
     },
     "execution_count": 33,
     "metadata": {},
     "output_type": "execute_result"
    }
   ],
   "source": [
    "type(a)"
   ]
  },
  {
   "cell_type": "markdown",
   "id": "bb458992-c4f6-4044-96d4-04358f69dc7e",
   "metadata": {},
   "source": [
    "## Escape Sequences"
   ]
  },
  {
   "cell_type": "code",
   "execution_count": null,
   "id": "b61d6a67-49ad-427d-a1d1-f365eb31205e",
   "metadata": {},
   "outputs": [],
   "source": []
  }
 ],
 "metadata": {
  "kernelspec": {
   "display_name": "Python 3 (ipykernel)",
   "language": "python",
   "name": "python3"
  },
  "language_info": {
   "codemirror_mode": {
    "name": "ipython",
    "version": 3
   },
   "file_extension": ".py",
   "mimetype": "text/x-python",
   "name": "python",
   "nbconvert_exporter": "python",
   "pygments_lexer": "ipython3",
   "version": "3.9.7"
  }
 },
 "nbformat": 4,
 "nbformat_minor": 5
}
