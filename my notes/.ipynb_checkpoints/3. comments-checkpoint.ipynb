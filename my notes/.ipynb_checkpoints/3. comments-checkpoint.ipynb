{
 "cells": [
  {
   "cell_type": "markdown",
   "id": "9a626278-87fd-49dd-bba1-aec5882f0605",
   "metadata": {},
   "source": [
    "# Comments"
   ]
  },
  {
   "cell_type": "markdown",
   "id": "59930f80-47de-413d-8a1d-deb4fcf64440",
   "metadata": {},
   "source": [
    "Comments are lines that exist in computer programs that are ignored by compilers and interpreters. \n",
    "\n",
    "Including comments in programs makes code more readable for humans as it provides some information or explanation about what each part of a program is doing.\n",
    "\n",
    "In general, it is a good idea to write comments while you are writing or updating a program as it is easy to forget your thought process later on, and comments written later may be less useful in the long term. "
   ]
  },
  {
   "cell_type": "code",
   "execution_count": 1,
   "id": "6f946aad-3c90-4564-bbc0-49055db366d6",
   "metadata": {},
   "outputs": [
    {
     "name": "stdout",
     "output_type": "stream",
     "text": [
      "Hello World\n"
     ]
    }
   ],
   "source": [
    "# Print Hello Wolrd\n",
    "print(\"Hello\", \"World\")"
   ]
  },
  {
   "cell_type": "markdown",
   "id": "5504275f-a250-4b5c-8493-376e47975b01",
   "metadata": {},
   "source": [
    "# Multi line comments"
   ]
  },
  {
   "cell_type": "code",
   "execution_count": 2,
   "id": "a48fc18a-8b46-49c4-8843-878ab2867a4e",
   "metadata": {},
   "outputs": [],
   "source": [
    "#This is a long comment\n",
    "#and it extends \n",
    "#Multiple lines"
   ]
  },
  {
   "cell_type": "code",
   "execution_count": 3,
   "id": "be8f9f82-699f-4e42-9842-70500dafa651",
   "metadata": {},
   "outputs": [
    {
     "data": {
      "text/plain": [
       "'This is a long comment\\nand it extends \\nMultiple lines'"
      ]
     },
     "execution_count": 3,
     "metadata": {},
     "output_type": "execute_result"
    }
   ],
   "source": [
    "'''This is a long comment\n",
    "and it extends \n",
    "Multiple lines'''"
   ]
  },
  {
   "cell_type": "code",
   "execution_count": 4,
   "id": "7a0f09f4-12b6-4478-830e-70f120f6cfde",
   "metadata": {},
   "outputs": [
    {
     "data": {
      "text/plain": [
       "'This is a long comment\\nand it extends \\nMultiple lines'"
      ]
     },
     "execution_count": 4,
     "metadata": {},
     "output_type": "execute_result"
    }
   ],
   "source": [
    "\"\"\"This is a long comment\n",
    "and it extends \n",
    "Multiple lines\"\"\""
   ]
  },
  {
   "cell_type": "markdown",
   "id": "ecb25538-1a0b-4b91-8bbf-96427634c3c4",
   "metadata": {},
   "source": [
    "# DocString"
   ]
  },
  {
   "cell_type": "code",
   "execution_count": 5,
   "id": "8910440f-0b68-454a-a54f-41daf923905f",
   "metadata": {},
   "outputs": [
    {
     "name": "stdout",
     "output_type": "stream",
     "text": [
      "4\n"
     ]
    }
   ],
   "source": [
    "def sqr(x):\n",
    "    \"\"\" \n",
    "        Function which return square of value\n",
    "    \"\"\"\n",
    "    return x**2\n",
    "print(sqr(2))"
   ]
  },
  {
   "cell_type": "code",
   "execution_count": 6,
   "id": "6b01dd0d-96b8-4748-8020-05a4d7732202",
   "metadata": {},
   "outputs": [
    {
     "name": "stdout",
     "output_type": "stream",
     "text": [
      " \n",
      "        Function which return square of value\n",
      "    \n"
     ]
    }
   ],
   "source": [
    "print(sqr.__doc__)"
   ]
  },
  {
   "cell_type": "markdown",
   "id": "507064b2-1e58-415d-9cea-6cbe98d6d030",
   "metadata": {},
   "source": [
    "# Python Indentation"
   ]
  },
  {
   "cell_type": "markdown",
   "id": "79b1dc1b-1a20-4a15-95e5-bce58b74155c",
   "metadata": {},
   "source": [
    "1. Most of the programming languages like C, C++, Java use braces { } to define a block of code. Python uses indentation.\n",
    "\n",
    "2. A code block (body of a function, loop etc.) starts with indentation and ends with the first unindented line. The amount of indentation is up to you, but it must be consistent throughout that block.\n",
    "\n",
    "3. Generally four whitespaces are used for indentation and is preferred over tabs."
   ]
  },
  {
   "cell_type": "code",
   "execution_count": 8,
   "id": "117a0f1a-8795-4098-903c-7831f1042bab",
   "metadata": {},
   "outputs": [
    {
     "name": "stdout",
     "output_type": "stream",
     "text": [
      "0\n",
      "1\n",
      "2\n",
      "3\n",
      "4\n"
     ]
    }
   ],
   "source": [
    "for i in range(5):\n",
    "    print(i)"
   ]
  },
  {
   "cell_type": "markdown",
   "id": "127b0a38-746e-4a89-84a3-72f88430396a",
   "metadata": {},
   "source": [
    "Indentation can be ignored in line continuation. But it's a good idea to always indent. It makes the code more readable."
   ]
  },
  {
   "cell_type": "code",
   "execution_count": 10,
   "id": "0da50457-0ba4-475f-85fd-37469827f403",
   "metadata": {},
   "outputs": [
    {
     "name": "stdout",
     "output_type": "stream",
     "text": [
      "Machine Learning\n"
     ]
    }
   ],
   "source": [
    "if True:\n",
    "    print (\"Machine Learning\")\n",
    "    c = \"AAIC\""
   ]
  },
  {
   "cell_type": "code",
   "execution_count": 12,
   "id": "3f1887c1-ffae-4941-9551-4ada9cfa147b",
   "metadata": {},
   "outputs": [
    {
     "name": "stdout",
     "output_type": "stream",
     "text": [
      "Machine Learning\n"
     ]
    }
   ],
   "source": [
    "if True: print (\"Machine Learning\"); c = \"AAIC\""
   ]
  },
  {
   "cell_type": "markdown",
   "id": "389988e5-ab37-4743-8b91-618b03bad5ad",
   "metadata": {},
   "source": [
    "# Python Statement"
   ]
  },
  {
   "cell_type": "markdown",
   "id": "4f4f271f-1985-422d-8578-8c57d588a2d9",
   "metadata": {},
   "source": [
    "Instructions that a Python interpreter can execute are called statements."
   ]
  },
  {
   "cell_type": "code",
   "execution_count": 13,
   "id": "e7347f82-9347-44f5-90a9-edaf86f9a8cf",
   "metadata": {},
   "outputs": [],
   "source": [
    " a = 1  #single statement"
   ]
  },
  {
   "cell_type": "markdown",
   "id": "f9f24d88-3261-4e6b-8809-bc2a36191433",
   "metadata": {},
   "source": [
    "# Multi-Line Statement"
   ]
  },
  {
   "cell_type": "markdown",
   "id": "b985a8f8-5c4b-423e-8299-c983535c1713",
   "metadata": {},
   "source": [
    "In Python, end of a statement is marked by a newline character. But we can make a statement extend over multiple lines with the line continuation character (\\)."
   ]
  },
  {
   "cell_type": "code",
   "execution_count": 14,
   "id": "a6e529ad-5c74-4528-b303-80132ff254bb",
   "metadata": {},
   "outputs": [],
   "source": [
    "a = 1 + 2 + 3 + \\\n",
    "    4 + 5 + 6 + \\\n",
    "    7 + 8"
   ]
  },
  {
   "cell_type": "code",
   "execution_count": 15,
   "id": "c8b157d7-a54a-417e-bd77-2e3aa4514cd4",
   "metadata": {},
   "outputs": [
    {
     "data": {
      "text/plain": [
       "36"
      ]
     },
     "execution_count": 15,
     "metadata": {},
     "output_type": "execute_result"
    }
   ],
   "source": [
    "a"
   ]
  },
  {
   "cell_type": "code",
   "execution_count": 17,
   "id": "b279da9f-4936-4e8d-8c4a-be61150e60ba",
   "metadata": {},
   "outputs": [],
   "source": [
    "#another way is\n",
    "a = (1 + 2 + 3 +\n",
    "    4 + 5 + 6 + \n",
    "    7 + 8)"
   ]
  },
  {
   "cell_type": "code",
   "execution_count": 18,
   "id": "30a09cad-bc99-4ff1-9bab-48cb462c9769",
   "metadata": {},
   "outputs": [
    {
     "data": {
      "text/plain": [
       "36"
      ]
     },
     "execution_count": 18,
     "metadata": {},
     "output_type": "execute_result"
    }
   ],
   "source": [
    "a"
   ]
  },
  {
   "cell_type": "code",
   "execution_count": 19,
   "id": "e014d947-dc17-4848-a912-4d05d9612008",
   "metadata": {},
   "outputs": [],
   "source": [
    "a = 10; b = 20; c = 30   #put multiple statements in a single line using ;"
   ]
  },
  {
   "cell_type": "code",
   "execution_count": null,
   "id": "69d29d0a-a421-4f19-b565-4ff0e581961f",
   "metadata": {},
   "outputs": [],
   "source": []
  }
 ],
 "metadata": {
  "kernelspec": {
   "display_name": "Python 3 (ipykernel)",
   "language": "python",
   "name": "python3"
  },
  "language_info": {
   "codemirror_mode": {
    "name": "ipython",
    "version": 3
   },
   "file_extension": ".py",
   "mimetype": "text/x-python",
   "name": "python",
   "nbconvert_exporter": "python",
   "pygments_lexer": "ipython3",
   "version": "3.9.7"
  }
 },
 "nbformat": 4,
 "nbformat_minor": 5
}
