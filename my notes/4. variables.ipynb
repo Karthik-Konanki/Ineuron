{
 "cells": [
  {
   "cell_type": "markdown",
   "id": "d619a821-4917-40c5-aa1c-db521f4b5392",
   "metadata": {},
   "source": [
    "# Variables"
   ]
  },
  {
   "cell_type": "markdown",
   "id": "08f38f97-f246-4a6d-a8f7-8633558acbbe",
   "metadata": {},
   "source": [
    "A variable is a location in memory used to store some data (value).\n",
    "\n",
    "They are given unique names to differentiate between different memory locations. The rules for writing a variable name is same as the rules for writing identifiers in Python.\n",
    "\n",
    "We don't need to declare a variable before using it. In Python, we simply assign a value to a variable and it will exist. We don't even have to declare the type of the variable. This is handled internally according to the type of value we assign to the variable."
   ]
  },
  {
   "cell_type": "markdown",
   "id": "e9a65872-d526-4728-ba57-ab134f5a57e2",
   "metadata": {},
   "source": [
    "# Variable Assignments"
   ]
  },
  {
   "cell_type": "code",
   "execution_count": 21,
   "id": "c5e9ba76-09d3-4a8b-89a8-660a72ba4ca5",
   "metadata": {},
   "outputs": [],
   "source": [
    "#We use the assignment operator (=) to assign values to a variable\n",
    "\n",
    "a = 10\n",
    "b = 5.5\n",
    "c = \"ML\""
   ]
  },
  {
   "cell_type": "markdown",
   "id": "2a8e8073-6463-443e-adef-8b18c779da0e",
   "metadata": {},
   "source": [
    "# Multiple Assignments"
   ]
  },
  {
   "cell_type": "code",
   "execution_count": 22,
   "id": "885deab2-219c-4ac4-a46d-e117686ae031",
   "metadata": {},
   "outputs": [],
   "source": [
    "a, b, c = 10, 5.5, \"ML\""
   ]
  },
  {
   "cell_type": "code",
   "execution_count": 23,
   "id": "7d844685-4436-4140-8b91-40955e784e0d",
   "metadata": {},
   "outputs": [
    {
     "name": "stdout",
     "output_type": "stream",
     "text": [
      "10\n",
      "5.5\n",
      "ML\n"
     ]
    }
   ],
   "source": [
    "print(a)\n",
    "print(b)\n",
    "print(c)"
   ]
  },
  {
   "cell_type": "code",
   "execution_count": 24,
   "id": "d2717b0b-2c73-45f7-88ea-89634be1d40c",
   "metadata": {},
   "outputs": [
    {
     "ename": "ValueError",
     "evalue": "too many values to unpack (expected 2)",
     "output_type": "error",
     "traceback": [
      "\u001b[1;31m---------------------------------------------------------------------------\u001b[0m",
      "\u001b[1;31mValueError\u001b[0m                                Traceback (most recent call last)",
      "\u001b[1;32m~\\AppData\\Local\\Temp/ipykernel_10180/554260263.py\u001b[0m in \u001b[0;36m<module>\u001b[1;34m\u001b[0m\n\u001b[1;32m----> 1\u001b[1;33m \u001b[0ma\u001b[0m\u001b[1;33m,\u001b[0m \u001b[0mc\u001b[0m \u001b[1;33m=\u001b[0m \u001b[1;36m10\u001b[0m\u001b[1;33m,\u001b[0m \u001b[1;36m5.5\u001b[0m\u001b[1;33m,\u001b[0m \u001b[1;34m\"ML\"\u001b[0m\u001b[1;33m\u001b[0m\u001b[1;33m\u001b[0m\u001b[0m\n\u001b[0m",
      "\u001b[1;31mValueError\u001b[0m: too many values to unpack (expected 2)"
     ]
    }
   ],
   "source": [
    "a, c = 10, 5.5, \"ML\""
   ]
  },
  {
   "cell_type": "code",
   "execution_count": 25,
   "id": "912c1ac0-b81c-4bc3-a6cc-84ae69286067",
   "metadata": {},
   "outputs": [],
   "source": [
    "a = b = c = \"AI\" #assign the same value to multiple variables at once"
   ]
  },
  {
   "cell_type": "code",
   "execution_count": 26,
   "id": "dd5dfd1a-d464-4f60-800e-b85096e62e30",
   "metadata": {},
   "outputs": [
    {
     "name": "stdout",
     "output_type": "stream",
     "text": [
      "AI\n",
      "AI\n",
      "AI\n"
     ]
    }
   ],
   "source": [
    "print(a)\n",
    "print(b)\n",
    "print(c)"
   ]
  },
  {
   "cell_type": "markdown",
   "id": "3b13da15-868f-4f0f-9d51-8bad7ba3bac9",
   "metadata": {},
   "source": [
    "# Storage Locations"
   ]
  },
  {
   "cell_type": "code",
   "execution_count": 27,
   "id": "4775ab8e-495c-4c75-9c3b-514429e0b3d4",
   "metadata": {},
   "outputs": [
    {
     "name": "stdout",
     "output_type": "stream",
     "text": [
      "2008755562864\n"
     ]
    }
   ],
   "source": [
    "x = 3\n",
    "\n",
    "print(id(x))               #print address of variable x"
   ]
  },
  {
   "cell_type": "code",
   "execution_count": 28,
   "id": "d0829f5d-f265-4835-a762-7bd7854c988f",
   "metadata": {},
   "outputs": [
    {
     "name": "stdout",
     "output_type": "stream",
     "text": [
      "2008755562864\n"
     ]
    }
   ],
   "source": [
    "y = 3\n",
    "\n",
    "print(id(y))               #print address of variable y"
   ]
  },
  {
   "cell_type": "markdown",
   "id": "d858b39b-8061-457d-abab-fc346fbf22b4",
   "metadata": {},
   "source": [
    "Observation:\n",
    "\n",
    "x and y points to same memory location"
   ]
  },
  {
   "cell_type": "code",
   "execution_count": 29,
   "id": "21713a45-de46-4b57-97aa-c6d1f4421fcd",
   "metadata": {},
   "outputs": [
    {
     "name": "stdout",
     "output_type": "stream",
     "text": [
      "2008755562832\n"
     ]
    }
   ],
   "source": [
    "y = 2\n",
    "print(id(y))               #print address of variable y"
   ]
  },
  {
   "cell_type": "markdown",
   "id": "7398c8ec-04d6-4fa7-84e6-7a28f8bc6d01",
   "metadata": {},
   "source": [
    "### Underscore (_) in Python"
   ]
  },
  {
   "cell_type": "raw",
   "id": "80f0e2d6-5f39-463a-a854-0f95a0270c75",
   "metadata": {},
   "source": [
    "Following are different places where _ is used in Python:\n",
    "\n",
    "Single Underscore:\n",
    "    1. In Interpreter\n",
    "    2. After a name\n",
    "    3. Before a name\n",
    "Double Underscore:\n",
    "    1. __leading_double_underscore\n",
    "    2. __before_after__\n"
   ]
  },
  {
   "cell_type": "markdown",
   "id": "15e5168c-9f3b-4314-8daa-1be0dc8e2009",
   "metadata": {},
   "source": [
    "_ returns the value of last executed expression value in Python Prompt/Interpreter"
   ]
  },
  {
   "cell_type": "code",
   "execution_count": 6,
   "id": "dd4f2d27-c14e-4b7f-8df0-5c0a18fbd9d8",
   "metadata": {},
   "outputs": [],
   "source": [
    "a = 10"
   ]
  },
  {
   "cell_type": "code",
   "execution_count": 7,
   "id": "440a44f4-cdca-4855-8fa3-7ac8c69ef7b9",
   "metadata": {},
   "outputs": [
    {
     "data": {
      "text/plain": [
       "8"
      ]
     },
     "execution_count": 7,
     "metadata": {},
     "output_type": "execute_result"
    }
   ],
   "source": [
    "a - 2"
   ]
  },
  {
   "cell_type": "code",
   "execution_count": 8,
   "id": "72aacc29-fd45-40bf-84ab-cb051fca87a1",
   "metadata": {},
   "outputs": [
    {
     "data": {
      "text/plain": [
       "8"
      ]
     },
     "execution_count": 8,
     "metadata": {},
     "output_type": "execute_result"
    }
   ],
   "source": [
    "_"
   ]
  },
  {
   "cell_type": "markdown",
   "id": "3d7e9224-45e5-4983-9638-3528d2c3bfc1",
   "metadata": {},
   "source": [
    "Multiple time we do not want return values at that time to assign those values to Underscore. It used as throwaway variable."
   ]
  },
  {
   "cell_type": "code",
   "execution_count": 12,
   "id": "9237c955-1367-4864-972e-819cd5c71d22",
   "metadata": {},
   "outputs": [
    {
     "name": "stdout",
     "output_type": "stream",
     "text": [
      "test\n",
      "test\n",
      "test\n",
      "test\n",
      "test\n",
      "test\n",
      "test\n",
      "test\n",
      "test\n",
      "test\n"
     ]
    }
   ],
   "source": [
    "#Ignore a value of specific location/index\n",
    "for _ in range(10):\n",
    "    print(\"test\")"
   ]
  },
  {
   "cell_type": "code",
   "execution_count": 13,
   "id": "3eccf40e-0d3f-4c55-9585-947239ef07db",
   "metadata": {},
   "outputs": [
    {
     "ename": "TypeError",
     "evalue": "cannot unpack non-iterable int object",
     "output_type": "error",
     "traceback": [
      "\u001b[1;31m---------------------------------------------------------------------------\u001b[0m",
      "\u001b[1;31mTypeError\u001b[0m                                 Traceback (most recent call last)",
      "\u001b[1;32m~\\AppData\\Local\\Temp/ipykernel_26672/998362539.py\u001b[0m in \u001b[0;36m<module>\u001b[1;34m\u001b[0m\n\u001b[0;32m      1\u001b[0m \u001b[1;31m# Ignore a value when unpacking\u001b[0m\u001b[1;33m\u001b[0m\u001b[1;33m\u001b[0m\u001b[0m\n\u001b[1;32m----> 2\u001b[1;33m \u001b[0ma\u001b[0m\u001b[1;33m,\u001b[0m\u001b[0mb\u001b[0m\u001b[1;33m,\u001b[0m\u001b[0m_\u001b[0m\u001b[1;33m,\u001b[0m\u001b[0m_\u001b[0m \u001b[1;33m=\u001b[0m \u001b[1;36m10\u001b[0m\u001b[1;33m\u001b[0m\u001b[1;33m\u001b[0m\u001b[0m\n\u001b[0m",
      "\u001b[1;31mTypeError\u001b[0m: cannot unpack non-iterable int object"
     ]
    }
   ],
   "source": [
    "# Ignore a value when unpacking\n",
    "a,b,_,_ = my_method(var1)"
   ]
  },
  {
   "cell_type": "markdown",
   "id": "8538216f-f4da-4039-b3c0-b45e8dacb83c",
   "metadata": {},
   "source": [
    "**After a name:** Python has their by default keywords which we can not use as the variable name. To avoid such conflict between python keyword and variable we use underscore after name"
   ]
  },
  {
   "cell_type": "code",
   "execution_count": 15,
   "id": "ba140b25-9359-4721-9a3a-593142f7dfa4",
   "metadata": {},
   "outputs": [
    {
     "name": "stdout",
     "output_type": "stream",
     "text": [
      "1\n",
      "<class '__main__.MyClass'>\n"
     ]
    },
    {
     "ename": "NameError",
     "evalue": "name '__main__' is not defined",
     "output_type": "error",
     "traceback": [
      "\u001b[1;31m---------------------------------------------------------------------------\u001b[0m",
      "\u001b[1;31mNameError\u001b[0m                                 Traceback (most recent call last)",
      "\u001b[1;32m~\\AppData\\Local\\Temp/ipykernel_26672/3005753732.py\u001b[0m in \u001b[0;36m<module>\u001b[1;34m\u001b[0m\n\u001b[0;32m      9\u001b[0m \u001b[0mmy_defination\u001b[0m\u001b[1;33m(\u001b[0m\u001b[1;33m)\u001b[0m\u001b[1;33m\u001b[0m\u001b[1;33m\u001b[0m\u001b[0m\n\u001b[0;32m     10\u001b[0m \u001b[1;33m\u001b[0m\u001b[0m\n\u001b[1;32m---> 11\u001b[1;33m \u001b[0m__main__\u001b[0m\u001b[1;33m.\u001b[0m\u001b[0mMyClass\u001b[0m\u001b[1;33m\u001b[0m\u001b[1;33m\u001b[0m\u001b[0m\n\u001b[0m",
      "\u001b[1;31mNameError\u001b[0m: name '__main__' is not defined"
     ]
    }
   ],
   "source": [
    "class MyClass():\n",
    "    def __init__(self):\n",
    "        print (\"OWK\")\n",
    "\n",
    "def my_defination(var1 = 1, class_ = MyClass):\n",
    "    print (var1)\n",
    "    print (class_)\n",
    "\n",
    "my_defination()\n",
    "\n",
    "__main__.MyClass\n"
   ]
  },
  {
   "cell_type": "markdown",
   "id": "54771307-e536-423a-a36c-04c3d43d8347",
   "metadata": {},
   "source": [
    "**Before a name:** Leading Underscore before variable/function/method name indicates to programmer that It is for internal use only, that can be modified whenever class want. Here name prefix by underscore is treated as non-public. If specify **from Import** * all the name starts with _ will not import. Python does not specify truly private so this ones can be call directly from other modules if it is specified in __all__, We also call it **weak Private**"
   ]
  },
  {
   "cell_type": "code",
   "execution_count": 17,
   "id": "2f2858f5-80ff-4765-913b-fef5177d8ff6",
   "metadata": {},
   "outputs": [
    {
     "data": {
      "text/plain": [
       "12"
      ]
     },
     "execution_count": 17,
     "metadata": {},
     "output_type": "execute_result"
    }
   ],
   "source": [
    "class Prefix:\n",
    "    def __init__(self):\n",
    "        self.public = 10\n",
    "        self._private = 12\n",
    "test = Prefix()\n",
    "\n",
    "test.public\n",
    "\n",
    "test._private\n",
    "\n"
   ]
  },
  {
   "cell_type": "markdown",
   "id": "ba1a57c7-faee-44c6-983c-8ae47aef45f7",
   "metadata": {},
   "source": [
    "**__leading_double_underscore:** Leading double underscore tell python interpreter to rewrite name in order to avoid conflict in subclass.Interpreter changes variable name with class extension and that feature known as the Mangling."
   ]
  },
  {
   "cell_type": "code",
   "execution_count": 18,
   "id": "df8aabfa-6b14-4067-8aa7-44e0dec9bb5f",
   "metadata": {},
   "outputs": [],
   "source": [
    "class Myclass():\n",
    "    def __init__(self):\n",
    "        self.__variable = 10\n"
   ]
  },
  {
   "cell_type": "markdown",
   "id": "88cae64e-0f69-4194-ac77-f002c33159f8",
   "metadata": {},
   "source": [
    "**__BEFORE_AFTER__:** Name with start with __ and ends with same considers special methods in Python. Python provides these methods to use it as the operator overloading depending on the user."
   ]
  },
  {
   "cell_type": "code",
   "execution_count": 19,
   "id": "91ae2c26-dde2-4a8e-abd8-3b37c854bf8c",
   "metadata": {},
   "outputs": [],
   "source": [
    "class Myclass():\n",
    "    def __add__(self,a,b):\n",
    "        print (a*b)\n"
   ]
  },
  {
   "cell_type": "code",
   "execution_count": null,
   "id": "2bf217a1-68ae-4308-a6bc-eefb6241a6e5",
   "metadata": {},
   "outputs": [],
   "source": []
  }
 ],
 "metadata": {
  "kernelspec": {
   "display_name": "Python 3 (ipykernel)",
   "language": "python",
   "name": "python3"
  },
  "language_info": {
   "codemirror_mode": {
    "name": "ipython",
    "version": 3
   },
   "file_extension": ".py",
   "mimetype": "text/x-python",
   "name": "python",
   "nbconvert_exporter": "python",
   "pygments_lexer": "ipython3",
   "version": "3.9.7"
  }
 },
 "nbformat": 4,
 "nbformat_minor": 5
}
