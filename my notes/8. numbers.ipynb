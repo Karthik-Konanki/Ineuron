{
 "cells": [
  {
   "cell_type": "markdown",
   "id": "907f8aa7-e991-4320-8656-1bbf567668e4",
   "metadata": {},
   "source": [
    "# Numbers"
   ]
  },
  {
   "cell_type": "markdown",
   "id": "02e595ed-e4dc-4adb-988f-e4c33fb1cc12",
   "metadata": {},
   "source": [
    "## Integers"
   ]
  },
  {
   "cell_type": "code",
   "execution_count": 2,
   "id": "b765f0c9-ca43-4f53-80ea-1f6716c419b0",
   "metadata": {},
   "outputs": [],
   "source": [
    "a = 10"
   ]
  },
  {
   "cell_type": "code",
   "execution_count": 3,
   "id": "139eb34c-56ea-4be9-9409-ad0ab45823b7",
   "metadata": {},
   "outputs": [
    {
     "data": {
      "text/plain": [
       "int"
      ]
     },
     "execution_count": 3,
     "metadata": {},
     "output_type": "execute_result"
    }
   ],
   "source": [
    "type(a)"
   ]
  },
  {
   "cell_type": "markdown",
   "id": "707e3904-e1b6-4bf4-9e51-8c9b8ae5f928",
   "metadata": {},
   "source": [
    "### integer in-built functions"
   ]
  },
  {
   "cell_type": "code",
   "execution_count": 5,
   "id": "a9d4a210-b101-4d62-8929-c4ce4709de94",
   "metadata": {},
   "outputs": [
    {
     "data": {
      "text/plain": [
       "(10, 1)"
      ]
     },
     "execution_count": 5,
     "metadata": {},
     "output_type": "execute_result"
    }
   ],
   "source": [
    "a.as_integer_ratio()"
   ]
  },
  {
   "cell_type": "code",
   "execution_count": 6,
   "id": "41a6e852-79b5-46c0-8e66-3563115138e1",
   "metadata": {},
   "outputs": [
    {
     "data": {
      "text/plain": [
       "4"
      ]
     },
     "execution_count": 6,
     "metadata": {},
     "output_type": "execute_result"
    }
   ],
   "source": [
    "a.bit_length()"
   ]
  },
  {
   "cell_type": "code",
   "execution_count": 8,
   "id": "1419203a-ed0c-4950-af95-49a51e757ec5",
   "metadata": {},
   "outputs": [
    {
     "data": {
      "text/plain": [
       "10"
      ]
     },
     "execution_count": 8,
     "metadata": {},
     "output_type": "execute_result"
    }
   ],
   "source": [
    "a.conjugate()"
   ]
  },
  {
   "cell_type": "code",
   "execution_count": 9,
   "id": "f7c9d588-754e-422f-9984-691fbd0ef1f0",
   "metadata": {},
   "outputs": [
    {
     "data": {
      "text/plain": [
       "1"
      ]
     },
     "execution_count": 9,
     "metadata": {},
     "output_type": "execute_result"
    }
   ],
   "source": [
    "a.denominator"
   ]
  },
  {
   "cell_type": "code",
   "execution_count": 19,
   "id": "2c19781d-1ba0-4935-9682-2a03d181f94a",
   "metadata": {},
   "outputs": [
    {
     "data": {
      "text/plain": [
       "52989027954808"
      ]
     },
     "execution_count": 19,
     "metadata": {},
     "output_type": "execute_result"
    }
   ],
   "source": [
    "a = b'x00x10'\n",
    "int.from_bytes(b'x00x10',byteorder ='little')"
   ]
  },
  {
   "cell_type": "code",
   "execution_count": null,
   "id": "cffe76b0-2971-4d8b-84b7-68172a25d8c5",
   "metadata": {},
   "outputs": [],
   "source": []
  }
 ],
 "metadata": {
  "kernelspec": {
   "display_name": "Python 3 (ipykernel)",
   "language": "python",
   "name": "python3"
  },
  "language_info": {
   "codemirror_mode": {
    "name": "ipython",
    "version": 3
   },
   "file_extension": ".py",
   "mimetype": "text/x-python",
   "name": "python",
   "nbconvert_exporter": "python",
   "pygments_lexer": "ipython3",
   "version": "3.9.7"
  }
 },
 "nbformat": 4,
 "nbformat_minor": 5
}
