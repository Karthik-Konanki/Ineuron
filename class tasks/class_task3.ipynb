{
 "cells": [
  {
   "cell_type": "raw",
   "id": "7e6cda9e-6638-494b-8596-c066c70b605c",
   "metadata": {},
   "source": [
    "Q1\n",
    "\n",
    "ineuron\n",
    "ineuron ineuron\n",
    "ineuron ineuron ineuron\n",
    "ineuron ineuron ineuron ineuron"
   ]
  },
  {
   "cell_type": "code",
   "execution_count": 1,
   "id": "5bbc95b5-7168-40cd-9628-e5416a51b2a4",
   "metadata": {},
   "outputs": [
    {
     "name": "stdout",
     "output_type": "stream",
     "text": [
      "\n",
      "ineuron \n",
      "ineuron ineuron \n",
      "ineuron ineuron ineuron \n",
      "ineuron ineuron ineuron ineuron \n"
     ]
    }
   ],
   "source": [
    "for i in range(1):\n",
    "    for j in range(5):\n",
    "        print(j*'ineuron ')"
   ]
  },
  {
   "cell_type": "code",
   "execution_count": 2,
   "id": "62864b00-0e40-4c5e-8984-b7c24d39acb9",
   "metadata": {},
   "outputs": [
    {
     "name": "stdout",
     "output_type": "stream",
     "text": [
      "ineuron \n",
      "ineuron ineuron \n",
      "ineuron ineuron ineuron \n",
      "ineuron ineuron ineuron ineuron \n"
     ]
    }
   ],
   "source": [
    "for i in range(4):\n",
    "    for j in range(i + 1):\n",
    "        print('ineuron', end=' ')\n",
    "    print()"
   ]
  },
  {
   "cell_type": "raw",
   "id": "f5a3c8c1-fbc5-4bed-a27a-03f79c133130",
   "metadata": {},
   "source": [
    "Q2\n",
    "              ineuron\n",
    "   ineuron              ineuron\n",
    "ineuron       ineuron         ineuron\n",
    "   ineuron              ineuron\n",
    "              ineuron\n"
   ]
  },
  {
   "cell_type": "code",
   "execution_count": 1,
   "id": "d27c7f8c-3ab2-4ab6-beff-a4af7a13808c",
   "metadata": {},
   "outputs": [
    {
     "name": "stdout",
     "output_type": "stream",
     "text": [
      "       ineuron  \n",
      "    ineuron  ineuron  \n",
      " ineuron  ineuron  ineuron  \n",
      "     ineuron  ineuron  \n",
      "       ineuron  \n"
     ]
    }
   ],
   "source": [
    "# Note: i tried to write own, but not happend, so i taken program from yesterdays class and did some changes to that program \n",
    "\n",
    "n = 3\n",
    "k = n\n",
    "\n",
    "for i in range(n):\n",
    "    k = k - 1\n",
    "    print('   '*k, end=' ')\n",
    "    for j in range(i+1):\n",
    "        print('ineuron', end='  ')\n",
    "    print()\n",
    "m = 1\n",
    "k = m\n",
    "for i in range(m,-1,-1):\n",
    "    k = k + 1\n",
    "    print('  '*k, end=' ')\n",
    "    for j in range(i,-1,-1):\n",
    "        print('ineuron', end='  ')\n",
    "    print()"
   ]
  },
  {
   "cell_type": "code",
   "execution_count": 4,
   "id": "9cbc2768-1288-4193-8e0e-3521a3bb8765",
   "metadata": {},
   "outputs": [],
   "source": [
    "l = [[1,2,3,4],(2,3,4,5,6),(3,4,5,6,7),set([23,4,5,45,4,4,5,45,4,5]),{'k1':'Karthik', 'k2': 'ineuron','k3':'Konanki',3:6,7:8},['ineuron', 'data science']]"
   ]
  },
  {
   "cell_type": "code",
   "execution_count": 5,
   "id": "2671df93-d0e4-45fc-8dd2-21367a548a3c",
   "metadata": {},
   "outputs": [
    {
     "data": {
      "text/plain": [
       "[[1, 2, 3, 4],\n",
       " (2, 3, 4, 5, 6),\n",
       " (3, 4, 5, 6, 7),\n",
       " {4, 5, 23, 45},\n",
       " {'k1': 'Karthik', 'k2': 'ineuron', 'k3': 'Konanki', 3: 6, 7: 8},\n",
       " ['ineuron', 'data science']]"
      ]
     },
     "execution_count": 5,
     "metadata": {},
     "output_type": "execute_result"
    }
   ],
   "source": [
    "l"
   ]
  },
  {
   "cell_type": "code",
   "execution_count": 6,
   "id": "817e7124-e29e-4c6c-bff6-e5aaf556294a",
   "metadata": {},
   "outputs": [
    {
     "name": "stdout",
     "output_type": "stream",
     "text": [
      "[1, 2, 3, 4]\n",
      "['ineuron', 'data science']\n"
     ]
    }
   ],
   "source": [
    "# Q3. Try to extract all the list entity\n",
    "\n",
    "for i in l:\n",
    "    if type(i) == list:\n",
    "        print(i)"
   ]
  },
  {
   "cell_type": "code",
   "execution_count": 7,
   "id": "6ab64d69-f792-44c4-bb10-0a145d04c27a",
   "metadata": {},
   "outputs": [
    {
     "name": "stdout",
     "output_type": "stream",
     "text": [
      "0 : [1, 2, 3, 4]\n",
      "5 : ['ineuron', 'data science']\n"
     ]
    }
   ],
   "source": [
    "for i in range(len(l)):\n",
    "    if type(l[i]) == list:\n",
    "        print(i,':',l[i])"
   ]
  },
  {
   "cell_type": "code",
   "execution_count": 8,
   "id": "f587a986-ba59-44b9-b23d-21042685879a",
   "metadata": {},
   "outputs": [
    {
     "name": "stdout",
     "output_type": "stream",
     "text": [
      "{'k1': 'Karthik', 'k2': 'ineuron', 'k3': 'Konanki', 3: 6, 7: 8}\n"
     ]
    }
   ],
   "source": [
    "# Q4. Try to extract all the dict entity\n",
    "\n",
    "for i in l:\n",
    "    if type(i) == dict:\n",
    "        print(i)"
   ]
  },
  {
   "cell_type": "code",
   "execution_count": 9,
   "id": "9abd7d02-72a6-4966-a323-d4a271267b15",
   "metadata": {},
   "outputs": [
    {
     "name": "stdout",
     "output_type": "stream",
     "text": [
      "4 : {'k1': 'Karthik', 'k2': 'ineuron', 'k3': 'Konanki', 3: 6, 7: 8}\n"
     ]
    }
   ],
   "source": [
    "for i in range(len(l)):\n",
    "    if type(l[i]) == dict:\n",
    "        print(i,':',l[i])"
   ]
  },
  {
   "cell_type": "code",
   "execution_count": 10,
   "id": "dc2f31ba-b31b-4a30-a620-381bc03d6e15",
   "metadata": {},
   "outputs": [
    {
     "name": "stdout",
     "output_type": "stream",
     "text": [
      "(2, 3, 4, 5, 6)\n",
      "(3, 4, 5, 6, 7)\n"
     ]
    }
   ],
   "source": [
    "# Q5. Try to extract all the tuple entity\n",
    "\n",
    "for i in l:\n",
    "    if type(i) == tuple:\n",
    "        print(i)"
   ]
  },
  {
   "cell_type": "code",
   "execution_count": 11,
   "id": "be6456a9-25f4-4a68-bd5c-0b7e365795bb",
   "metadata": {},
   "outputs": [
    {
     "name": "stdout",
     "output_type": "stream",
     "text": [
      "1 : (2, 3, 4, 5, 6)\n",
      "2 : (3, 4, 5, 6, 7)\n"
     ]
    }
   ],
   "source": [
    "for i in range(len(l)):\n",
    "    if type(l[i]) == tuple:\n",
    "        print(i,':',l[i])"
   ]
  },
  {
   "cell_type": "code",
   "execution_count": 12,
   "id": "bfcc4185-737a-469b-9a77-cc987a6602aa",
   "metadata": {},
   "outputs": [
    {
     "data": {
      "text/plain": [
       "[[1, 2, 3, 4],\n",
       " (2, 3, 4, 5, 6),\n",
       " (3, 4, 5, 6, 7),\n",
       " {4, 5, 23, 45},\n",
       " {'k1': 'Karthik', 'k2': 'ineuron', 'k3': 'Konanki', 3: 6, 7: 8},\n",
       " ['ineuron', 'data science']]"
      ]
     },
     "execution_count": 12,
     "metadata": {},
     "output_type": "execute_result"
    }
   ],
   "source": [
    "l"
   ]
  },
  {
   "cell_type": "code",
   "execution_count": 13,
   "id": "129975fa-ce5d-44fe-b025-e1a20f4ac901",
   "metadata": {},
   "outputs": [
    {
     "name": "stdout",
     "output_type": "stream",
     "text": [
      "1\n",
      "2\n",
      "3\n",
      "4\n",
      "2\n",
      "3\n",
      "4\n",
      "5\n",
      "6\n",
      "3\n",
      "4\n",
      "5\n",
      "6\n",
      "7\n",
      "45\n",
      "4\n",
      "5\n",
      "23\n",
      "3\n",
      "6\n",
      "7\n",
      "8\n"
     ]
    }
   ],
   "source": [
    "# Q6. Try to extract all numerical data, it may be partof list or tuple or dict key  and values\n",
    "\n",
    "for i in l:\n",
    "    if type(i) == list or type(i) == tuple:\n",
    "        for j in i:\n",
    "            if type(j) == int or type(j) == float:\n",
    "                print(j)\n",
    "    if type(i) == set:\n",
    "        for m in i:\n",
    "            if type(m) == int or type(m) == float:\n",
    "                print(m)\n",
    "    if type(i) == dict:\n",
    "        for k,v in i.items():\n",
    "            if type(k) == int or type(v)==int or type(k) == float or type(v)==float:\n",
    "                print(k)\n",
    "                print(v)"
   ]
  },
  {
   "cell_type": "code",
   "execution_count": 14,
   "id": "c24f6d5d-73cb-4553-a8b8-e863dddcbefa",
   "metadata": {},
   "outputs": [
    {
     "name": "stdout",
     "output_type": "stream",
     "text": [
      "1\n",
      "2\n",
      "3\n",
      "4\n",
      "2\n",
      "3\n",
      "4\n",
      "5\n",
      "6\n",
      "3\n",
      "4\n",
      "5\n",
      "6\n",
      "7\n",
      "45\n",
      "4\n",
      "5\n",
      "23\n",
      "3\n",
      "6\n",
      "7\n",
      "8\n"
     ]
    }
   ],
   "source": [
    "# Q7. Try to summation of all the numerical data\n",
    "\n",
    "l1=[]\n",
    "for i in l:\n",
    "    if type(i) == list or type(i) == tuple:\n",
    "        for j in i:\n",
    "            if type(j) == int or type(j) == float:\n",
    "                print(j)\n",
    "                l1.append(j)\n",
    "    if type(i) == set:\n",
    "        for m in i:\n",
    "            if type(m) == int or type(m) == float:\n",
    "                print(m)\n",
    "                l1.append(m)\n",
    "    if type(i) == dict:\n",
    "        for k,v in i.items():\n",
    "            if type(k) == int or type(v)==int or type(k) == float or type(v)==float:\n",
    "                print(k)\n",
    "                l1.append(k)\n",
    "                print(v)\n",
    "                l1.append(v)"
   ]
  },
  {
   "cell_type": "code",
   "execution_count": 15,
   "id": "b91d4c4f-90dc-4e78-ab74-0545281927d4",
   "metadata": {},
   "outputs": [
    {
     "data": {
      "text/plain": [
       "[1, 2, 3, 4, 2, 3, 4, 5, 6, 3, 4, 5, 6, 7, 45, 4, 5, 23, 3, 6, 7, 8]"
      ]
     },
     "execution_count": 15,
     "metadata": {},
     "output_type": "execute_result"
    }
   ],
   "source": [
    "l1"
   ]
  },
  {
   "cell_type": "code",
   "execution_count": 16,
   "id": "293b464e-48a2-44ac-9b6d-d3375f484ac2",
   "metadata": {},
   "outputs": [
    {
     "data": {
      "text/plain": [
       "156"
      ]
     },
     "execution_count": 16,
     "metadata": {},
     "output_type": "execute_result"
    }
   ],
   "source": [
    "sum(l1)"
   ]
  },
  {
   "cell_type": "code",
   "execution_count": 17,
   "id": "b2fb70b3-c480-482e-9978-b18b769edb25",
   "metadata": {},
   "outputs": [
    {
     "name": "stdout",
     "output_type": "stream",
     "text": [
      "156\n"
     ]
    }
   ],
   "source": [
    "sum=0\n",
    "for i in l1:\n",
    "    sum=sum+i\n",
    "print(sum)"
   ]
  },
  {
   "cell_type": "code",
   "execution_count": 18,
   "id": "9ecb1e9b-3161-429d-9009-bd1b1b7e964d",
   "metadata": {},
   "outputs": [
    {
     "name": "stdout",
     "output_type": "stream",
     "text": [
      "1\n",
      "2\n",
      "3\n",
      "4\n"
     ]
    }
   ],
   "source": [
    "# Q8. Try to filter out all the odd values out of all numerical data which is part of list\n",
    "\n",
    "l1=[]\n",
    "for i in l:\n",
    "    if type(i) == list :\n",
    "        for j in i:\n",
    "            if type(j) == int or type(j) == float:\n",
    "                print(j)\n",
    "                l1.append(j)"
   ]
  },
  {
   "cell_type": "code",
   "execution_count": 19,
   "id": "542a517c-d2cd-412b-8b8c-742fa7497c81",
   "metadata": {},
   "outputs": [
    {
     "data": {
      "text/plain": [
       "[1, 2, 3, 4]"
      ]
     },
     "execution_count": 19,
     "metadata": {},
     "output_type": "execute_result"
    }
   ],
   "source": [
    "l1"
   ]
  },
  {
   "cell_type": "code",
   "execution_count": 20,
   "id": "ca1d671e-f1b2-442e-842e-f979ff7cfa82",
   "metadata": {},
   "outputs": [
    {
     "name": "stdout",
     "output_type": "stream",
     "text": [
      "1\n",
      "3\n"
     ]
    }
   ],
   "source": [
    "for i in l1:\n",
    "    if i % 2 != 0:\n",
    "        print(i)"
   ]
  },
  {
   "cell_type": "code",
   "execution_count": 21,
   "id": "1a57e271-b5c4-4314-b51d-78027f0ddd79",
   "metadata": {},
   "outputs": [
    {
     "data": {
      "text/plain": [
       "[[1, 2, 3, 4],\n",
       " (2, 3, 4, 5, 6),\n",
       " (3, 4, 5, 6, 7),\n",
       " {4, 5, 23, 45},\n",
       " {'k1': 'Karthik', 'k2': 'ineuron', 'k3': 'Konanki', 3: 6, 7: 8},\n",
       " ['ineuron', 'data science']]"
      ]
     },
     "execution_count": 21,
     "metadata": {},
     "output_type": "execute_result"
    }
   ],
   "source": [
    "l = [[1,2,3,4],(2,3,4,5,6),(3,4,5,6,7),set([23,4,5,45,4,4,5,45,4,5]),{'k1':'Karthik', 'k2': 'ineuron','k3':'Konanki',3:6,7:8},['ineuron', 'data science']]\n",
    "l"
   ]
  },
  {
   "cell_type": "code",
   "execution_count": 22,
   "id": "2fa0fe9c-fb68-4014-a8d8-1ece3e27d658",
   "metadata": {},
   "outputs": [
    {
     "name": "stdout",
     "output_type": "stream",
     "text": [
      "ineuron\n",
      "ineuron\n"
     ]
    }
   ],
   "source": [
    "# Q9. Try to extract \"ineuron\" out of this data\n",
    "for i in l:\n",
    "    if type(i) == list or type(i) == tuple:\n",
    "        for j in i:\n",
    "            if type(j) == str and j == 'ineuron':\n",
    "                print(j)\n",
    "    if type(i) == set:\n",
    "        for m in i:\n",
    "            if type(m) == str  and j == 'ineuron':\n",
    "                print(m)\n",
    "    if type(i) == dict:\n",
    "        for k,v in i.items():\n",
    "            if (type(k) == str or type(v)==str):\n",
    "                if k == 'ineuron':\n",
    "                    print(k)\n",
    "                if v == 'ineuron':\n",
    "                    print(v)"
   ]
  },
  {
   "cell_type": "code",
   "execution_count": 23,
   "id": "75f7966c-de3b-4e98-ac60-bbf6794e547b",
   "metadata": {},
   "outputs": [
    {
     "data": {
      "text/plain": [
       "[[1, 2, 3, 4],\n",
       " (2, 3, 4, 5, 6),\n",
       " (3, 4, 5, 6, 7),\n",
       " {4, 5, 23, 45},\n",
       " {'k1': 'Karthik', 'k2': 'ineuron', 'k3': 'Konanki', 3: 6, 7: 8},\n",
       " ['ineuron', 'data science']]"
      ]
     },
     "execution_count": 23,
     "metadata": {},
     "output_type": "execute_result"
    }
   ],
   "source": [
    "l = [[1,2,3,4],(2,3,4,5,6),(3,4,5,6,7),set([23,4,5,45,4,4,5,45,4,5]),{'k1':'Karthik', 'k2': 'ineuron','k3':'Konanki',3:6,7:8},['ineuron', 'data science']]\n",
    "l"
   ]
  },
  {
   "cell_type": "code",
   "execution_count": 24,
   "id": "3e78edb2-c5b6-42b9-94ce-be3fc1ed7a73",
   "metadata": {},
   "outputs": [],
   "source": [
    "# Q10. Try to find number of occurances of all the data\n",
    "\n",
    "l1=[]\n",
    "for i in l:\n",
    "    if type(i) == list or type(i) == tuple:\n",
    "        for j in i:\n",
    "                l1.append(j)\n",
    "    if type(i) == set:\n",
    "        for m in i:\n",
    "            l1.append(m)\n",
    "    if type(i) == dict:\n",
    "        for k,v in i.items():\n",
    "            l1.append(k)\n",
    "            l1.append(v)"
   ]
  },
  {
   "cell_type": "code",
   "execution_count": 25,
   "id": "75b82b8d-0912-40b1-aacb-5a8fe84bd269",
   "metadata": {},
   "outputs": [
    {
     "data": {
      "text/plain": [
       "[1,\n",
       " 2,\n",
       " 3,\n",
       " 4,\n",
       " 2,\n",
       " 3,\n",
       " 4,\n",
       " 5,\n",
       " 6,\n",
       " 3,\n",
       " 4,\n",
       " 5,\n",
       " 6,\n",
       " 7,\n",
       " 45,\n",
       " 4,\n",
       " 5,\n",
       " 23,\n",
       " 'k1',\n",
       " 'Karthik',\n",
       " 'k2',\n",
       " 'ineuron',\n",
       " 'k3',\n",
       " 'Konanki',\n",
       " 3,\n",
       " 6,\n",
       " 7,\n",
       " 8,\n",
       " 'ineuron',\n",
       " 'data science']"
      ]
     },
     "execution_count": 25,
     "metadata": {},
     "output_type": "execute_result"
    }
   ],
   "source": [
    "l1"
   ]
  },
  {
   "cell_type": "code",
   "execution_count": 26,
   "id": "a5e054c6-e60d-4b08-99ae-465393a767a5",
   "metadata": {},
   "outputs": [
    {
     "name": "stdout",
     "output_type": "stream",
     "text": [
      "1 : 1\n",
      "2 : 2\n",
      "3 : 4\n",
      "4 : 4\n",
      "5 : 3\n",
      "6 : 3\n",
      "7 : 2\n",
      "k1 : 1\n",
      "ineuron : 2\n",
      "Karthik : 1\n",
      "Konanki : 1\n",
      "8 : 1\n",
      "45 : 1\n",
      "data science : 1\n",
      "23 : 1\n",
      "k3 : 1\n",
      "k2 : 1\n"
     ]
    }
   ],
   "source": [
    "for i in set(l1):\n",
    "    print(i,':', l1.count(i))"
   ]
  },
  {
   "cell_type": "code",
   "execution_count": 27,
   "id": "3b208634-e43c-4313-8f6b-d735ac5bd039",
   "metadata": {},
   "outputs": [
    {
     "data": {
      "text/plain": [
       "[[1, 2, 3, 4],\n",
       " (2, 3, 4, 5, 6),\n",
       " (3, 4, 5, 6, 7),\n",
       " {4, 5, 23, 45},\n",
       " {'k1': 'Karthik', 'k2': 'ineuron', 'k3': 'Konanki', 3: 6, 7: 8},\n",
       " ['ineuron', 'data science']]"
      ]
     },
     "execution_count": 27,
     "metadata": {},
     "output_type": "execute_result"
    }
   ],
   "source": [
    "l"
   ]
  },
  {
   "cell_type": "code",
   "execution_count": 28,
   "id": "b8524c02-3d04-41c2-9ac4-274c37acfbd9",
   "metadata": {},
   "outputs": [
    {
     "name": "stdout",
     "output_type": "stream",
     "text": [
      "5\n"
     ]
    }
   ],
   "source": [
    "# Q11. Try to find number of keys in dictionary elements\n",
    "\n",
    "for i in l:\n",
    "    if type(i) == dict:\n",
    "        print(len(i.keys()))"
   ]
  },
  {
   "cell_type": "code",
   "execution_count": 29,
   "id": "9eb65b75-ba4c-49f0-a815-51f307684a9e",
   "metadata": {},
   "outputs": [
    {
     "data": {
      "text/plain": [
       "[[1, 2, 3, 4],\n",
       " (2, 3, 4, 5, 6),\n",
       " (3, 4, 5, 6, 7),\n",
       " {4, 5, 23, 45},\n",
       " {'k1': 'Karthik', 'k2': 'ineuron', 'k3': 'Konanki', 3: 6, 7: 8},\n",
       " ['ineuron', 'data science']]"
      ]
     },
     "execution_count": 29,
     "metadata": {},
     "output_type": "execute_result"
    }
   ],
   "source": [
    "l"
   ]
  },
  {
   "cell_type": "code",
   "execution_count": 30,
   "id": "83cdc4bc-7dde-4c53-8e5f-cdacc6cd83e0",
   "metadata": {},
   "outputs": [
    {
     "name": "stdout",
     "output_type": "stream",
     "text": [
      "k1\n",
      "Karthik\n",
      "k2\n",
      "ineuron\n",
      "k3\n",
      "Konanki\n",
      "ineuron\n",
      "data science\n"
     ]
    }
   ],
   "source": [
    "# Q12. Try to filter out all string data\n",
    "\n",
    "for i in l:\n",
    "    if type(i) == list or type(i) == tuple:\n",
    "        for j in i:\n",
    "            if type(j) == str:\n",
    "                print(j)\n",
    "    if type(i) == set:\n",
    "        for m in i:\n",
    "            if type(m) == str:\n",
    "                print(m)\n",
    "    if type(i) == dict:\n",
    "        for k,v in i.items():\n",
    "            if type(k) == str or type(v) == str:\n",
    "                print(k)\n",
    "                print(v)"
   ]
  },
  {
   "cell_type": "code",
   "execution_count": 31,
   "id": "11399785-633c-4ccd-94a4-0559c7d0a83b",
   "metadata": {},
   "outputs": [
    {
     "data": {
      "text/plain": [
       "[[1, 2, 3, 4],\n",
       " (2, 3, 4, 5, 6),\n",
       " (3, 4, 5, 6, 7),\n",
       " {4, 5, 23, 45},\n",
       " {'k1': 'Karthik', 'k2': 'ineuron', 'k3': 'Konanki', 3: 6, 7: 8},\n",
       " ['ineuron', 'data science']]"
      ]
     },
     "execution_count": 31,
     "metadata": {},
     "output_type": "execute_result"
    }
   ],
   "source": [
    "l"
   ]
  },
  {
   "cell_type": "code",
   "execution_count": 32,
   "id": "4d2711c6-173d-4572-9c89-52c92caca74f",
   "metadata": {},
   "outputs": [
    {
     "name": "stdout",
     "output_type": "stream",
     "text": [
      "k1\n",
      "Karthik\n",
      "k2\n",
      "ineuron\n",
      "k3\n",
      "Konanki\n",
      "ineuron\n"
     ]
    }
   ],
   "source": [
    "# Q13. Try to find alphanum in data\n",
    "\n",
    "for i in l:\n",
    "    if type(i) == list or type(i) == tuple:\n",
    "        for j in i:\n",
    "            if type(j) == str and j.isalnum() == True:\n",
    "                print(j)\n",
    "    if type(i) == set:\n",
    "        for m in i:\n",
    "            if type(m) == str and m.isalnum() == True:\n",
    "                print(m)\n",
    "    if type(i) == dict:\n",
    "        for k,v in i.items():\n",
    "            if (type(k) == str and k.isalnum() == True) or (type(v) ==str and v.isalnum() == True):\n",
    "                print(k)\n",
    "                print(v)"
   ]
  },
  {
   "cell_type": "code",
   "execution_count": 33,
   "id": "9276138f-90d6-45d7-b9dc-45965575248c",
   "metadata": {},
   "outputs": [
    {
     "data": {
      "text/plain": [
       "[[1, 2, 3, 4],\n",
       " (2, 3, 4, 5, 6),\n",
       " (3, 4, 5, 6, 7),\n",
       " {4, 5, 23, 45},\n",
       " {'k1': 'Karthik', 'k2': 'ineuron', 'k3': 'Konanki', 3: 6, 7: 8},\n",
       " ['ineuron', 'data science']]"
      ]
     },
     "execution_count": 33,
     "metadata": {},
     "output_type": "execute_result"
    }
   ],
   "source": [
    "l"
   ]
  },
  {
   "cell_type": "code",
   "execution_count": 34,
   "id": "5df3e4fb-cdb2-4ca1-a9a2-a5a1dff7a864",
   "metadata": {},
   "outputs": [
    {
     "data": {
      "text/plain": [
       "[1, 2, 3, 4, 2, 3, 4, 5, 6, 3, 4, 5, 6, 7, 45, 4, 5, 23, 3, 6, 7, 8]"
      ]
     },
     "execution_count": 34,
     "metadata": {},
     "output_type": "execute_result"
    }
   ],
   "source": [
    "# Q14. Try to filter out all string data\n",
    "\n",
    "l1=[]\n",
    "for i in l:\n",
    "    if type(i) == list or type(i) == tuple:\n",
    "        for j in i:\n",
    "            if type(j) == int or type(j) == float:\n",
    "                l1.append(j)\n",
    "    if type(i) == set:\n",
    "        for m in i:\n",
    "            if type(m) == int or type(m) == float:\n",
    "                l1.append(m)\n",
    "    if type(i) == dict:\n",
    "        for k,v in i.items():\n",
    "            if type(k) == int or type(v)==int or type(k) == float or type(v)==float:\n",
    "                l1.append(k)\n",
    "                l1.append(v)\n",
    "l1"
   ]
  },
  {
   "cell_type": "code",
   "execution_count": 35,
   "id": "45749272-266a-41d8-87d5-9ef4fd01e9fb",
   "metadata": {},
   "outputs": [
    {
     "name": "stdout",
     "output_type": "stream",
     "text": [
      "908605071360000\n"
     ]
    }
   ],
   "source": [
    "mult=1\n",
    "for i in l1:\n",
    "    mult=mult*i\n",
    "print(mult)"
   ]
  },
  {
   "cell_type": "code",
   "execution_count": 36,
   "id": "902154b0-6a01-47e7-adb6-9e6cbf8f936e",
   "metadata": {},
   "outputs": [
    {
     "data": {
      "text/plain": [
       "[[1, 2, 3, 4],\n",
       " (2, 3, 4, 5, 6),\n",
       " (3, 4, 5, 6, 7),\n",
       " {4, 5, 23, 45},\n",
       " {'k1': 'Karthik', 'k2': 'ineuron', 'k3': 'Konanki', 3: 6, 7: 8},\n",
       " ['ineuron', 'data science']]"
      ]
     },
     "execution_count": 36,
     "metadata": {},
     "output_type": "execute_result"
    }
   ],
   "source": [
    "l"
   ]
  },
  {
   "cell_type": "code",
   "execution_count": 37,
   "id": "a0e3c3a0-2121-4651-86e6-ce323fcef35b",
   "metadata": {},
   "outputs": [
    {
     "data": {
      "text/plain": [
       "[1,\n",
       " 2,\n",
       " 3,\n",
       " 4,\n",
       " 2,\n",
       " 3,\n",
       " 4,\n",
       " 5,\n",
       " 6,\n",
       " 3,\n",
       " 4,\n",
       " 5,\n",
       " 6,\n",
       " 7,\n",
       " 45,\n",
       " 4,\n",
       " 5,\n",
       " 23,\n",
       " 'k1',\n",
       " 'Karthik',\n",
       " 'k2',\n",
       " 'ineuron',\n",
       " 'k3',\n",
       " 'Konanki',\n",
       " 3,\n",
       " 6,\n",
       " 7,\n",
       " 8,\n",
       " 'ineuron',\n",
       " 'data science']"
      ]
     },
     "execution_count": 37,
     "metadata": {},
     "output_type": "execute_result"
    }
   ],
   "source": [
    "# Q15. Try to unwarp all the collection inside collection and create a flat list\n",
    "\n",
    "l1=[]\n",
    "for i in l:\n",
    "    if type(i) == list or type(i) == tuple:\n",
    "        for j in i:\n",
    "            l1.append(j)\n",
    "    if type(i) == set:\n",
    "        for m in i:\n",
    "            l1.append(m)\n",
    "    if type(i) == dict:\n",
    "        for k,v in i.items():\n",
    "            l1.append(k)\n",
    "            l1.append(v)\n",
    "l1"
   ]
  },
  {
   "cell_type": "code",
   "execution_count": null,
   "id": "84f2e74f-b272-410a-b2a3-866af879a391",
   "metadata": {},
   "outputs": [],
   "source": []
  }
 ],
 "metadata": {
  "kernelspec": {
   "display_name": "Python 3 (ipykernel)",
   "language": "python",
   "name": "python3"
  },
  "language_info": {
   "codemirror_mode": {
    "name": "ipython",
    "version": 3
   },
   "file_extension": ".py",
   "mimetype": "text/x-python",
   "name": "python",
   "nbconvert_exporter": "python",
   "pygments_lexer": "ipython3",
   "version": "3.9.7"
  }
 },
 "nbformat": 4,
 "nbformat_minor": 5
}
