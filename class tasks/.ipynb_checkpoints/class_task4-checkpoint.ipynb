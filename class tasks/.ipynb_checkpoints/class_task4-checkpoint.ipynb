{
 "cells": [
  {
   "cell_type": "raw",
   "id": "bc7b5436-fa01-462f-99d7-2c3aa34f1078",
   "metadata": {},
   "source": [
    "Q1. Try to print this by using while loop \n",
    "\n",
    "* \n",
    "* * \n",
    "* * * \n",
    "* * * * \n",
    "* * * * * \n",
    "* * * * * * \n",
    "* * * * * * * \n",
    "* * * * * * * * \n",
    "* * * * * * * * * "
   ]
  },
  {
   "cell_type": "code",
   "execution_count": 31,
   "id": "b46455e4-09a3-42ba-bd49-a0d0fa8ea59c",
   "metadata": {},
   "outputs": [
    {
     "name": "stdout",
     "output_type": "stream",
     "text": [
      "\n",
      "* \n",
      "* * \n",
      "* * * \n",
      "* * * * \n",
      "* * * * * \n",
      "* * * * * * \n",
      "* * * * * * * \n",
      "* * * * * * * * \n",
      "* * * * * * * * * \n"
     ]
    }
   ],
   "source": [
    "for i in range(1):\n",
    "    for j in range(10):\n",
    "        print(j*'* ')"
   ]
  },
  {
   "cell_type": "code",
   "execution_count": 32,
   "id": "e6535f91-eff5-4498-9373-41db854eb450",
   "metadata": {},
   "outputs": [
    {
     "name": "stdout",
     "output_type": "stream",
     "text": [
      "*  \n",
      "* *  \n",
      "* * *  \n",
      "* * * *  \n",
      "* * * * *  \n",
      "* * * * * *  \n",
      "* * * * * * *  \n",
      "* * * * * * * *  \n",
      "* * * * * * * * *  \n"
     ]
    }
   ],
   "source": [
    "i = 1\n",
    "n = 9\n",
    "\n",
    "while i <= n:\n",
    "    print(i*'* ', end=' ')\n",
    "    i += 1\n",
    "    print()"
   ]
  },
  {
   "cell_type": "raw",
   "id": "78a49083-bd11-42fb-9ab4-ea066fb43ece",
   "metadata": {},
   "source": [
    "Q2. Try to print below by using while loop\n",
    "        \n",
    "A\n",
    "B H \n",
    "C I N\n",
    "D J o S\n",
    "E K p T W\n",
    "F L Q U X z\n",
    "G M R V Y "
   ]
  },
  {
   "cell_type": "code",
   "execution_count": 34,
   "id": "e03849fa-296b-42c1-bd4e-2886ad8fd76f",
   "metadata": {},
   "outputs": [
    {
     "name": "stdout",
     "output_type": "stream",
     "text": [
      "A \n",
      "B C \n",
      "D E F \n",
      "G H I J \n",
      "K L M N O \n",
      "P Q R S T U \n",
      "V W X Y Z \n"
     ]
    }
   ],
   "source": [
    "# For loop\n",
    "n = 90\n",
    "m = 65\n",
    "\n",
    "for i in range(65,n):\n",
    "    if m == 90:\n",
    "        break\n",
    "    for j in range(65,i+1):\n",
    "        print(chr(m), end=' ')\n",
    "        if m == 90:\n",
    "            break\n",
    "        m += 1\n",
    "    print()"
   ]
  },
  {
   "cell_type": "code",
   "execution_count": 35,
   "id": "270fdfa2-65b7-43ed-a589-f03a63ae66c2",
   "metadata": {},
   "outputs": [],
   "source": [
    "# While loop"
   ]
  },
  {
   "cell_type": "code",
   "execution_count": 36,
   "id": "689def28-6b8c-413e-9927-7d6002968068",
   "metadata": {},
   "outputs": [
    {
     "name": "stdout",
     "output_type": "stream",
     "text": [
      "42 45 48 51 54 57 60 63 66 69 72 75 78 81 84 87 90 93 96 99 102 105 108 111 114 117 120 123 126 129 132 135 138 141 144 147 150 153 156 159 162 165 168 171 174 177 180 183 186 189 192 195 198 201 204 207 210 213 216 219 222 225 228 231 234 237 240 243 246 249 252 255 258 261 264 267 270 273 276 279 282 285 288 291 294 297 300 303 306 309 312 315 318 321 324 327 330 333 336 339 342 345 348 351 354 357 360 363 366 369 372 375 378 381 384 387 390 393 396 399 "
     ]
    }
   ],
   "source": [
    "# Q3. Try to print all the number divisible by 3 in between a range of 40 - 400\n",
    "\n",
    "for i in range(40, 401):\n",
    "    if i % 3 == 0:\n",
    "        print(i, end=' ')"
   ]
  },
  {
   "cell_type": "code",
   "execution_count": 37,
   "id": "aa0ae34e-5c4a-4a7c-911e-8ba7a87ebf3f",
   "metadata": {},
   "outputs": [
    {
     "name": "stdout",
     "output_type": "stream",
     "text": [
      "42 45 48 51 54 57 60 63 66 69 72 75 78 81 84 87 90 93 96 99 102 105 108 111 114 117 120 123 126 129 132 135 138 141 144 147 150 153 156 159 162 165 168 171 174 177 180 183 186 189 192 195 198 201 204 207 210 213 216 219 222 225 228 231 234 237 240 243 246 249 252 255 258 261 264 267 270 273 276 279 282 285 288 291 294 297 300 303 306 309 312 315 318 321 324 327 330 333 336 339 342 345 348 351 354 357 360 363 366 369 372 375 378 381 384 387 390 393 396 399 "
     ]
    }
   ],
   "source": [
    "a = 40\n",
    "b = 400\n",
    "\n",
    "while a < b:\n",
    "    if a % 3 == 0:\n",
    "        print(a, end=' ')\n",
    "    a += 1"
   ]
  },
  {
   "cell_type": "code",
   "execution_count": 38,
   "id": "5fad27aa-6893-4e7b-a11b-92f4965dce5d",
   "metadata": {},
   "outputs": [
    {
     "data": {
      "text/plain": [
       "'Python is a high-level, interpreted, general-purpose programming language. Its design philosophy emphasizes code readability with the use of significant indentation.[32]\\n\\nPython is dynamically-typed and garbage-collected. It supports multiple programming paradigms, including structured (particularly procedural), object-oriented and functional programming. It is often described as a \"batteries included\" language due to its comprehensive standard library.[33][34]\\n\\nGuido van Rossum began working on Python in the late 1980s as a successor to the ABC programming language and first released it in 1991 as Python 0.9.0.[35] Python 2.0 was released in 2000 and introduced new features such as list comprehensions, cycle-detecting garbage collection, reference counting, and Unicode support. Python 3.0, released in 2008, was a major revision that is not completely backward-compatible with earlier versions. Python 2 was discontinued with version 2.7.18 in 2020.[36]\\n\\nPython consistently ranks as one of the most popular programming languagesc'"
      ]
     },
     "execution_count": 38,
     "metadata": {},
     "output_type": "execute_result"
    }
   ],
   "source": [
    "# Q4 . Try to filter out all the vowels form below text by using while loop\n",
    "\n",
    "string = \"\"\"Python is a high-level, interpreted, general-purpose programming language. Its design philosophy emphasizes code readability with the use of significant indentation.[32]\n",
    "\n",
    "Python is dynamically-typed and garbage-collected. It supports multiple programming paradigms, including structured (particularly procedural), object-oriented and functional programming. It is often described as a \"batteries included\" language due to its comprehensive standard library.[33][34]\n",
    "\n",
    "Guido van Rossum began working on Python in the late 1980s as a successor to the ABC programming language and first released it in 1991 as Python 0.9.0.[35] Python 2.0 was released in 2000 and introduced new features such as list comprehensions, cycle-detecting garbage collection, reference counting, and Unicode support. Python 3.0, released in 2008, was a major revision that is not completely backward-compatible with earlier versions. Python 2 was discontinued with version 2.7.18 in 2020.[36]\n",
    "\n",
    "Python consistently ranks as one of the most popular programming languagesc\"\"\" \n",
    "\n",
    "string\n"
   ]
  },
  {
   "cell_type": "code",
   "execution_count": 39,
   "id": "b8f57784-5e2c-481a-8c45-4017efd529a5",
   "metadata": {},
   "outputs": [
    {
     "name": "stdout",
     "output_type": "stream",
     "text": [
      "o i a i e e i e e e e e a u o e o a i a u a e I e i i o o e a i e o e e a a i i i e u e o i i i a i e a i o o i a i a e a a a e o e e I u o u i e o a i a a i i u i u u e a i u a o e u a o e o i e e a u i o a o a i I i o e e i e a a a e i e i u e a u a e u e o i o e e i e a a i a u i o a o u e a o i o o i e a e a a u e o o e A o a i a u a e a i e e a e i i a o o a e e a e i a i o u e e e a u e u a i o e e i o e e e i a a e o e i o e e e e o u i a U i o e u o o e e a e i a a a o e i i o a i o o e e a a o a i e i e a i e e i o o a i o i u e i e i o i o o i e a a o e o e o o u a o a i a u a e "
     ]
    }
   ],
   "source": [
    "a = 1\n",
    "\n",
    "while a < len(string):\n",
    "    if string[a].lower() in ('a', 'e', 'i', 'o', 'u'):\n",
    "        print(string[a], end = ' ')\n",
    "    a += 1\n"
   ]
  },
  {
   "cell_type": "code",
   "execution_count": 40,
   "id": "860ad80f-c5c3-4c1d-a20c-6f90e9026063",
   "metadata": {},
   "outputs": [
    {
     "name": "stdout",
     "output_type": "stream",
     "text": [
      "o i a i e e i e e e e e a u o e o a i a u a e I e i i o o e a i e o e e a a i i i e u e o i i i a i e a i o o i a i a e a a a e o e e I u o u i e o a i a a i i u i u u e a i u a o e u a o e o i e e a u i o a o a i I i o e e i e a a a e i e i u e a u a e u e o i o e e i e a a i a u i o a o u e a o i o o i e a e a a u e o o e A o a i a u a e a i e e a e i i a o o a e e a e i a i o u e e e a u e u a i o e e i o e e e i a a e o e i o e e e e o u i a U i o e u o o e e a e i a a a o e i i o a i o o e e a a o a i e i e a i e e i o o a i o i u e i e i o i o o i e a a o e o e o o u a o a i a u a e "
     ]
    }
   ],
   "source": [
    "for i in string:\n",
    "    if i.lower() in ('a', 'e', 'i', 'o', 'u'):\n",
    "        print(i, end=' ')"
   ]
  },
  {
   "cell_type": "code",
   "execution_count": 41,
   "id": "d67b6eb9-f2c2-4eec-8e96-e8eb03ae20d7",
   "metadata": {},
   "outputs": [
    {
     "name": "stdout",
     "output_type": "stream",
     "text": [
      "2 4 6 8 10 12 14 16 18 20 22 24 26 28 30 32 34 36 38 40 42 44 46 48 50 52 54 56 58 60 62 64 66 68 70 72 74 76 78 80 82 84 86 88 90 92 94 96 98 100 102 104 106 108 110 112 114 116 118 120 122 124 126 128 130 132 134 136 138 140 142 144 146 148 150 152 154 156 158 160 162 164 166 168 170 172 174 176 178 180 182 184 186 188 190 192 194 196 198 200 202 204 206 208 210 212 214 216 218 220 222 224 226 228 230 232 234 236 238 240 242 244 246 248 250 252 254 256 258 260 262 264 266 268 270 272 274 276 278 280 282 284 286 288 290 292 294 296 298 300 302 304 306 308 310 312 314 316 318 320 322 324 326 328 330 332 334 336 338 340 342 344 346 348 350 352 354 356 358 360 362 364 366 368 370 372 374 376 378 380 382 384 386 388 390 392 394 396 398 400 402 404 406 408 410 412 414 416 418 420 422 424 426 428 430 432 434 436 438 440 442 444 446 448 450 452 454 456 458 460 462 464 466 468 470 472 474 476 478 480 482 484 486 488 490 492 494 496 498 500 502 504 506 508 510 512 514 516 518 520 522 524 526 528 530 532 534 536 538 540 542 544 546 548 550 552 554 556 558 560 562 564 566 568 570 572 574 576 578 580 582 584 586 588 590 592 594 596 598 600 602 604 606 608 610 612 614 616 618 620 622 624 626 628 630 632 634 636 638 640 642 644 646 648 650 652 654 656 658 660 662 664 666 668 670 672 674 676 678 680 682 684 686 688 690 692 694 696 698 700 702 704 706 708 710 712 714 716 718 720 722 724 726 728 730 732 734 736 738 740 742 744 746 748 750 752 754 756 758 760 762 764 766 768 770 772 774 776 778 780 782 784 786 788 790 792 794 796 798 800 802 804 806 808 810 812 814 816 818 820 822 824 826 828 830 832 834 836 838 840 842 844 846 848 850 852 854 856 858 860 862 864 866 868 870 872 874 876 878 880 882 884 886 888 890 892 894 896 898 900 902 904 906 908 910 912 914 916 918 920 922 924 926 928 930 932 934 936 938 940 942 944 946 948 950 952 954 956 958 960 962 964 966 968 970 972 974 976 978 980 982 984 986 988 990 992 994 996 998 1000 "
     ]
    }
   ],
   "source": [
    "# Q5. Try to generate all the even number between 1- 1000\n",
    "\n",
    "for i in range(1, 1001):\n",
    "    if i % 2 == 0:\n",
    "        print(i, end=' ')"
   ]
  },
  {
   "cell_type": "code",
   "execution_count": 42,
   "id": "e2085f32-a56b-45c4-9e7b-b8dd7583dcc3",
   "metadata": {},
   "outputs": [
    {
     "name": "stdout",
     "output_type": "stream",
     "text": [
      "2 4 6 8 10 12 14 16 18 20 22 24 26 28 30 32 34 36 38 40 42 44 46 48 50 52 54 56 58 60 62 64 66 68 70 72 74 76 78 80 82 84 86 88 90 92 94 96 98 100 102 104 106 108 110 112 114 116 118 120 122 124 126 128 130 132 134 136 138 140 142 144 146 148 150 152 154 156 158 160 162 164 166 168 170 172 174 176 178 180 182 184 186 188 190 192 194 196 198 200 202 204 206 208 210 212 214 216 218 220 222 224 226 228 230 232 234 236 238 240 242 244 246 248 250 252 254 256 258 260 262 264 266 268 270 272 274 276 278 280 282 284 286 288 290 292 294 296 298 300 302 304 306 308 310 312 314 316 318 320 322 324 326 328 330 332 334 336 338 340 342 344 346 348 350 352 354 356 358 360 362 364 366 368 370 372 374 376 378 380 382 384 386 388 390 392 394 396 398 400 402 404 406 408 410 412 414 416 418 420 422 424 426 428 430 432 434 436 438 440 442 444 446 448 450 452 454 456 458 460 462 464 466 468 470 472 474 476 478 480 482 484 486 488 490 492 494 496 498 500 502 504 506 508 510 512 514 516 518 520 522 524 526 528 530 532 534 536 538 540 542 544 546 548 550 552 554 556 558 560 562 564 566 568 570 572 574 576 578 580 582 584 586 588 590 592 594 596 598 600 602 604 606 608 610 612 614 616 618 620 622 624 626 628 630 632 634 636 638 640 642 644 646 648 650 652 654 656 658 660 662 664 666 668 670 672 674 676 678 680 682 684 686 688 690 692 694 696 698 700 702 704 706 708 710 712 714 716 718 720 722 724 726 728 730 732 734 736 738 740 742 744 746 748 750 752 754 756 758 760 762 764 766 768 770 772 774 776 778 780 782 784 786 788 790 792 794 796 798 800 802 804 806 808 810 812 814 816 818 820 822 824 826 828 830 832 834 836 838 840 842 844 846 848 850 852 854 856 858 860 862 864 866 868 870 872 874 876 878 880 882 884 886 888 890 892 894 896 898 900 902 904 906 908 910 912 914 916 918 920 922 924 926 928 930 932 934 936 938 940 942 944 946 948 950 952 954 956 958 960 962 964 966 968 970 972 974 976 978 980 982 984 986 988 990 992 994 996 998 1000 "
     ]
    }
   ],
   "source": [
    "i = 1\n",
    "n = 1000\n",
    "\n",
    "while i <= 1000:\n",
    "    if i % 2 == 0:\n",
    "        print(i,end=' ')\n",
    "    i += 1"
   ]
  },
  {
   "cell_type": "code",
   "execution_count": 43,
   "id": "d99c3990-ba53-4af0-85b3-ff8856486f88",
   "metadata": {},
   "outputs": [],
   "source": [
    "# Q6. Define a function for all the above problem statememnt\n",
    "\n"
   ]
  },
  {
   "cell_type": "code",
   "execution_count": 44,
   "id": "fdbedaa3-7f86-46a2-ae89-a5424934e65c",
   "metadata": {},
   "outputs": [
    {
     "name": "stdout",
     "output_type": "stream",
     "text": [
      "18:58:14.173532\n"
     ]
    }
   ],
   "source": [
    "# Q7. write a code to get a time of your system \n",
    "\n",
    "from datetime import datetime\n",
    "\n",
    "time = datetime.now().time()\n",
    "print(time)"
   ]
  },
  {
   "cell_type": "code",
   "execution_count": 45,
   "id": "4a03b108-de43-4f3b-a3ba-958c7d9566c0",
   "metadata": {},
   "outputs": [
    {
     "name": "stdout",
     "output_type": "stream",
     "text": [
      "2022-05-30\n"
     ]
    }
   ],
   "source": [
    "# Q7. write a code to fetch date of your system \n",
    "\n",
    "date = datetime.now().date()\n",
    "\n",
    "print(date)"
   ]
  },
  {
   "cell_type": "code",
   "execution_count": 48,
   "id": "03cce6df-6450-4f38-9cea-901382fdf7a2",
   "metadata": {},
   "outputs": [
    {
     "name": "stdin",
     "output_type": "stream",
     "text": [
      "Enter sender mail id:  1\n",
      "Enter password:  1\n",
      "Enter reciever mail id:  1\n"
     ]
    },
    {
     "ename": "NameError",
     "evalue": "name 'mail' is not defined",
     "output_type": "error",
     "traceback": [
      "\u001b[1;31m---------------------------------------------------------------------------\u001b[0m",
      "\u001b[1;31mNameError\u001b[0m                                 Traceback (most recent call last)",
      "\u001b[1;32m~\\AppData\\Local\\Temp/ipykernel_24648/3304920291.py\u001b[0m in \u001b[0;36m<module>\u001b[1;34m\u001b[0m\n\u001b[0;32m     14\u001b[0m \u001b[0msmtpObj\u001b[0m\u001b[1;33m.\u001b[0m\u001b[0mehlo\u001b[0m\u001b[1;33m(\u001b[0m\u001b[1;33m)\u001b[0m\u001b[1;33m\u001b[0m\u001b[1;33m\u001b[0m\u001b[0m\n\u001b[0;32m     15\u001b[0m \u001b[0msmtpObj\u001b[0m\u001b[1;33m.\u001b[0m\u001b[0mstarttls\u001b[0m\u001b[1;33m(\u001b[0m\u001b[1;33m)\u001b[0m\u001b[1;33m\u001b[0m\u001b[1;33m\u001b[0m\u001b[0m\n\u001b[1;32m---> 16\u001b[1;33m \u001b[0msmtpObj\u001b[0m\u001b[1;33m.\u001b[0m\u001b[0mlogin\u001b[0m\u001b[1;33m(\u001b[0m\u001b[0mmail\u001b[0m\u001b[1;33m,\u001b[0m \u001b[0mpassword\u001b[0m\u001b[1;33m)\u001b[0m\u001b[1;33m\u001b[0m\u001b[1;33m\u001b[0m\u001b[0m\n\u001b[0m\u001b[0;32m     17\u001b[0m \u001b[0msmtpObj\u001b[0m\u001b[1;33m.\u001b[0m\u001b[0msendmail\u001b[0m\u001b[1;33m(\u001b[0m\u001b[0msender\u001b[0m\u001b[1;33m,\u001b[0m \u001b[0mreciever\u001b[0m\u001b[1;33m,\u001b[0m \u001b[0mbody\u001b[0m\u001b[1;33m)\u001b[0m \u001b[1;31m# Or recipient@outlook\u001b[0m\u001b[1;33m\u001b[0m\u001b[1;33m\u001b[0m\u001b[0m\n\u001b[0;32m     18\u001b[0m \u001b[1;33m\u001b[0m\u001b[0m\n",
      "\u001b[1;31mNameError\u001b[0m: name 'mail' is not defined"
     ]
    }
   ],
   "source": [
    "import smtplib\n",
    "\n",
    "sender = input('Enter sender mail id: ')\n",
    "password = input('Enter password: ')\n",
    "reciever = input('Enter reciever mail id: ')\n",
    "\n",
    "body = 'Subject: Email throug Python code .\\nDear Concern, \\n\\n' + 'Email\\'s BODY text' + '\\nYour :: Signature/Innitials'\n",
    "try:\n",
    "    smtpObj = smtplib.SMTP('smtp-mail.outlook.com', 587)\n",
    "except Exception as e:\n",
    "    print(e)\n",
    "    smtpObj = smtplib.SMTP_SSL('smtp-mail.outlook.com', 465)\n",
    "#type(smtpObj) \n",
    "smtpObj.ehlo()\n",
    "smtpObj.starttls()\n",
    "smtpObj.login(mail, password) \n",
    "smtpObj.sendmail(sender, reciever, body) # Or recipient@outlook\n",
    "\n",
    "smtpObj.quit()\n",
    "pass"
   ]
  },
  {
   "cell_type": "code",
   "execution_count": 3,
   "id": "3060d00a-9690-4baf-84e3-79a59007b9eb",
   "metadata": {},
   "outputs": [
    {
     "name": "stdin",
     "output_type": "stream",
     "text": [
      "Enter alaram time:  08:42:00\n"
     ]
    },
    {
     "name": "stdout",
     "output_type": "stream",
     "text": [
      "08:41:58 08:42:00\n",
      "08:41:59 08:42:00\n",
      "08:42:00 08:42:00\n",
      "Alarm Sound\n",
      "08:42:01 08:42:00\n"
     ]
    }
   ],
   "source": [
    "# Q10. Write a code to trigger alarm for you at scheduled time \n",
    "\n",
    "\n",
    "# Import required packages\n",
    "\n",
    "import datetime\n",
    "import time\n",
    "import winsound\n",
    "\n",
    "# Set Alarm Time\n",
    "set_time = input('Set alaram time: ')\n",
    "\n",
    "def alarm():\n",
    "    # Contineous Looping\n",
    "    while True: \n",
    "        # Executes for each second\n",
    "        time.sleep(1)\n",
    " \n",
    "        # Get current time\n",
    "        current_time = datetime.datetime.now().strftime(\"%H:%M:%S\")\n",
    "        print(current_time,set_time)\n",
    " \n",
    "        # Check the condition whether set alarm is equal to current time or not\n",
    "        if current_time == set_time:\n",
    "            print(\"Alarm Sound\")\n",
    "            # Playing sound\n",
    "            winsound.PlaySound(\"sound.wav\",winsound.SND_ASYNC)\n",
    "        if current_time > set_time:\n",
    "            break\n",
    "alarm()"
   ]
  },
  {
   "cell_type": "code",
   "execution_count": 14,
   "id": "edde6779-a213-4e0e-b1c5-d6445ab045b7",
   "metadata": {},
   "outputs": [
    {
     "name": "stdout",
     "output_type": "stream",
     "text": [
      "192.168.106.1\n"
     ]
    }
   ],
   "source": [
    "# Q11. Write a code to check ip address of your system \n",
    "\n",
    "import socket\n",
    "host_name = socket.gethostname()\n",
    "ip_address = socket.gethostbyname(host_name)\n",
    "\n",
    "print(ip_address)"
   ]
  },
  {
   "cell_type": "code",
   "execution_count": 27,
   "id": "0a66ca01-ad59-480c-bb08-3b4dc9979308",
   "metadata": {},
   "outputs": [],
   "source": [
    "# Q12. Write a code to check a perticular installation in your system"
   ]
  },
  {
   "cell_type": "code",
   "execution_count": 30,
   "id": "d45f40ce-ee8e-4c4a-ab66-e596bb754e7f",
   "metadata": {},
   "outputs": [
    {
     "name": "stdout",
     "output_type": "stream",
     "text": [
      "Name: pandas\n",
      "Version: 1.3.4\n",
      "Summary: Powerful data structures for data analysis, time series, and statistics\n",
      "Home-page: https://pandas.pydata.org\n",
      "Author: The Pandas Development Team\n",
      "Author-email: pandas-dev@python.org\n",
      "License: BSD-3-Clause\n",
      "Location: c:\\users\\suntech\\anaconda3\\lib\\site-packages\n",
      "Requires: pytz, python-dateutil, numpy\n",
      "Required-by: statsmodels, seaborn\n",
      "Note: you may need to restart the kernel to use updated packages.\n"
     ]
    }
   ],
   "source": [
    "pip show pandas"
   ]
  },
  {
   "cell_type": "code",
   "execution_count": 33,
   "id": "cc6e065a-9340-4958-9eed-fefa2c464bd3",
   "metadata": {},
   "outputs": [
    {
     "name": "stdout",
     "output_type": "stream",
     "text": [
      "Collecting gttsNote: you may need to restart the kernel to use updated packages.\n",
      "\n",
      "  Downloading gTTS-2.2.4-py3-none-any.whl (26 kB)\n",
      "Requirement already satisfied: click in c:\\users\\suntech\\anaconda3\\lib\\site-packages (from gtts) (8.0.3)\n",
      "Requirement already satisfied: six in c:\\users\\suntech\\anaconda3\\lib\\site-packages (from gtts) (1.16.0)\n",
      "Requirement already satisfied: requests in c:\\users\\suntech\\anaconda3\\lib\\site-packages (from gtts) (2.26.0)\n",
      "Requirement already satisfied: colorama in c:\\users\\suntech\\anaconda3\\lib\\site-packages (from click->gtts) (0.4.4)\n",
      "Requirement already satisfied: certifi>=2017.4.17 in c:\\users\\suntech\\anaconda3\\lib\\site-packages (from requests->gtts) (2021.10.8)\n",
      "Requirement already satisfied: idna<4,>=2.5 in c:\\users\\suntech\\anaconda3\\lib\\site-packages (from requests->gtts) (3.2)\n",
      "Requirement already satisfied: urllib3<1.27,>=1.21.1 in c:\\users\\suntech\\anaconda3\\lib\\site-packages (from requests->gtts) (1.26.7)\n",
      "Requirement already satisfied: charset-normalizer~=2.0.0 in c:\\users\\suntech\\anaconda3\\lib\\site-packages (from requests->gtts) (2.0.4)\n",
      "Installing collected packages: gtts\n",
      "Successfully installed gtts-2.2.4\n"
     ]
    }
   ],
   "source": [
    "# Q13. Write a code to convert any text in to voice\n",
    "\n",
    "pip install gtts"
   ]
  },
  {
   "cell_type": "code",
   "execution_count": 37,
   "id": "8d0c57a1-6b6e-4098-9c82-1ae345f8bb36",
   "metadata": {
    "tags": []
   },
   "outputs": [
    {
     "data": {
      "text/plain": [
       "1"
      ]
     },
     "execution_count": 37,
     "metadata": {},
     "output_type": "execute_result"
    }
   ],
   "source": [
    "\n",
    "from gtts import gTTS\n",
    "\n",
    "import os\n",
    "\n",
    "text = 'Hello Karthik'\n",
    "\n",
    "language='en'\n",
    "\n",
    "voice = gTTS(text = text, lang=language, slow=False)\n",
    "\n",
    "voice.save(\"Hello.mp3\")\n",
    "\n",
    "os.system(\"mpg321 Hello.mp3\")"
   ]
  },
  {
   "cell_type": "code",
   "execution_count": 86,
   "id": "3d6de697-c0c7-4c70-aae8-33e3013a4b63",
   "metadata": {},
   "outputs": [
    {
     "name": "stdin",
     "output_type": "stream",
     "text": [
      " karthik\n"
     ]
    },
    {
     "data": {
      "text/plain": [
       "7"
      ]
     },
     "execution_count": 86,
     "metadata": {},
     "output_type": "execute_result"
    }
   ],
   "source": [
    "# Q14. You have to write a function which will take string and return a len of it without using a inbuilt fun len\n",
    " \n",
    "def length(name):\n",
    "    length = 0\n",
    "    for i in  name:\n",
    "        length += 1\n",
    "    return length\n",
    "    \n",
    "length(input())"
   ]
  },
  {
   "cell_type": "code",
   "execution_count": 89,
   "id": "f6595825-b78e-4ffe-b1a7-1b22f0e1de4a",
   "metadata": {},
   "outputs": [
    {
     "name": "stdout",
     "output_type": "stream",
     "text": [
      "0\n",
      "1\n",
      "2\n",
      "3\n",
      "4\n",
      "5\n",
      "6\n"
     ]
    }
   ],
   "source": [
    "# Q15. Write a fun which will be able to print an index of all premitive element which you will pass\n",
    "name = 'Karthik'\n",
    "index = -1\n",
    "for i in name:\n",
    "    index += 1\n",
    "    print(index)"
   ]
  },
  {
   "cell_type": "code",
   "execution_count": null,
   "id": "d1377b83-b0ef-413e-9cee-8cfc7822fb20",
   "metadata": {},
   "outputs": [],
   "source": []
  }
 ],
 "metadata": {
  "kernelspec": {
   "display_name": "Python 3 (ipykernel)",
   "language": "python",
   "name": "python3"
  },
  "language_info": {
   "codemirror_mode": {
    "name": "ipython",
    "version": 3
   },
   "file_extension": ".py",
   "mimetype": "text/x-python",
   "name": "python",
   "nbconvert_exporter": "python",
   "pygments_lexer": "ipython3",
   "version": "3.9.7"
  }
 },
 "nbformat": 4,
 "nbformat_minor": 5
}
