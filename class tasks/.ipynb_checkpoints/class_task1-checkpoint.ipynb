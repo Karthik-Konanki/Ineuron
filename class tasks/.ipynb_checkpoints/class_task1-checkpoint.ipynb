{
 "cells": [
  {
   "cell_type": "code",
   "execution_count": 1,
   "id": "94cf4417-b434-4193-a59e-299e7291c552",
   "metadata": {},
   "outputs": [
    {
     "data": {
      "text/plain": [
       "'this is My First Python programming class and i am learNING python string and its function'"
      ]
     },
     "execution_count": 1,
     "metadata": {},
     "output_type": "execute_result"
    }
   ],
   "source": [
    "var = \"this is My First Python programming class and i am learNING python string and its function\"\n",
    "var"
   ]
  },
  {
   "cell_type": "code",
   "execution_count": 2,
   "id": "95f5d7da-43b4-44ac-aae0-cb8beb9e4d93",
   "metadata": {},
   "outputs": [
    {
     "data": {
      "text/plain": [
       "'h   r tnrrmglsnimeNGyosi dtfco'"
      ]
     },
     "execution_count": 2,
     "metadata": {},
     "output_type": "execute_result"
    }
   ],
   "source": [
    "#Q1 . Try to extract data from index one to index 300 with a jump of 3 \n",
    "\n",
    "var[1:300:3]"
   ]
  },
  {
   "cell_type": "code",
   "execution_count": 3,
   "id": "93ae11ba-eb91-41c3-adae-2a97a2f3ba43",
   "metadata": {},
   "outputs": [
    {
     "data": {
      "text/plain": [
       "'noitcnuf sti dna gnirts nohtyp GNINrael ma i dna ssalc gnimmargorp nohtyP tsriF yM si siht'"
      ]
     },
     "execution_count": 3,
     "metadata": {},
     "output_type": "execute_result"
    }
   ],
   "source": [
    "#Q2. Try to reverse a string without using reverse function\n",
    "\n",
    "var[::-1]"
   ]
  },
  {
   "cell_type": "code",
   "execution_count": 4,
   "id": "bdbd2a0a-baae-435c-a470-446a49d96726",
   "metadata": {},
   "outputs": [
    {
     "data": {
      "text/plain": [
       "['THIS',\n",
       " 'IS',\n",
       " 'MY',\n",
       " 'FIRST',\n",
       " 'PYTHON',\n",
       " 'PROGRAMMING',\n",
       " 'CLASS',\n",
       " 'AND',\n",
       " 'I',\n",
       " 'AM',\n",
       " 'LEARNING',\n",
       " 'PYTHON',\n",
       " 'STRING',\n",
       " 'AND',\n",
       " 'ITS',\n",
       " 'FUNCTION']"
      ]
     },
     "execution_count": 4,
     "metadata": {},
     "output_type": "execute_result"
    }
   ],
   "source": [
    "#Q3. Try to split a string after conversion of entire string in uppercase\n",
    "\n",
    "var.upper().split(' ')"
   ]
  },
  {
   "cell_type": "code",
   "execution_count": 5,
   "id": "4a9d9690-e597-4936-b6f6-4fb68af2b6f0",
   "metadata": {},
   "outputs": [
    {
     "data": {
      "text/plain": [
       "'this is my first python programming class and i am learning python string and its function'"
      ]
     },
     "execution_count": 5,
     "metadata": {},
     "output_type": "execute_result"
    }
   ],
   "source": [
    "#Q4. Try to convert the whole string into lower case \n",
    "\n",
    "var.lower()"
   ]
  },
  {
   "cell_type": "code",
   "execution_count": 6,
   "id": "2f8c01a5-f47f-45b7-949d-28458604bf30",
   "metadata": {},
   "outputs": [
    {
     "data": {
      "text/plain": [
       "'This is my first python programming class and i am learning python string and its function'"
      ]
     },
     "execution_count": 6,
     "metadata": {},
     "output_type": "execute_result"
    }
   ],
   "source": [
    "#Q5. Try to capitalize the whole string\n",
    "\n",
    "var.capitalize()"
   ]
  },
  {
   "cell_type": "code",
   "execution_count": 7,
   "id": "23e439a1-0249-43cb-b48f-fd686ecfc0de",
   "metadata": {},
   "outputs": [
    {
     "name": "stdout",
     "output_type": "stream",
     "text": [
      "--------isalnum()--------\n",
      "When var = Karthik1 then value returns as True\n",
      "When var = Karthik then value returns as True\n",
      "When var = Karthik Konanki then value returns as False\n",
      "When var = Karthik 23 then value returns as False\n",
      "--------isalpha()--------\n",
      "When var = Karthik then value returns as True\n",
      "When var = Karthik1 then value returns as False\n",
      "When var = Karthik Konanki then value returns as False\n",
      "When var = Karthik 23 then value returns as False\n"
     ]
    }
   ],
   "source": [
    "#Q6. Write a diference between isalnum() and isalpha()\n",
    "\n",
    "#isalnum(): A built-in-function which return 'true' when string contains only alpha-numeric characters without any special characters, else returns false.\n",
    "print('--------isalnum()--------')\n",
    "#Example1:\n",
    "var = 'Karthik1'\n",
    "print('When var =',var,'then value returns as', var.isalnum())\n",
    "\n",
    "#Example2:\n",
    "var = 'Karthik'\n",
    "print('When var =',var,'then value returns as', var.isalnum())\n",
    "\n",
    "#Example2:\n",
    "var = 'Karthik Konanki'\n",
    "print('When var =',var,'then value returns as', var.isalnum())\n",
    "\n",
    "#Example2:\n",
    "var = 'Karthik 23'\n",
    "print('When var =',var,'then value returns as', var.isalnum())\n",
    "\n",
    "#isalpha(): A built-in-function which return 'true' when string contains only alphabetic letters without any special characters, else returns false.\n",
    "print('--------isalpha()--------')\n",
    "#Example1:\n",
    "var = 'Karthik'\n",
    "print('When var =',var,'then value returns as', var.isalpha())\n",
    "\n",
    "#Example2:\n",
    "var = 'Karthik1'\n",
    "print('When var =',var,'then value returns as', var.isalpha())\n",
    "\n",
    "#Example2:\n",
    "var = 'Karthik Konanki'\n",
    "print('When var =',var,'then value returns as', var.isalpha())\n",
    "\n",
    "#Example2:\n",
    "var = 'Karthik 23'\n",
    "print('When var =',var,'then value returns as', var.isalpha())"
   ]
  },
  {
   "cell_type": "code",
   "execution_count": 8,
   "id": "0db6922f-2d06-4958-a7d3-c71af49cf092",
   "metadata": {},
   "outputs": [
    {
     "data": {
      "text/plain": [
       "'Karthik Konanki'"
      ]
     },
     "execution_count": 8,
     "metadata": {},
     "output_type": "execute_result"
    }
   ],
   "source": [
    "#Q7. Try to give an example of expand tabs\n",
    "\n",
    "var = 'Karthik\\tKonanki'\n",
    "\n",
    "var.expandtabs()"
   ]
  },
  {
   "cell_type": "code",
   "execution_count": 9,
   "id": "72ca0d81-4068-4b1b-9300-e76db887d195",
   "metadata": {},
   "outputs": [
    {
     "data": {
      "text/plain": [
       "'      Karthik    '"
      ]
     },
     "execution_count": 9,
     "metadata": {},
     "output_type": "execute_result"
    }
   ],
   "source": [
    "#Q8. Give an example of strip , lstrip and rstrip\n",
    "var = '      Karthik    ';\n",
    "var"
   ]
  },
  {
   "cell_type": "code",
   "execution_count": 10,
   "id": "b8b43e85-4f2d-429f-8851-3ea7dd53bf7d",
   "metadata": {},
   "outputs": [
    {
     "data": {
      "text/plain": [
       "'Karthik'"
      ]
     },
     "execution_count": 10,
     "metadata": {},
     "output_type": "execute_result"
    }
   ],
   "source": [
    "#strip()\n",
    "\n",
    "var.strip()"
   ]
  },
  {
   "cell_type": "code",
   "execution_count": 11,
   "id": "b0214ccc-dfc7-4a61-9c0a-51f0fac2c769",
   "metadata": {},
   "outputs": [
    {
     "data": {
      "text/plain": [
       "'Karthik    '"
      ]
     },
     "execution_count": 11,
     "metadata": {},
     "output_type": "execute_result"
    }
   ],
   "source": [
    "#lstrip()\n",
    "var.lstrip()"
   ]
  },
  {
   "cell_type": "code",
   "execution_count": 12,
   "id": "f4405e97-bd3a-45a9-baff-ef907f14020b",
   "metadata": {},
   "outputs": [
    {
     "data": {
      "text/plain": [
       "'      Karthik'"
      ]
     },
     "execution_count": 12,
     "metadata": {},
     "output_type": "execute_result"
    }
   ],
   "source": [
    "#rstrip()\n",
    "var.rstrip()"
   ]
  },
  {
   "cell_type": "code",
   "execution_count": 13,
   "id": "157b2c48-8713-4d89-95fe-a32903fb2622",
   "metadata": {},
   "outputs": [
    {
     "data": {
      "text/plain": [
       "'K@rthik'"
      ]
     },
     "execution_count": 13,
     "metadata": {},
     "output_type": "execute_result"
    }
   ],
   "source": [
    "#Q9. Replace a string charecter by another charector by taking your own example\n",
    "\n",
    "var = 'Karthik'\n",
    "var.replace('a','@',1)"
   ]
  },
  {
   "cell_type": "code",
   "execution_count": 14,
   "id": "e1573505-10c7-487d-b7e1-9052d8e10c13",
   "metadata": {},
   "outputs": [
    {
     "data": {
      "text/plain": [
       "'__________Karthik__________'"
      ]
     },
     "execution_count": 14,
     "metadata": {},
     "output_type": "execute_result"
    }
   ],
   "source": [
    "#Q10. Try  to give a defination of string center function with and exmple\n",
    "# center(): Built-in function which is used to padding the actual value with specified special character in a specified length of string\n",
    "var = 'Karthik'\n",
    "var.center(27,'_')"
   ]
  },
  {
   "cell_type": "code",
   "execution_count": 15,
   "id": "06df7949-c69b-4c1c-a264-85bafa8d4f4f",
   "metadata": {},
   "outputs": [],
   "source": [
    "#Q11. Write your own definition of compiler and interpretor without copy paste form internet in your own language\n",
    "\n",
    "#Compiler: Compiler can read the entire program once, check syntax errors, warnings if any and connverts machine code.\n",
    "#          Compiler can execute the program even if you have errors.\n",
    "#          Error/Warning notes will generated after program execuuted\n",
    "#Interpreter: Interpreter can read each line and converts into machine code.\n",
    "#             If any error occurs, stops excecuting program\n",
    "#             Log errors/warnings are generated after executing each line of program"
   ]
  },
  {
   "cell_type": "code",
   "execution_count": 16,
   "id": "b8d174b3-72a3-4f04-a463-be142efaa962",
   "metadata": {},
   "outputs": [],
   "source": [
    "#Q12. Python is a interpreted or compiled language give a clear ans with your understanding \n",
    "#Ans: Python is a interpreted language, because each line of program is executed and interpreted. Errors or warnings shows immediately after execution\n",
    "#     of each line of program. if any error occures, it stops executing remaining program."
   ]
  },
  {
   "cell_type": "code",
   "execution_count": 17,
   "id": "dea2d7e6-b726-422f-95ff-9083770d0b94",
   "metadata": {},
   "outputs": [],
   "source": [
    "#Q13. Try to write a usecase of python with your understanding.\n",
    "#Ans: Python has numerous usecases in every domain.\n",
    "#     Especially in my domain(clinical) - Automation to annotate blank CRF(Case report form)\n",
    "#                                       - Can use to automate TLF(Tables, listings, Figures) output generation \n",
    "#                                       - Can develop standard templates for datasets, TLFs\n",
    "#                                       - Can develop define.xml file generation for CDISC submission\n",
    "#                                       - Implementing datascience in clinical domain(clinical trials)"
   ]
  }
 ],
 "metadata": {
  "kernelspec": {
   "display_name": "Python 3 (ipykernel)",
   "language": "python",
   "name": "python3"
  },
  "language_info": {
   "codemirror_mode": {
    "name": "ipython",
    "version": 3
   },
   "file_extension": ".py",
   "mimetype": "text/x-python",
   "name": "python",
   "nbconvert_exporter": "python",
   "pygments_lexer": "ipython3",
   "version": "3.9.7"
  }
 },
 "nbformat": 4,
 "nbformat_minor": 5
}
